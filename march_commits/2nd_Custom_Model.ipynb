{
  "nbformat": 4,
  "nbformat_minor": 0,
  "metadata": {
    "accelerator": "TPU",
    "colab": {
      "name": "2nd Custom Model.ipynb",
      "provenance": [],
      "collapsed_sections": [
        "_3_BglZc_Zpd",
        "U7_1sXBpCEqz"
      ],
      "machine_shape": "hm"
    },
    "kernelspec": {
      "display_name": "Python 3",
      "language": "python",
      "name": "python3"
    },
    "language_info": {
      "codemirror_mode": {
        "name": "ipython",
        "version": 3
      },
      "file_extension": ".py",
      "mimetype": "text/x-python",
      "name": "python",
      "nbconvert_exporter": "python",
      "pygments_lexer": "ipython3",
      "version": "3.8.3"
    }
  },
  "cells": [
    {
      "cell_type": "markdown",
      "metadata": {
        "id": "Xyb4yLK7vFqV"
      },
      "source": [
        "**2nd Custom CNN Model with Different node size**"
      ]
    },
    {
      "cell_type": "code",
      "metadata": {
        "colab": {
          "background_save": true
        },
        "id": "PZJ9cxaDvCLt",
        "outputId": "ca9573da-e735-4ec3-bab1-a4e8dd5afea0"
      },
      "source": [
        "#Change input shape\n",
        "\n",
        "model = Sequential()\n",
        "model.add(Conv2D(32, (3, 3), activation='relu', kernel_initializer='he_uniform', padding='same', kernel_regularizer=l2(0.001), input_shape=(224, 224,1)))\n",
        "model.add(Conv2D(32, (3, 3), activation='relu', kernel_initializer='he_uniform', padding='same', kernel_regularizer=l2(0.001)))\n",
        "model.add(MaxPooling2D((2, 2)))\n",
        "model.add(Conv2D(64, (3, 3), activation='relu', kernel_initializer='he_uniform', padding='same', kernel_regularizer=l2(0.001)))\n",
        "model.add(Conv2D(64, (3, 3), activation='relu', kernel_initializer='he_uniform', padding='same', kernel_regularizer=l2(0.001)))\n",
        "model.add(MaxPooling2D((2, 2)))\n",
        "model.add(Conv2D(128, (3, 3), activation='relu', kernel_initializer='he_uniform', padding='same', kernel_regularizer=l2(0.001)))\n",
        "model.add(Conv2D(128, (3, 3), activation='relu', kernel_initializer='he_uniform', padding='same', kernel_regularizer=l2(0.001)))\n",
        "model.add(MaxPooling2D((2, 2)))\n",
        "model.add(Flatten())\n",
        "model.add(Dense(128, activation='relu', kernel_initializer='he_uniform', kernel_regularizer=l2(0.001)))\n",
        "model.add(Dense(2, activation=\"softmax\"))\n",
        "\n",
        "model.summary()"
      ],
      "execution_count": null,
      "outputs": [
        {
          "output_type": "stream",
          "text": [
            "Model: \"sequential\"\n",
            "_________________________________________________________________\n",
            "Layer (type)                 Output Shape              Param #   \n",
            "=================================================================\n",
            "conv2d (Conv2D)              (None, 224, 224, 32)      320       \n",
            "_________________________________________________________________\n",
            "conv2d_1 (Conv2D)            (None, 224, 224, 32)      9248      \n",
            "_________________________________________________________________\n",
            "max_pooling2d (MaxPooling2D) (None, 112, 112, 32)      0         \n",
            "_________________________________________________________________\n",
            "conv2d_2 (Conv2D)            (None, 112, 112, 64)      18496     \n",
            "_________________________________________________________________\n",
            "conv2d_3 (Conv2D)            (None, 112, 112, 64)      36928     \n",
            "_________________________________________________________________\n",
            "max_pooling2d_1 (MaxPooling2 (None, 56, 56, 64)        0         \n",
            "_________________________________________________________________\n",
            "conv2d_4 (Conv2D)            (None, 56, 56, 128)       73856     \n",
            "_________________________________________________________________\n",
            "conv2d_5 (Conv2D)            (None, 56, 56, 128)       147584    \n",
            "_________________________________________________________________\n",
            "max_pooling2d_2 (MaxPooling2 (None, 28, 28, 128)       0         \n",
            "_________________________________________________________________\n",
            "flatten (Flatten)            (None, 100352)            0         \n",
            "_________________________________________________________________\n",
            "dense (Dense)                (None, 128)               12845184  \n",
            "_________________________________________________________________\n",
            "dense_1 (Dense)              (None, 2)                 258       \n",
            "=================================================================\n",
            "Total params: 13,131,874\n",
            "Trainable params: 13,131,874\n",
            "Non-trainable params: 0\n",
            "_________________________________________________________________\n"
          ],
          "name": "stdout"
        }
      ]
    },
    {
      "cell_type": "code",
      "metadata": {
        "colab": {
          "background_save": true
        },
        "id": "udIwlKCsveaR"
      },
      "source": [
        "opt = Adam(lr=0.000001)\n",
        "model.compile(optimizer = opt , loss = SparseCategoricalCrossentropy(from_logits=True) , metrics = ['accuracy'])"
      ],
      "execution_count": null,
      "outputs": []
    },
    {
      "cell_type": "code",
      "metadata": {
        "colab": {
          "background_save": true
        },
        "id": "4mGB-x-HjEbn"
      },
      "source": [
        "#Here we save the best model on our drive for storage\n",
        "checkpoint_path = \"drive/MyDrive/cpd.ckpt\"\n",
        "checkpoint_path = \"cpd.ckpt\"                # HASH THIS TO SAVE MODEL IN DRIVE\n",
        "checkpoint_dir = os.path.dirname(checkpoint_path)\n",
        "\n",
        "# Create a callback that saves the model's weights\n",
        "cp_callback = tf.keras.callbacks.ModelCheckpoint(filepath=checkpoint_path,\n",
        "                                                 save_weights_only=True,\n",
        "                                                 verbose=1)\n"
      ],
      "execution_count": null,
      "outputs": []
    },
    {
      "cell_type": "markdown",
      "metadata": {
        "id": "-2QANKyz3nB-"
      },
      "source": [
        "**Executed on 80 epochs**"
      ]
    },
    {
      "cell_type": "code",
      "metadata": {
        "colab": {
          "background_save": true
        },
        "id": "-qjEZ9qAviLW",
        "outputId": "21e2c9ca-9107-42e8-bd9c-a6359e85f84b"
      },
      "source": [
        "history = model.fit(x_train,y_train,epochs = 80 , validation_data = (x_val, y_val), callbacks=[cp_callback])"
      ],
      "execution_count": null,
      "outputs": [
        {
          "output_type": "stream",
          "text": [
            "Epoch 1/80\n",
            "273/273 [==============================] - 503s 2s/step - loss: 92.6625 - accuracy: 0.5593 - val_loss: 57.2706 - val_accuracy: 0.5824\n",
            "\n",
            "Epoch 00001: saving model to cpd.ckpt\n",
            "Epoch 2/80\n",
            "273/273 [==============================] - 508s 2s/step - loss: 49.1615 - accuracy: 0.6360 - val_loss: 42.0184 - val_accuracy: 0.6323\n",
            "\n",
            "Epoch 00002: saving model to cpd.ckpt\n",
            "Epoch 3/80\n",
            "273/273 [==============================] - 503s 2s/step - loss: 37.9727 - accuracy: 0.6609 - val_loss: 34.8794 - val_accuracy: 0.6627\n",
            "\n",
            "Epoch 00003: saving model to cpd.ckpt\n",
            "Epoch 4/80\n",
            "273/273 [==============================] - 494s 2s/step - loss: 28.6947 - accuracy: 0.7041 - val_loss: 30.6182 - val_accuracy: 0.6925\n",
            "\n",
            "Epoch 00004: saving model to cpd.ckpt\n",
            "Epoch 5/80\n",
            "273/273 [==============================] - 495s 2s/step - loss: 24.6205 - accuracy: 0.7243 - val_loss: 29.9318 - val_accuracy: 0.7064\n",
            "\n",
            "Epoch 00005: saving model to cpd.ckpt\n",
            "Epoch 6/80\n",
            "273/273 [==============================] - 497s 2s/step - loss: 19.8891 - accuracy: 0.7466 - val_loss: 31.7742 - val_accuracy: 0.7164\n",
            "\n",
            "Epoch 00006: saving model to cpd.ckpt\n",
            "Epoch 7/80\n",
            "273/273 [==============================] - 496s 2s/step - loss: 19.2885 - accuracy: 0.7587 - val_loss: 26.0481 - val_accuracy: 0.7046\n",
            "\n",
            "Epoch 00007: saving model to cpd.ckpt\n",
            "Epoch 8/80\n",
            "273/273 [==============================] - 496s 2s/step - loss: 15.6454 - accuracy: 0.7858 - val_loss: 23.6558 - val_accuracy: 0.7365\n",
            "\n",
            "Epoch 00008: saving model to cpd.ckpt\n",
            "Epoch 9/80\n",
            "273/273 [==============================] - 462s 2s/step - loss: 13.1936 - accuracy: 0.7974 - val_loss: 22.5140 - val_accuracy: 0.7393\n",
            "\n",
            "Epoch 00009: saving model to cpd.ckpt\n",
            "Epoch 10/80\n",
            "273/273 [==============================] - 447s 2s/step - loss: 13.2780 - accuracy: 0.8081 - val_loss: 22.2363 - val_accuracy: 0.7458\n",
            "\n",
            "Epoch 00010: saving model to cpd.ckpt\n",
            "Epoch 11/80\n",
            "273/273 [==============================] - 447s 2s/step - loss: 10.1255 - accuracy: 0.8407 - val_loss: 21.4531 - val_accuracy: 0.7368\n",
            "\n",
            "Epoch 00011: saving model to cpd.ckpt\n",
            "Epoch 12/80\n",
            "273/273 [==============================] - 448s 2s/step - loss: 9.1265 - accuracy: 0.8417 - val_loss: 25.6535 - val_accuracy: 0.6991\n",
            "\n",
            "Epoch 00012: saving model to cpd.ckpt\n",
            "Epoch 13/80\n",
            "273/273 [==============================] - 448s 2s/step - loss: 8.7500 - accuracy: 0.8460 - val_loss: 23.6827 - val_accuracy: 0.7130\n",
            "\n",
            "Epoch 00013: saving model to cpd.ckpt\n",
            "Epoch 14/80\n",
            "273/273 [==============================] - 450s 2s/step - loss: 7.6085 - accuracy: 0.8591 - val_loss: 19.4184 - val_accuracy: 0.7521\n",
            "\n",
            "Epoch 00014: saving model to cpd.ckpt\n",
            "Epoch 15/80\n",
            "273/273 [==============================] - 450s 2s/step - loss: 5.9847 - accuracy: 0.8889 - val_loss: 19.1446 - val_accuracy: 0.7535\n",
            "\n",
            "Epoch 00015: saving model to cpd.ckpt\n",
            "Epoch 16/80\n",
            "273/273 [==============================] - 444s 2s/step - loss: 5.4532 - accuracy: 0.8917 - val_loss: 18.1384 - val_accuracy: 0.7729\n",
            "\n",
            "Epoch 00016: saving model to cpd.ckpt\n",
            "Epoch 17/80\n",
            "273/273 [==============================] - 441s 2s/step - loss: 5.2001 - accuracy: 0.8994 - val_loss: 17.5076 - val_accuracy: 0.7687\n",
            "\n",
            "Epoch 00017: saving model to cpd.ckpt\n",
            "Epoch 18/80\n",
            "273/273 [==============================] - 439s 2s/step - loss: 4.4477 - accuracy: 0.9072 - val_loss: 18.4622 - val_accuracy: 0.7548\n",
            "\n",
            "Epoch 00018: saving model to cpd.ckpt\n",
            "Epoch 19/80\n",
            "273/273 [==============================] - 440s 2s/step - loss: 4.2326 - accuracy: 0.9078 - val_loss: 17.1741 - val_accuracy: 0.7670\n",
            "\n",
            "Epoch 00019: saving model to cpd.ckpt\n",
            "Epoch 20/80\n",
            "273/273 [==============================] - 443s 2s/step - loss: 3.8711 - accuracy: 0.9182 - val_loss: 20.6801 - val_accuracy: 0.7749\n",
            "\n",
            "Epoch 00020: saving model to cpd.ckpt\n",
            "Epoch 21/80\n",
            "273/273 [==============================] - 445s 2s/step - loss: 3.9839 - accuracy: 0.9220 - val_loss: 16.4460 - val_accuracy: 0.7881\n",
            "\n",
            "Epoch 00021: saving model to cpd.ckpt\n",
            "Epoch 22/80\n",
            "273/273 [==============================] - 445s 2s/step - loss: 2.9353 - accuracy: 0.9365 - val_loss: 17.8756 - val_accuracy: 0.7614\n",
            "\n",
            "Epoch 00022: saving model to cpd.ckpt\n",
            "Epoch 23/80\n",
            "273/273 [==============================] - 440s 2s/step - loss: 2.7399 - accuracy: 0.9391 - val_loss: 16.4037 - val_accuracy: 0.7843\n",
            "\n",
            "Epoch 00023: saving model to cpd.ckpt\n",
            "Epoch 24/80\n",
            "273/273 [==============================] - 432s 2s/step - loss: 2.6922 - accuracy: 0.9464 - val_loss: 15.8415 - val_accuracy: 0.7891\n",
            "\n",
            "Epoch 00024: saving model to cpd.ckpt\n",
            "Epoch 25/80\n",
            "273/273 [==============================] - 433s 2s/step - loss: 3.4215 - accuracy: 0.9147 - val_loss: 15.6137 - val_accuracy: 0.7832\n",
            "\n",
            "Epoch 00025: saving model to cpd.ckpt\n",
            "Epoch 26/80\n",
            "273/273 [==============================] - 436s 2s/step - loss: 2.1586 - accuracy: 0.9554 - val_loss: 16.1602 - val_accuracy: 0.7995\n",
            "\n",
            "Epoch 00026: saving model to cpd.ckpt\n",
            "Epoch 27/80\n",
            "273/273 [==============================] - 436s 2s/step - loss: 2.1816 - accuracy: 0.9606 - val_loss: 15.5048 - val_accuracy: 0.8023\n",
            "\n",
            "Epoch 00027: saving model to cpd.ckpt\n",
            "Epoch 28/80\n",
            "273/273 [==============================] - 437s 2s/step - loss: 2.4447 - accuracy: 0.9488 - val_loss: 15.8479 - val_accuracy: 0.7895\n",
            "\n",
            "Epoch 00028: saving model to cpd.ckpt\n",
            "Epoch 29/80\n",
            "273/273 [==============================] - 436s 2s/step - loss: 1.9898 - accuracy: 0.9603 - val_loss: 14.6382 - val_accuracy: 0.8075\n",
            "\n",
            "Epoch 00029: saving model to cpd.ckpt\n",
            "Epoch 30/80\n",
            "273/273 [==============================] - 433s 2s/step - loss: 1.9165 - accuracy: 0.9682 - val_loss: 14.7467 - val_accuracy: 0.7999\n",
            "\n",
            "Epoch 00030: saving model to cpd.ckpt\n",
            "Epoch 31/80\n",
            "273/273 [==============================] - 430s 2s/step - loss: 2.0997 - accuracy: 0.9595 - val_loss: 14.8428 - val_accuracy: 0.8006\n",
            "\n",
            "Epoch 00031: saving model to cpd.ckpt\n",
            "Epoch 32/80\n",
            "273/273 [==============================] - 431s 2s/step - loss: 2.0875 - accuracy: 0.9577 - val_loss: 15.3160 - val_accuracy: 0.8148\n",
            "\n",
            "Epoch 00032: saving model to cpd.ckpt\n",
            "Epoch 33/80\n",
            "273/273 [==============================] - 432s 2s/step - loss: 1.6910 - accuracy: 0.9697 - val_loss: 14.8731 - val_accuracy: 0.8064\n",
            "\n",
            "Epoch 00033: saving model to cpd.ckpt\n",
            "Epoch 34/80\n",
            "273/273 [==============================] - 431s 2s/step - loss: 1.6593 - accuracy: 0.9706 - val_loss: 16.0737 - val_accuracy: 0.7767\n",
            "\n",
            "Epoch 00034: saving model to cpd.ckpt\n",
            "Epoch 35/80\n",
            "273/273 [==============================] - 434s 2s/step - loss: 1.5911 - accuracy: 0.9751 - val_loss: 13.8957 - val_accuracy: 0.8054\n",
            "\n",
            "Epoch 00035: saving model to cpd.ckpt\n",
            "Epoch 36/80\n",
            "273/273 [==============================] - 432s 2s/step - loss: 1.5196 - accuracy: 0.9769 - val_loss: 14.0288 - val_accuracy: 0.8078\n",
            "\n",
            "Epoch 00036: saving model to cpd.ckpt\n",
            "Epoch 37/80\n",
            "273/273 [==============================] - 430s 2s/step - loss: 1.6962 - accuracy: 0.9724 - val_loss: 14.4918 - val_accuracy: 0.8037\n",
            "\n",
            "Epoch 00037: saving model to cpd.ckpt\n",
            "Epoch 38/80\n",
            "273/273 [==============================] - 426s 2s/step - loss: 1.7579 - accuracy: 0.9673 - val_loss: 13.7677 - val_accuracy: 0.8210\n",
            "\n",
            "Epoch 00038: saving model to cpd.ckpt\n",
            "Epoch 39/80\n",
            "273/273 [==============================] - 425s 2s/step - loss: 1.8875 - accuracy: 0.9668 - val_loss: 13.2653 - val_accuracy: 0.8144\n",
            "\n",
            "Epoch 00039: saving model to cpd.ckpt\n",
            "Epoch 40/80\n",
            "273/273 [==============================] - 429s 2s/step - loss: 1.6117 - accuracy: 0.9742 - val_loss: 14.2216 - val_accuracy: 0.8175\n",
            "\n",
            "Epoch 00040: saving model to cpd.ckpt\n",
            "Epoch 41/80\n",
            "273/273 [==============================] - 432s 2s/step - loss: 1.4531 - accuracy: 0.9833 - val_loss: 17.4666 - val_accuracy: 0.8099\n",
            "\n",
            "Epoch 00041: saving model to cpd.ckpt\n",
            "Epoch 42/80\n",
            "273/273 [==============================] - 427s 2s/step - loss: 1.6286 - accuracy: 0.9739 - val_loss: 13.1310 - val_accuracy: 0.8241\n",
            "\n",
            "Epoch 00042: saving model to cpd.ckpt\n",
            "Epoch 43/80\n",
            "273/273 [==============================] - 431s 2s/step - loss: 1.3701 - accuracy: 0.9849 - val_loss: 13.7889 - val_accuracy: 0.8186\n",
            "\n",
            "Epoch 00043: saving model to cpd.ckpt\n",
            "Epoch 44/80\n",
            "273/273 [==============================] - 426s 2s/step - loss: 2.7588 - accuracy: 0.9533 - val_loss: 15.8781 - val_accuracy: 0.7978\n",
            "\n",
            "Epoch 00044: saving model to cpd.ckpt\n",
            "Epoch 45/80\n",
            "273/273 [==============================] - 425s 2s/step - loss: 1.6602 - accuracy: 0.9777 - val_loss: 13.4296 - val_accuracy: 0.8341\n",
            "\n",
            "Epoch 00045: saving model to cpd.ckpt\n",
            "Epoch 46/80\n",
            "273/273 [==============================] - 425s 2s/step - loss: 1.4167 - accuracy: 0.9830 - val_loss: 14.2374 - val_accuracy: 0.8061\n",
            "\n",
            "Epoch 00046: saving model to cpd.ckpt\n",
            "Epoch 47/80\n",
            "273/273 [==============================] - 428s 2s/step - loss: 1.2396 - accuracy: 0.9916 - val_loss: 12.9187 - val_accuracy: 0.8400\n",
            "\n",
            "Epoch 00047: saving model to cpd.ckpt\n",
            "Epoch 48/80\n",
            "273/273 [==============================] - 427s 2s/step - loss: 1.2878 - accuracy: 0.9883 - val_loss: 12.5267 - val_accuracy: 0.8307\n",
            "\n",
            "Epoch 00048: saving model to cpd.ckpt\n",
            "Epoch 49/80\n",
            "273/273 [==============================] - 430s 2s/step - loss: 1.3738 - accuracy: 0.9868 - val_loss: 12.8244 - val_accuracy: 0.8338\n",
            "\n",
            "Epoch 00049: saving model to cpd.ckpt\n",
            "Epoch 50/80\n",
            "273/273 [==============================] - 429s 2s/step - loss: 1.2535 - accuracy: 0.9895 - val_loss: 13.7327 - val_accuracy: 0.8438\n",
            "\n",
            "Epoch 00050: saving model to cpd.ckpt\n",
            "Epoch 51/80\n",
            "273/273 [==============================] - 430s 2s/step - loss: 1.7340 - accuracy: 0.9681 - val_loss: 13.1381 - val_accuracy: 0.8404\n",
            "\n",
            "Epoch 00051: saving model to cpd.ckpt\n",
            "Epoch 52/80\n",
            "273/273 [==============================] - 429s 2s/step - loss: 1.5378 - accuracy: 0.9813 - val_loss: 14.3723 - val_accuracy: 0.8085\n",
            "\n",
            "Epoch 00052: saving model to cpd.ckpt\n",
            "Epoch 53/80\n",
            "273/273 [==============================] - 428s 2s/step - loss: 1.4406 - accuracy: 0.9834 - val_loss: 12.7618 - val_accuracy: 0.8404\n",
            "\n",
            "Epoch 00053: saving model to cpd.ckpt\n",
            "Epoch 54/80\n",
            "273/273 [==============================] - 432s 2s/step - loss: 1.2290 - accuracy: 0.9919 - val_loss: 13.7729 - val_accuracy: 0.8061\n",
            "\n",
            "Epoch 00054: saving model to cpd.ckpt\n",
            "Epoch 55/80\n",
            "273/273 [==============================] - 429s 2s/step - loss: 1.4094 - accuracy: 0.9831 - val_loss: 12.9729 - val_accuracy: 0.8359\n",
            "\n",
            "Epoch 00055: saving model to cpd.ckpt\n",
            "Epoch 56/80\n",
            "273/273 [==============================] - 429s 2s/step - loss: 2.9914 - accuracy: 0.9567 - val_loss: 12.6274 - val_accuracy: 0.8338\n",
            "\n",
            "Epoch 00056: saving model to cpd.ckpt\n",
            "Epoch 57/80\n",
            "273/273 [==============================] - 428s 2s/step - loss: 1.1934 - accuracy: 0.9920 - val_loss: 12.5542 - val_accuracy: 0.8331\n",
            "\n",
            "Epoch 00057: saving model to cpd.ckpt\n",
            "Epoch 58/80\n",
            "273/273 [==============================] - 430s 2s/step - loss: 1.4038 - accuracy: 0.9846 - val_loss: 13.6815 - val_accuracy: 0.8096\n",
            "\n",
            "Epoch 00058: saving model to cpd.ckpt\n",
            "Epoch 59/80\n",
            "273/273 [==============================] - 429s 2s/step - loss: 1.6595 - accuracy: 0.9749 - val_loss: 12.7250 - val_accuracy: 0.8314\n",
            "\n",
            "Epoch 00059: saving model to cpd.ckpt\n",
            "Epoch 60/80\n",
            "273/273 [==============================] - 429s 2s/step - loss: 1.1799 - accuracy: 0.9949 - val_loss: 12.8871 - val_accuracy: 0.8404\n",
            "\n",
            "Epoch 00060: saving model to cpd.ckpt\n",
            "Epoch 61/80\n",
            "273/273 [==============================] - 433s 2s/step - loss: 1.2146 - accuracy: 0.9943 - val_loss: 13.1867 - val_accuracy: 0.8438\n",
            "\n",
            "Epoch 00061: saving model to cpd.ckpt\n",
            "Epoch 62/80\n",
            "273/273 [==============================] - 431s 2s/step - loss: 1.2770 - accuracy: 0.9883 - val_loss: 12.9514 - val_accuracy: 0.8324\n",
            "\n",
            "Epoch 00062: saving model to cpd.ckpt\n",
            "Epoch 63/80\n",
            "273/273 [==============================] - 431s 2s/step - loss: 1.2297 - accuracy: 0.9942 - val_loss: 12.8886 - val_accuracy: 0.8438\n",
            "\n",
            "Epoch 00063: saving model to cpd.ckpt\n",
            "Epoch 64/80\n",
            "273/273 [==============================] - 438s 2s/step - loss: 1.6191 - accuracy: 0.9764 - val_loss: 11.8454 - val_accuracy: 0.8400\n",
            "\n",
            "Epoch 00064: saving model to cpd.ckpt\n",
            "Epoch 65/80\n",
            "273/273 [==============================] - 431s 2s/step - loss: 1.1964 - accuracy: 0.9948 - val_loss: 11.6736 - val_accuracy: 0.8442\n",
            "\n",
            "Epoch 00065: saving model to cpd.ckpt\n",
            "Epoch 66/80\n",
            "273/273 [==============================] - 433s 2s/step - loss: 1.1494 - accuracy: 0.9964 - val_loss: 20.7391 - val_accuracy: 0.8054\n",
            "\n",
            "Epoch 00066: saving model to cpd.ckpt\n",
            "Epoch 67/80\n",
            "273/273 [==============================] - 436s 2s/step - loss: 1.7243 - accuracy: 0.9764 - val_loss: 22.1724 - val_accuracy: 0.7881\n",
            "\n",
            "Epoch 00067: saving model to cpd.ckpt\n",
            "Epoch 68/80\n",
            "273/273 [==============================] - 436s 2s/step - loss: 1.8522 - accuracy: 0.9732 - val_loss: 14.2762 - val_accuracy: 0.8442\n",
            "\n",
            "Epoch 00068: saving model to cpd.ckpt\n",
            "Epoch 69/80\n",
            "273/273 [==============================] - 448s 2s/step - loss: 1.2312 - accuracy: 0.9904 - val_loss: 12.0585 - val_accuracy: 0.8466\n",
            "\n",
            "Epoch 00069: saving model to cpd.ckpt\n",
            "Epoch 70/80\n",
            "273/273 [==============================] - 436s 2s/step - loss: 1.1916 - accuracy: 0.9939 - val_loss: 13.0354 - val_accuracy: 0.8553\n",
            "\n",
            "Epoch 00070: saving model to cpd.ckpt\n",
            "Epoch 71/80\n",
            "273/273 [==============================] - 441s 2s/step - loss: 1.1996 - accuracy: 0.9932 - val_loss: 13.0677 - val_accuracy: 0.8508\n",
            "\n",
            "Epoch 00071: saving model to cpd.ckpt\n",
            "Epoch 72/80\n",
            "273/273 [==============================] - 443s 2s/step - loss: 1.4443 - accuracy: 0.9867 - val_loss: 12.7624 - val_accuracy: 0.8508\n",
            "\n",
            "Epoch 00072: saving model to cpd.ckpt\n",
            "Epoch 73/80\n",
            "273/273 [==============================] - 433s 2s/step - loss: 1.2893 - accuracy: 0.9920 - val_loss: 11.3165 - val_accuracy: 0.8643\n",
            "\n",
            "Epoch 00073: saving model to cpd.ckpt\n",
            "Epoch 74/80\n",
            "273/273 [==============================] - 437s 2s/step - loss: 1.2945 - accuracy: 0.9896 - val_loss: 13.3380 - val_accuracy: 0.8352\n",
            "\n",
            "Epoch 00074: saving model to cpd.ckpt\n",
            "Epoch 75/80\n",
            "273/273 [==============================] - 440s 2s/step - loss: 1.4362 - accuracy: 0.9819 - val_loss: 14.5196 - val_accuracy: 0.8044\n",
            "\n",
            "Epoch 00075: saving model to cpd.ckpt\n",
            "Epoch 76/80\n",
            "273/273 [==============================] - 436s 2s/step - loss: 1.2714 - accuracy: 0.9907 - val_loss: 11.4821 - val_accuracy: 0.8466\n",
            "\n",
            "Epoch 00076: saving model to cpd.ckpt\n",
            "Epoch 77/80\n",
            "273/273 [==============================] - 442s 2s/step - loss: 1.2325 - accuracy: 0.9914 - val_loss: 13.1355 - val_accuracy: 0.8539\n",
            "\n",
            "Epoch 00077: saving model to cpd.ckpt\n",
            "Epoch 78/80\n",
            "273/273 [==============================] - 442s 2s/step - loss: 1.4199 - accuracy: 0.9867 - val_loss: 11.5849 - val_accuracy: 0.8566\n",
            "\n",
            "Epoch 00078: saving model to cpd.ckpt\n",
            "Epoch 79/80\n",
            "273/273 [==============================] - 438s 2s/step - loss: 1.2766 - accuracy: 0.9891 - val_loss: 12.9188 - val_accuracy: 0.8390\n",
            "\n",
            "Epoch 00079: saving model to cpd.ckpt\n",
            "Epoch 80/80\n",
            "273/273 [==============================] - 438s 2s/step - loss: 1.1502 - accuracy: 0.9971 - val_loss: 11.8131 - val_accuracy: 0.8573\n",
            "\n",
            "Epoch 00080: saving model to cpd.ckpt\n"
          ],
          "name": "stdout"
        }
      ]
    },
    {
      "cell_type": "code",
      "metadata": {
        "colab": {
          "background_save": true
        },
        "id": "dFZxjye4im12",
        "outputId": "9c3d1f00-bbd4-42ae-bb3f-be8dd7eb1a9f"
      },
      "source": [
        "model.save('drive/MyDrive/resizedmodel')"
      ],
      "execution_count": null,
      "outputs": [
        {
          "output_type": "stream",
          "text": [
            "INFO:tensorflow:Assets written to: drive/MyDrive/resizedmodel/assets\n"
          ],
          "name": "stdout"
        }
      ]
    },
    {
      "cell_type": "markdown",
      "metadata": {
        "id": "GL2-i7GSvm4i"
      },
      "source": [
        "**Loss analysis and Classification Report**"
      ]
    },
    {
      "cell_type": "code",
      "metadata": {
        "colab": {
          "background_save": true
        },
        "id": "QhdrKmPIG5K-"
      },
      "source": [
        "Accuracy = []\n",
        "Losses = []\n",
        "Folds = KFold(n_splits=5, shuffle=True)\n",
        "inputs = np.concatenate((x_train, x_test), axis=0)\n",
        "targets = np.concatenate((y_train, y_test), axis=0)"
      ],
      "execution_count": null,
      "outputs": []
    },
    {
      "cell_type": "code",
      "metadata": {
        "colab": {
          "background_save": true
        },
        "id": "Lc9H0_QCvkEt",
        "outputId": "6d80a74c-39c3-406c-dd01-a2d2364a6789"
      },
      "source": [
        "acc = history.history['accuracy']\n",
        "val_acc = history.history['val_accuracy']\n",
        "loss = history.history['loss']\n",
        "val_loss = history.history['val_loss']\n",
        "\n",
        "epochs_range = range(80)                        #CHANGE 50 as per the epochs\n",
        "\n",
        "plt.figure(figsize=(15, 15))\n",
        "plt.subplot(2, 2, 1)\n",
        "plt.plot(epochs_range, acc, label='Training Accuracy')\n",
        "plt.plot(epochs_range, val_acc, label='Validation Accuracy')\n",
        "plt.legend(loc='lower right')\n",
        "plt.title('Training and Validation Accuracy')\n",
        "\n",
        "plt.subplot(2, 2, 2)\n",
        "plt.plot(epochs_range, loss, label='Training Loss')\n",
        "plt.plot(epochs_range, val_loss, label='Validation Loss')\n",
        "plt.legend(loc='upper right')\n",
        "plt.title('Training and Validation Loss')\n",
        "plt.show()"
      ],
      "execution_count": null,
      "outputs": [
        {
          "output_type": "display_data",
          "data": {
            "image/png": "[encoded data removed]",
            "text/plain": [
              "<Figure size 1080x1080 with 2 Axes>"
            ]
          },
          "metadata": {
            "tags": []
          }
        }
      ]
    },
    {
      "cell_type": "code",
      "metadata": {
        "id": "P_VRhYyTvuAI"
      },
      "source": [
        "predictions = model.predict_classes(x_test)\n",
        "predictions = predictions.reshape(1,-1)[0]\n",
        "print(classification_report(y_test, predictions,target_names = ['NORMAL','COVID']))"
      ],
      "execution_count": null,
      "outputs": []
    }
  ]
}
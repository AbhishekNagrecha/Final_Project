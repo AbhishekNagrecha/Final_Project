{
  "nbformat": 4,
  "nbformat_minor": 0,
  "metadata": {
    "accelerator": "TPU",
    "colab": {
      "name": "CNN_with_80_epochs.ipynb",
      "provenance": [],
      "collapsed_sections": [],
      "machine_shape": "hm"
    },
    "kernelspec": {
      "display_name": "Python 3",
      "language": "python",
      "name": "python3"
    },
    "language_info": {
      "codemirror_mode": {
        "name": "ipython",
        "version": 3
      },
      "file_extension": ".py",
      "mimetype": "text/x-python",
      "name": "python",
      "nbconvert_exporter": "python",
      "pygments_lexer": "ipython3",
      "version": "3.8.3"
    }
  },
  "cells": [
    {
      "cell_type": "code",
      "metadata": {
        "id": "o71EyRnIsJP2"
      },
      "source": [
        "#importing essential libraries\n",
        "from tensorflow.keras.models import *\n",
        "from tensorflow.keras.layers import *\n",
        "from tensorflow.keras.losses import *\n",
        "\n",
        "from tensorflow.keras.optimizers import *\n",
        "from tensorflow.keras.regularizers import *\n",
        "\n",
        "from sklearn.metrics import classification_report\n",
        "from tensorflow.keras import backend as K\n",
        "from sklearn.model_selection import train_test_split\n",
        "from keras.preprocessing.image import ImageDataGenerator\n",
        "import seaborn as sns\n",
        "import tensorflow as tf"
      ],
      "execution_count": null,
      "outputs": []
    },
    {
      "cell_type": "code",
      "metadata": {
        "colab": {
          "base_uri": "https://localhost:8080/",
          "height": 836
        },
        "id": "1Nr8NpRw4qRZ",
        "outputId": "6a17e050-dfb7-4585-ccce-c4ec0463521d"
      },
      "source": [
        "# run the first cell for all libraries\n",
        "\n",
        "import numpy as np\n",
        "import pandas as pd\n",
        "from PIL import Image \n",
        "from tqdm import tqdm\n",
        "import matplotlib.pyplot as plt\n",
        "from matplotlib.pyplot import cm\n",
        "from google.colab.patches import cv2_imshow\n",
        "import os,io,cv2,shutil\n",
        "\n",
        "from google.colab import drive\n",
        "drive.mount('/content/drive')\n",
        "!ls '/content/drive/MyDrive'\n",
        "\n",
        "c = pd.read_csv('/content/drive/MyDrive/Final.csv')\n",
        "covid = c.copy()\n",
        "covid.head()"
      ],
      "execution_count": null,
      "outputs": [
        {
          "output_type": "stream",
          "text": [
            "Mounted at /content/drive\n",
            " allcentralpixel.csv\t       PNG\n",
            " AllTiff\t\t       resized_balanced_test.npy\n",
            " balanced_test.npy\t       resized_balanced_train.npy\n",
            " balanced_train.npy\t       resized_balanced_valid.npy\n",
            " balanced_valid.npy\t       resizedcp.ckpt.data-00000-of-00001\n",
            " checkpoint\t\t       resizedcp.ckpt.index\n",
            "'Colab Notebooks'\t       resizedmodel\n",
            " cp.ckpt.data-00000-of-00001   Savingmodel\n",
            " cp.ckpt.index\t\t       test.npy\n",
            " CroppedOpenLungs\t       train11.npy\n",
            " Final.csv\t\t       train22.npy\n",
            " Full.csv\t\t       train.npy\n",
            " local.csv\t\t       valid.npy\n",
            " model\n"
          ],
          "name": "stdout"
        },
        {
          "output_type": "execute_result",
          "data": {
            "text/html": [
              "<div>\n",
              "<style scoped>\n",
              "    .dataframe tbody tr th:only-of-type {\n",
              "        vertical-align: middle;\n",
              "    }\n",
              "\n",
              "    .dataframe tbody tr th {\n",
              "        vertical-align: top;\n",
              "    }\n",
              "\n",
              "    .dataframe thead th {\n",
              "        text-align: right;\n",
              "    }\n",
              "</style>\n",
              "<table border=\"1\" class=\"dataframe\">\n",
              "  <thead>\n",
              "    <tr style=\"text-align: right;\">\n",
              "      <th></th>\n",
              "      <th>Unnamed: 0</th>\n",
              "      <th>index</th>\n",
              "      <th>loc</th>\n",
              "      <th>img</th>\n",
              "      <th>maximat2b</th>\n",
              "      <th>maximal2r</th>\n",
              "      <th>colsavg</th>\n",
              "      <th>rowsavg</th>\n",
              "      <th>croppedshape</th>\n",
              "      <th>maxnpfull</th>\n",
              "      <th>FullAvgPxlDen</th>\n",
              "      <th>CrpdAvgPxlDen</th>\n",
              "      <th>CentAvgPxlDen</th>\n",
              "      <th>OpenClose</th>\n",
              "      <th>label</th>\n",
              "    </tr>\n",
              "  </thead>\n",
              "  <tbody>\n",
              "    <tr>\n",
              "      <th>0</th>\n",
              "      <td>0</td>\n",
              "      <td>0</td>\n",
              "      <td>/content/drive/MyDrive/AllTiff/COVID-CTset/nor...</td>\n",
              "      <td>[0 0 0 ... 0 0 0]</td>\n",
              "      <td>(99, 245, 427)</td>\n",
              "      <td>(152, 235, 378)</td>\n",
              "      <td>[ 42.36914062  43.45117188  44.63671875  46.08...</td>\n",
              "      <td>[ 20.10351562  20.0703125   20.02148438  20.02...</td>\n",
              "      <td>(226, 328)</td>\n",
              "      <td>2191</td>\n",
              "      <td>439</td>\n",
              "      <td>622</td>\n",
              "      <td>672</td>\n",
              "      <td>Open</td>\n",
              "      <td>0</td>\n",
              "    </tr>\n",
              "    <tr>\n",
              "      <th>1</th>\n",
              "      <td>1</td>\n",
              "      <td>1</td>\n",
              "      <td>/content/drive/MyDrive/AllTiff/COVID-CTset/nor...</td>\n",
              "      <td>[0 0 0 ... 0 0 0]</td>\n",
              "      <td>(101, 244, 424)</td>\n",
              "      <td>(160, 263, 374)</td>\n",
              "      <td>[ 41.29101562  42.37695312  43.78125     45.46...</td>\n",
              "      <td>[ 20.45703125  20.61523438  20.64257812  20.85...</td>\n",
              "      <td>(214, 323)</td>\n",
              "      <td>3039</td>\n",
              "      <td>475</td>\n",
              "      <td>583</td>\n",
              "      <td>634</td>\n",
              "      <td>Open</td>\n",
              "      <td>0</td>\n",
              "    </tr>\n",
              "    <tr>\n",
              "      <th>2</th>\n",
              "      <td>2</td>\n",
              "      <td>2</td>\n",
              "      <td>/content/drive/MyDrive/AllTiff/COVID-CTset/nor...</td>\n",
              "      <td>[0 0 0 ... 0 0 0]</td>\n",
              "      <td>(169, 274, 343)</td>\n",
              "      <td>(151, 249, 375)</td>\n",
              "      <td>[ 41.86914062  42.98632812  44.26171875  45.70...</td>\n",
              "      <td>[ 19.7109375   19.89257812  19.96875     20.38...</td>\n",
              "      <td>(224, 174)</td>\n",
              "      <td>2212</td>\n",
              "      <td>424</td>\n",
              "      <td>885</td>\n",
              "      <td>895</td>\n",
              "      <td>Close</td>\n",
              "      <td>0</td>\n",
              "    </tr>\n",
              "    <tr>\n",
              "      <th>3</th>\n",
              "      <td>3</td>\n",
              "      <td>3</td>\n",
              "      <td>/content/drive/MyDrive/AllTiff/COVID-CTset/nor...</td>\n",
              "      <td>[0 0 0 ... 0 0 0]</td>\n",
              "      <td>(169, 254, 378)</td>\n",
              "      <td>(150, 271, 369)</td>\n",
              "      <td>[ 41.3515625   42.203125    43.56640625  45.07...</td>\n",
              "      <td>[ 19.66992188  19.734375    20.0703125   20.19...</td>\n",
              "      <td>(219, 209)</td>\n",
              "      <td>2291</td>\n",
              "      <td>476</td>\n",
              "      <td>1031</td>\n",
              "      <td>1031</td>\n",
              "      <td>Close</td>\n",
              "      <td>0</td>\n",
              "    </tr>\n",
              "    <tr>\n",
              "      <th>4</th>\n",
              "      <td>4</td>\n",
              "      <td>4</td>\n",
              "      <td>/content/drive/MyDrive/AllTiff/COVID-CTset/nor...</td>\n",
              "      <td>[0 0 0 ... 0 0 0]</td>\n",
              "      <td>(93, 261, 434)</td>\n",
              "      <td>(148, 218, 379)</td>\n",
              "      <td>[ 43.41601562  44.4375      45.24023438  46.55...</td>\n",
              "      <td>[ 18.31835938  18.38476562  18.59179688  18.67...</td>\n",
              "      <td>(231, 341)</td>\n",
              "      <td>2246</td>\n",
              "      <td>348</td>\n",
              "      <td>623</td>\n",
              "      <td>688</td>\n",
              "      <td>Open</td>\n",
              "      <td>0</td>\n",
              "    </tr>\n",
              "  </tbody>\n",
              "</table>\n",
              "</div>"
            ],
            "text/plain": [
              "   Unnamed: 0  index  ... OpenClose label\n",
              "0           0      0  ...      Open     0\n",
              "1           1      1  ...      Open     0\n",
              "2           2      2  ...     Close     0\n",
              "3           3      3  ...     Close     0\n",
              "4           4      4  ...      Open     0\n",
              "\n",
              "[5 rows x 15 columns]"
            ]
          },
          "metadata": {
            "tags": []
          },
          "execution_count": 3
        }
      ]
    },
    {
      "cell_type": "code",
      "metadata": {
        "colab": {
          "base_uri": "https://localhost:8080/",
          "height": 297
        },
        "id": "R_P3ymhrGVcv",
        "outputId": "2ac751ec-8577-4c78-b8e0-e86ac1cdfbed"
      },
      "source": [
        "data = covid.drop(columns=['Unnamed: 0', 'img', 'maximat2b', 'maximal2r',\n",
        "       'colsavg', 'rowsavg', 'croppedshape', 'maxnpfull', 'FullAvgPxlDen',\n",
        "       'CrpdAvgPxlDen', 'CentAvgPxlDen'])\n",
        "data.head(8)"
      ],
      "execution_count": null,
      "outputs": [
        {
          "output_type": "execute_result",
          "data": {
            "text/html": [
              "<div>\n",
              "<style scoped>\n",
              "    .dataframe tbody tr th:only-of-type {\n",
              "        vertical-align: middle;\n",
              "    }\n",
              "\n",
              "    .dataframe tbody tr th {\n",
              "        vertical-align: top;\n",
              "    }\n",
              "\n",
              "    .dataframe thead th {\n",
              "        text-align: right;\n",
              "    }\n",
              "</style>\n",
              "<table border=\"1\" class=\"dataframe\">\n",
              "  <thead>\n",
              "    <tr style=\"text-align: right;\">\n",
              "      <th></th>\n",
              "      <th>index</th>\n",
              "      <th>loc</th>\n",
              "      <th>OpenClose</th>\n",
              "      <th>label</th>\n",
              "    </tr>\n",
              "  </thead>\n",
              "  <tbody>\n",
              "    <tr>\n",
              "      <th>0</th>\n",
              "      <td>0</td>\n",
              "      <td>/content/drive/MyDrive/AllTiff/COVID-CTset/nor...</td>\n",
              "      <td>Open</td>\n",
              "      <td>0</td>\n",
              "    </tr>\n",
              "    <tr>\n",
              "      <th>1</th>\n",
              "      <td>1</td>\n",
              "      <td>/content/drive/MyDrive/AllTiff/COVID-CTset/nor...</td>\n",
              "      <td>Open</td>\n",
              "      <td>0</td>\n",
              "    </tr>\n",
              "    <tr>\n",
              "      <th>2</th>\n",
              "      <td>2</td>\n",
              "      <td>/content/drive/MyDrive/AllTiff/COVID-CTset/nor...</td>\n",
              "      <td>Close</td>\n",
              "      <td>0</td>\n",
              "    </tr>\n",
              "    <tr>\n",
              "      <th>3</th>\n",
              "      <td>3</td>\n",
              "      <td>/content/drive/MyDrive/AllTiff/COVID-CTset/nor...</td>\n",
              "      <td>Close</td>\n",
              "      <td>0</td>\n",
              "    </tr>\n",
              "    <tr>\n",
              "      <th>4</th>\n",
              "      <td>4</td>\n",
              "      <td>/content/drive/MyDrive/AllTiff/COVID-CTset/nor...</td>\n",
              "      <td>Open</td>\n",
              "      <td>0</td>\n",
              "    </tr>\n",
              "    <tr>\n",
              "      <th>5</th>\n",
              "      <td>5</td>\n",
              "      <td>/content/drive/MyDrive/AllTiff/COVID-CTset/nor...</td>\n",
              "      <td>Open</td>\n",
              "      <td>0</td>\n",
              "    </tr>\n",
              "    <tr>\n",
              "      <th>6</th>\n",
              "      <td>6</td>\n",
              "      <td>/content/drive/MyDrive/AllTiff/COVID-CTset/nor...</td>\n",
              "      <td>Close</td>\n",
              "      <td>0</td>\n",
              "    </tr>\n",
              "    <tr>\n",
              "      <th>7</th>\n",
              "      <td>7</td>\n",
              "      <td>/content/drive/MyDrive/AllTiff/COVID-CTset/nor...</td>\n",
              "      <td>Close</td>\n",
              "      <td>0</td>\n",
              "    </tr>\n",
              "  </tbody>\n",
              "</table>\n",
              "</div>"
            ],
            "text/plain": [
              "   index                                                loc OpenClose  label\n",
              "0      0  /content/drive/MyDrive/AllTiff/COVID-CTset/nor...      Open      0\n",
              "1      1  /content/drive/MyDrive/AllTiff/COVID-CTset/nor...      Open      0\n",
              "2      2  /content/drive/MyDrive/AllTiff/COVID-CTset/nor...     Close      0\n",
              "3      3  /content/drive/MyDrive/AllTiff/COVID-CTset/nor...     Close      0\n",
              "4      4  /content/drive/MyDrive/AllTiff/COVID-CTset/nor...      Open      0\n",
              "5      5  /content/drive/MyDrive/AllTiff/COVID-CTset/nor...      Open      0\n",
              "6      6  /content/drive/MyDrive/AllTiff/COVID-CTset/nor...     Close      0\n",
              "7      7  /content/drive/MyDrive/AllTiff/COVID-CTset/nor...     Close      0"
            ]
          },
          "metadata": {
            "tags": []
          },
          "execution_count": 4
        }
      ]
    },
    {
      "cell_type": "code",
      "metadata": {
        "id": "wmgprOxvTrCq"
      },
      "source": [
        "# location = 'C:/Users/mailn/Desktop/dataset'"
      ],
      "execution_count": null,
      "outputs": []
    },
    {
      "cell_type": "code",
      "metadata": {
        "colab": {
          "base_uri": "https://localhost:8080/"
        },
        "id": "cooAmRF8Uk1V",
        "outputId": "7a791702-5736-444f-baa9-5755b7a571d8"
      },
      "source": [
        "print(str(data['loc'][0])[31:])"
      ],
      "execution_count": null,
      "outputs": [
        {
          "output_type": "stream",
          "text": [
            "COVID-CTset/normal3/patient336/SR_2/IM00018.tif\n"
          ],
          "name": "stdout"
        }
      ]
    },
    {
      "cell_type": "code",
      "metadata": {
        "colab": {
          "base_uri": "https://localhost:8080/",
          "height": 204
        },
        "id": "fgbN-npAVeDa",
        "outputId": "f0db6e49-783d-4aee-dc5a-b2fc556d76f8"
      },
      "source": [
        "data.head()"
      ],
      "execution_count": null,
      "outputs": [
        {
          "output_type": "execute_result",
          "data": {
            "text/html": [
              "<div>\n",
              "<style scoped>\n",
              "    .dataframe tbody tr th:only-of-type {\n",
              "        vertical-align: middle;\n",
              "    }\n",
              "\n",
              "    .dataframe tbody tr th {\n",
              "        vertical-align: top;\n",
              "    }\n",
              "\n",
              "    .dataframe thead th {\n",
              "        text-align: right;\n",
              "    }\n",
              "</style>\n",
              "<table border=\"1\" class=\"dataframe\">\n",
              "  <thead>\n",
              "    <tr style=\"text-align: right;\">\n",
              "      <th></th>\n",
              "      <th>index</th>\n",
              "      <th>loc</th>\n",
              "      <th>OpenClose</th>\n",
              "      <th>label</th>\n",
              "    </tr>\n",
              "  </thead>\n",
              "  <tbody>\n",
              "    <tr>\n",
              "      <th>0</th>\n",
              "      <td>0</td>\n",
              "      <td>/content/drive/MyDrive/AllTiff/COVID-CTset/nor...</td>\n",
              "      <td>Open</td>\n",
              "      <td>0</td>\n",
              "    </tr>\n",
              "    <tr>\n",
              "      <th>1</th>\n",
              "      <td>1</td>\n",
              "      <td>/content/drive/MyDrive/AllTiff/COVID-CTset/nor...</td>\n",
              "      <td>Open</td>\n",
              "      <td>0</td>\n",
              "    </tr>\n",
              "    <tr>\n",
              "      <th>2</th>\n",
              "      <td>2</td>\n",
              "      <td>/content/drive/MyDrive/AllTiff/COVID-CTset/nor...</td>\n",
              "      <td>Close</td>\n",
              "      <td>0</td>\n",
              "    </tr>\n",
              "    <tr>\n",
              "      <th>3</th>\n",
              "      <td>3</td>\n",
              "      <td>/content/drive/MyDrive/AllTiff/COVID-CTset/nor...</td>\n",
              "      <td>Close</td>\n",
              "      <td>0</td>\n",
              "    </tr>\n",
              "    <tr>\n",
              "      <th>4</th>\n",
              "      <td>4</td>\n",
              "      <td>/content/drive/MyDrive/AllTiff/COVID-CTset/nor...</td>\n",
              "      <td>Open</td>\n",
              "      <td>0</td>\n",
              "    </tr>\n",
              "  </tbody>\n",
              "</table>\n",
              "</div>"
            ],
            "text/plain": [
              "   index                                                loc OpenClose  label\n",
              "0      0  /content/drive/MyDrive/AllTiff/COVID-CTset/nor...      Open      0\n",
              "1      1  /content/drive/MyDrive/AllTiff/COVID-CTset/nor...      Open      0\n",
              "2      2  /content/drive/MyDrive/AllTiff/COVID-CTset/nor...     Close      0\n",
              "3      3  /content/drive/MyDrive/AllTiff/COVID-CTset/nor...     Close      0\n",
              "4      4  /content/drive/MyDrive/AllTiff/COVID-CTset/nor...      Open      0"
            ]
          },
          "metadata": {
            "tags": []
          },
          "execution_count": 7
        }
      ]
    },
    {
      "cell_type": "markdown",
      "metadata": {
        "id": "fNbZjsAyRs0M"
      },
      "source": [
        "Balancing"
      ]
    },
    {
      "cell_type": "code",
      "metadata": {
        "id": "q2ZUjFGAtuWf"
      },
      "source": [
        "X = data.drop('label',axis=1)\n",
        "y = data['label']\n",
        "\n",
        "n=[]\n",
        "c=[]\n",
        "for j,i in enumerate(data['label']):\n",
        "    if i==0:\n",
        "        n.append(j)\n",
        "    else:\n",
        "        c.append(j)\n"
      ],
      "execution_count": null,
      "outputs": []
    },
    {
      "cell_type": "markdown",
      "metadata": {
        "id": "PxHSl9teBgTK"
      },
      "source": [
        "Considering Only Open COVID Cases"
      ]
    },
    {
      "cell_type": "code",
      "metadata": {
        "colab": {
          "base_uri": "https://localhost:8080/"
        },
        "id": "r-bADCJ9-nDr",
        "outputId": "e0123cf3-bddb-497a-fd7d-ce59e307c1d4"
      },
      "source": [
        "OpenCovid=[]\n",
        "for j,i in enumerate(data['label']):\n",
        "    if data['OpenClose'].iloc[j]==\"Open\" and i == 1:\n",
        "        OpenCovid.append(data['index'].iloc[j])\n",
        "\n",
        "print(len(OpenCovid),'Open Covid out of',len(data))"
      ],
      "execution_count": null,
      "outputs": [
        {
          "output_type": "stream",
          "text": [
            "8774 Open Covid out of 63849\n"
          ],
          "name": "stdout"
        }
      ]
    },
    {
      "cell_type": "code",
      "metadata": {
        "colab": {
          "base_uri": "https://localhost:8080/"
        },
        "id": "1FCZ2DyYGK8l",
        "outputId": "00432c2a-58d9-4fb1-ad9f-5ce1b57b17a9"
      },
      "source": [
        "len(OpenCovid)"
      ],
      "execution_count": null,
      "outputs": [
        {
          "output_type": "execute_result",
          "data": {
            "text/plain": [
              "8774"
            ]
          },
          "metadata": {
            "tags": []
          },
          "execution_count": 15
        }
      ]
    },
    {
      "cell_type": "code",
      "metadata": {
        "colab": {
          "base_uri": "https://localhost:8080/"
        },
        "id": "xFwE0b5KBBDV",
        "outputId": "676d129d-e0a2-4090-f771-8a6c82417448"
      },
      "source": [
        "CovidOpen = data.iloc[OpenCovid]\n",
        "X_normal = data.drop('label',axis=1).iloc[n]\n",
        "y_normal = data['label'].iloc[n]\n",
        "X_normal = X_normal.sample(len(OpenCovid),random_state=1)\n",
        "y_normal = y_normal.sample(len(OpenCovid),random_state=1)\n",
        "\n",
        "X_covid  = CovidOpen.drop('label',axis=1)\n",
        "y_covid  = CovidOpen['label']\n",
        "\n",
        "X=X_normal.append(X_covid)\n",
        "y=y_normal.append(y_covid)\n",
        "X=X.sample(frac=1)\n",
        "y=y.sample(frac=1)\n",
        "\n",
        "\n",
        "X_train, X_test, y_train, y_test     = train_test_split(X, y, test_size=0.2, random_state=42 , stratify = y)\n",
        "X_train, X_val, y_train, y_val       = train_test_split(X_train, y_train, test_size=0.25, random_state=42,stratify = y_train)\n",
        "\n",
        "print(\"Input : \",len(X))\n",
        "print(\" Normal : \",y.value_counts()[0])\n",
        "print(\" Covid  : \",y.value_counts()[1])\n",
        "print(\"1   Train  : \",len(X_train))\n",
        "print(\"     Normal: \",y_train.value_counts()[0])\n",
        "print(\"     Covid : \",y_train.value_counts()[1])\n",
        "print(\"2   Test   : \",len(X_test))\n",
        "print(\"     Normal: \",y_test.value_counts()[0])\n",
        "print(\"     Covid : \",y_test.value_counts()[1])\n",
        "print(\"3   Valid. : \",len(X_val))\n",
        "print(\"     Normal: \",y_val.value_counts()[0])\n",
        "print(\"     Covid : \",y_val.value_counts()[1])"
      ],
      "execution_count": null,
      "outputs": [
        {
          "output_type": "stream",
          "text": [
            "Input :  17548\n",
            " Normal :  8774\n",
            " Covid  :  8774\n",
            "1   Train  :  10528\n",
            "     Normal:  5264\n",
            "     Covid :  5264\n",
            "2   Test   :  3510\n",
            "     Normal:  1755\n",
            "     Covid :  1755\n",
            "3   Valid. :  3510\n",
            "     Normal:  1755\n",
            "     Covid :  1755\n"
          ],
          "name": "stdout"
        }
      ]
    },
    {
      "cell_type": "markdown",
      "metadata": {
        "id": "U7_1sXBpCEqz"
      },
      "source": [
        "#Conversion"
      ]
    },
    {
      "cell_type": "code",
      "metadata": {
        "id": "Jby3dc3LzC0F"
      },
      "source": [
        "from google.colab import files\n",
        "files.upload()"
      ],
      "execution_count": null,
      "outputs": []
    },
    {
      "cell_type": "code",
      "metadata": {
        "id": "2HwG0r92pfYo"
      },
      "source": [
        "filename = covid['loc'].iloc[2]\n",
        "max = covid['maxnpfull'].iloc[2]\n",
        "sampleimage = Image.open(filename)"
      ],
      "execution_count": null,
      "outputs": []
    },
    {
      "cell_type": "code",
      "metadata": {
        "id": "aRE2PP2eCGy4"
      },
      "source": [
        "im = Image.open('opn11.tif')\n",
        "img=cv2.imread(filename, cv2.IMREAD_GRAYSCALE)\n",
        "res = cv2.resize(img,(256, 256), interpolation = cv2.INTER_CUBIC)\n",
        "cv2.imwrite('outpuut.png', res, [cv2.IMWRITE_PNG_COMPRESSION])"
      ],
      "execution_count": null,
      "outputs": []
    },
    {
      "cell_type": "code",
      "metadata": {
        "id": "b6r6Edy7yDVK"
      },
      "source": [
        "!ls\n",
        "ab = Image.open('outpuut.png')\n",
        "plt.imshow(ab,'gray')"
      ],
      "execution_count": null,
      "outputs": []
    },
    {
      "cell_type": "code",
      "metadata": {
        "id": "jNynf828zklL"
      },
      "source": [
        "files.download('outpuut.png')"
      ],
      "execution_count": null,
      "outputs": []
    },
    {
      "cell_type": "code",
      "metadata": {
        "id": "CQfwGDgj2XKf"
      },
      "source": [
        "imgloclist = #list of image \n",
        "dest       = #destination folder\n",
        "\n",
        "for j,i in enumerate(imgloclist):\n",
        "    img=cv2.imread(i, cv2.IMREAD_GRAYSCALE)\n",
        "    res = cv2.resize(img,(256, 256), interpolation = cv2.INTER_CUBIC)\n",
        "    cv2.imwrite(dest+str(j)+'.png', res, [cv2.IMWRITE_PNG_COMPRESSION])"
      ],
      "execution_count": null,
      "outputs": []
    },
    {
      "cell_type": "code",
      "metadata": {
        "id": "rShkrIfVM5pn"
      },
      "source": [
        "def load(primary_keys):\n",
        "    datas=[]\n",
        "    for key in tqdm(primary_keys):\n",
        "        key = int(key)\n",
        "        if data['OpenClose'][key]=='Open':\n",
        "            try:\n",
        "                img = Image.open(data['loc'][key])       \n",
        "                npar= np.array(img)\n",
        "                res = cv2.resize(npar,(224, 224), interpolation = cv2.INTER_CUBIC)\n",
        "                datas.append([res, data['label'][key]])\n",
        "            except Exception as e:\n",
        "                print(e)\n",
        "        else:\n",
        "            print(\"Closed?\",data['index'][key])\n",
        "    return np.array(datas)"
      ],
      "execution_count": null,
      "outputs": []
    },
    {
      "cell_type": "code",
      "metadata": {
        "id": "7C-URy_GQ14k",
        "colab": {
          "base_uri": "https://localhost:8080/",
          "height": 204
        },
        "outputId": "26e3408c-a35b-4302-d898-f86d87c67a4d"
      },
      "source": [
        "X_train.head()"
      ],
      "execution_count": null,
      "outputs": [
        {
          "output_type": "execute_result",
          "data": {
            "text/html": [
              "<div>\n",
              "<style scoped>\n",
              "    .dataframe tbody tr th:only-of-type {\n",
              "        vertical-align: middle;\n",
              "    }\n",
              "\n",
              "    .dataframe tbody tr th {\n",
              "        vertical-align: top;\n",
              "    }\n",
              "\n",
              "    .dataframe thead th {\n",
              "        text-align: right;\n",
              "    }\n",
              "</style>\n",
              "<table border=\"1\" class=\"dataframe\">\n",
              "  <thead>\n",
              "    <tr style=\"text-align: right;\">\n",
              "      <th></th>\n",
              "      <th>index</th>\n",
              "      <th>loc</th>\n",
              "      <th>OpenClose</th>\n",
              "    </tr>\n",
              "  </thead>\n",
              "  <tbody>\n",
              "    <tr>\n",
              "      <th>40715</th>\n",
              "      <td>40715</td>\n",
              "      <td>/content/drive/MyDrive/AllTiff/COVID-CTset/cov...</td>\n",
              "      <td>Open</td>\n",
              "    </tr>\n",
              "    <tr>\n",
              "      <th>46324</th>\n",
              "      <td>46324</td>\n",
              "      <td>/content/drive/MyDrive/AllTiff/COVID-CTset/cov...</td>\n",
              "      <td>Open</td>\n",
              "    </tr>\n",
              "    <tr>\n",
              "      <th>50892</th>\n",
              "      <td>50892</td>\n",
              "      <td>/content/drive/MyDrive/AllTiff/COVID-CTset/cov...</td>\n",
              "      <td>Open</td>\n",
              "    </tr>\n",
              "    <tr>\n",
              "      <th>32639</th>\n",
              "      <td>32639</td>\n",
              "      <td>/content/drive/MyDrive/AllTiff/COVID-CTset/nor...</td>\n",
              "      <td>Close</td>\n",
              "    </tr>\n",
              "    <tr>\n",
              "      <th>42795</th>\n",
              "      <td>42795</td>\n",
              "      <td>/content/drive/MyDrive/AllTiff/COVID-CTset/cov...</td>\n",
              "      <td>Open</td>\n",
              "    </tr>\n",
              "  </tbody>\n",
              "</table>\n",
              "</div>"
            ],
            "text/plain": [
              "       index                                                loc OpenClose\n",
              "40715  40715  /content/drive/MyDrive/AllTiff/COVID-CTset/cov...      Open\n",
              "46324  46324  /content/drive/MyDrive/AllTiff/COVID-CTset/cov...      Open\n",
              "50892  50892  /content/drive/MyDrive/AllTiff/COVID-CTset/cov...      Open\n",
              "32639  32639  /content/drive/MyDrive/AllTiff/COVID-CTset/nor...     Close\n",
              "42795  42795  /content/drive/MyDrive/AllTiff/COVID-CTset/cov...      Open"
            ]
          },
          "metadata": {
            "tags": []
          },
          "execution_count": 18
        }
      ]
    },
    {
      "cell_type": "code",
      "metadata": {
        "id": "-9OAXLklQo7n"
      },
      "source": [
        "# train = load(list((X_train['index'])))\n",
        "# valid = load(list(X_val['index']))"
      ],
      "execution_count": null,
      "outputs": []
    },
    {
      "cell_type": "code",
      "metadata": {
        "id": "Yy6brt4nKjZ-",
        "colab": {
          "base_uri": "https://localhost:8080/"
        },
        "outputId": "b08818ca-f270-440f-a165-03594401290e"
      },
      "source": [
        "print(len(X_train))\n",
        "print(len(X_val))\n",
        "print(len(X_test))"
      ],
      "execution_count": null,
      "outputs": [
        {
          "output_type": "stream",
          "text": [
            "10528\n",
            "3510\n",
            "3510\n"
          ],
          "name": "stdout"
        }
      ]
    },
    {
      "cell_type": "code",
      "metadata": {
        "id": "FMclK9TtVPYo",
        "colab": {
          "base_uri": "https://localhost:8080/"
        },
        "outputId": "3726aaa6-0bf2-4cc2-f059-1815be0a53f2"
      },
      "source": [
        "#TIME CONSUMING\n",
        "\n",
        "X_train_mini = X_train #[:8000] #X_train.sample(frac=.65)\n",
        "X_val_mini   = X_val  #[:2000] \n",
        "X_test_mini  = X_test #[:2000] \n",
        "train = load(list((X_train_mini['index'])))\n",
        "valid = load(list(X_val_mini['index']))\n",
        "test  = load(list(X_test_mini['index']))"
      ],
      "execution_count": 22,
      "outputs": [
        {
          "output_type": "stream",
          "text": [
            " 98%|█████████▊| 10345/10528 [1:01:23<00:48,  3.81it/s]"
          ],
          "name": "stderr"
        },
        {
          "output_type": "stream",
          "text": [
            "Closed? 56035\n"
          ],
          "name": "stdout"
        },
        {
          "output_type": "stream",
          "text": [
            " 98%|█████████▊| 10348/10528 [1:01:24<00:42,  4.22it/s]"
          ],
          "name": "stderr"
        },
        {
          "output_type": "stream",
          "text": [
            "Closed? 12821\n"
          ],
          "name": "stdout"
        },
        {
          "output_type": "stream",
          "text": [
            " 98%|█████████▊| 10354/10528 [1:01:25<00:49,  3.51it/s]"
          ],
          "name": "stderr"
        },
        {
          "output_type": "stream",
          "text": [
            "Closed? 12935\n"
          ],
          "name": "stdout"
        },
        {
          "output_type": "stream",
          "text": [
            " 98%|█████████▊| 10357/10528 [1:01:26<00:48,  3.49it/s]"
          ],
          "name": "stderr"
        },
        {
          "output_type": "stream",
          "text": [
            "Closed? 55812\n"
          ],
          "name": "stdout"
        },
        {
          "output_type": "stream",
          "text": [
            " 98%|█████████▊| 10367/10528 [1:01:29<00:44,  3.59it/s]"
          ],
          "name": "stderr"
        },
        {
          "output_type": "stream",
          "text": [
            "Closed? 60567\n"
          ],
          "name": "stdout"
        },
        {
          "output_type": "stream",
          "text": [
            " 99%|█████████▊| 10373/10528 [1:01:31<01:00,  2.55it/s]"
          ],
          "name": "stderr"
        },
        {
          "output_type": "stream",
          "text": [
            "Closed? 59004\n"
          ],
          "name": "stdout"
        },
        {
          "output_type": "stream",
          "text": [
            " 99%|█████████▊| 10384/10528 [1:01:34<00:44,  3.25it/s]"
          ],
          "name": "stderr"
        },
        {
          "output_type": "stream",
          "text": [
            "Closed? 62926\n"
          ],
          "name": "stdout"
        },
        {
          "output_type": "stream",
          "text": [
            " 99%|█████████▊| 10388/10528 [1:01:35<00:43,  3.23it/s]"
          ],
          "name": "stderr"
        },
        {
          "output_type": "stream",
          "text": [
            "Closed? 62188\n",
            "Closed? 35608\n"
          ],
          "name": "stdout"
        },
        {
          "output_type": "stream",
          "text": [
            "\r 99%|█████████▊| 10391/10528 [1:01:35<00:33,  4.07it/s]"
          ],
          "name": "stderr"
        },
        {
          "output_type": "stream",
          "text": [
            "Closed? 12508\n"
          ],
          "name": "stdout"
        },
        {
          "output_type": "stream",
          "text": [
            " 99%|█████████▉| 10414/10528 [1:01:41<00:33,  3.45it/s]"
          ],
          "name": "stderr"
        },
        {
          "output_type": "stream",
          "text": [
            "Closed? 19255\n"
          ],
          "name": "stdout"
        },
        {
          "output_type": "stream",
          "text": [
            " 99%|█████████▉| 10426/10528 [1:01:45<00:30,  3.39it/s]"
          ],
          "name": "stderr"
        },
        {
          "output_type": "stream",
          "text": [
            "Closed? 31622\n"
          ],
          "name": "stdout"
        },
        {
          "output_type": "stream",
          "text": [
            " 99%|█████████▉| 10430/10528 [1:01:46<00:23,  4.10it/s]"
          ],
          "name": "stderr"
        },
        {
          "output_type": "stream",
          "text": [
            "Closed? 31546\n"
          ],
          "name": "stdout"
        },
        {
          "output_type": "stream",
          "text": [
            " 99%|█████████▉| 10434/10528 [1:01:47<00:24,  3.90it/s]"
          ],
          "name": "stderr"
        },
        {
          "output_type": "stream",
          "text": [
            "Closed? 3491\n"
          ],
          "name": "stdout"
        },
        {
          "output_type": "stream",
          "text": [
            " 99%|█████████▉| 10439/10528 [1:01:48<00:24,  3.59it/s]"
          ],
          "name": "stderr"
        },
        {
          "output_type": "stream",
          "text": [
            "Closed? 21196\n",
            "Closed? 23146\n"
          ],
          "name": "stdout"
        },
        {
          "output_type": "stream",
          "text": [
            " 99%|█████████▉| 10446/10528 [1:01:49<00:18,  4.47it/s]"
          ],
          "name": "stderr"
        },
        {
          "output_type": "stream",
          "text": [
            "Closed? 26844\n",
            "Closed? 23056\n"
          ],
          "name": "stdout"
        },
        {
          "output_type": "stream",
          "text": [
            " 99%|█████████▉| 10451/10528 [1:01:50<00:12,  6.18it/s]"
          ],
          "name": "stderr"
        },
        {
          "output_type": "stream",
          "text": [
            "Closed? 23537\n"
          ],
          "name": "stdout"
        },
        {
          "output_type": "stream",
          "text": [
            " 99%|█████████▉| 10459/10528 [1:01:52<00:20,  3.38it/s]"
          ],
          "name": "stderr"
        },
        {
          "output_type": "stream",
          "text": [
            "Closed? 36960\n"
          ],
          "name": "stdout"
        },
        {
          "output_type": "stream",
          "text": [
            " 99%|█████████▉| 10466/10528 [1:01:54<00:13,  4.76it/s]"
          ],
          "name": "stderr"
        },
        {
          "output_type": "stream",
          "text": [
            "Closed? 29995\n"
          ],
          "name": "stdout"
        },
        {
          "output_type": "stream",
          "text": [
            " 99%|█████████▉| 10473/10528 [1:01:56<00:15,  3.45it/s]"
          ],
          "name": "stderr"
        },
        {
          "output_type": "stream",
          "text": [
            "Closed? 34823\n",
            "Closed? 28874\n"
          ],
          "name": "stdout"
        },
        {
          "output_type": "stream",
          "text": [
            "\r100%|█████████▉| 10476/10528 [1:01:56<00:11,  4.42it/s]"
          ],
          "name": "stderr"
        },
        {
          "output_type": "stream",
          "text": [
            "Closed? 33995\n"
          ],
          "name": "stdout"
        },
        {
          "output_type": "stream",
          "text": [
            "\r100%|█████████▉| 10478/10528 [1:01:56<00:10,  4.63it/s]"
          ],
          "name": "stderr"
        },
        {
          "output_type": "stream",
          "text": [
            "Closed? 4511\n"
          ],
          "name": "stdout"
        },
        {
          "output_type": "stream",
          "text": [
            "100%|█████████▉| 10489/10528 [1:01:59<00:11,  3.38it/s]"
          ],
          "name": "stderr"
        },
        {
          "output_type": "stream",
          "text": [
            "Closed? 11034\n"
          ],
          "name": "stdout"
        },
        {
          "output_type": "stream",
          "text": [
            "100%|█████████▉| 10493/10528 [1:02:01<00:10,  3.31it/s]"
          ],
          "name": "stderr"
        },
        {
          "output_type": "stream",
          "text": [
            "Closed? 8735\n"
          ],
          "name": "stdout"
        },
        {
          "output_type": "stream",
          "text": [
            "100%|█████████▉| 10496/10528 [1:02:01<00:09,  3.25it/s]"
          ],
          "name": "stderr"
        },
        {
          "output_type": "stream",
          "text": [
            "Closed? 29203\n"
          ],
          "name": "stdout"
        },
        {
          "output_type": "stream",
          "text": [
            "100%|█████████▉| 10502/10528 [1:02:02<00:05,  4.61it/s]"
          ],
          "name": "stderr"
        },
        {
          "output_type": "stream",
          "text": [
            "Closed? 62920\n",
            "Closed? 59615\n",
            "Closed? 21873\n",
            "Closed? 2195\n"
          ],
          "name": "stdout"
        },
        {
          "output_type": "stream",
          "text": [
            "100%|█████████▉| 10507/10528 [1:02:03<00:04,  4.67it/s]"
          ],
          "name": "stderr"
        },
        {
          "output_type": "stream",
          "text": [
            "Closed? 7465\n"
          ],
          "name": "stdout"
        },
        {
          "output_type": "stream",
          "text": [
            "100%|█████████▉| 10522/10528 [1:02:08<00:02,  2.61it/s]"
          ],
          "name": "stderr"
        },
        {
          "output_type": "stream",
          "text": [
            "Closed? 10801\n"
          ],
          "name": "stdout"
        },
        {
          "output_type": "stream",
          "text": [
            "100%|██████████| 10528/10528 [1:02:10<00:00,  2.82it/s]\n",
            "/usr/local/lib/python3.7/dist-packages/ipykernel_launcher.py:15: VisibleDeprecationWarning: Creating an ndarray from ragged nested sequences (which is a list-or-tuple of lists-or-tuples-or ndarrays with different lengths or shapes) is deprecated. If you meant to do this, you must specify 'dtype=object' when creating the ndarray\n",
            "  from ipykernel import kernelapp as app\n",
            "  0%|          | 0/3510 [00:00<?, ?it/s]"
          ],
          "name": "stderr"
        },
        {
          "output_type": "stream",
          "text": [
            "Closed? 53190\n"
          ],
          "name": "stdout"
        },
        {
          "output_type": "stream",
          "text": [
            "\r  0%|          | 2/3510 [00:00<08:05,  7.22it/s]"
          ],
          "name": "stderr"
        },
        {
          "output_type": "stream",
          "text": [
            "Closed? 30710\n"
          ],
          "name": "stdout"
        },
        {
          "output_type": "stream",
          "text": [
            "  0%|          | 7/3510 [00:01<12:56,  4.51it/s]"
          ],
          "name": "stderr"
        },
        {
          "output_type": "stream",
          "text": [
            "Closed? 26229\n"
          ],
          "name": "stdout"
        },
        {
          "output_type": "stream",
          "text": [
            "  0%|          | 10/3510 [00:02<17:01,  3.43it/s]"
          ],
          "name": "stderr"
        },
        {
          "output_type": "stream",
          "text": [
            "Closed? 15012\n"
          ],
          "name": "stdout"
        },
        {
          "output_type": "stream",
          "text": [
            "  0%|          | 13/3510 [00:03<17:01,  3.42it/s]"
          ],
          "name": "stderr"
        },
        {
          "output_type": "stream",
          "text": [
            "Closed? 18340\n"
          ],
          "name": "stdout"
        },
        {
          "output_type": "stream",
          "text": [
            "  0%|          | 16/3510 [00:03<15:53,  3.66it/s]"
          ],
          "name": "stderr"
        },
        {
          "output_type": "stream",
          "text": [
            "Closed? 25033\n"
          ],
          "name": "stdout"
        },
        {
          "output_type": "stream",
          "text": [
            "  1%|          | 27/3510 [00:06<14:47,  3.93it/s]"
          ],
          "name": "stderr"
        },
        {
          "output_type": "stream",
          "text": [
            "Closed? 14405\n"
          ],
          "name": "stdout"
        },
        {
          "output_type": "stream",
          "text": [
            "  1%|          | 36/3510 [00:09<18:27,  3.14it/s]"
          ],
          "name": "stderr"
        },
        {
          "output_type": "stream",
          "text": [
            "Closed? 59965\n"
          ],
          "name": "stdout"
        },
        {
          "output_type": "stream",
          "text": [
            "  1%|          | 40/3510 [00:10<15:57,  3.63it/s]"
          ],
          "name": "stderr"
        },
        {
          "output_type": "stream",
          "text": [
            "Closed? 14267\n",
            "Closed? 35389\n"
          ],
          "name": "stdout"
        },
        {
          "output_type": "stream",
          "text": [
            "  1%|▏         | 46/3510 [00:11<10:55,  5.29it/s]"
          ],
          "name": "stderr"
        },
        {
          "output_type": "stream",
          "text": [
            "Closed? 56292\n"
          ],
          "name": "stdout"
        },
        {
          "output_type": "stream",
          "text": [
            "  1%|▏         | 51/3510 [00:12<14:38,  3.94it/s]"
          ],
          "name": "stderr"
        },
        {
          "output_type": "stream",
          "text": [
            "Closed? 15185\n"
          ],
          "name": "stdout"
        },
        {
          "output_type": "stream",
          "text": [
            "  2%|▏         | 62/3510 [00:15<20:50,  2.76it/s]"
          ],
          "name": "stderr"
        },
        {
          "output_type": "stream",
          "text": [
            "Closed? 36629\n",
            "Closed? 55099\n"
          ],
          "name": "stdout"
        },
        {
          "output_type": "stream",
          "text": [
            "  2%|▏         | 67/3510 [00:16<18:21,  3.13it/s]"
          ],
          "name": "stderr"
        },
        {
          "output_type": "stream",
          "text": [
            "Closed? 3050\n"
          ],
          "name": "stdout"
        },
        {
          "output_type": "stream",
          "text": [
            "  2%|▏         | 71/3510 [00:17<15:41,  3.65it/s]"
          ],
          "name": "stderr"
        },
        {
          "output_type": "stream",
          "text": [
            "Closed? 30880\n"
          ],
          "name": "stdout"
        },
        {
          "output_type": "stream",
          "text": [
            "  2%|▏         | 77/3510 [00:19<14:28,  3.95it/s]"
          ],
          "name": "stderr"
        },
        {
          "output_type": "stream",
          "text": [
            "Closed? 57030\n"
          ],
          "name": "stdout"
        },
        {
          "output_type": "stream",
          "text": [
            "  2%|▏         | 86/3510 [00:21<15:10,  3.76it/s]"
          ],
          "name": "stderr"
        },
        {
          "output_type": "stream",
          "text": [
            "Closed? 17275\n"
          ],
          "name": "stdout"
        },
        {
          "output_type": "stream",
          "text": [
            "  3%|▎         | 90/3510 [00:22<15:08,  3.76it/s]"
          ],
          "name": "stderr"
        },
        {
          "output_type": "stream",
          "text": [
            "Closed? 26325\n"
          ],
          "name": "stdout"
        },
        {
          "output_type": "stream",
          "text": [
            "  3%|▎         | 104/3510 [00:25<12:24,  4.58it/s]"
          ],
          "name": "stderr"
        },
        {
          "output_type": "stream",
          "text": [
            "Closed? 26134\n",
            "Closed? 8581\n",
            "Closed? 12506\n"
          ],
          "name": "stdout"
        },
        {
          "output_type": "stream",
          "text": [
            "  3%|▎         | 108/3510 [00:26<13:09,  4.31it/s]"
          ],
          "name": "stderr"
        },
        {
          "output_type": "stream",
          "text": [
            "Closed? 55837\n"
          ],
          "name": "stdout"
        },
        {
          "output_type": "stream",
          "text": [
            "  3%|▎         | 111/3510 [00:27<15:26,  3.67it/s]"
          ],
          "name": "stderr"
        },
        {
          "output_type": "stream",
          "text": [
            "Closed? 5194\n"
          ],
          "name": "stdout"
        },
        {
          "output_type": "stream",
          "text": [
            "  3%|▎         | 115/3510 [00:27<13:40,  4.14it/s]"
          ],
          "name": "stderr"
        },
        {
          "output_type": "stream",
          "text": [
            "Closed? 35089\n"
          ],
          "name": "stdout"
        },
        {
          "output_type": "stream",
          "text": [
            "  3%|▎         | 120/3510 [00:29<14:19,  3.94it/s]"
          ],
          "name": "stderr"
        },
        {
          "output_type": "stream",
          "text": [
            "Closed? 60427\n",
            "Closed? 18269\n"
          ],
          "name": "stdout"
        },
        {
          "output_type": "stream",
          "text": [
            "  4%|▎         | 124/3510 [00:29<10:48,  5.22it/s]"
          ],
          "name": "stderr"
        },
        {
          "output_type": "stream",
          "text": [
            "Closed? 23470\n"
          ],
          "name": "stdout"
        },
        {
          "output_type": "stream",
          "text": [
            "  4%|▎         | 129/3510 [00:30<15:17,  3.68it/s]"
          ],
          "name": "stderr"
        },
        {
          "output_type": "stream",
          "text": [
            "Closed? 28662\n",
            "Closed? 13263\n"
          ],
          "name": "stdout"
        },
        {
          "output_type": "stream",
          "text": [
            "\r  4%|▍         | 132/3510 [00:31<12:54,  4.36it/s]"
          ],
          "name": "stderr"
        },
        {
          "output_type": "stream",
          "text": [
            "Closed? 6907\n"
          ],
          "name": "stdout"
        },
        {
          "output_type": "stream",
          "text": [
            "\r  4%|▍         | 134/3510 [00:31<10:56,  5.14it/s]"
          ],
          "name": "stderr"
        },
        {
          "output_type": "stream",
          "text": [
            "Closed? 52834\n"
          ],
          "name": "stdout"
        },
        {
          "output_type": "stream",
          "text": [
            "  4%|▍         | 140/3510 [00:32<15:12,  3.69it/s]"
          ],
          "name": "stderr"
        },
        {
          "output_type": "stream",
          "text": [
            "Closed? 460\n",
            "Closed? 21473\n"
          ],
          "name": "stdout"
        },
        {
          "output_type": "stream",
          "text": [
            "  4%|▍         | 155/3510 [00:36<18:39,  3.00it/s]"
          ],
          "name": "stderr"
        },
        {
          "output_type": "stream",
          "text": [
            "Closed? 19974\n",
            "Closed? 22635\n"
          ],
          "name": "stdout"
        },
        {
          "output_type": "stream",
          "text": [
            "  5%|▍         | 161/3510 [00:37<16:29,  3.38it/s]"
          ],
          "name": "stderr"
        },
        {
          "output_type": "stream",
          "text": [
            "Closed? 26232\n"
          ],
          "name": "stdout"
        },
        {
          "output_type": "stream",
          "text": [
            "\r  5%|▍         | 163/3510 [00:38<15:12,  3.67it/s]"
          ],
          "name": "stderr"
        },
        {
          "output_type": "stream",
          "text": [
            "Closed? 36018\n"
          ],
          "name": "stdout"
        },
        {
          "output_type": "stream",
          "text": [
            "  5%|▍         | 166/3510 [00:38<12:26,  4.48it/s]"
          ],
          "name": "stderr"
        },
        {
          "output_type": "stream",
          "text": [
            "Closed? 20238\n"
          ],
          "name": "stdout"
        },
        {
          "output_type": "stream",
          "text": [
            "  5%|▍         | 170/3510 [00:39<11:53,  4.68it/s]"
          ],
          "name": "stderr"
        },
        {
          "output_type": "stream",
          "text": [
            "Closed? 34000\n"
          ],
          "name": "stdout"
        },
        {
          "output_type": "stream",
          "text": [
            "  5%|▌         | 179/3510 [00:41<19:01,  2.92it/s]"
          ],
          "name": "stderr"
        },
        {
          "output_type": "stream",
          "text": [
            "Closed? 61055\n"
          ],
          "name": "stdout"
        },
        {
          "output_type": "stream",
          "text": [
            "  5%|▌         | 182/3510 [00:42<17:16,  3.21it/s]"
          ],
          "name": "stderr"
        },
        {
          "output_type": "stream",
          "text": [
            "Closed? 33217\n"
          ],
          "name": "stdout"
        },
        {
          "output_type": "stream",
          "text": [
            "  5%|▌         | 185/3510 [00:43<15:34,  3.56it/s]"
          ],
          "name": "stderr"
        },
        {
          "output_type": "stream",
          "text": [
            "Closed? 62756\n"
          ],
          "name": "stdout"
        },
        {
          "output_type": "stream",
          "text": [
            "\r  5%|▌         | 187/3510 [00:43<14:35,  3.80it/s]"
          ],
          "name": "stderr"
        },
        {
          "output_type": "stream",
          "text": [
            "Closed? 28821\n"
          ],
          "name": "stdout"
        },
        {
          "output_type": "stream",
          "text": [
            "  5%|▌         | 191/3510 [00:44<12:53,  4.29it/s]"
          ],
          "name": "stderr"
        },
        {
          "output_type": "stream",
          "text": [
            "Closed? 14938\n"
          ],
          "name": "stdout"
        },
        {
          "output_type": "stream",
          "text": [
            "\r  5%|▌         | 192/3510 [00:44<14:36,  3.78it/s]"
          ],
          "name": "stderr"
        },
        {
          "output_type": "stream",
          "text": [
            "Closed? 19189\n"
          ],
          "name": "stdout"
        },
        {
          "output_type": "stream",
          "text": [
            "\r  6%|▌         | 194/3510 [00:45<13:09,  4.20it/s]"
          ],
          "name": "stderr"
        },
        {
          "output_type": "stream",
          "text": [
            "Closed? 6747\n"
          ],
          "name": "stdout"
        },
        {
          "output_type": "stream",
          "text": [
            "  6%|▌         | 200/3510 [00:47<17:36,  3.13it/s]"
          ],
          "name": "stderr"
        },
        {
          "output_type": "stream",
          "text": [
            "Closed? 54708\n"
          ],
          "name": "stdout"
        },
        {
          "output_type": "stream",
          "text": [
            "  6%|▌         | 205/3510 [00:48<16:17,  3.38it/s]"
          ],
          "name": "stderr"
        },
        {
          "output_type": "stream",
          "text": [
            "Closed? 26310\n",
            "Closed? 56082\n"
          ],
          "name": "stdout"
        },
        {
          "output_type": "stream",
          "text": [
            "  6%|▌         | 214/3510 [00:51<17:54,  3.07it/s]"
          ],
          "name": "stderr"
        },
        {
          "output_type": "stream",
          "text": [
            "Closed? 62861\n"
          ],
          "name": "stdout"
        },
        {
          "output_type": "stream",
          "text": [
            "\r  6%|▌         | 216/3510 [00:51<15:41,  3.50it/s]"
          ],
          "name": "stderr"
        },
        {
          "output_type": "stream",
          "text": [
            "Closed? 30418\n"
          ],
          "name": "stdout"
        },
        {
          "output_type": "stream",
          "text": [
            "  6%|▋         | 224/3510 [00:54<18:04,  3.03it/s]"
          ],
          "name": "stderr"
        },
        {
          "output_type": "stream",
          "text": [
            "Closed? 20425\n"
          ],
          "name": "stdout"
        },
        {
          "output_type": "stream",
          "text": [
            "  7%|▋         | 231/3510 [00:56<18:08,  3.01it/s]"
          ],
          "name": "stderr"
        },
        {
          "output_type": "stream",
          "text": [
            "Closed? 13259\n"
          ],
          "name": "stdout"
        },
        {
          "output_type": "stream",
          "text": [
            "\r  7%|▋         | 233/3510 [00:56<15:00,  3.64it/s]"
          ],
          "name": "stderr"
        },
        {
          "output_type": "stream",
          "text": [
            "Closed? 34954\n"
          ],
          "name": "stdout"
        },
        {
          "output_type": "stream",
          "text": [
            "  7%|▋         | 236/3510 [00:57<16:36,  3.28it/s]"
          ],
          "name": "stderr"
        },
        {
          "output_type": "stream",
          "text": [
            "Closed? 23581\n"
          ],
          "name": "stdout"
        },
        {
          "output_type": "stream",
          "text": [
            "  7%|▋         | 239/3510 [00:57<13:40,  3.99it/s]"
          ],
          "name": "stderr"
        },
        {
          "output_type": "stream",
          "text": [
            "Closed? 54254\n",
            "Closed? 14616\n"
          ],
          "name": "stdout"
        },
        {
          "output_type": "stream",
          "text": [
            "  7%|▋         | 245/3510 [00:59<15:39,  3.47it/s]"
          ],
          "name": "stderr"
        },
        {
          "output_type": "stream",
          "text": [
            "Closed? 59058\n"
          ],
          "name": "stdout"
        },
        {
          "output_type": "stream",
          "text": [
            "\r  7%|▋         | 247/3510 [00:59<14:26,  3.77it/s]"
          ],
          "name": "stderr"
        },
        {
          "output_type": "stream",
          "text": [
            "Closed? 32409\n"
          ],
          "name": "stdout"
        },
        {
          "output_type": "stream",
          "text": [
            "\r  7%|▋         | 249/3510 [01:00<13:32,  4.01it/s]"
          ],
          "name": "stderr"
        },
        {
          "output_type": "stream",
          "text": [
            "Closed? 35041\n"
          ],
          "name": "stdout"
        },
        {
          "output_type": "stream",
          "text": [
            "  8%|▊         | 266/3510 [01:05<18:00,  3.00it/s]"
          ],
          "name": "stderr"
        },
        {
          "output_type": "stream",
          "text": [
            "Closed? 56309\n"
          ],
          "name": "stdout"
        },
        {
          "output_type": "stream",
          "text": [
            "  8%|▊         | 271/3510 [01:06<13:10,  4.10it/s]"
          ],
          "name": "stderr"
        },
        {
          "output_type": "stream",
          "text": [
            "Closed? 2732\n"
          ],
          "name": "stdout"
        },
        {
          "output_type": "stream",
          "text": [
            "\r  8%|▊         | 272/3510 [01:06<12:03,  4.48it/s]"
          ],
          "name": "stderr"
        },
        {
          "output_type": "stream",
          "text": [
            "Closed? 60473\n"
          ],
          "name": "stdout"
        },
        {
          "output_type": "stream",
          "text": [
            "  8%|▊         | 277/3510 [01:07<08:52,  6.07it/s]"
          ],
          "name": "stderr"
        },
        {
          "output_type": "stream",
          "text": [
            "Closed? 54881\n"
          ],
          "name": "stdout"
        },
        {
          "output_type": "stream",
          "text": [
            "  8%|▊         | 286/3510 [01:10<16:34,  3.24it/s]"
          ],
          "name": "stderr"
        },
        {
          "output_type": "stream",
          "text": [
            "Closed? 30850\n"
          ],
          "name": "stdout"
        },
        {
          "output_type": "stream",
          "text": [
            "\r  8%|▊         | 288/3510 [01:10<14:25,  3.72it/s]"
          ],
          "name": "stderr"
        },
        {
          "output_type": "stream",
          "text": [
            "Closed? 457\n"
          ],
          "name": "stdout"
        },
        {
          "output_type": "stream",
          "text": [
            "  8%|▊         | 297/3510 [01:13<15:32,  3.44it/s]"
          ],
          "name": "stderr"
        },
        {
          "output_type": "stream",
          "text": [
            "Closed? 6728\n"
          ],
          "name": "stdout"
        },
        {
          "output_type": "stream",
          "text": [
            "  9%|▉         | 315/3510 [01:18<17:11,  3.10it/s]"
          ],
          "name": "stderr"
        },
        {
          "output_type": "stream",
          "text": [
            "Closed? 32257\n"
          ],
          "name": "stdout"
        },
        {
          "output_type": "stream",
          "text": [
            "  9%|▉         | 326/3510 [01:22<18:15,  2.91it/s]"
          ],
          "name": "stderr"
        },
        {
          "output_type": "stream",
          "text": [
            "Closed? 12104\n"
          ],
          "name": "stdout"
        },
        {
          "output_type": "stream",
          "text": [
            "  9%|▉         | 330/3510 [01:22<12:46,  4.15it/s]"
          ],
          "name": "stderr"
        },
        {
          "output_type": "stream",
          "text": [
            "Closed? 7929\n"
          ],
          "name": "stdout"
        },
        {
          "output_type": "stream",
          "text": [
            "\r  9%|▉         | 331/3510 [01:22<14:21,  3.69it/s]"
          ],
          "name": "stderr"
        },
        {
          "output_type": "stream",
          "text": [
            "Closed? 8034\n",
            "Closed? 31198\n"
          ],
          "name": "stdout"
        },
        {
          "output_type": "stream",
          "text": [
            "\r 10%|▉         | 334/3510 [01:23<12:14,  4.32it/s]"
          ],
          "name": "stderr"
        },
        {
          "output_type": "stream",
          "text": [
            "Closed? 54314\n",
            "Closed? 31997\n"
          ],
          "name": "stdout"
        },
        {
          "output_type": "stream",
          "text": [
            " 10%|█         | 367/3510 [01:32<16:09,  3.24it/s]"
          ],
          "name": "stderr"
        },
        {
          "output_type": "stream",
          "text": [
            "Closed? 59306\n"
          ],
          "name": "stdout"
        },
        {
          "output_type": "stream",
          "text": [
            " 11%|█         | 371/3510 [01:33<14:49,  3.53it/s]"
          ],
          "name": "stderr"
        },
        {
          "output_type": "stream",
          "text": [
            "Closed? 36901\n",
            "Closed? 13550\n"
          ],
          "name": "stdout"
        },
        {
          "output_type": "stream",
          "text": [
            " 11%|█         | 376/3510 [01:34<12:14,  4.27it/s]"
          ],
          "name": "stderr"
        },
        {
          "output_type": "stream",
          "text": [
            "Closed? 63784\n"
          ],
          "name": "stdout"
        },
        {
          "output_type": "stream",
          "text": [
            " 11%|█         | 382/3510 [01:35<12:08,  4.29it/s]"
          ],
          "name": "stderr"
        },
        {
          "output_type": "stream",
          "text": [
            "Closed? 34485\n"
          ],
          "name": "stdout"
        },
        {
          "output_type": "stream",
          "text": [
            " 11%|█▏        | 396/3510 [01:40<18:23,  2.82it/s]"
          ],
          "name": "stderr"
        },
        {
          "output_type": "stream",
          "text": [
            "Closed? 35999\n"
          ],
          "name": "stdout"
        },
        {
          "output_type": "stream",
          "text": [
            " 12%|█▏        | 404/3510 [01:42<13:08,  3.94it/s]"
          ],
          "name": "stderr"
        },
        {
          "output_type": "stream",
          "text": [
            "Closed? 559\n",
            "Closed? 18165\n"
          ],
          "name": "stdout"
        },
        {
          "output_type": "stream",
          "text": [
            " 12%|█▏        | 408/3510 [01:43<15:06,  3.42it/s]"
          ],
          "name": "stderr"
        },
        {
          "output_type": "stream",
          "text": [
            "Closed? 13257\n"
          ],
          "name": "stdout"
        },
        {
          "output_type": "stream",
          "text": [
            " 12%|█▏        | 414/3510 [01:44<14:33,  3.54it/s]"
          ],
          "name": "stderr"
        },
        {
          "output_type": "stream",
          "text": [
            "Closed? 62979\n",
            "Closed? 23459\n"
          ],
          "name": "stdout"
        },
        {
          "output_type": "stream",
          "text": [
            " 12%|█▏        | 423/3510 [01:47<18:04,  2.85it/s]"
          ],
          "name": "stderr"
        },
        {
          "output_type": "stream",
          "text": [
            "Closed? 23493\n"
          ],
          "name": "stdout"
        },
        {
          "output_type": "stream",
          "text": [
            " 12%|█▏        | 429/3510 [01:48<12:03,  4.26it/s]"
          ],
          "name": "stderr"
        },
        {
          "output_type": "stream",
          "text": [
            "Closed? 17845\n"
          ],
          "name": "stdout"
        },
        {
          "output_type": "stream",
          "text": [
            " 13%|█▎        | 439/3510 [01:51<12:38,  4.05it/s]"
          ],
          "name": "stderr"
        },
        {
          "output_type": "stream",
          "text": [
            "Closed? 31358\n",
            "Closed? 60729\n"
          ],
          "name": "stdout"
        },
        {
          "output_type": "stream",
          "text": [
            " 13%|█▎        | 442/3510 [01:52<11:59,  4.26it/s]"
          ],
          "name": "stderr"
        },
        {
          "output_type": "stream",
          "text": [
            "Closed? 6450\n",
            "Closed? 26707\n",
            "Closed? 15626\n",
            "Closed? 8138\n"
          ],
          "name": "stdout"
        },
        {
          "output_type": "stream",
          "text": [
            " 13%|█▎        | 468/3510 [01:59<16:54,  3.00it/s]"
          ],
          "name": "stderr"
        },
        {
          "output_type": "stream",
          "text": [
            "Closed? 56833\n"
          ],
          "name": "stdout"
        },
        {
          "output_type": "stream",
          "text": [
            " 14%|█▎        | 475/3510 [02:01<14:55,  3.39it/s]"
          ],
          "name": "stderr"
        },
        {
          "output_type": "stream",
          "text": [
            "Closed? 23508\n",
            "Closed? 32189\n"
          ],
          "name": "stdout"
        },
        {
          "output_type": "stream",
          "text": [
            " 14%|█▍        | 484/3510 [02:03<17:58,  2.81it/s]"
          ],
          "name": "stderr"
        },
        {
          "output_type": "stream",
          "text": [
            "Closed? 59514\n"
          ],
          "name": "stdout"
        },
        {
          "output_type": "stream",
          "text": [
            " 14%|█▍        | 487/3510 [02:04<16:48,  3.00it/s]"
          ],
          "name": "stderr"
        },
        {
          "output_type": "stream",
          "text": [
            "Closed? 26480\n",
            "Closed? 63627\n"
          ],
          "name": "stdout"
        },
        {
          "output_type": "stream",
          "text": [
            " 14%|█▍        | 495/3510 [02:06<15:10,  3.31it/s]"
          ],
          "name": "stderr"
        },
        {
          "output_type": "stream",
          "text": [
            "Closed? 6689\n"
          ],
          "name": "stdout"
        },
        {
          "output_type": "stream",
          "text": [
            " 14%|█▍        | 507/3510 [02:11<19:26,  2.57it/s]"
          ],
          "name": "stderr"
        },
        {
          "output_type": "stream",
          "text": [
            "Closed? 55333\n"
          ],
          "name": "stdout"
        },
        {
          "output_type": "stream",
          "text": [
            " 15%|█▍        | 510/3510 [02:12<17:15,  2.90it/s]"
          ],
          "name": "stderr"
        },
        {
          "output_type": "stream",
          "text": [
            "Closed? 25864\n"
          ],
          "name": "stdout"
        },
        {
          "output_type": "stream",
          "text": [
            " 15%|█▍        | 513/3510 [02:12<15:17,  3.27it/s]"
          ],
          "name": "stderr"
        },
        {
          "output_type": "stream",
          "text": [
            "Closed? 7130\n"
          ],
          "name": "stdout"
        },
        {
          "output_type": "stream",
          "text": [
            "\r 15%|█▍        | 515/3510 [02:13<13:48,  3.61it/s]"
          ],
          "name": "stderr"
        },
        {
          "output_type": "stream",
          "text": [
            "Closed? 142\n"
          ],
          "name": "stdout"
        },
        {
          "output_type": "stream",
          "text": [
            " 15%|█▍        | 519/3510 [02:14<15:43,  3.17it/s]"
          ],
          "name": "stderr"
        },
        {
          "output_type": "stream",
          "text": [
            "Closed? 54299\n",
            "Closed? 4928\n"
          ],
          "name": "stdout"
        },
        {
          "output_type": "stream",
          "text": [
            " 15%|█▌        | 531/3510 [02:17<14:11,  3.50it/s]"
          ],
          "name": "stderr"
        },
        {
          "output_type": "stream",
          "text": [
            "Closed? 25154\n"
          ],
          "name": "stdout"
        },
        {
          "output_type": "stream",
          "text": [
            "\r 15%|█▌        | 533/3510 [02:17<12:30,  3.96it/s]"
          ],
          "name": "stderr"
        },
        {
          "output_type": "stream",
          "text": [
            "Closed? 5827\n"
          ],
          "name": "stdout"
        },
        {
          "output_type": "stream",
          "text": [
            " 16%|█▌        | 557/3510 [02:24<16:39,  2.96it/s]"
          ],
          "name": "stderr"
        },
        {
          "output_type": "stream",
          "text": [
            "Closed? 26471\n"
          ],
          "name": "stdout"
        },
        {
          "output_type": "stream",
          "text": [
            " 16%|█▌        | 561/3510 [02:25<14:59,  3.28it/s]"
          ],
          "name": "stderr"
        },
        {
          "output_type": "stream",
          "text": [
            "Closed? 9090\n"
          ],
          "name": "stdout"
        },
        {
          "output_type": "stream",
          "text": [
            "\r 16%|█▌        | 563/3510 [02:25<12:28,  3.94it/s]"
          ],
          "name": "stderr"
        },
        {
          "output_type": "stream",
          "text": [
            "Closed? 23227\n"
          ],
          "name": "stdout"
        },
        {
          "output_type": "stream",
          "text": [
            "\r 16%|█▌        | 565/3510 [02:26<12:05,  4.06it/s]"
          ],
          "name": "stderr"
        },
        {
          "output_type": "stream",
          "text": [
            "Closed? 29286\n"
          ],
          "name": "stdout"
        },
        {
          "output_type": "stream",
          "text": [
            " 16%|█▌        | 570/3510 [02:27<15:42,  3.12it/s]"
          ],
          "name": "stderr"
        },
        {
          "output_type": "stream",
          "text": [
            "Closed? 12640\n"
          ],
          "name": "stdout"
        },
        {
          "output_type": "stream",
          "text": [
            "\r 16%|█▋        | 572/3510 [02:28<12:44,  3.84it/s]"
          ],
          "name": "stderr"
        },
        {
          "output_type": "stream",
          "text": [
            "Closed? 18186\n"
          ],
          "name": "stdout"
        },
        {
          "output_type": "stream",
          "text": [
            " 16%|█▋        | 579/3510 [02:30<15:25,  3.17it/s]"
          ],
          "name": "stderr"
        },
        {
          "output_type": "stream",
          "text": [
            "Closed? 30534\n",
            "Closed? 59330\n"
          ],
          "name": "stdout"
        },
        {
          "output_type": "stream",
          "text": [
            " 17%|█▋        | 586/3510 [02:31<09:57,  4.90it/s]"
          ],
          "name": "stderr"
        },
        {
          "output_type": "stream",
          "text": [
            "Closed? 30183\n"
          ],
          "name": "stdout"
        },
        {
          "output_type": "stream",
          "text": [
            " 17%|█▋        | 598/3510 [02:34<11:17,  4.30it/s]"
          ],
          "name": "stderr"
        },
        {
          "output_type": "stream",
          "text": [
            "Closed? 36297\n"
          ],
          "name": "stdout"
        },
        {
          "output_type": "stream",
          "text": [
            " 17%|█▋        | 607/3510 [02:37<17:44,  2.73it/s]"
          ],
          "name": "stderr"
        },
        {
          "output_type": "stream",
          "text": [
            "Closed? 63286\n"
          ],
          "name": "stdout"
        },
        {
          "output_type": "stream",
          "text": [
            " 17%|█▋        | 610/3510 [02:38<14:37,  3.31it/s]"
          ],
          "name": "stderr"
        },
        {
          "output_type": "stream",
          "text": [
            "Closed? 23960\n"
          ],
          "name": "stdout"
        },
        {
          "output_type": "stream",
          "text": [
            " 17%|█▋        | 614/3510 [02:38<12:46,  3.78it/s]"
          ],
          "name": "stderr"
        },
        {
          "output_type": "stream",
          "text": [
            "Closed? 10895\n"
          ],
          "name": "stdout"
        },
        {
          "output_type": "stream",
          "text": [
            "\r 18%|█▊        | 616/3510 [02:39<11:28,  4.20it/s]"
          ],
          "name": "stderr"
        },
        {
          "output_type": "stream",
          "text": [
            "Closed? 6746\n"
          ],
          "name": "stdout"
        },
        {
          "output_type": "stream",
          "text": [
            " 18%|█▊        | 619/3510 [02:40<13:26,  3.58it/s]"
          ],
          "name": "stderr"
        },
        {
          "output_type": "stream",
          "text": [
            "Closed? 33011\n"
          ],
          "name": "stdout"
        },
        {
          "output_type": "stream",
          "text": [
            " 18%|█▊        | 628/3510 [02:43<18:57,  2.53it/s]"
          ],
          "name": "stderr"
        },
        {
          "output_type": "stream",
          "text": [
            "Closed? 973\n"
          ],
          "name": "stdout"
        },
        {
          "output_type": "stream",
          "text": [
            " 19%|█▊        | 654/3510 [02:51<19:02,  2.50it/s]"
          ],
          "name": "stderr"
        },
        {
          "output_type": "stream",
          "text": [
            "Closed? 20160\n"
          ],
          "name": "stdout"
        },
        {
          "output_type": "stream",
          "text": [
            " 19%|█▉        | 664/3510 [02:53<13:27,  3.52it/s]"
          ],
          "name": "stderr"
        },
        {
          "output_type": "stream",
          "text": [
            "Closed? 4695\n"
          ],
          "name": "stdout"
        },
        {
          "output_type": "stream",
          "text": [
            " 19%|█▉        | 669/3510 [02:55<15:24,  3.07it/s]"
          ],
          "name": "stderr"
        },
        {
          "output_type": "stream",
          "text": [
            "Closed? 19725\n"
          ],
          "name": "stdout"
        },
        {
          "output_type": "stream",
          "text": [
            " 19%|█▉        | 677/3510 [02:57<14:58,  3.15it/s]"
          ],
          "name": "stderr"
        },
        {
          "output_type": "stream",
          "text": [
            "Closed? 21536\n",
            "Closed? 17127\n"
          ],
          "name": "stdout"
        },
        {
          "output_type": "stream",
          "text": [
            "\r 19%|█▉        | 680/3510 [02:57<12:04,  3.91it/s]"
          ],
          "name": "stderr"
        },
        {
          "output_type": "stream",
          "text": [
            "Closed? 31023\n"
          ],
          "name": "stdout"
        },
        {
          "output_type": "stream",
          "text": [
            " 19%|█▉        | 683/3510 [02:58<10:05,  4.67it/s]"
          ],
          "name": "stderr"
        },
        {
          "output_type": "stream",
          "text": [
            "Closed? 35272\n",
            "Closed? 22536\n",
            "Closed? 4738\n"
          ],
          "name": "stdout"
        },
        {
          "output_type": "stream",
          "text": [
            " 20%|█▉        | 692/3510 [03:00<14:04,  3.34it/s]"
          ],
          "name": "stderr"
        },
        {
          "output_type": "stream",
          "text": [
            "Closed? 29357\n"
          ],
          "name": "stdout"
        },
        {
          "output_type": "stream",
          "text": [
            " 20%|█▉        | 695/3510 [03:01<14:11,  3.31it/s]"
          ],
          "name": "stderr"
        },
        {
          "output_type": "stream",
          "text": [
            "Closed? 22879\n"
          ],
          "name": "stdout"
        },
        {
          "output_type": "stream",
          "text": [
            " 20%|█▉        | 701/3510 [03:02<13:02,  3.59it/s]"
          ],
          "name": "stderr"
        },
        {
          "output_type": "stream",
          "text": [
            "Closed? 29424\n"
          ],
          "name": "stdout"
        },
        {
          "output_type": "stream",
          "text": [
            " 21%|██        | 731/3510 [03:11<15:13,  3.04it/s]"
          ],
          "name": "stderr"
        },
        {
          "output_type": "stream",
          "text": [
            "Closed? 25679\n"
          ],
          "name": "stdout"
        },
        {
          "output_type": "stream",
          "text": [
            " 21%|██▏       | 750/3510 [03:16<10:18,  4.46it/s]"
          ],
          "name": "stderr"
        },
        {
          "output_type": "stream",
          "text": [
            "Closed? 12618\n"
          ],
          "name": "stdout"
        },
        {
          "output_type": "stream",
          "text": [
            " 21%|██▏       | 754/3510 [03:17<13:53,  3.31it/s]"
          ],
          "name": "stderr"
        },
        {
          "output_type": "stream",
          "text": [
            "Closed? 9189\n"
          ],
          "name": "stdout"
        },
        {
          "output_type": "stream",
          "text": [
            "\r 22%|██▏       | 756/3510 [03:17<12:22,  3.71it/s]"
          ],
          "name": "stderr"
        },
        {
          "output_type": "stream",
          "text": [
            "Closed? 9705\n"
          ],
          "name": "stdout"
        },
        {
          "output_type": "stream",
          "text": [
            " 22%|██▏       | 780/3510 [03:25<13:27,  3.38it/s]"
          ],
          "name": "stderr"
        },
        {
          "output_type": "stream",
          "text": [
            "Closed? 25756\n"
          ],
          "name": "stdout"
        },
        {
          "output_type": "stream",
          "text": [
            " 22%|██▏       | 784/3510 [03:26<11:59,  3.79it/s]"
          ],
          "name": "stderr"
        },
        {
          "output_type": "stream",
          "text": [
            "Closed? 55177\n",
            "Closed? 12353\n"
          ],
          "name": "stdout"
        },
        {
          "output_type": "stream",
          "text": [
            " 22%|██▏       | 788/3510 [03:26<10:44,  4.22it/s]"
          ],
          "name": "stderr"
        },
        {
          "output_type": "stream",
          "text": [
            "Closed? 34951\n"
          ],
          "name": "stdout"
        },
        {
          "output_type": "stream",
          "text": [
            " 23%|██▎       | 802/3510 [03:30<11:32,  3.91it/s]"
          ],
          "name": "stderr"
        },
        {
          "output_type": "stream",
          "text": [
            "Closed? 3272\n",
            "Closed? 19572\n"
          ],
          "name": "stdout"
        },
        {
          "output_type": "stream",
          "text": [
            " 23%|██▎       | 805/3510 [03:31<12:31,  3.60it/s]"
          ],
          "name": "stderr"
        },
        {
          "output_type": "stream",
          "text": [
            "Closed? 58746\n"
          ],
          "name": "stdout"
        },
        {
          "output_type": "stream",
          "text": [
            " 23%|██▎       | 811/3510 [03:32<13:09,  3.42it/s]"
          ],
          "name": "stderr"
        },
        {
          "output_type": "stream",
          "text": [
            "Closed? 32656\n"
          ],
          "name": "stdout"
        },
        {
          "output_type": "stream",
          "text": [
            " 23%|██▎       | 819/3510 [03:34<13:37,  3.29it/s]"
          ],
          "name": "stderr"
        },
        {
          "output_type": "stream",
          "text": [
            "Closed? 31563\n"
          ],
          "name": "stdout"
        },
        {
          "output_type": "stream",
          "text": [
            " 23%|██▎       | 822/3510 [03:35<11:47,  3.80it/s]"
          ],
          "name": "stderr"
        },
        {
          "output_type": "stream",
          "text": [
            "Closed? 36916\n"
          ],
          "name": "stdout"
        },
        {
          "output_type": "stream",
          "text": [
            " 24%|██▎       | 830/3510 [03:37<09:37,  4.64it/s]"
          ],
          "name": "stderr"
        },
        {
          "output_type": "stream",
          "text": [
            "Closed? 20629\n"
          ],
          "name": "stdout"
        },
        {
          "output_type": "stream",
          "text": [
            " 24%|██▎       | 833/3510 [03:38<12:32,  3.56it/s]"
          ],
          "name": "stderr"
        },
        {
          "output_type": "stream",
          "text": [
            "Closed? 61232\n",
            "Closed? 7707\n"
          ],
          "name": "stdout"
        },
        {
          "output_type": "stream",
          "text": [
            " 24%|██▍       | 841/3510 [03:40<13:59,  3.18it/s]"
          ],
          "name": "stderr"
        },
        {
          "output_type": "stream",
          "text": [
            "Closed? 22167\n",
            "Closed? 2539\n"
          ],
          "name": "stdout"
        },
        {
          "output_type": "stream",
          "text": [
            " 24%|██▍       | 859/3510 [03:44<11:25,  3.87it/s]"
          ],
          "name": "stderr"
        },
        {
          "output_type": "stream",
          "text": [
            "Closed? 24819\n"
          ],
          "name": "stdout"
        },
        {
          "output_type": "stream",
          "text": [
            " 25%|██▍       | 867/3510 [03:47<16:44,  2.63it/s]"
          ],
          "name": "stderr"
        },
        {
          "output_type": "stream",
          "text": [
            "Closed? 24013\n"
          ],
          "name": "stdout"
        },
        {
          "output_type": "stream",
          "text": [
            " 25%|██▍       | 872/3510 [03:48<12:12,  3.60it/s]"
          ],
          "name": "stderr"
        },
        {
          "output_type": "stream",
          "text": [
            "Closed? 32477\n",
            "Closed? 32887\n"
          ],
          "name": "stdout"
        },
        {
          "output_type": "stream",
          "text": [
            " 25%|██▍       | 876/3510 [03:49<10:45,  4.08it/s]"
          ],
          "name": "stderr"
        },
        {
          "output_type": "stream",
          "text": [
            "Closed? 27007\n",
            "Closed? 59024\n"
          ],
          "name": "stdout"
        },
        {
          "output_type": "stream",
          "text": [
            " 26%|██▌       | 900/3510 [03:56<17:05,  2.55it/s]"
          ],
          "name": "stderr"
        },
        {
          "output_type": "stream",
          "text": [
            "Closed? 35843\n"
          ],
          "name": "stdout"
        },
        {
          "output_type": "stream",
          "text": [
            " 26%|██▌       | 921/3510 [04:03<13:26,  3.21it/s]"
          ],
          "name": "stderr"
        },
        {
          "output_type": "stream",
          "text": [
            "Closed? 14667\n"
          ],
          "name": "stdout"
        },
        {
          "output_type": "stream",
          "text": [
            "\r 26%|██▋       | 923/3510 [04:03<11:53,  3.62it/s]"
          ],
          "name": "stderr"
        },
        {
          "output_type": "stream",
          "text": [
            "Closed? 18964\n"
          ],
          "name": "stdout"
        },
        {
          "output_type": "stream",
          "text": [
            " 27%|██▋       | 941/3510 [04:09<13:37,  3.14it/s]"
          ],
          "name": "stderr"
        },
        {
          "output_type": "stream",
          "text": [
            "Closed? 9270\n"
          ],
          "name": "stdout"
        },
        {
          "output_type": "stream",
          "text": [
            " 27%|██▋       | 952/3510 [04:12<10:17,  4.14it/s]"
          ],
          "name": "stderr"
        },
        {
          "output_type": "stream",
          "text": [
            "Closed? 18528\n"
          ],
          "name": "stdout"
        },
        {
          "output_type": "stream",
          "text": [
            " 27%|██▋       | 963/3510 [04:14<10:38,  3.99it/s]"
          ],
          "name": "stderr"
        },
        {
          "output_type": "stream",
          "text": [
            "Closed? 25718\n"
          ],
          "name": "stdout"
        },
        {
          "output_type": "stream",
          "text": [
            " 28%|██▊       | 971/3510 [04:17<13:37,  3.10it/s]"
          ],
          "name": "stderr"
        },
        {
          "output_type": "stream",
          "text": [
            "Closed? 63115\n"
          ],
          "name": "stdout"
        },
        {
          "output_type": "stream",
          "text": [
            " 28%|██▊       | 990/3510 [04:23<13:56,  3.01it/s]"
          ],
          "name": "stderr"
        },
        {
          "output_type": "stream",
          "text": [
            "Closed? 27647\n"
          ],
          "name": "stdout"
        },
        {
          "output_type": "stream",
          "text": [
            " 28%|██▊       | 996/3510 [04:24<10:19,  4.06it/s]"
          ],
          "name": "stderr"
        },
        {
          "output_type": "stream",
          "text": [
            "Closed? 33429\n"
          ],
          "name": "stdout"
        },
        {
          "output_type": "stream",
          "text": [
            " 28%|██▊       | 1000/3510 [04:26<12:26,  3.36it/s]"
          ],
          "name": "stderr"
        },
        {
          "output_type": "stream",
          "text": [
            "Closed? 34004\n"
          ],
          "name": "stdout"
        },
        {
          "output_type": "stream",
          "text": [
            " 29%|██▊       | 1005/3510 [04:27<12:57,  3.22it/s]"
          ],
          "name": "stderr"
        },
        {
          "output_type": "stream",
          "text": [
            "Closed? 24851\n"
          ],
          "name": "stdout"
        },
        {
          "output_type": "stream",
          "text": [
            " 29%|██▉       | 1011/3510 [04:29<12:28,  3.34it/s]"
          ],
          "name": "stderr"
        },
        {
          "output_type": "stream",
          "text": [
            "Closed? 60913\n",
            "Closed? 23917\n"
          ],
          "name": "stdout"
        },
        {
          "output_type": "stream",
          "text": [
            " 29%|██▉       | 1018/3510 [04:30<13:24,  3.10it/s]"
          ],
          "name": "stderr"
        },
        {
          "output_type": "stream",
          "text": [
            "Closed? 12129\n"
          ],
          "name": "stdout"
        },
        {
          "output_type": "stream",
          "text": [
            " 29%|██▉       | 1026/3510 [04:33<13:50,  2.99it/s]"
          ],
          "name": "stderr"
        },
        {
          "output_type": "stream",
          "text": [
            "Closed? 8051\n"
          ],
          "name": "stdout"
        },
        {
          "output_type": "stream",
          "text": [
            " 29%|██▉       | 1031/3510 [04:34<12:03,  3.43it/s]"
          ],
          "name": "stderr"
        },
        {
          "output_type": "stream",
          "text": [
            "Closed? 8806\n"
          ],
          "name": "stdout"
        },
        {
          "output_type": "stream",
          "text": [
            "\r 29%|██▉       | 1033/3510 [04:35<11:11,  3.69it/s]"
          ],
          "name": "stderr"
        },
        {
          "output_type": "stream",
          "text": [
            "Closed? 15846\n",
            "Closed? 54861\n"
          ],
          "name": "stdout"
        },
        {
          "output_type": "stream",
          "text": [
            " 30%|██▉       | 1037/3510 [04:35<10:03,  4.10it/s]"
          ],
          "name": "stderr"
        },
        {
          "output_type": "stream",
          "text": [
            "Closed? 2124\n"
          ],
          "name": "stdout"
        },
        {
          "output_type": "stream",
          "text": [
            " 30%|██▉       | 1045/3510 [04:38<14:54,  2.76it/s]"
          ],
          "name": "stderr"
        },
        {
          "output_type": "stream",
          "text": [
            "Closed? 15291\n"
          ],
          "name": "stdout"
        },
        {
          "output_type": "stream",
          "text": [
            " 30%|██▉       | 1051/3510 [04:39<11:26,  3.58it/s]"
          ],
          "name": "stderr"
        },
        {
          "output_type": "stream",
          "text": [
            "Closed? 62936\n"
          ],
          "name": "stdout"
        },
        {
          "output_type": "stream",
          "text": [
            " 30%|███       | 1062/3510 [04:42<13:24,  3.04it/s]"
          ],
          "name": "stderr"
        },
        {
          "output_type": "stream",
          "text": [
            "Closed? 31568\n"
          ],
          "name": "stdout"
        },
        {
          "output_type": "stream",
          "text": [
            "\r 30%|███       | 1064/3510 [04:42<10:38,  3.83it/s]"
          ],
          "name": "stderr"
        },
        {
          "output_type": "stream",
          "text": [
            "Closed? 31619\n"
          ],
          "name": "stdout"
        },
        {
          "output_type": "stream",
          "text": [
            " 31%|███       | 1077/3510 [04:46<12:11,  3.33it/s]"
          ],
          "name": "stderr"
        },
        {
          "output_type": "stream",
          "text": [
            "Closed? 1255\n"
          ],
          "name": "stdout"
        },
        {
          "output_type": "stream",
          "text": [
            " 31%|███       | 1086/3510 [04:49<12:35,  3.21it/s]"
          ],
          "name": "stderr"
        },
        {
          "output_type": "stream",
          "text": [
            "Closed? 3219\n",
            "Closed? 60793\n"
          ],
          "name": "stdout"
        },
        {
          "output_type": "stream",
          "text": [
            " 31%|███       | 1096/3510 [04:51<10:29,  3.84it/s]"
          ],
          "name": "stderr"
        },
        {
          "output_type": "stream",
          "text": [
            "Closed? 14651\n"
          ],
          "name": "stdout"
        },
        {
          "output_type": "stream",
          "text": [
            " 32%|███▏      | 1123/3510 [04:59<10:55,  3.64it/s]"
          ],
          "name": "stderr"
        },
        {
          "output_type": "stream",
          "text": [
            "Closed? 62494\n",
            "Closed? 643\n"
          ],
          "name": "stdout"
        },
        {
          "output_type": "stream",
          "text": [
            " 32%|███▏      | 1134/3510 [05:01<09:01,  4.39it/s]"
          ],
          "name": "stderr"
        },
        {
          "output_type": "stream",
          "text": [
            "Closed? 30180\n",
            "Closed? 959\n",
            "Closed? 26541\n"
          ],
          "name": "stdout"
        },
        {
          "output_type": "stream",
          "text": [
            " 33%|███▎      | 1141/3510 [05:03<10:18,  3.83it/s]"
          ],
          "name": "stderr"
        },
        {
          "output_type": "stream",
          "text": [
            "Closed? 27217\n"
          ],
          "name": "stdout"
        },
        {
          "output_type": "stream",
          "text": [
            " 33%|███▎      | 1147/3510 [05:04<12:19,  3.19it/s]"
          ],
          "name": "stderr"
        },
        {
          "output_type": "stream",
          "text": [
            "Closed? 5004\n"
          ],
          "name": "stdout"
        },
        {
          "output_type": "stream",
          "text": [
            " 33%|███▎      | 1154/3510 [05:05<07:53,  4.98it/s]"
          ],
          "name": "stderr"
        },
        {
          "output_type": "stream",
          "text": [
            "Closed? 29878\n"
          ],
          "name": "stdout"
        },
        {
          "output_type": "stream",
          "text": [
            " 33%|███▎      | 1157/3510 [05:06<08:05,  4.84it/s]"
          ],
          "name": "stderr"
        },
        {
          "output_type": "stream",
          "text": [
            "Closed? 60846\n"
          ],
          "name": "stdout"
        },
        {
          "output_type": "stream",
          "text": [
            " 33%|███▎      | 1167/3510 [05:09<15:47,  2.47it/s]"
          ],
          "name": "stderr"
        },
        {
          "output_type": "stream",
          "text": [
            "Closed? 59335\n"
          ],
          "name": "stdout"
        },
        {
          "output_type": "stream",
          "text": [
            " 33%|███▎      | 1170/3510 [05:10<12:04,  3.23it/s]"
          ],
          "name": "stderr"
        },
        {
          "output_type": "stream",
          "text": [
            "Closed? 7896\n"
          ],
          "name": "stdout"
        },
        {
          "output_type": "stream",
          "text": [
            " 34%|███▍      | 1189/3510 [05:16<13:00,  2.97it/s]"
          ],
          "name": "stderr"
        },
        {
          "output_type": "stream",
          "text": [
            "Closed? 10064\n",
            "Closed? 56555\n"
          ],
          "name": "stdout"
        },
        {
          "output_type": "stream",
          "text": [
            " 34%|███▍      | 1194/3510 [05:17<11:52,  3.25it/s]"
          ],
          "name": "stderr"
        },
        {
          "output_type": "stream",
          "text": [
            "Closed? 21784\n"
          ],
          "name": "stdout"
        },
        {
          "output_type": "stream",
          "text": [
            " 34%|███▍      | 1199/3510 [05:18<12:54,  2.98it/s]"
          ],
          "name": "stderr"
        },
        {
          "output_type": "stream",
          "text": [
            "Closed? 62666\n"
          ],
          "name": "stdout"
        },
        {
          "output_type": "stream",
          "text": [
            " 34%|███▍      | 1203/3510 [05:19<12:06,  3.17it/s]"
          ],
          "name": "stderr"
        },
        {
          "output_type": "stream",
          "text": [
            "Closed? 54876\n"
          ],
          "name": "stdout"
        },
        {
          "output_type": "stream",
          "text": [
            " 34%|███▍      | 1206/3510 [05:20<09:55,  3.87it/s]"
          ],
          "name": "stderr"
        },
        {
          "output_type": "stream",
          "text": [
            "Closed? 57156\n"
          ],
          "name": "stdout"
        },
        {
          "output_type": "stream",
          "text": [
            "\r 34%|███▍      | 1208/3510 [05:20<08:44,  4.39it/s]"
          ],
          "name": "stderr"
        },
        {
          "output_type": "stream",
          "text": [
            "Closed? 61685\n"
          ],
          "name": "stdout"
        },
        {
          "output_type": "stream",
          "text": [
            " 35%|███▍      | 1211/3510 [05:21<07:51,  4.87it/s]"
          ],
          "name": "stderr"
        },
        {
          "output_type": "stream",
          "text": [
            "Closed? 34837\n"
          ],
          "name": "stdout"
        },
        {
          "output_type": "stream",
          "text": [
            "\r 35%|███▍      | 1213/3510 [05:21<06:57,  5.50it/s]"
          ],
          "name": "stderr"
        },
        {
          "output_type": "stream",
          "text": [
            "Closed? 4497\n"
          ],
          "name": "stdout"
        },
        {
          "output_type": "stream",
          "text": [
            " 35%|███▍      | 1224/3510 [05:24<11:17,  3.37it/s]"
          ],
          "name": "stderr"
        },
        {
          "output_type": "stream",
          "text": [
            "Closed? 3859\n",
            "Closed? 25092\n"
          ],
          "name": "stdout"
        },
        {
          "output_type": "stream",
          "text": [
            " 35%|███▌      | 1238/3510 [05:27<11:30,  3.29it/s]"
          ],
          "name": "stderr"
        },
        {
          "output_type": "stream",
          "text": [
            "Closed? 29796\n"
          ],
          "name": "stdout"
        },
        {
          "output_type": "stream",
          "text": [
            " 36%|███▌      | 1252/3510 [05:31<09:58,  3.77it/s]"
          ],
          "name": "stderr"
        },
        {
          "output_type": "stream",
          "text": [
            "Closed? 6089\n",
            "Closed? 25410\n"
          ],
          "name": "stdout"
        },
        {
          "output_type": "stream",
          "text": [
            " 36%|███▌      | 1254/3510 [05:32<09:52,  3.81it/s]"
          ],
          "name": "stderr"
        },
        {
          "output_type": "stream",
          "text": [
            "Closed? 8808\n"
          ],
          "name": "stdout"
        },
        {
          "output_type": "stream",
          "text": [
            " 36%|███▌      | 1261/3510 [05:34<12:35,  2.98it/s]"
          ],
          "name": "stderr"
        },
        {
          "output_type": "stream",
          "text": [
            "Closed? 56501\n"
          ],
          "name": "stdout"
        },
        {
          "output_type": "stream",
          "text": [
            " 36%|███▋      | 1273/3510 [05:37<13:34,  2.75it/s]"
          ],
          "name": "stderr"
        },
        {
          "output_type": "stream",
          "text": [
            "Closed? 57863\n"
          ],
          "name": "stdout"
        },
        {
          "output_type": "stream",
          "text": [
            " 36%|███▋      | 1276/3510 [05:38<13:07,  2.84it/s]"
          ],
          "name": "stderr"
        },
        {
          "output_type": "stream",
          "text": [
            "Closed? 53270\n"
          ],
          "name": "stdout"
        },
        {
          "output_type": "stream",
          "text": [
            " 36%|███▋      | 1281/3510 [05:39<12:07,  3.06it/s]"
          ],
          "name": "stderr"
        },
        {
          "output_type": "stream",
          "text": [
            "Closed? 36317\n",
            "Closed? 30236\n",
            "Closed? 3759\n"
          ],
          "name": "stdout"
        },
        {
          "output_type": "stream",
          "text": [
            " 37%|███▋      | 1296/3510 [05:43<11:42,  3.15it/s]"
          ],
          "name": "stderr"
        },
        {
          "output_type": "stream",
          "text": [
            "Closed? 19002\n"
          ],
          "name": "stdout"
        },
        {
          "output_type": "stream",
          "text": [
            "\r 37%|███▋      | 1298/3510 [05:44<10:40,  3.46it/s]"
          ],
          "name": "stderr"
        },
        {
          "output_type": "stream",
          "text": [
            "Closed? 62629\n"
          ],
          "name": "stdout"
        },
        {
          "output_type": "stream",
          "text": [
            " 37%|███▋      | 1312/3510 [05:48<11:16,  3.25it/s]"
          ],
          "name": "stderr"
        },
        {
          "output_type": "stream",
          "text": [
            "Closed? 23337\n",
            "Closed? 34313\n"
          ],
          "name": "stdout"
        },
        {
          "output_type": "stream",
          "text": [
            " 38%|███▊      | 1317/3510 [05:48<07:14,  5.05it/s]"
          ],
          "name": "stderr"
        },
        {
          "output_type": "stream",
          "text": [
            "Closed? 30656\n"
          ],
          "name": "stdout"
        },
        {
          "output_type": "stream",
          "text": [
            " 38%|███▊      | 1323/3510 [05:49<07:10,  5.08it/s]"
          ],
          "name": "stderr"
        },
        {
          "output_type": "stream",
          "text": [
            "Closed? 33064\n"
          ],
          "name": "stdout"
        },
        {
          "output_type": "stream",
          "text": [
            " 38%|███▊      | 1326/3510 [05:50<09:13,  3.95it/s]"
          ],
          "name": "stderr"
        },
        {
          "output_type": "stream",
          "text": [
            "Closed? 5467\n"
          ],
          "name": "stdout"
        },
        {
          "output_type": "stream",
          "text": [
            " 38%|███▊      | 1338/3510 [05:53<08:44,  4.14it/s]"
          ],
          "name": "stderr"
        },
        {
          "output_type": "stream",
          "text": [
            "Closed? 53492\n"
          ],
          "name": "stdout"
        },
        {
          "output_type": "stream",
          "text": [
            " 38%|███▊      | 1345/3510 [05:55<09:12,  3.92it/s]"
          ],
          "name": "stderr"
        },
        {
          "output_type": "stream",
          "text": [
            "Closed? 61812\n"
          ],
          "name": "stdout"
        },
        {
          "output_type": "stream",
          "text": [
            " 38%|███▊      | 1349/3510 [05:56<09:16,  3.88it/s]"
          ],
          "name": "stderr"
        },
        {
          "output_type": "stream",
          "text": [
            "Closed? 26258\n",
            "Closed? 59492\n",
            "Closed? 21240\n"
          ],
          "name": "stdout"
        },
        {
          "output_type": "stream",
          "text": [
            " 39%|███▉      | 1373/3510 [06:04<11:51,  3.00it/s]"
          ],
          "name": "stderr"
        },
        {
          "output_type": "stream",
          "text": [
            "Closed? 27785\n",
            "Closed? 25758\n",
            "Closed? 23596\n"
          ],
          "name": "stdout"
        },
        {
          "output_type": "stream",
          "text": [
            " 39%|███▉      | 1378/3510 [06:04<10:31,  3.38it/s]"
          ],
          "name": "stderr"
        },
        {
          "output_type": "stream",
          "text": [
            "Closed? 6474\n"
          ],
          "name": "stdout"
        },
        {
          "output_type": "stream",
          "text": [
            " 39%|███▉      | 1385/3510 [06:06<08:45,  4.04it/s]"
          ],
          "name": "stderr"
        },
        {
          "output_type": "stream",
          "text": [
            "Closed? 17243\n"
          ],
          "name": "stdout"
        },
        {
          "output_type": "stream",
          "text": [
            " 40%|███▉      | 1391/3510 [06:08<10:33,  3.34it/s]"
          ],
          "name": "stderr"
        },
        {
          "output_type": "stream",
          "text": [
            "Closed? 6665\n"
          ],
          "name": "stdout"
        },
        {
          "output_type": "stream",
          "text": [
            " 40%|████      | 1410/3510 [06:13<11:39,  3.00it/s]"
          ],
          "name": "stderr"
        },
        {
          "output_type": "stream",
          "text": [
            "Closed? 23183\n"
          ],
          "name": "stdout"
        },
        {
          "output_type": "stream",
          "text": [
            " 41%|████      | 1423/3510 [06:16<08:53,  3.91it/s]"
          ],
          "name": "stderr"
        },
        {
          "output_type": "stream",
          "text": [
            "Closed? 13946\n"
          ],
          "name": "stdout"
        },
        {
          "output_type": "stream",
          "text": [
            " 41%|████      | 1427/3510 [06:17<09:25,  3.68it/s]"
          ],
          "name": "stderr"
        },
        {
          "output_type": "stream",
          "text": [
            "Closed? 2090\n"
          ],
          "name": "stdout"
        },
        {
          "output_type": "stream",
          "text": [
            " 41%|████▏     | 1451/3510 [06:25<14:36,  2.35it/s]"
          ],
          "name": "stderr"
        },
        {
          "output_type": "stream",
          "text": [
            "Closed? 30834\n"
          ],
          "name": "stdout"
        },
        {
          "output_type": "stream",
          "text": [
            " 41%|████▏     | 1454/3510 [06:26<11:20,  3.02it/s]"
          ],
          "name": "stderr"
        },
        {
          "output_type": "stream",
          "text": [
            "Closed? 1205\n"
          ],
          "name": "stdout"
        },
        {
          "output_type": "stream",
          "text": [
            " 42%|████▏     | 1457/3510 [06:26<08:54,  3.84it/s]"
          ],
          "name": "stderr"
        },
        {
          "output_type": "stream",
          "text": [
            "Closed? 61025\n"
          ],
          "name": "stdout"
        },
        {
          "output_type": "stream",
          "text": [
            " 42%|████▏     | 1461/3510 [06:27<09:40,  3.53it/s]"
          ],
          "name": "stderr"
        },
        {
          "output_type": "stream",
          "text": [
            "Closed? 17597\n"
          ],
          "name": "stdout"
        },
        {
          "output_type": "stream",
          "text": [
            " 42%|████▏     | 1470/3510 [06:30<11:14,  3.02it/s]"
          ],
          "name": "stderr"
        },
        {
          "output_type": "stream",
          "text": [
            "Closed? 61773\n"
          ],
          "name": "stdout"
        },
        {
          "output_type": "stream",
          "text": [
            " 42%|████▏     | 1476/3510 [06:32<09:41,  3.50it/s]"
          ],
          "name": "stderr"
        },
        {
          "output_type": "stream",
          "text": [
            "Closed? 422\n"
          ],
          "name": "stdout"
        },
        {
          "output_type": "stream",
          "text": [
            " 42%|████▏     | 1479/3510 [06:33<11:01,  3.07it/s]"
          ],
          "name": "stderr"
        },
        {
          "output_type": "stream",
          "text": [
            "Closed? 26370\n",
            "Closed? 56724\n"
          ],
          "name": "stdout"
        },
        {
          "output_type": "stream",
          "text": [
            " 42%|████▏     | 1487/3510 [06:34<07:37,  4.42it/s]"
          ],
          "name": "stderr"
        },
        {
          "output_type": "stream",
          "text": [
            "Closed? 34278\n"
          ],
          "name": "stdout"
        },
        {
          "output_type": "stream",
          "text": [
            " 42%|████▏     | 1489/3510 [06:35<08:37,  3.91it/s]"
          ],
          "name": "stderr"
        },
        {
          "output_type": "stream",
          "text": [
            "Closed? 59940\n"
          ],
          "name": "stdout"
        },
        {
          "output_type": "stream",
          "text": [
            " 43%|████▎     | 1500/3510 [06:38<12:56,  2.59it/s]"
          ],
          "name": "stderr"
        },
        {
          "output_type": "stream",
          "text": [
            "Closed? 25865\n"
          ],
          "name": "stdout"
        },
        {
          "output_type": "stream",
          "text": [
            " 43%|████▎     | 1506/3510 [06:39<07:31,  4.44it/s]"
          ],
          "name": "stderr"
        },
        {
          "output_type": "stream",
          "text": [
            "Closed? 11724\n",
            "Closed? 24219\n",
            "Closed? 53605\n"
          ],
          "name": "stdout"
        },
        {
          "output_type": "stream",
          "text": [
            " 43%|████▎     | 1509/3510 [06:39<07:42,  4.33it/s]"
          ],
          "name": "stderr"
        },
        {
          "output_type": "stream",
          "text": [
            "Closed? 31210\n"
          ],
          "name": "stdout"
        },
        {
          "output_type": "stream",
          "text": [
            "\r 43%|████▎     | 1511/3510 [06:40<06:28,  5.15it/s]"
          ],
          "name": "stderr"
        },
        {
          "output_type": "stream",
          "text": [
            "Closed? 15958\n",
            "Closed? 16438\n"
          ],
          "name": "stdout"
        },
        {
          "output_type": "stream",
          "text": [
            " 43%|████▎     | 1521/3510 [06:42<09:31,  3.48it/s]"
          ],
          "name": "stderr"
        },
        {
          "output_type": "stream",
          "text": [
            "Closed? 28827\n"
          ],
          "name": "stdout"
        },
        {
          "output_type": "stream",
          "text": [
            " 44%|████▎     | 1533/3510 [06:45<08:57,  3.68it/s]"
          ],
          "name": "stderr"
        },
        {
          "output_type": "stream",
          "text": [
            "Closed? 24238\n"
          ],
          "name": "stdout"
        },
        {
          "output_type": "stream",
          "text": [
            " 44%|████▍     | 1544/3510 [06:48<08:42,  3.76it/s]"
          ],
          "name": "stderr"
        },
        {
          "output_type": "stream",
          "text": [
            "Closed? 10087\n",
            "Closed? 60028\n"
          ],
          "name": "stdout"
        },
        {
          "output_type": "stream",
          "text": [
            " 44%|████▍     | 1549/3510 [06:49<09:26,  3.46it/s]"
          ],
          "name": "stderr"
        },
        {
          "output_type": "stream",
          "text": [
            "Closed? 57749\n"
          ],
          "name": "stdout"
        },
        {
          "output_type": "stream",
          "text": [
            " 44%|████▍     | 1552/3510 [06:50<07:23,  4.42it/s]"
          ],
          "name": "stderr"
        },
        {
          "output_type": "stream",
          "text": [
            "Closed? 53640\n"
          ],
          "name": "stdout"
        },
        {
          "output_type": "stream",
          "text": [
            " 44%|████▍     | 1557/3510 [06:51<09:27,  3.44it/s]"
          ],
          "name": "stderr"
        },
        {
          "output_type": "stream",
          "text": [
            "Closed? 12204\n"
          ],
          "name": "stdout"
        },
        {
          "output_type": "stream",
          "text": [
            " 45%|████▍     | 1566/3510 [06:54<10:19,  3.14it/s]"
          ],
          "name": "stderr"
        },
        {
          "output_type": "stream",
          "text": [
            "Closed? 36359\n",
            "Closed? 15350\n"
          ],
          "name": "stdout"
        },
        {
          "output_type": "stream",
          "text": [
            " 45%|████▍     | 1577/3510 [06:57<12:07,  2.66it/s]"
          ],
          "name": "stderr"
        },
        {
          "output_type": "stream",
          "text": [
            "Closed? 30752\n"
          ],
          "name": "stdout"
        },
        {
          "output_type": "stream",
          "text": [
            " 45%|████▌     | 1581/3510 [06:57<10:08,  3.17it/s]"
          ],
          "name": "stderr"
        },
        {
          "output_type": "stream",
          "text": [
            "Closed? 9807\n"
          ],
          "name": "stdout"
        },
        {
          "output_type": "stream",
          "text": [
            " 45%|████▌     | 1587/3510 [06:59<08:49,  3.63it/s]"
          ],
          "name": "stderr"
        },
        {
          "output_type": "stream",
          "text": [
            "Closed? 27658\n"
          ],
          "name": "stdout"
        },
        {
          "output_type": "stream",
          "text": [
            " 45%|████▌     | 1597/3510 [07:02<09:28,  3.36it/s]"
          ],
          "name": "stderr"
        },
        {
          "output_type": "stream",
          "text": [
            "Closed? 15519\n"
          ],
          "name": "stdout"
        },
        {
          "output_type": "stream",
          "text": [
            " 46%|████▌     | 1603/3510 [07:04<10:16,  3.09it/s]"
          ],
          "name": "stderr"
        },
        {
          "output_type": "stream",
          "text": [
            "Closed? 388\n"
          ],
          "name": "stdout"
        },
        {
          "output_type": "stream",
          "text": [
            " 46%|████▌     | 1613/3510 [07:07<10:32,  3.00it/s]"
          ],
          "name": "stderr"
        },
        {
          "output_type": "stream",
          "text": [
            "Closed? 30023\n",
            "Closed? 30942\n"
          ],
          "name": "stdout"
        },
        {
          "output_type": "stream",
          "text": [
            " 46%|████▌     | 1617/3510 [07:08<09:38,  3.27it/s]"
          ],
          "name": "stderr"
        },
        {
          "output_type": "stream",
          "text": [
            "Closed? 33649\n"
          ],
          "name": "stdout"
        },
        {
          "output_type": "stream",
          "text": [
            "\r 46%|████▌     | 1619/3510 [07:08<08:17,  3.80it/s]"
          ],
          "name": "stderr"
        },
        {
          "output_type": "stream",
          "text": [
            "Closed? 2382\n"
          ],
          "name": "stdout"
        },
        {
          "output_type": "stream",
          "text": [
            " 46%|████▌     | 1623/3510 [07:10<09:38,  3.26it/s]"
          ],
          "name": "stderr"
        },
        {
          "output_type": "stream",
          "text": [
            "Closed? 14122\n"
          ],
          "name": "stdout"
        },
        {
          "output_type": "stream",
          "text": [
            " 46%|████▋     | 1627/3510 [07:11<11:20,  2.77it/s]"
          ],
          "name": "stderr"
        },
        {
          "output_type": "stream",
          "text": [
            "Closed? 54850\n"
          ],
          "name": "stdout"
        },
        {
          "output_type": "stream",
          "text": [
            " 46%|████▋     | 1631/3510 [07:12<09:13,  3.39it/s]"
          ],
          "name": "stderr"
        },
        {
          "output_type": "stream",
          "text": [
            "Closed? 10424\n"
          ],
          "name": "stdout"
        },
        {
          "output_type": "stream",
          "text": [
            " 47%|████▋     | 1636/3510 [07:13<09:30,  3.28it/s]"
          ],
          "name": "stderr"
        },
        {
          "output_type": "stream",
          "text": [
            "Closed? 29395\n"
          ],
          "name": "stdout"
        },
        {
          "output_type": "stream",
          "text": [
            " 47%|████▋     | 1646/3510 [07:16<08:43,  3.56it/s]"
          ],
          "name": "stderr"
        },
        {
          "output_type": "stream",
          "text": [
            "Closed? 35701\n"
          ],
          "name": "stdout"
        },
        {
          "output_type": "stream",
          "text": [
            " 48%|████▊     | 1669/3510 [07:24<10:34,  2.90it/s]"
          ],
          "name": "stderr"
        },
        {
          "output_type": "stream",
          "text": [
            "Closed? 27188\n"
          ],
          "name": "stdout"
        },
        {
          "output_type": "stream",
          "text": [
            " 48%|████▊     | 1686/3510 [07:30<08:58,  3.39it/s]"
          ],
          "name": "stderr"
        },
        {
          "output_type": "stream",
          "text": [
            "Closed? 36064\n"
          ],
          "name": "stdout"
        },
        {
          "output_type": "stream",
          "text": [
            " 48%|████▊     | 1690/3510 [07:31<09:07,  3.32it/s]"
          ],
          "name": "stderr"
        },
        {
          "output_type": "stream",
          "text": [
            "Closed? 21523\n"
          ],
          "name": "stdout"
        },
        {
          "output_type": "stream",
          "text": [
            " 48%|████▊     | 1699/3510 [07:33<10:25,  2.90it/s]"
          ],
          "name": "stderr"
        },
        {
          "output_type": "stream",
          "text": [
            "Closed? 11527\n"
          ],
          "name": "stdout"
        },
        {
          "output_type": "stream",
          "text": [
            " 49%|████▊     | 1705/3510 [07:35<10:05,  2.98it/s]"
          ],
          "name": "stderr"
        },
        {
          "output_type": "stream",
          "text": [
            "Closed? 7565\n"
          ],
          "name": "stdout"
        },
        {
          "output_type": "stream",
          "text": [
            " 49%|████▉     | 1716/3510 [07:38<08:03,  3.71it/s]"
          ],
          "name": "stderr"
        },
        {
          "output_type": "stream",
          "text": [
            "Closed? 25935\n"
          ],
          "name": "stdout"
        },
        {
          "output_type": "stream",
          "text": [
            " 49%|████▉     | 1729/3510 [07:43<11:23,  2.60it/s]"
          ],
          "name": "stderr"
        },
        {
          "output_type": "stream",
          "text": [
            "Closed? 62058\n"
          ],
          "name": "stdout"
        },
        {
          "output_type": "stream",
          "text": [
            " 49%|████▉     | 1734/3510 [07:44<11:00,  2.69it/s]"
          ],
          "name": "stderr"
        },
        {
          "output_type": "stream",
          "text": [
            "Closed? 12989\n"
          ],
          "name": "stdout"
        },
        {
          "output_type": "stream",
          "text": [
            " 50%|████▉     | 1743/3510 [07:46<06:23,  4.61it/s]"
          ],
          "name": "stderr"
        },
        {
          "output_type": "stream",
          "text": [
            "Closed? 23841\n",
            "Closed? 2886\n"
          ],
          "name": "stdout"
        },
        {
          "output_type": "stream",
          "text": [
            " 50%|████▉     | 1745/3510 [07:47<06:29,  4.54it/s]"
          ],
          "name": "stderr"
        },
        {
          "output_type": "stream",
          "text": [
            "Closed? 20173\n"
          ],
          "name": "stdout"
        },
        {
          "output_type": "stream",
          "text": [
            "\r 50%|████▉     | 1747/3510 [07:47<06:10,  4.76it/s]"
          ],
          "name": "stderr"
        },
        {
          "output_type": "stream",
          "text": [
            "Closed? 60807\n"
          ],
          "name": "stdout"
        },
        {
          "output_type": "stream",
          "text": [
            " 50%|█████     | 1761/3510 [07:52<11:27,  2.55it/s]"
          ],
          "name": "stderr"
        },
        {
          "output_type": "stream",
          "text": [
            "Closed? 27641\n"
          ],
          "name": "stdout"
        },
        {
          "output_type": "stream",
          "text": [
            " 50%|█████     | 1768/3510 [07:53<06:55,  4.19it/s]"
          ],
          "name": "stderr"
        },
        {
          "output_type": "stream",
          "text": [
            "Closed? 9208\n",
            "Closed? 58771\n"
          ],
          "name": "stdout"
        },
        {
          "output_type": "stream",
          "text": [
            " 50%|█████     | 1772/3510 [07:54<08:28,  3.42it/s]"
          ],
          "name": "stderr"
        },
        {
          "output_type": "stream",
          "text": [
            "Closed? 53783\n"
          ],
          "name": "stdout"
        },
        {
          "output_type": "stream",
          "text": [
            " 51%|█████     | 1783/3510 [07:57<09:13,  3.12it/s]"
          ],
          "name": "stderr"
        },
        {
          "output_type": "stream",
          "text": [
            "Closed? 53597\n"
          ],
          "name": "stdout"
        },
        {
          "output_type": "stream",
          "text": [
            " 51%|█████     | 1787/3510 [07:58<09:18,  3.08it/s]"
          ],
          "name": "stderr"
        },
        {
          "output_type": "stream",
          "text": [
            "Closed? 23195\n",
            "Closed? 24803\n"
          ],
          "name": "stdout"
        },
        {
          "output_type": "stream",
          "text": [
            " 51%|█████     | 1795/3510 [08:00<07:29,  3.81it/s]"
          ],
          "name": "stderr"
        },
        {
          "output_type": "stream",
          "text": [
            "Closed? 28302\n"
          ],
          "name": "stdout"
        },
        {
          "output_type": "stream",
          "text": [
            " 51%|█████▏    | 1799/3510 [08:01<10:06,  2.82it/s]"
          ],
          "name": "stderr"
        },
        {
          "output_type": "stream",
          "text": [
            "Closed? 16381\n",
            "Closed? 17630\n",
            "Closed? 36500\n"
          ],
          "name": "stdout"
        },
        {
          "output_type": "stream",
          "text": [
            " 52%|█████▏    | 1810/3510 [08:04<08:19,  3.40it/s]"
          ],
          "name": "stderr"
        },
        {
          "output_type": "stream",
          "text": [
            "Closed? 61632\n"
          ],
          "name": "stdout"
        },
        {
          "output_type": "stream",
          "text": [
            " 52%|█████▏    | 1814/3510 [08:05<10:52,  2.60it/s]"
          ],
          "name": "stderr"
        },
        {
          "output_type": "stream",
          "text": [
            "Closed? 3118\n"
          ],
          "name": "stdout"
        },
        {
          "output_type": "stream",
          "text": [
            " 52%|█████▏    | 1831/3510 [08:11<09:33,  2.93it/s]"
          ],
          "name": "stderr"
        },
        {
          "output_type": "stream",
          "text": [
            "Closed? 24416\n"
          ],
          "name": "stdout"
        },
        {
          "output_type": "stream",
          "text": [
            "\r 52%|█████▏    | 1833/3510 [08:11<08:19,  3.36it/s]"
          ],
          "name": "stderr"
        },
        {
          "output_type": "stream",
          "text": [
            "Closed? 3903\n"
          ],
          "name": "stdout"
        },
        {
          "output_type": "stream",
          "text": [
            "\r 52%|█████▏    | 1835/3510 [08:12<07:17,  3.83it/s]"
          ],
          "name": "stderr"
        },
        {
          "output_type": "stream",
          "text": [
            "Closed? 10880\n",
            "Closed? 35399\n"
          ],
          "name": "stdout"
        },
        {
          "output_type": "stream",
          "text": [
            " 52%|█████▏    | 1842/3510 [08:14<08:16,  3.36it/s]"
          ],
          "name": "stderr"
        },
        {
          "output_type": "stream",
          "text": [
            "Closed? 19985\n"
          ],
          "name": "stdout"
        },
        {
          "output_type": "stream",
          "text": [
            " 53%|█████▎    | 1845/3510 [08:14<06:30,  4.27it/s]"
          ],
          "name": "stderr"
        },
        {
          "output_type": "stream",
          "text": [
            "Closed? 34806\n"
          ],
          "name": "stdout"
        },
        {
          "output_type": "stream",
          "text": [
            " 53%|█████▎    | 1848/3510 [08:15<07:47,  3.55it/s]"
          ],
          "name": "stderr"
        },
        {
          "output_type": "stream",
          "text": [
            "Closed? 55181\n"
          ],
          "name": "stdout"
        },
        {
          "output_type": "stream",
          "text": [
            " 53%|█████▎    | 1859/3510 [08:18<09:01,  3.05it/s]"
          ],
          "name": "stderr"
        },
        {
          "output_type": "stream",
          "text": [
            "Closed? 62677\n",
            "Closed? 32362\n"
          ],
          "name": "stdout"
        },
        {
          "output_type": "stream",
          "text": [
            " 53%|█████▎    | 1870/3510 [08:22<08:50,  3.09it/s]"
          ],
          "name": "stderr"
        },
        {
          "output_type": "stream",
          "text": [
            "Closed? 21714\n"
          ],
          "name": "stdout"
        },
        {
          "output_type": "stream",
          "text": [
            " 54%|█████▍    | 1889/3510 [08:28<10:00,  2.70it/s]"
          ],
          "name": "stderr"
        },
        {
          "output_type": "stream",
          "text": [
            "Closed? 61489\n"
          ],
          "name": "stdout"
        },
        {
          "output_type": "stream",
          "text": [
            " 54%|█████▍    | 1893/3510 [08:29<11:16,  2.39it/s]"
          ],
          "name": "stderr"
        },
        {
          "output_type": "stream",
          "text": [
            "Closed? 871\n"
          ],
          "name": "stdout"
        },
        {
          "output_type": "stream",
          "text": [
            " 54%|█████▍    | 1898/3510 [08:31<08:42,  3.08it/s]"
          ],
          "name": "stderr"
        },
        {
          "output_type": "stream",
          "text": [
            "Closed? 26073\n"
          ],
          "name": "stdout"
        },
        {
          "output_type": "stream",
          "text": [
            " 54%|█████▍    | 1902/3510 [08:32<09:00,  2.98it/s]"
          ],
          "name": "stderr"
        },
        {
          "output_type": "stream",
          "text": [
            "Closed? 57973\n"
          ],
          "name": "stdout"
        },
        {
          "output_type": "stream",
          "text": [
            " 54%|█████▍    | 1905/3510 [08:32<07:09,  3.74it/s]"
          ],
          "name": "stderr"
        },
        {
          "output_type": "stream",
          "text": [
            "Closed? 30820\n",
            "Closed? 30124\n"
          ],
          "name": "stdout"
        },
        {
          "output_type": "stream",
          "text": [
            "\r 54%|█████▍    | 1908/3510 [08:33<06:03,  4.41it/s]"
          ],
          "name": "stderr"
        },
        {
          "output_type": "stream",
          "text": [
            "Closed? 25802\n",
            "Closed? 29559\n",
            "Closed? 59562\n",
            "Closed? 36068\n"
          ],
          "name": "stdout"
        },
        {
          "output_type": "stream",
          "text": [
            " 55%|█████▍    | 1926/3510 [08:38<09:04,  2.91it/s]"
          ],
          "name": "stderr"
        },
        {
          "output_type": "stream",
          "text": [
            "Closed? 61818\n"
          ],
          "name": "stdout"
        },
        {
          "output_type": "stream",
          "text": [
            " 55%|█████▌    | 1932/3510 [08:39<08:09,  3.22it/s]"
          ],
          "name": "stderr"
        },
        {
          "output_type": "stream",
          "text": [
            "Closed? 17295\n",
            "Closed? 57225\n"
          ],
          "name": "stdout"
        },
        {
          "output_type": "stream",
          "text": [
            " 55%|█████▌    | 1936/3510 [08:40<07:52,  3.33it/s]"
          ],
          "name": "stderr"
        },
        {
          "output_type": "stream",
          "text": [
            "Closed? 25094\n"
          ],
          "name": "stdout"
        },
        {
          "output_type": "stream",
          "text": [
            "\r 55%|█████▌    | 1938/3510 [08:41<07:17,  3.59it/s]"
          ],
          "name": "stderr"
        },
        {
          "output_type": "stream",
          "text": [
            "Closed? 32550\n"
          ],
          "name": "stdout"
        },
        {
          "output_type": "stream",
          "text": [
            " 55%|█████▌    | 1943/3510 [08:42<08:44,  2.99it/s]"
          ],
          "name": "stderr"
        },
        {
          "output_type": "stream",
          "text": [
            "Closed? 58154\n"
          ],
          "name": "stdout"
        },
        {
          "output_type": "stream",
          "text": [
            "\r 55%|█████▌    | 1945/3510 [08:43<07:29,  3.48it/s]"
          ],
          "name": "stderr"
        },
        {
          "output_type": "stream",
          "text": [
            "Closed? 7000\n",
            "Closed? 36698\n"
          ],
          "name": "stdout"
        },
        {
          "output_type": "stream",
          "text": [
            " 56%|█████▌    | 1953/3510 [08:45<13:31,  1.92it/s]"
          ],
          "name": "stderr"
        },
        {
          "output_type": "stream",
          "text": [
            "Closed? 22261\n"
          ],
          "name": "stdout"
        },
        {
          "output_type": "stream",
          "text": [
            " 56%|█████▌    | 1959/3510 [08:47<09:44,  2.66it/s]"
          ],
          "name": "stderr"
        },
        {
          "output_type": "stream",
          "text": [
            "Closed? 13271\n",
            "Closed? 18723\n"
          ],
          "name": "stdout"
        },
        {
          "output_type": "stream",
          "text": [
            " 56%|█████▌    | 1966/3510 [08:49<08:07,  3.16it/s]"
          ],
          "name": "stderr"
        },
        {
          "output_type": "stream",
          "text": [
            "Closed? 6745\n"
          ],
          "name": "stdout"
        },
        {
          "output_type": "stream",
          "text": [
            " 56%|█████▌    | 1971/3510 [08:50<07:09,  3.58it/s]"
          ],
          "name": "stderr"
        },
        {
          "output_type": "stream",
          "text": [
            "Closed? 55708\n"
          ],
          "name": "stdout"
        },
        {
          "output_type": "stream",
          "text": [
            " 56%|█████▌    | 1974/3510 [08:51<06:18,  4.05it/s]"
          ],
          "name": "stderr"
        },
        {
          "output_type": "stream",
          "text": [
            "Closed? 9943\n"
          ],
          "name": "stdout"
        },
        {
          "output_type": "stream",
          "text": [
            "\r 56%|█████▋    | 1976/3510 [08:51<05:55,  4.32it/s]"
          ],
          "name": "stderr"
        },
        {
          "output_type": "stream",
          "text": [
            "Closed? 16479\n"
          ],
          "name": "stdout"
        },
        {
          "output_type": "stream",
          "text": [
            " 56%|█████▋    | 1979/3510 [08:52<05:19,  4.79it/s]"
          ],
          "name": "stderr"
        },
        {
          "output_type": "stream",
          "text": [
            "Closed? 21472\n"
          ],
          "name": "stdout"
        },
        {
          "output_type": "stream",
          "text": [
            " 57%|█████▋    | 2005/3510 [09:00<07:46,  3.22it/s]"
          ],
          "name": "stderr"
        },
        {
          "output_type": "stream",
          "text": [
            "Closed? 10572\n",
            "Closed? 28903\n"
          ],
          "name": "stdout"
        },
        {
          "output_type": "stream",
          "text": [
            "\r 57%|█████▋    | 2008/3510 [09:01<05:57,  4.20it/s]"
          ],
          "name": "stderr"
        },
        {
          "output_type": "stream",
          "text": [
            "Closed? 13668\n"
          ],
          "name": "stdout"
        },
        {
          "output_type": "stream",
          "text": [
            " 57%|█████▋    | 2013/3510 [09:02<06:41,  3.73it/s]"
          ],
          "name": "stderr"
        },
        {
          "output_type": "stream",
          "text": [
            "Closed? 34913\n"
          ],
          "name": "stdout"
        },
        {
          "output_type": "stream",
          "text": [
            " 58%|█████▊    | 2023/3510 [09:05<08:07,  3.05it/s]"
          ],
          "name": "stderr"
        },
        {
          "output_type": "stream",
          "text": [
            "Closed? 12768\n"
          ],
          "name": "stdout"
        },
        {
          "output_type": "stream",
          "text": [
            " 58%|█████▊    | 2037/3510 [09:10<08:31,  2.88it/s]"
          ],
          "name": "stderr"
        },
        {
          "output_type": "stream",
          "text": [
            "Closed? 2602\n"
          ],
          "name": "stdout"
        },
        {
          "output_type": "stream",
          "text": [
            " 58%|█████▊    | 2040/3510 [09:10<08:09,  3.00it/s]"
          ],
          "name": "stderr"
        },
        {
          "output_type": "stream",
          "text": [
            "Closed? 54523\n"
          ],
          "name": "stdout"
        },
        {
          "output_type": "stream",
          "text": [
            " 59%|█████▊    | 2060/3510 [09:17<07:47,  3.10it/s]"
          ],
          "name": "stderr"
        },
        {
          "output_type": "stream",
          "text": [
            "Closed? 30891\n"
          ],
          "name": "stdout"
        },
        {
          "output_type": "stream",
          "text": [
            " 59%|█████▉    | 2068/3510 [09:20<08:25,  2.85it/s]"
          ],
          "name": "stderr"
        },
        {
          "output_type": "stream",
          "text": [
            "Closed? 59543\n"
          ],
          "name": "stdout"
        },
        {
          "output_type": "stream",
          "text": [
            " 59%|█████▉    | 2071/3510 [09:20<07:45,  3.09it/s]"
          ],
          "name": "stderr"
        },
        {
          "output_type": "stream",
          "text": [
            "Closed? 26795\n"
          ],
          "name": "stdout"
        },
        {
          "output_type": "stream",
          "text": [
            " 59%|█████▉    | 2079/3510 [09:23<10:17,  2.32it/s]"
          ],
          "name": "stderr"
        },
        {
          "output_type": "stream",
          "text": [
            "Closed? 33002\n"
          ],
          "name": "stdout"
        },
        {
          "output_type": "stream",
          "text": [
            " 59%|█████▉    | 2083/3510 [09:25<08:41,  2.74it/s]"
          ],
          "name": "stderr"
        },
        {
          "output_type": "stream",
          "text": [
            "Closed? 63797\n"
          ],
          "name": "stdout"
        },
        {
          "output_type": "stream",
          "text": [
            "\r 59%|█████▉    | 2085/3510 [09:25<06:56,  3.42it/s]"
          ],
          "name": "stderr"
        },
        {
          "output_type": "stream",
          "text": [
            "Closed? 27274\n"
          ],
          "name": "stdout"
        },
        {
          "output_type": "stream",
          "text": [
            " 59%|█████▉    | 2088/3510 [09:25<05:48,  4.08it/s]"
          ],
          "name": "stderr"
        },
        {
          "output_type": "stream",
          "text": [
            "Closed? 22173\n"
          ],
          "name": "stdout"
        },
        {
          "output_type": "stream",
          "text": [
            " 60%|█████▉    | 2091/3510 [09:26<06:22,  3.71it/s]"
          ],
          "name": "stderr"
        },
        {
          "output_type": "stream",
          "text": [
            "Closed? 55758\n"
          ],
          "name": "stdout"
        },
        {
          "output_type": "stream",
          "text": [
            " 60%|██████    | 2111/3510 [09:32<08:49,  2.64it/s]"
          ],
          "name": "stderr"
        },
        {
          "output_type": "stream",
          "text": [
            "Closed? 26765\n"
          ],
          "name": "stdout"
        },
        {
          "output_type": "stream",
          "text": [
            " 60%|██████    | 2115/3510 [09:33<06:52,  3.38it/s]"
          ],
          "name": "stderr"
        },
        {
          "output_type": "stream",
          "text": [
            "Closed? 20802\n"
          ],
          "name": "stdout"
        },
        {
          "output_type": "stream",
          "text": [
            " 60%|██████    | 2119/3510 [09:34<08:17,  2.79it/s]"
          ],
          "name": "stderr"
        },
        {
          "output_type": "stream",
          "text": [
            "Closed? 21128\n"
          ],
          "name": "stdout"
        },
        {
          "output_type": "stream",
          "text": [
            " 61%|██████    | 2133/3510 [09:39<07:20,  3.13it/s]"
          ],
          "name": "stderr"
        },
        {
          "output_type": "stream",
          "text": [
            "Closed? 33979\n"
          ],
          "name": "stdout"
        },
        {
          "output_type": "stream",
          "text": [
            "\r 61%|██████    | 2135/3510 [09:39<05:58,  3.84it/s]"
          ],
          "name": "stderr"
        },
        {
          "output_type": "stream",
          "text": [
            "Closed? 15644\n",
            "Closed? 18669\n"
          ],
          "name": "stdout"
        },
        {
          "output_type": "stream",
          "text": [
            " 61%|██████    | 2145/3510 [09:42<08:29,  2.68it/s]"
          ],
          "name": "stderr"
        },
        {
          "output_type": "stream",
          "text": [
            "Closed? 12812\n"
          ],
          "name": "stdout"
        },
        {
          "output_type": "stream",
          "text": [
            " 61%|██████▏   | 2150/3510 [09:44<07:55,  2.86it/s]"
          ],
          "name": "stderr"
        },
        {
          "output_type": "stream",
          "text": [
            "Closed? 29741\n",
            "Closed? 7244\n"
          ],
          "name": "stdout"
        },
        {
          "output_type": "stream",
          "text": [
            " 61%|██████▏   | 2154/3510 [09:44<05:38,  4.01it/s]"
          ],
          "name": "stderr"
        },
        {
          "output_type": "stream",
          "text": [
            "Closed? 14092\n"
          ],
          "name": "stdout"
        },
        {
          "output_type": "stream",
          "text": [
            " 61%|██████▏   | 2158/3510 [09:45<04:37,  4.88it/s]"
          ],
          "name": "stderr"
        },
        {
          "output_type": "stream",
          "text": [
            "Closed? 57941\n"
          ],
          "name": "stdout"
        },
        {
          "output_type": "stream",
          "text": [
            " 62%|██████▏   | 2165/3510 [09:47<07:05,  3.16it/s]"
          ],
          "name": "stderr"
        },
        {
          "output_type": "stream",
          "text": [
            "Closed? 21144\n",
            "Closed? 8387\n",
            "Closed? 31025\n"
          ],
          "name": "stdout"
        },
        {
          "output_type": "stream",
          "text": [
            "\r 62%|██████▏   | 2169/3510 [09:47<05:23,  4.15it/s]"
          ],
          "name": "stderr"
        },
        {
          "output_type": "stream",
          "text": [
            "Closed? 3890\n"
          ],
          "name": "stdout"
        },
        {
          "output_type": "stream",
          "text": [
            " 62%|██████▏   | 2175/3510 [09:49<06:38,  3.35it/s]"
          ],
          "name": "stderr"
        },
        {
          "output_type": "stream",
          "text": [
            "Closed? 36692\n"
          ],
          "name": "stdout"
        },
        {
          "output_type": "stream",
          "text": [
            " 62%|██████▏   | 2180/3510 [09:50<08:00,  2.77it/s]"
          ],
          "name": "stderr"
        },
        {
          "output_type": "stream",
          "text": [
            "Closed? 11513\n"
          ],
          "name": "stdout"
        },
        {
          "output_type": "stream",
          "text": [
            " 62%|██████▏   | 2183/3510 [09:51<07:17,  3.03it/s]"
          ],
          "name": "stderr"
        },
        {
          "output_type": "stream",
          "text": [
            "Closed? 63834\n"
          ],
          "name": "stdout"
        },
        {
          "output_type": "stream",
          "text": [
            " 62%|██████▏   | 2189/3510 [09:53<09:06,  2.42it/s]"
          ],
          "name": "stderr"
        },
        {
          "output_type": "stream",
          "text": [
            "Closed? 55868\n"
          ],
          "name": "stdout"
        },
        {
          "output_type": "stream",
          "text": [
            " 63%|██████▎   | 2206/3510 [09:59<08:02,  2.70it/s]"
          ],
          "name": "stderr"
        },
        {
          "output_type": "stream",
          "text": [
            "Closed? 14906\n"
          ],
          "name": "stdout"
        },
        {
          "output_type": "stream",
          "text": [
            "\r 63%|██████▎   | 2208/3510 [09:59<06:36,  3.29it/s]"
          ],
          "name": "stderr"
        },
        {
          "output_type": "stream",
          "text": [
            "Closed? 34853\n"
          ],
          "name": "stdout"
        },
        {
          "output_type": "stream",
          "text": [
            " 63%|██████▎   | 2224/3510 [10:04<08:14,  2.60it/s]"
          ],
          "name": "stderr"
        },
        {
          "output_type": "stream",
          "text": [
            "Closed? 13953\n"
          ],
          "name": "stdout"
        },
        {
          "output_type": "stream",
          "text": [
            " 64%|██████▎   | 2236/3510 [10:08<07:18,  2.91it/s]"
          ],
          "name": "stderr"
        },
        {
          "output_type": "stream",
          "text": [
            "Closed? 5973\n"
          ],
          "name": "stdout"
        },
        {
          "output_type": "stream",
          "text": [
            " 64%|██████▍   | 2245/3510 [10:11<06:12,  3.40it/s]"
          ],
          "name": "stderr"
        },
        {
          "output_type": "stream",
          "text": [
            "Closed? 52742\n"
          ],
          "name": "stdout"
        },
        {
          "output_type": "stream",
          "text": [
            " 64%|██████▍   | 2253/3510 [10:13<04:28,  4.67it/s]"
          ],
          "name": "stderr"
        },
        {
          "output_type": "stream",
          "text": [
            "Closed? 24588\n"
          ],
          "name": "stdout"
        },
        {
          "output_type": "stream",
          "text": [
            " 64%|██████▍   | 2257/3510 [10:14<06:20,  3.29it/s]"
          ],
          "name": "stderr"
        },
        {
          "output_type": "stream",
          "text": [
            "Closed? 3768\n"
          ],
          "name": "stdout"
        },
        {
          "output_type": "stream",
          "text": [
            " 65%|██████▍   | 2273/3510 [10:19<07:42,  2.68it/s]"
          ],
          "name": "stderr"
        },
        {
          "output_type": "stream",
          "text": [
            "Closed? 8863\n"
          ],
          "name": "stdout"
        },
        {
          "output_type": "stream",
          "text": [
            " 65%|██████▍   | 2281/3510 [10:22<07:17,  2.81it/s]"
          ],
          "name": "stderr"
        },
        {
          "output_type": "stream",
          "text": [
            "Closed? 8351\n"
          ],
          "name": "stdout"
        },
        {
          "output_type": "stream",
          "text": [
            " 65%|██████▌   | 2293/3510 [10:26<07:58,  2.54it/s]"
          ],
          "name": "stderr"
        },
        {
          "output_type": "stream",
          "text": [
            "Closed? 956\n"
          ],
          "name": "stdout"
        },
        {
          "output_type": "stream",
          "text": [
            " 65%|██████▌   | 2299/3510 [10:28<07:43,  2.61it/s]"
          ],
          "name": "stderr"
        },
        {
          "output_type": "stream",
          "text": [
            "Closed? 22317\n"
          ],
          "name": "stdout"
        },
        {
          "output_type": "stream",
          "text": [
            " 66%|██████▌   | 2310/3510 [10:31<06:02,  3.31it/s]"
          ],
          "name": "stderr"
        },
        {
          "output_type": "stream",
          "text": [
            "Closed? 18300\n"
          ],
          "name": "stdout"
        },
        {
          "output_type": "stream",
          "text": [
            " 66%|██████▌   | 2312/3510 [10:32<06:42,  2.98it/s]"
          ],
          "name": "stderr"
        },
        {
          "output_type": "stream",
          "text": [
            "Closed? 60074\n"
          ],
          "name": "stdout"
        },
        {
          "output_type": "stream",
          "text": [
            " 66%|██████▌   | 2316/3510 [10:33<05:39,  3.52it/s]"
          ],
          "name": "stderr"
        },
        {
          "output_type": "stream",
          "text": [
            "Closed? 36940\n"
          ],
          "name": "stdout"
        },
        {
          "output_type": "stream",
          "text": [
            "\r 66%|██████▌   | 2318/3510 [10:33<05:01,  3.95it/s]"
          ],
          "name": "stderr"
        },
        {
          "output_type": "stream",
          "text": [
            "Closed? 53552\n"
          ],
          "name": "stdout"
        },
        {
          "output_type": "stream",
          "text": [
            " 66%|██████▌   | 2324/3510 [10:35<06:33,  3.02it/s]"
          ],
          "name": "stderr"
        },
        {
          "output_type": "stream",
          "text": [
            "Closed? 32491\n"
          ],
          "name": "stdout"
        },
        {
          "output_type": "stream",
          "text": [
            " 67%|██████▋   | 2341/3510 [10:41<08:19,  2.34it/s]"
          ],
          "name": "stderr"
        },
        {
          "output_type": "stream",
          "text": [
            "Closed? 20119\n"
          ],
          "name": "stdout"
        },
        {
          "output_type": "stream",
          "text": [
            "\r 67%|██████▋   | 2343/3510 [10:41<06:42,  2.90it/s]"
          ],
          "name": "stderr"
        },
        {
          "output_type": "stream",
          "text": [
            "Closed? 34388\n"
          ],
          "name": "stdout"
        },
        {
          "output_type": "stream",
          "text": [
            " 67%|██████▋   | 2352/3510 [10:44<06:27,  2.99it/s]"
          ],
          "name": "stderr"
        },
        {
          "output_type": "stream",
          "text": [
            "Closed? 63226\n"
          ],
          "name": "stdout"
        },
        {
          "output_type": "stream",
          "text": [
            " 67%|██████▋   | 2355/3510 [10:44<05:24,  3.56it/s]"
          ],
          "name": "stderr"
        },
        {
          "output_type": "stream",
          "text": [
            "Closed? 18015\n",
            "Closed? 63702\n"
          ],
          "name": "stdout"
        },
        {
          "output_type": "stream",
          "text": [
            "\r 67%|██████▋   | 2358/3510 [10:45<04:28,  4.29it/s]"
          ],
          "name": "stderr"
        },
        {
          "output_type": "stream",
          "text": [
            "Closed? 19849\n"
          ],
          "name": "stdout"
        },
        {
          "output_type": "stream",
          "text": [
            " 67%|██████▋   | 2362/3510 [10:46<05:10,  3.70it/s]"
          ],
          "name": "stderr"
        },
        {
          "output_type": "stream",
          "text": [
            "Closed? 54868\n"
          ],
          "name": "stdout"
        },
        {
          "output_type": "stream",
          "text": [
            " 67%|██████▋   | 2365/3510 [10:46<05:16,  3.62it/s]"
          ],
          "name": "stderr"
        },
        {
          "output_type": "stream",
          "text": [
            "Closed? 34816\n"
          ],
          "name": "stdout"
        },
        {
          "output_type": "stream",
          "text": [
            " 67%|██████▋   | 2368/3510 [10:47<04:39,  4.09it/s]"
          ],
          "name": "stderr"
        },
        {
          "output_type": "stream",
          "text": [
            "Closed? 18549\n"
          ],
          "name": "stdout"
        },
        {
          "output_type": "stream",
          "text": [
            " 68%|██████▊   | 2379/3510 [10:50<06:01,  3.13it/s]"
          ],
          "name": "stderr"
        },
        {
          "output_type": "stream",
          "text": [
            "Closed? 34942\n"
          ],
          "name": "stdout"
        },
        {
          "output_type": "stream",
          "text": [
            " 68%|██████▊   | 2382/3510 [10:51<04:22,  4.30it/s]"
          ],
          "name": "stderr"
        },
        {
          "output_type": "stream",
          "text": [
            "Closed? 54187\n"
          ],
          "name": "stdout"
        },
        {
          "output_type": "stream",
          "text": [
            " 69%|██████▉   | 2419/3510 [11:03<05:39,  3.22it/s]"
          ],
          "name": "stderr"
        },
        {
          "output_type": "stream",
          "text": [
            "Closed? 32085\n"
          ],
          "name": "stdout"
        },
        {
          "output_type": "stream",
          "text": [
            " 69%|██████▉   | 2426/3510 [11:05<05:43,  3.15it/s]"
          ],
          "name": "stderr"
        },
        {
          "output_type": "stream",
          "text": [
            "Closed? 34160\n"
          ],
          "name": "stdout"
        },
        {
          "output_type": "stream",
          "text": [
            " 69%|██████▉   | 2430/3510 [11:05<03:42,  4.84it/s]"
          ],
          "name": "stderr"
        },
        {
          "output_type": "stream",
          "text": [
            "Closed? 14362\n"
          ],
          "name": "stdout"
        },
        {
          "output_type": "stream",
          "text": [
            " 69%|██████▉   | 2437/3510 [11:07<05:03,  3.53it/s]"
          ],
          "name": "stderr"
        },
        {
          "output_type": "stream",
          "text": [
            "Closed? 19663\n"
          ],
          "name": "stdout"
        },
        {
          "output_type": "stream",
          "text": [
            "\r 69%|██████▉   | 2439/3510 [11:08<04:25,  4.04it/s]"
          ],
          "name": "stderr"
        },
        {
          "output_type": "stream",
          "text": [
            "Closed? 20994\n"
          ],
          "name": "stdout"
        },
        {
          "output_type": "stream",
          "text": [
            "\r 70%|██████▉   | 2441/3510 [11:08<04:16,  4.17it/s]"
          ],
          "name": "stderr"
        },
        {
          "output_type": "stream",
          "text": [
            "Closed? 21203\n"
          ],
          "name": "stdout"
        },
        {
          "output_type": "stream",
          "text": [
            " 70%|██████▉   | 2448/3510 [11:10<04:23,  4.03it/s]"
          ],
          "name": "stderr"
        },
        {
          "output_type": "stream",
          "text": [
            "Closed? 16672\n"
          ],
          "name": "stdout"
        },
        {
          "output_type": "stream",
          "text": [
            " 70%|██████▉   | 2451/3510 [11:11<04:27,  3.95it/s]"
          ],
          "name": "stderr"
        },
        {
          "output_type": "stream",
          "text": [
            "Closed? 26682\n"
          ],
          "name": "stdout"
        },
        {
          "output_type": "stream",
          "text": [
            " 70%|██████▉   | 2456/3510 [11:12<05:36,  3.13it/s]"
          ],
          "name": "stderr"
        },
        {
          "output_type": "stream",
          "text": [
            "Closed? 501\n"
          ],
          "name": "stdout"
        },
        {
          "output_type": "stream",
          "text": [
            " 70%|███████   | 2460/3510 [11:13<04:05,  4.28it/s]"
          ],
          "name": "stderr"
        },
        {
          "output_type": "stream",
          "text": [
            "Closed? 32110\n"
          ],
          "name": "stdout"
        },
        {
          "output_type": "stream",
          "text": [
            " 70%|███████   | 2464/3510 [11:14<05:07,  3.40it/s]"
          ],
          "name": "stderr"
        },
        {
          "output_type": "stream",
          "text": [
            "Closed? 14572\n",
            "Closed? 30872\n"
          ],
          "name": "stdout"
        },
        {
          "output_type": "stream",
          "text": [
            " 71%|███████   | 2475/3510 [11:17<06:20,  2.72it/s]"
          ],
          "name": "stderr"
        },
        {
          "output_type": "stream",
          "text": [
            "Closed? 61798\n"
          ],
          "name": "stdout"
        },
        {
          "output_type": "stream",
          "text": [
            " 71%|███████   | 2484/3510 [11:19<04:49,  3.55it/s]"
          ],
          "name": "stderr"
        },
        {
          "output_type": "stream",
          "text": [
            "Closed? 15250\n"
          ],
          "name": "stdout"
        },
        {
          "output_type": "stream",
          "text": [
            " 71%|███████   | 2491/3510 [11:23<05:52,  2.89it/s]"
          ],
          "name": "stderr"
        },
        {
          "output_type": "stream",
          "text": [
            "Closed? 12426\n"
          ],
          "name": "stdout"
        },
        {
          "output_type": "stream",
          "text": [
            " 71%|███████   | 2498/3510 [11:25<05:03,  3.34it/s]"
          ],
          "name": "stderr"
        },
        {
          "output_type": "stream",
          "text": [
            "Closed? 8911\n",
            "Closed? 5226\n"
          ],
          "name": "stdout"
        },
        {
          "output_type": "stream",
          "text": [
            " 71%|███████▏  | 2503/3510 [11:26<04:42,  3.57it/s]"
          ],
          "name": "stderr"
        },
        {
          "output_type": "stream",
          "text": [
            "Closed? 13255\n"
          ],
          "name": "stdout"
        },
        {
          "output_type": "stream",
          "text": [
            " 72%|███████▏  | 2514/3510 [11:29<04:26,  3.74it/s]"
          ],
          "name": "stderr"
        },
        {
          "output_type": "stream",
          "text": [
            "Closed? 30961\n"
          ],
          "name": "stdout"
        },
        {
          "output_type": "stream",
          "text": [
            " 72%|███████▏  | 2522/3510 [11:31<05:16,  3.12it/s]"
          ],
          "name": "stderr"
        },
        {
          "output_type": "stream",
          "text": [
            "Closed? 1554\n"
          ],
          "name": "stdout"
        },
        {
          "output_type": "stream",
          "text": [
            " 72%|███████▏  | 2536/3510 [11:36<06:25,  2.52it/s]"
          ],
          "name": "stderr"
        },
        {
          "output_type": "stream",
          "text": [
            "Closed? 7318\n"
          ],
          "name": "stdout"
        },
        {
          "output_type": "stream",
          "text": [
            " 72%|███████▏  | 2540/3510 [11:37<04:54,  3.30it/s]"
          ],
          "name": "stderr"
        },
        {
          "output_type": "stream",
          "text": [
            "Closed? 14656\n"
          ],
          "name": "stdout"
        },
        {
          "output_type": "stream",
          "text": [
            " 73%|███████▎  | 2550/3510 [11:41<05:39,  2.83it/s]"
          ],
          "name": "stderr"
        },
        {
          "output_type": "stream",
          "text": [
            "Closed? 34371\n"
          ],
          "name": "stdout"
        },
        {
          "output_type": "stream",
          "text": [
            " 73%|███████▎  | 2555/3510 [11:42<05:22,  2.96it/s]"
          ],
          "name": "stderr"
        },
        {
          "output_type": "stream",
          "text": [
            "Closed? 7128\n"
          ],
          "name": "stdout"
        },
        {
          "output_type": "stream",
          "text": [
            " 73%|███████▎  | 2572/3510 [11:47<04:45,  3.29it/s]"
          ],
          "name": "stderr"
        },
        {
          "output_type": "stream",
          "text": [
            "Closed? 16185\n"
          ],
          "name": "stdout"
        },
        {
          "output_type": "stream",
          "text": [
            "\r 73%|███████▎  | 2574/3510 [11:48<04:21,  3.58it/s]"
          ],
          "name": "stderr"
        },
        {
          "output_type": "stream",
          "text": [
            "Closed? 36622\n"
          ],
          "name": "stdout"
        },
        {
          "output_type": "stream",
          "text": [
            " 74%|███████▎  | 2581/3510 [11:50<05:30,  2.81it/s]"
          ],
          "name": "stderr"
        },
        {
          "output_type": "stream",
          "text": [
            "Closed? 54732\n"
          ],
          "name": "stdout"
        },
        {
          "output_type": "stream",
          "text": [
            " 74%|███████▎  | 2587/3510 [11:52<05:32,  2.78it/s]"
          ],
          "name": "stderr"
        },
        {
          "output_type": "stream",
          "text": [
            "Closed? 12728\n"
          ],
          "name": "stdout"
        },
        {
          "output_type": "stream",
          "text": [
            " 74%|███████▍  | 2596/3510 [11:55<04:53,  3.11it/s]"
          ],
          "name": "stderr"
        },
        {
          "output_type": "stream",
          "text": [
            "Closed? 149\n",
            "Closed? 5554\n"
          ],
          "name": "stdout"
        },
        {
          "output_type": "stream",
          "text": [
            "\r 74%|███████▍  | 2599/3510 [11:55<03:53,  3.90it/s]"
          ],
          "name": "stderr"
        },
        {
          "output_type": "stream",
          "text": [
            "Closed? 57474\n"
          ],
          "name": "stdout"
        },
        {
          "output_type": "stream",
          "text": [
            " 74%|███████▍  | 2610/3510 [11:59<06:37,  2.26it/s]"
          ],
          "name": "stderr"
        },
        {
          "output_type": "stream",
          "text": [
            "Closed? 3094\n"
          ],
          "name": "stdout"
        },
        {
          "output_type": "stream",
          "text": [
            " 74%|███████▍  | 2614/3510 [12:00<04:28,  3.33it/s]"
          ],
          "name": "stderr"
        },
        {
          "output_type": "stream",
          "text": [
            "Closed? 56455\n"
          ],
          "name": "stdout"
        },
        {
          "output_type": "stream",
          "text": [
            "\r 75%|███████▍  | 2616/3510 [12:00<03:42,  4.02it/s]"
          ],
          "name": "stderr"
        },
        {
          "output_type": "stream",
          "text": [
            "Closed? 25389\n"
          ],
          "name": "stdout"
        },
        {
          "output_type": "stream",
          "text": [
            " 75%|███████▍  | 2625/3510 [12:03<05:10,  2.85it/s]"
          ],
          "name": "stderr"
        },
        {
          "output_type": "stream",
          "text": [
            "Closed? 61271\n"
          ],
          "name": "stdout"
        },
        {
          "output_type": "stream",
          "text": [
            " 75%|███████▌  | 2634/3510 [12:06<05:17,  2.76it/s]"
          ],
          "name": "stderr"
        },
        {
          "output_type": "stream",
          "text": [
            "Closed? 19892\n"
          ],
          "name": "stdout"
        },
        {
          "output_type": "stream",
          "text": [
            "\r 75%|███████▌  | 2636/3510 [12:06<04:26,  3.28it/s]"
          ],
          "name": "stderr"
        },
        {
          "output_type": "stream",
          "text": [
            "Closed? 7726\n"
          ],
          "name": "stdout"
        },
        {
          "output_type": "stream",
          "text": [
            "\r 75%|███████▌  | 2638/3510 [12:07<03:44,  3.88it/s]"
          ],
          "name": "stderr"
        },
        {
          "output_type": "stream",
          "text": [
            "Closed? 9938\n",
            "Closed? 55080\n"
          ],
          "name": "stdout"
        },
        {
          "output_type": "stream",
          "text": [
            " 75%|███████▌  | 2643/3510 [12:07<02:34,  5.61it/s]"
          ],
          "name": "stderr"
        },
        {
          "output_type": "stream",
          "text": [
            "Closed? 61919\n"
          ],
          "name": "stdout"
        },
        {
          "output_type": "stream",
          "text": [
            " 75%|███████▌  | 2645/3510 [12:08<03:22,  4.28it/s]"
          ],
          "name": "stderr"
        },
        {
          "output_type": "stream",
          "text": [
            "Closed? 55696\n"
          ],
          "name": "stdout"
        },
        {
          "output_type": "stream",
          "text": [
            " 76%|███████▌  | 2654/3510 [12:10<04:42,  3.03it/s]"
          ],
          "name": "stderr"
        },
        {
          "output_type": "stream",
          "text": [
            "Closed? 10099\n",
            "Closed? 8296\n"
          ],
          "name": "stdout"
        },
        {
          "output_type": "stream",
          "text": [
            " 76%|███████▌  | 2663/3510 [12:13<04:47,  2.95it/s]"
          ],
          "name": "stderr"
        },
        {
          "output_type": "stream",
          "text": [
            "Closed? 24380\n"
          ],
          "name": "stdout"
        },
        {
          "output_type": "stream",
          "text": [
            " 76%|███████▌  | 2668/3510 [12:14<05:03,  2.77it/s]"
          ],
          "name": "stderr"
        },
        {
          "output_type": "stream",
          "text": [
            "Closed? 25885\n"
          ],
          "name": "stdout"
        },
        {
          "output_type": "stream",
          "text": [
            "\r 76%|███████▌  | 2670/3510 [12:15<04:26,  3.16it/s]"
          ],
          "name": "stderr"
        },
        {
          "output_type": "stream",
          "text": [
            "Closed? 52669\n"
          ],
          "name": "stdout"
        },
        {
          "output_type": "stream",
          "text": [
            " 76%|███████▌  | 2676/3510 [12:16<04:44,  2.93it/s]"
          ],
          "name": "stderr"
        },
        {
          "output_type": "stream",
          "text": [
            "Closed? 6709\n"
          ],
          "name": "stdout"
        },
        {
          "output_type": "stream",
          "text": [
            "\r 76%|███████▋  | 2678/3510 [12:17<04:10,  3.32it/s]"
          ],
          "name": "stderr"
        },
        {
          "output_type": "stream",
          "text": [
            "Closed? 17157\n",
            "Closed? 20939\n"
          ],
          "name": "stdout"
        },
        {
          "output_type": "stream",
          "text": [
            " 76%|███████▋  | 2684/3510 [12:18<04:47,  2.88it/s]"
          ],
          "name": "stderr"
        },
        {
          "output_type": "stream",
          "text": [
            "Closed? 11254\n"
          ],
          "name": "stdout"
        },
        {
          "output_type": "stream",
          "text": [
            " 77%|███████▋  | 2690/3510 [12:20<03:21,  4.06it/s]"
          ],
          "name": "stderr"
        },
        {
          "output_type": "stream",
          "text": [
            "Closed? 1928\n"
          ],
          "name": "stdout"
        },
        {
          "output_type": "stream",
          "text": [
            "\r 77%|███████▋  | 2691/3510 [12:20<04:07,  3.31it/s]"
          ],
          "name": "stderr"
        },
        {
          "output_type": "stream",
          "text": [
            "Closed? 20930\n"
          ],
          "name": "stdout"
        },
        {
          "output_type": "stream",
          "text": [
            " 77%|███████▋  | 2700/3510 [12:23<04:26,  3.04it/s]"
          ],
          "name": "stderr"
        },
        {
          "output_type": "stream",
          "text": [
            "Closed? 22933\n"
          ],
          "name": "stdout"
        },
        {
          "output_type": "stream",
          "text": [
            " 77%|███████▋  | 2703/3510 [12:24<04:19,  3.11it/s]"
          ],
          "name": "stderr"
        },
        {
          "output_type": "stream",
          "text": [
            "Closed? 12627\n"
          ],
          "name": "stdout"
        },
        {
          "output_type": "stream",
          "text": [
            "\r 77%|███████▋  | 2705/3510 [12:24<03:49,  3.51it/s]"
          ],
          "name": "stderr"
        },
        {
          "output_type": "stream",
          "text": [
            "Closed? 557\n"
          ],
          "name": "stdout"
        },
        {
          "output_type": "stream",
          "text": [
            "\r 77%|███████▋  | 2707/3510 [12:24<03:16,  4.08it/s]"
          ],
          "name": "stderr"
        },
        {
          "output_type": "stream",
          "text": [
            "Closed? 33851\n"
          ],
          "name": "stdout"
        },
        {
          "output_type": "stream",
          "text": [
            " 78%|███████▊  | 2724/3510 [12:30<03:43,  3.52it/s]"
          ],
          "name": "stderr"
        },
        {
          "output_type": "stream",
          "text": [
            "Closed? 61288\n"
          ],
          "name": "stdout"
        },
        {
          "output_type": "stream",
          "text": [
            " 78%|███████▊  | 2727/3510 [12:30<03:57,  3.30it/s]"
          ],
          "name": "stderr"
        },
        {
          "output_type": "stream",
          "text": [
            "Closed? 14376\n"
          ],
          "name": "stdout"
        },
        {
          "output_type": "stream",
          "text": [
            "\r 78%|███████▊  | 2729/3510 [12:31<03:37,  3.58it/s]"
          ],
          "name": "stderr"
        },
        {
          "output_type": "stream",
          "text": [
            "Closed? 26401\n"
          ],
          "name": "stdout"
        },
        {
          "output_type": "stream",
          "text": [
            "\r 78%|███████▊  | 2731/3510 [12:31<03:10,  4.09it/s]"
          ],
          "name": "stderr"
        },
        {
          "output_type": "stream",
          "text": [
            "Closed? 10957\n"
          ],
          "name": "stdout"
        },
        {
          "output_type": "stream",
          "text": [
            "\r 78%|███████▊  | 2733/3510 [12:31<02:55,  4.42it/s]"
          ],
          "name": "stderr"
        },
        {
          "output_type": "stream",
          "text": [
            "Closed? 11124\n"
          ],
          "name": "stdout"
        },
        {
          "output_type": "stream",
          "text": [
            " 78%|███████▊  | 2737/3510 [12:32<03:39,  3.52it/s]"
          ],
          "name": "stderr"
        },
        {
          "output_type": "stream",
          "text": [
            "Closed? 7737\n"
          ],
          "name": "stdout"
        },
        {
          "output_type": "stream",
          "text": [
            " 78%|███████▊  | 2742/3510 [12:34<04:03,  3.16it/s]"
          ],
          "name": "stderr"
        },
        {
          "output_type": "stream",
          "text": [
            "Closed? 26797\n"
          ],
          "name": "stdout"
        },
        {
          "output_type": "stream",
          "text": [
            " 78%|███████▊  | 2748/3510 [12:35<03:13,  3.93it/s]"
          ],
          "name": "stderr"
        },
        {
          "output_type": "stream",
          "text": [
            "Closed? 29677\n"
          ],
          "name": "stdout"
        },
        {
          "output_type": "stream",
          "text": [
            " 79%|███████▊  | 2763/3510 [12:40<03:21,  3.72it/s]"
          ],
          "name": "stderr"
        },
        {
          "output_type": "stream",
          "text": [
            "Closed? 36628\n"
          ],
          "name": "stdout"
        },
        {
          "output_type": "stream",
          "text": [
            " 79%|███████▉  | 2772/3510 [12:42<04:00,  3.07it/s]"
          ],
          "name": "stderr"
        },
        {
          "output_type": "stream",
          "text": [
            "Closed? 14128\n"
          ],
          "name": "stdout"
        },
        {
          "output_type": "stream",
          "text": [
            "\r 79%|███████▉  | 2774/3510 [12:43<03:27,  3.55it/s]"
          ],
          "name": "stderr"
        },
        {
          "output_type": "stream",
          "text": [
            "Closed? 18802\n",
            "Closed? 35400\n",
            "Closed? 23652\n"
          ],
          "name": "stdout"
        },
        {
          "output_type": "stream",
          "text": [
            " 79%|███████▉  | 2779/3510 [12:44<02:59,  4.07it/s]"
          ],
          "name": "stderr"
        },
        {
          "output_type": "stream",
          "text": [
            "Closed? 53228\n"
          ],
          "name": "stdout"
        },
        {
          "output_type": "stream",
          "text": [
            " 79%|███████▉  | 2788/3510 [12:47<04:15,  2.82it/s]"
          ],
          "name": "stderr"
        },
        {
          "output_type": "stream",
          "text": [
            "Closed? 57520\n"
          ],
          "name": "stdout"
        },
        {
          "output_type": "stream",
          "text": [
            " 80%|███████▉  | 2797/3510 [12:49<04:04,  2.92it/s]"
          ],
          "name": "stderr"
        },
        {
          "output_type": "stream",
          "text": [
            "Closed? 17024\n"
          ],
          "name": "stdout"
        },
        {
          "output_type": "stream",
          "text": [
            " 80%|███████▉  | 2800/3510 [12:50<03:27,  3.43it/s]"
          ],
          "name": "stderr"
        },
        {
          "output_type": "stream",
          "text": [
            "Closed? 59982\n"
          ],
          "name": "stdout"
        },
        {
          "output_type": "stream",
          "text": [
            "\r 80%|███████▉  | 2802/3510 [12:51<03:09,  3.73it/s]"
          ],
          "name": "stderr"
        },
        {
          "output_type": "stream",
          "text": [
            "Closed? 19490\n"
          ],
          "name": "stdout"
        },
        {
          "output_type": "stream",
          "text": [
            " 80%|████████  | 2808/3510 [12:53<04:10,  2.80it/s]"
          ],
          "name": "stderr"
        },
        {
          "output_type": "stream",
          "text": [
            "Closed? 6711\n"
          ],
          "name": "stdout"
        },
        {
          "output_type": "stream",
          "text": [
            " 80%|████████  | 2817/3510 [12:56<04:38,  2.48it/s]"
          ],
          "name": "stderr"
        },
        {
          "output_type": "stream",
          "text": [
            "Closed? 54971\n"
          ],
          "name": "stdout"
        },
        {
          "output_type": "stream",
          "text": [
            " 80%|████████  | 2820/3510 [12:57<04:02,  2.84it/s]"
          ],
          "name": "stderr"
        },
        {
          "output_type": "stream",
          "text": [
            "Closed? 54208\n"
          ],
          "name": "stdout"
        },
        {
          "output_type": "stream",
          "text": [
            " 81%|████████  | 2826/3510 [12:59<03:58,  2.87it/s]"
          ],
          "name": "stderr"
        },
        {
          "output_type": "stream",
          "text": [
            "Closed? 28783\n"
          ],
          "name": "stdout"
        },
        {
          "output_type": "stream",
          "text": [
            " 81%|████████  | 2838/3510 [13:03<04:21,  2.57it/s]"
          ],
          "name": "stderr"
        },
        {
          "output_type": "stream",
          "text": [
            "Closed? 36455\n"
          ],
          "name": "stdout"
        },
        {
          "output_type": "stream",
          "text": [
            "\r 81%|████████  | 2840/3510 [13:03<03:46,  2.96it/s]"
          ],
          "name": "stderr"
        },
        {
          "output_type": "stream",
          "text": [
            "Closed? 10008\n"
          ],
          "name": "stdout"
        },
        {
          "output_type": "stream",
          "text": [
            " 81%|████████  | 2851/3510 [13:07<03:50,  2.86it/s]"
          ],
          "name": "stderr"
        },
        {
          "output_type": "stream",
          "text": [
            "Closed? 17689\n"
          ],
          "name": "stdout"
        },
        {
          "output_type": "stream",
          "text": [
            " 82%|████████▏ | 2869/3510 [13:12<03:50,  2.78it/s]"
          ],
          "name": "stderr"
        },
        {
          "output_type": "stream",
          "text": [
            "Closed? 17710\n"
          ],
          "name": "stdout"
        },
        {
          "output_type": "stream",
          "text": [
            " 82%|████████▏ | 2879/3510 [13:15<02:48,  3.74it/s]"
          ],
          "name": "stderr"
        },
        {
          "output_type": "stream",
          "text": [
            "Closed? 13403\n"
          ],
          "name": "stdout"
        },
        {
          "output_type": "stream",
          "text": [
            " 82%|████████▏ | 2886/3510 [13:17<03:33,  2.93it/s]"
          ],
          "name": "stderr"
        },
        {
          "output_type": "stream",
          "text": [
            "Closed? 1441\n"
          ],
          "name": "stdout"
        },
        {
          "output_type": "stream",
          "text": [
            " 82%|████████▏ | 2889/3510 [13:18<02:59,  3.47it/s]"
          ],
          "name": "stderr"
        },
        {
          "output_type": "stream",
          "text": [
            "Closed? 10441\n"
          ],
          "name": "stdout"
        },
        {
          "output_type": "stream",
          "text": [
            " 82%|████████▏ | 2893/3510 [13:19<02:46,  3.70it/s]"
          ],
          "name": "stderr"
        },
        {
          "output_type": "stream",
          "text": [
            "Closed? 62857\n"
          ],
          "name": "stdout"
        },
        {
          "output_type": "stream",
          "text": [
            " 83%|████████▎ | 2898/3510 [13:20<02:49,  3.60it/s]"
          ],
          "name": "stderr"
        },
        {
          "output_type": "stream",
          "text": [
            "Closed? 16050\n",
            "Closed? 14673\n"
          ],
          "name": "stdout"
        },
        {
          "output_type": "stream",
          "text": [
            " 83%|████████▎ | 2903/3510 [13:21<01:52,  5.39it/s]"
          ],
          "name": "stderr"
        },
        {
          "output_type": "stream",
          "text": [
            "Closed? 28682\n"
          ],
          "name": "stdout"
        },
        {
          "output_type": "stream",
          "text": [
            " 83%|████████▎ | 2906/3510 [13:21<01:41,  5.95it/s]"
          ],
          "name": "stderr"
        },
        {
          "output_type": "stream",
          "text": [
            "Closed? 29895\n"
          ],
          "name": "stdout"
        },
        {
          "output_type": "stream",
          "text": [
            " 83%|████████▎ | 2910/3510 [13:22<02:18,  4.33it/s]"
          ],
          "name": "stderr"
        },
        {
          "output_type": "stream",
          "text": [
            "Closed? 33100\n"
          ],
          "name": "stdout"
        },
        {
          "output_type": "stream",
          "text": [
            " 83%|████████▎ | 2913/3510 [13:23<03:11,  3.12it/s]"
          ],
          "name": "stderr"
        },
        {
          "output_type": "stream",
          "text": [
            "Closed? 28022\n"
          ],
          "name": "stdout"
        },
        {
          "output_type": "stream",
          "text": [
            " 83%|████████▎ | 2918/3510 [13:24<02:24,  4.09it/s]"
          ],
          "name": "stderr"
        },
        {
          "output_type": "stream",
          "text": [
            "Closed? 30803\n"
          ],
          "name": "stdout"
        },
        {
          "output_type": "stream",
          "text": [
            " 83%|████████▎ | 2922/3510 [13:26<02:42,  3.61it/s]"
          ],
          "name": "stderr"
        },
        {
          "output_type": "stream",
          "text": [
            "Closed? 55185\n"
          ],
          "name": "stdout"
        },
        {
          "output_type": "stream",
          "text": [
            " 83%|████████▎ | 2930/3510 [13:28<03:49,  2.53it/s]"
          ],
          "name": "stderr"
        },
        {
          "output_type": "stream",
          "text": [
            "Closed? 6997\n",
            "Closed? 20956\n"
          ],
          "name": "stdout"
        },
        {
          "output_type": "stream",
          "text": [
            " 84%|████████▎ | 2935/3510 [13:29<03:33,  2.70it/s]"
          ],
          "name": "stderr"
        },
        {
          "output_type": "stream",
          "text": [
            "Closed? 27194\n"
          ],
          "name": "stdout"
        },
        {
          "output_type": "stream",
          "text": [
            " 84%|████████▎ | 2938/3510 [13:30<03:09,  3.02it/s]"
          ],
          "name": "stderr"
        },
        {
          "output_type": "stream",
          "text": [
            "Closed? 19163\n",
            "Closed? 15962\n"
          ],
          "name": "stdout"
        },
        {
          "output_type": "stream",
          "text": [
            " 84%|████████▍ | 2946/3510 [13:32<03:24,  2.76it/s]"
          ],
          "name": "stderr"
        },
        {
          "output_type": "stream",
          "text": [
            "Closed? 2279\n"
          ],
          "name": "stdout"
        },
        {
          "output_type": "stream",
          "text": [
            "\r 84%|████████▍ | 2948/3510 [13:33<02:58,  3.16it/s]"
          ],
          "name": "stderr"
        },
        {
          "output_type": "stream",
          "text": [
            "Closed? 54054\n"
          ],
          "name": "stdout"
        },
        {
          "output_type": "stream",
          "text": [
            " 84%|████████▍ | 2956/3510 [13:35<03:27,  2.67it/s]"
          ],
          "name": "stderr"
        },
        {
          "output_type": "stream",
          "text": [
            "Closed? 28090\n"
          ],
          "name": "stdout"
        },
        {
          "output_type": "stream",
          "text": [
            "\r 84%|████████▍ | 2958/3510 [13:36<02:49,  3.25it/s]"
          ],
          "name": "stderr"
        },
        {
          "output_type": "stream",
          "text": [
            "Closed? 1533\n"
          ],
          "name": "stdout"
        },
        {
          "output_type": "stream",
          "text": [
            " 85%|████████▍ | 2966/3510 [13:38<02:36,  3.48it/s]"
          ],
          "name": "stderr"
        },
        {
          "output_type": "stream",
          "text": [
            "Closed? 9948\n"
          ],
          "name": "stdout"
        },
        {
          "output_type": "stream",
          "text": [
            " 85%|████████▍ | 2973/3510 [13:40<02:59,  2.99it/s]"
          ],
          "name": "stderr"
        },
        {
          "output_type": "stream",
          "text": [
            "Closed? 28738\n"
          ],
          "name": "stdout"
        },
        {
          "output_type": "stream",
          "text": [
            " 85%|████████▌ | 2988/3510 [13:45<03:08,  2.77it/s]"
          ],
          "name": "stderr"
        },
        {
          "output_type": "stream",
          "text": [
            "Closed? 505\n"
          ],
          "name": "stdout"
        },
        {
          "output_type": "stream",
          "text": [
            "\r 85%|████████▌ | 2990/3510 [13:45<02:49,  3.07it/s]"
          ],
          "name": "stderr"
        },
        {
          "output_type": "stream",
          "text": [
            "Closed? 9995\n"
          ],
          "name": "stdout"
        },
        {
          "output_type": "stream",
          "text": [
            "\r 85%|████████▌ | 2992/3510 [13:46<02:30,  3.43it/s]"
          ],
          "name": "stderr"
        },
        {
          "output_type": "stream",
          "text": [
            "Closed? 63116\n"
          ],
          "name": "stdout"
        },
        {
          "output_type": "stream",
          "text": [
            " 85%|████████▌ | 2997/3510 [13:48<04:33,  1.88it/s]"
          ],
          "name": "stderr"
        },
        {
          "output_type": "stream",
          "text": [
            "Closed? 61951\n"
          ],
          "name": "stdout"
        },
        {
          "output_type": "stream",
          "text": [
            " 86%|████████▌ | 3016/3510 [13:53<01:38,  5.04it/s]"
          ],
          "name": "stderr"
        },
        {
          "output_type": "stream",
          "text": [
            "Closed? 54658\n"
          ],
          "name": "stdout"
        },
        {
          "output_type": "stream",
          "text": [
            " 86%|████████▌ | 3025/3510 [13:56<02:12,  3.67it/s]"
          ],
          "name": "stderr"
        },
        {
          "output_type": "stream",
          "text": [
            "Closed? 27868\n"
          ],
          "name": "stdout"
        },
        {
          "output_type": "stream",
          "text": [
            " 86%|████████▋ | 3028/3510 [13:57<02:07,  3.79it/s]"
          ],
          "name": "stderr"
        },
        {
          "output_type": "stream",
          "text": [
            "Closed? 21498\n"
          ],
          "name": "stdout"
        },
        {
          "output_type": "stream",
          "text": [
            " 86%|████████▋ | 3034/3510 [13:58<02:06,  3.78it/s]"
          ],
          "name": "stderr"
        },
        {
          "output_type": "stream",
          "text": [
            "Closed? 62779\n",
            "Closed? 23895\n",
            "Closed? 32891\n"
          ],
          "name": "stdout"
        },
        {
          "output_type": "stream",
          "text": [
            " 87%|████████▋ | 3038/3510 [13:59<02:12,  3.56it/s]"
          ],
          "name": "stderr"
        },
        {
          "output_type": "stream",
          "text": [
            "Closed? 24116\n"
          ],
          "name": "stdout"
        },
        {
          "output_type": "stream",
          "text": [
            " 87%|████████▋ | 3043/3510 [14:00<01:34,  4.95it/s]"
          ],
          "name": "stderr"
        },
        {
          "output_type": "stream",
          "text": [
            "Closed? 52904\n",
            "Closed? 27426\n"
          ],
          "name": "stdout"
        },
        {
          "output_type": "stream",
          "text": [
            " 87%|████████▋ | 3046/3510 [14:01<02:45,  2.81it/s]"
          ],
          "name": "stderr"
        },
        {
          "output_type": "stream",
          "text": [
            "Closed? 30348\n"
          ],
          "name": "stdout"
        },
        {
          "output_type": "stream",
          "text": [
            " 87%|████████▋ | 3064/3510 [14:07<03:06,  2.39it/s]"
          ],
          "name": "stderr"
        },
        {
          "output_type": "stream",
          "text": [
            "Closed? 56903\n"
          ],
          "name": "stdout"
        },
        {
          "output_type": "stream",
          "text": [
            " 87%|████████▋ | 3068/3510 [14:08<02:42,  2.73it/s]"
          ],
          "name": "stderr"
        },
        {
          "output_type": "stream",
          "text": [
            "Closed? 30788\n"
          ],
          "name": "stdout"
        },
        {
          "output_type": "stream",
          "text": [
            "\r 87%|████████▋ | 3070/3510 [14:09<02:09,  3.39it/s]"
          ],
          "name": "stderr"
        },
        {
          "output_type": "stream",
          "text": [
            "Closed? 5907\n"
          ],
          "name": "stdout"
        },
        {
          "output_type": "stream",
          "text": [
            " 88%|████████▊ | 3074/3510 [14:10<01:53,  3.85it/s]"
          ],
          "name": "stderr"
        },
        {
          "output_type": "stream",
          "text": [
            "Closed? 19685\n"
          ],
          "name": "stdout"
        },
        {
          "output_type": "stream",
          "text": [
            " 88%|████████▊ | 3079/3510 [14:11<02:33,  2.81it/s]"
          ],
          "name": "stderr"
        },
        {
          "output_type": "stream",
          "text": [
            "Closed? 30949\n"
          ],
          "name": "stdout"
        },
        {
          "output_type": "stream",
          "text": [
            " 88%|████████▊ | 3088/3510 [14:14<02:33,  2.75it/s]"
          ],
          "name": "stderr"
        },
        {
          "output_type": "stream",
          "text": [
            "Closed? 30934\n"
          ],
          "name": "stdout"
        },
        {
          "output_type": "stream",
          "text": [
            " 88%|████████▊ | 3095/3510 [14:16<02:36,  2.65it/s]"
          ],
          "name": "stderr"
        },
        {
          "output_type": "stream",
          "text": [
            "Closed? 27976\n"
          ],
          "name": "stdout"
        },
        {
          "output_type": "stream",
          "text": [
            " 88%|████████▊ | 3101/3510 [14:18<02:23,  2.86it/s]"
          ],
          "name": "stderr"
        },
        {
          "output_type": "stream",
          "text": [
            "Closed? 32172\n"
          ],
          "name": "stdout"
        },
        {
          "output_type": "stream",
          "text": [
            " 88%|████████▊ | 3104/3510 [14:18<02:04,  3.27it/s]"
          ],
          "name": "stderr"
        },
        {
          "output_type": "stream",
          "text": [
            "Closed? 11101\n"
          ],
          "name": "stdout"
        },
        {
          "output_type": "stream",
          "text": [
            "\r 88%|████████▊ | 3106/3510 [14:19<01:46,  3.79it/s]"
          ],
          "name": "stderr"
        },
        {
          "output_type": "stream",
          "text": [
            "Closed? 24679\n"
          ],
          "name": "stdout"
        },
        {
          "output_type": "stream",
          "text": [
            " 89%|████████▊ | 3112/3510 [14:20<01:46,  3.73it/s]"
          ],
          "name": "stderr"
        },
        {
          "output_type": "stream",
          "text": [
            "Closed? 18621\n"
          ],
          "name": "stdout"
        },
        {
          "output_type": "stream",
          "text": [
            " 89%|████████▉ | 3118/3510 [14:23<02:34,  2.53it/s]"
          ],
          "name": "stderr"
        },
        {
          "output_type": "stream",
          "text": [
            "Closed? 35611\n"
          ],
          "name": "stdout"
        },
        {
          "output_type": "stream",
          "text": [
            " 89%|████████▉ | 3123/3510 [14:24<01:59,  3.25it/s]"
          ],
          "name": "stderr"
        },
        {
          "output_type": "stream",
          "text": [
            "Closed? 1013\n"
          ],
          "name": "stdout"
        },
        {
          "output_type": "stream",
          "text": [
            " 89%|████████▉ | 3126/3510 [14:25<01:53,  3.40it/s]"
          ],
          "name": "stderr"
        },
        {
          "output_type": "stream",
          "text": [
            "Closed? 35062\n"
          ],
          "name": "stdout"
        },
        {
          "output_type": "stream",
          "text": [
            " 89%|████████▉ | 3133/3510 [14:27<02:15,  2.78it/s]"
          ],
          "name": "stderr"
        },
        {
          "output_type": "stream",
          "text": [
            "Closed? 16371\n"
          ],
          "name": "stdout"
        },
        {
          "output_type": "stream",
          "text": [
            " 89%|████████▉ | 3138/3510 [14:28<02:16,  2.72it/s]"
          ],
          "name": "stderr"
        },
        {
          "output_type": "stream",
          "text": [
            "Closed? 31036\n"
          ],
          "name": "stdout"
        },
        {
          "output_type": "stream",
          "text": [
            " 90%|████████▉ | 3154/3510 [14:33<01:46,  3.34it/s]"
          ],
          "name": "stderr"
        },
        {
          "output_type": "stream",
          "text": [
            "Closed? 9670\n"
          ],
          "name": "stdout"
        },
        {
          "output_type": "stream",
          "text": [
            " 90%|█████████ | 3163/3510 [14:37<01:55,  3.00it/s]"
          ],
          "name": "stderr"
        },
        {
          "output_type": "stream",
          "text": [
            "Closed? 419\n"
          ],
          "name": "stdout"
        },
        {
          "output_type": "stream",
          "text": [
            " 90%|█████████ | 3166/3510 [14:37<01:34,  3.64it/s]"
          ],
          "name": "stderr"
        },
        {
          "output_type": "stream",
          "text": [
            "Closed? 63377\n"
          ],
          "name": "stdout"
        },
        {
          "output_type": "stream",
          "text": [
            " 91%|█████████ | 3177/3510 [14:41<01:57,  2.84it/s]"
          ],
          "name": "stderr"
        },
        {
          "output_type": "stream",
          "text": [
            "Closed? 8080\n",
            "Closed? 59371\n",
            "Closed? 25911\n",
            "Closed? 4627\n"
          ],
          "name": "stdout"
        },
        {
          "output_type": "stream",
          "text": [
            " 91%|█████████ | 3185/3510 [14:42<01:50,  2.95it/s]"
          ],
          "name": "stderr"
        },
        {
          "output_type": "stream",
          "text": [
            "Closed? 29789\n"
          ],
          "name": "stdout"
        },
        {
          "output_type": "stream",
          "text": [
            " 91%|█████████ | 3194/3510 [14:45<01:44,  3.03it/s]"
          ],
          "name": "stderr"
        },
        {
          "output_type": "stream",
          "text": [
            "Closed? 24634\n",
            "Closed? 19181\n"
          ],
          "name": "stdout"
        },
        {
          "output_type": "stream",
          "text": [
            " 92%|█████████▏| 3217/3510 [14:52<01:32,  3.16it/s]"
          ],
          "name": "stderr"
        },
        {
          "output_type": "stream",
          "text": [
            "Closed? 54079\n"
          ],
          "name": "stdout"
        },
        {
          "output_type": "stream",
          "text": [
            " 92%|█████████▏| 3236/3510 [14:58<01:21,  3.37it/s]"
          ],
          "name": "stderr"
        },
        {
          "output_type": "stream",
          "text": [
            "Closed? 54319\n"
          ],
          "name": "stdout"
        },
        {
          "output_type": "stream",
          "text": [
            " 92%|█████████▏| 3242/3510 [15:00<01:13,  3.64it/s]"
          ],
          "name": "stderr"
        },
        {
          "output_type": "stream",
          "text": [
            "Closed? 33406\n"
          ],
          "name": "stdout"
        },
        {
          "output_type": "stream",
          "text": [
            " 93%|█████████▎| 3249/3510 [15:02<01:25,  3.07it/s]"
          ],
          "name": "stderr"
        },
        {
          "output_type": "stream",
          "text": [
            "Closed? 405\n"
          ],
          "name": "stdout"
        },
        {
          "output_type": "stream",
          "text": [
            " 93%|█████████▎| 3264/3510 [15:05<01:01,  4.01it/s]"
          ],
          "name": "stderr"
        },
        {
          "output_type": "stream",
          "text": [
            "Closed? 34130\n"
          ],
          "name": "stdout"
        },
        {
          "output_type": "stream",
          "text": [
            " 93%|█████████▎| 3268/3510 [15:07<01:05,  3.68it/s]"
          ],
          "name": "stderr"
        },
        {
          "output_type": "stream",
          "text": [
            "Closed? 55043\n"
          ],
          "name": "stdout"
        },
        {
          "output_type": "stream",
          "text": [
            " 93%|█████████▎| 3274/3510 [15:08<01:06,  3.57it/s]"
          ],
          "name": "stderr"
        },
        {
          "output_type": "stream",
          "text": [
            "Closed? 25870\n"
          ],
          "name": "stdout"
        },
        {
          "output_type": "stream",
          "text": [
            " 94%|█████████▎| 3288/3510 [15:14<01:18,  2.81it/s]"
          ],
          "name": "stderr"
        },
        {
          "output_type": "stream",
          "text": [
            "Closed? 56896\n"
          ],
          "name": "stdout"
        },
        {
          "output_type": "stream",
          "text": [
            " 94%|█████████▍| 3298/3510 [15:17<01:07,  3.15it/s]"
          ],
          "name": "stderr"
        },
        {
          "output_type": "stream",
          "text": [
            "Closed? 13375\n"
          ],
          "name": "stdout"
        },
        {
          "output_type": "stream",
          "text": [
            "\r 94%|█████████▍| 3300/3510 [15:17<00:56,  3.75it/s]"
          ],
          "name": "stderr"
        },
        {
          "output_type": "stream",
          "text": [
            "Closed? 58894\n"
          ],
          "name": "stdout"
        },
        {
          "output_type": "stream",
          "text": [
            " 94%|█████████▍| 3311/3510 [15:21<01:11,  2.80it/s]"
          ],
          "name": "stderr"
        },
        {
          "output_type": "stream",
          "text": [
            "Closed? 17884\n"
          ],
          "name": "stdout"
        },
        {
          "output_type": "stream",
          "text": [
            " 95%|█████████▍| 3317/3510 [15:22<00:58,  3.29it/s]"
          ],
          "name": "stderr"
        },
        {
          "output_type": "stream",
          "text": [
            "Closed? 8712\n",
            "Closed? 4159\n"
          ],
          "name": "stdout"
        },
        {
          "output_type": "stream",
          "text": [
            " 95%|█████████▍| 3327/3510 [15:25<00:52,  3.49it/s]"
          ],
          "name": "stderr"
        },
        {
          "output_type": "stream",
          "text": [
            "Closed? 24645\n",
            "Closed? 6706\n"
          ],
          "name": "stdout"
        },
        {
          "output_type": "stream",
          "text": [
            " 95%|█████████▍| 3333/3510 [15:26<00:56,  3.12it/s]"
          ],
          "name": "stderr"
        },
        {
          "output_type": "stream",
          "text": [
            "Closed? 12302\n"
          ],
          "name": "stdout"
        },
        {
          "output_type": "stream",
          "text": [
            " 95%|█████████▌| 3345/3510 [15:31<00:57,  2.87it/s]"
          ],
          "name": "stderr"
        },
        {
          "output_type": "stream",
          "text": [
            "Closed? 60005\n"
          ],
          "name": "stdout"
        },
        {
          "output_type": "stream",
          "text": [
            " 95%|█████████▌| 3349/3510 [15:32<00:49,  3.24it/s]"
          ],
          "name": "stderr"
        },
        {
          "output_type": "stream",
          "text": [
            "Closed? 24874\n"
          ],
          "name": "stdout"
        },
        {
          "output_type": "stream",
          "text": [
            " 96%|█████████▌| 3366/3510 [15:37<00:44,  3.22it/s]"
          ],
          "name": "stderr"
        },
        {
          "output_type": "stream",
          "text": [
            "Closed? 23018\n"
          ],
          "name": "stdout"
        },
        {
          "output_type": "stream",
          "text": [
            " 96%|█████████▌| 3370/3510 [15:38<00:43,  3.25it/s]"
          ],
          "name": "stderr"
        },
        {
          "output_type": "stream",
          "text": [
            "Closed? 3079\n"
          ],
          "name": "stdout"
        },
        {
          "output_type": "stream",
          "text": [
            " 96%|█████████▌| 3374/3510 [15:39<00:35,  3.79it/s]"
          ],
          "name": "stderr"
        },
        {
          "output_type": "stream",
          "text": [
            "Closed? 31491\n"
          ],
          "name": "stdout"
        },
        {
          "output_type": "stream",
          "text": [
            "\r 96%|█████████▌| 3376/3510 [15:39<00:33,  4.01it/s]"
          ],
          "name": "stderr"
        },
        {
          "output_type": "stream",
          "text": [
            "Closed? 53594\n"
          ],
          "name": "stdout"
        },
        {
          "output_type": "stream",
          "text": [
            " 96%|█████████▋| 3380/3510 [15:40<00:36,  3.58it/s]"
          ],
          "name": "stderr"
        },
        {
          "output_type": "stream",
          "text": [
            "Closed? 4043\n"
          ],
          "name": "stdout"
        },
        {
          "output_type": "stream",
          "text": [
            " 97%|█████████▋| 3390/3510 [15:43<00:42,  2.83it/s]"
          ],
          "name": "stderr"
        },
        {
          "output_type": "stream",
          "text": [
            "Closed? 55068\n"
          ],
          "name": "stdout"
        },
        {
          "output_type": "stream",
          "text": [
            " 97%|█████████▋| 3395/3510 [15:45<00:33,  3.47it/s]"
          ],
          "name": "stderr"
        },
        {
          "output_type": "stream",
          "text": [
            "Closed? 18945\n",
            "Closed? 60361\n"
          ],
          "name": "stdout"
        },
        {
          "output_type": "stream",
          "text": [
            " 97%|█████████▋| 3405/3510 [15:47<00:35,  2.99it/s]"
          ],
          "name": "stderr"
        },
        {
          "output_type": "stream",
          "text": [
            "Closed? 62166\n"
          ],
          "name": "stdout"
        },
        {
          "output_type": "stream",
          "text": [
            " 97%|█████████▋| 3416/3510 [15:49<00:25,  3.63it/s]"
          ],
          "name": "stderr"
        },
        {
          "output_type": "stream",
          "text": [
            "Closed? 60861\n"
          ],
          "name": "stdout"
        },
        {
          "output_type": "stream",
          "text": [
            " 97%|█████████▋| 3421/3510 [15:51<00:30,  2.95it/s]"
          ],
          "name": "stderr"
        },
        {
          "output_type": "stream",
          "text": [
            "Closed? 8981\n"
          ],
          "name": "stdout"
        },
        {
          "output_type": "stream",
          "text": [
            "\r 98%|█████████▊| 3423/3510 [15:51<00:24,  3.60it/s]"
          ],
          "name": "stderr"
        },
        {
          "output_type": "stream",
          "text": [
            "Closed? 20677\n",
            "Closed? 58195\n"
          ],
          "name": "stdout"
        },
        {
          "output_type": "stream",
          "text": [
            " 98%|█████████▊| 3430/3510 [15:53<00:25,  3.13it/s]"
          ],
          "name": "stderr"
        },
        {
          "output_type": "stream",
          "text": [
            "Closed? 10092\n"
          ],
          "name": "stdout"
        },
        {
          "output_type": "stream",
          "text": [
            " 98%|█████████▊| 3435/3510 [15:54<00:24,  3.06it/s]"
          ],
          "name": "stderr"
        },
        {
          "output_type": "stream",
          "text": [
            "Closed? 62017\n"
          ],
          "name": "stdout"
        },
        {
          "output_type": "stream",
          "text": [
            " 98%|█████████▊| 3453/3510 [16:00<00:18,  3.10it/s]"
          ],
          "name": "stderr"
        },
        {
          "output_type": "stream",
          "text": [
            "Closed? 52867\n"
          ],
          "name": "stdout"
        },
        {
          "output_type": "stream",
          "text": [
            " 98%|█████████▊| 3457/3510 [16:01<00:18,  2.88it/s]"
          ],
          "name": "stderr"
        },
        {
          "output_type": "stream",
          "text": [
            "Closed? 35503\n"
          ],
          "name": "stdout"
        },
        {
          "output_type": "stream",
          "text": [
            " 99%|█████████▉| 3470/3510 [16:06<00:13,  3.03it/s]"
          ],
          "name": "stderr"
        },
        {
          "output_type": "stream",
          "text": [
            "Closed? 63831\n"
          ],
          "name": "stdout"
        },
        {
          "output_type": "stream",
          "text": [
            " 99%|█████████▉| 3475/3510 [16:07<00:12,  2.85it/s]"
          ],
          "name": "stderr"
        },
        {
          "output_type": "stream",
          "text": [
            "Closed? 34989\n"
          ],
          "name": "stdout"
        },
        {
          "output_type": "stream",
          "text": [
            "\r 99%|█████████▉| 3477/3510 [16:08<00:10,  3.19it/s]"
          ],
          "name": "stderr"
        },
        {
          "output_type": "stream",
          "text": [
            "Closed? 16411\n"
          ],
          "name": "stdout"
        },
        {
          "output_type": "stream",
          "text": [
            " 99%|█████████▉| 3490/3510 [16:11<00:06,  3.17it/s]"
          ],
          "name": "stderr"
        },
        {
          "output_type": "stream",
          "text": [
            "Closed? 21173\n"
          ],
          "name": "stdout"
        },
        {
          "output_type": "stream",
          "text": [
            "100%|█████████▉| 3494/3510 [16:12<00:03,  4.77it/s]"
          ],
          "name": "stderr"
        },
        {
          "output_type": "stream",
          "text": [
            "Closed? 61252\n"
          ],
          "name": "stdout"
        },
        {
          "output_type": "stream",
          "text": [
            "100%|█████████▉| 3497/3510 [16:13<00:03,  3.61it/s]"
          ],
          "name": "stderr"
        },
        {
          "output_type": "stream",
          "text": [
            "Closed? 33580\n"
          ],
          "name": "stdout"
        },
        {
          "output_type": "stream",
          "text": [
            "100%|█████████▉| 3505/3510 [16:15<00:01,  4.01it/s]"
          ],
          "name": "stderr"
        },
        {
          "output_type": "stream",
          "text": [
            "Closed? 53887\n"
          ],
          "name": "stdout"
        },
        {
          "output_type": "stream",
          "text": [
            "\r100%|█████████▉| 3507/3510 [16:15<00:00,  4.63it/s]"
          ],
          "name": "stderr"
        },
        {
          "output_type": "stream",
          "text": [
            "Closed? 10100\n",
            "Closed? 19984\n"
          ],
          "name": "stdout"
        },
        {
          "output_type": "stream",
          "text": [
            "100%|██████████| 3510/3510 [16:15<00:00,  3.60it/s]\n",
            "  0%|          | 3/3510 [00:00<15:37,  3.74it/s]"
          ],
          "name": "stderr"
        },
        {
          "output_type": "stream",
          "text": [
            "Closed? 13262\n",
            "Closed? 34968\n"
          ],
          "name": "stdout"
        },
        {
          "output_type": "stream",
          "text": [
            "  1%|          | 21/3510 [00:05<17:30,  3.32it/s]"
          ],
          "name": "stderr"
        },
        {
          "output_type": "stream",
          "text": [
            "Closed? 844\n",
            "Closed? 11243\n"
          ],
          "name": "stdout"
        },
        {
          "output_type": "stream",
          "text": [
            "\r  1%|          | 24/3510 [00:06<15:01,  3.87it/s]"
          ],
          "name": "stderr"
        },
        {
          "output_type": "stream",
          "text": [
            "Closed? 29851\n"
          ],
          "name": "stdout"
        },
        {
          "output_type": "stream",
          "text": [
            "  1%|          | 37/3510 [00:09<16:24,  3.53it/s]"
          ],
          "name": "stderr"
        },
        {
          "output_type": "stream",
          "text": [
            "Closed? 7213\n"
          ],
          "name": "stdout"
        },
        {
          "output_type": "stream",
          "text": [
            "  1%|          | 43/3510 [00:11<17:32,  3.29it/s]"
          ],
          "name": "stderr"
        },
        {
          "output_type": "stream",
          "text": [
            "Closed? 6826\n"
          ],
          "name": "stdout"
        },
        {
          "output_type": "stream",
          "text": [
            "  1%|▏         | 46/3510 [00:11<13:45,  4.20it/s]"
          ],
          "name": "stderr"
        },
        {
          "output_type": "stream",
          "text": [
            "Closed? 22599\n"
          ],
          "name": "stdout"
        },
        {
          "output_type": "stream",
          "text": [
            "  2%|▏         | 65/3510 [00:17<17:24,  3.30it/s]"
          ],
          "name": "stderr"
        },
        {
          "output_type": "stream",
          "text": [
            "Closed? 6701\n",
            "Closed? 36503\n"
          ],
          "name": "stdout"
        },
        {
          "output_type": "stream",
          "text": [
            "  2%|▏         | 74/3510 [00:19<16:30,  3.47it/s]"
          ],
          "name": "stderr"
        },
        {
          "output_type": "stream",
          "text": [
            "Closed? 31864\n"
          ],
          "name": "stdout"
        },
        {
          "output_type": "stream",
          "text": [
            "\r  2%|▏         | 76/3510 [00:19<14:10,  4.04it/s]"
          ],
          "name": "stderr"
        },
        {
          "output_type": "stream",
          "text": [
            "Closed? 25321\n",
            "Closed? 58957\n"
          ],
          "name": "stdout"
        },
        {
          "output_type": "stream",
          "text": [
            "  2%|▏         | 82/3510 [00:20<12:10,  4.70it/s]"
          ],
          "name": "stderr"
        },
        {
          "output_type": "stream",
          "text": [
            "Closed? 61052\n"
          ],
          "name": "stdout"
        },
        {
          "output_type": "stream",
          "text": [
            "  3%|▎         | 88/3510 [00:22<17:32,  3.25it/s]"
          ],
          "name": "stderr"
        },
        {
          "output_type": "stream",
          "text": [
            "Closed? 24599\n",
            "Closed? 26764\n"
          ],
          "name": "stdout"
        },
        {
          "output_type": "stream",
          "text": [
            "  3%|▎         | 96/3510 [00:24<13:42,  4.15it/s]"
          ],
          "name": "stderr"
        },
        {
          "output_type": "stream",
          "text": [
            "Closed? 28177\n"
          ],
          "name": "stdout"
        },
        {
          "output_type": "stream",
          "text": [
            "  3%|▎         | 119/3510 [00:32<19:20,  2.92it/s]"
          ],
          "name": "stderr"
        },
        {
          "output_type": "stream",
          "text": [
            "Closed? 5364\n"
          ],
          "name": "stdout"
        },
        {
          "output_type": "stream",
          "text": [
            "  4%|▎         | 126/3510 [00:33<15:27,  3.65it/s]"
          ],
          "name": "stderr"
        },
        {
          "output_type": "stream",
          "text": [
            "Closed? 29420\n"
          ],
          "name": "stdout"
        },
        {
          "output_type": "stream",
          "text": [
            "  4%|▍         | 144/3510 [00:39<16:10,  3.47it/s]"
          ],
          "name": "stderr"
        },
        {
          "output_type": "stream",
          "text": [
            "Closed? 9311\n"
          ],
          "name": "stdout"
        },
        {
          "output_type": "stream",
          "text": [
            "  5%|▍         | 165/3510 [00:45<16:58,  3.28it/s]"
          ],
          "name": "stderr"
        },
        {
          "output_type": "stream",
          "text": [
            "Closed? 29869\n"
          ],
          "name": "stdout"
        },
        {
          "output_type": "stream",
          "text": [
            "  5%|▍         | 169/3510 [00:46<15:21,  3.62it/s]"
          ],
          "name": "stderr"
        },
        {
          "output_type": "stream",
          "text": [
            "Closed? 10910\n"
          ],
          "name": "stdout"
        },
        {
          "output_type": "stream",
          "text": [
            "  5%|▌         | 177/3510 [00:48<16:39,  3.33it/s]"
          ],
          "name": "stderr"
        },
        {
          "output_type": "stream",
          "text": [
            "Closed? 30984\n"
          ],
          "name": "stdout"
        },
        {
          "output_type": "stream",
          "text": [
            "\r  5%|▌         | 179/3510 [00:48<13:53,  4.00it/s]"
          ],
          "name": "stderr"
        },
        {
          "output_type": "stream",
          "text": [
            "Closed? 62772\n"
          ],
          "name": "stdout"
        },
        {
          "output_type": "stream",
          "text": [
            "  5%|▌         | 186/3510 [00:50<16:07,  3.44it/s]"
          ],
          "name": "stderr"
        },
        {
          "output_type": "stream",
          "text": [
            "Closed? 14692\n"
          ],
          "name": "stdout"
        },
        {
          "output_type": "stream",
          "text": [
            "\r  5%|▌         | 188/3510 [00:50<13:58,  3.96it/s]"
          ],
          "name": "stderr"
        },
        {
          "output_type": "stream",
          "text": [
            "Closed? 8519\n"
          ],
          "name": "stdout"
        },
        {
          "output_type": "stream",
          "text": [
            "\r  5%|▌         | 190/3510 [00:50<11:57,  4.63it/s]"
          ],
          "name": "stderr"
        },
        {
          "output_type": "stream",
          "text": [
            "Closed? 56607\n"
          ],
          "name": "stdout"
        },
        {
          "output_type": "stream",
          "text": [
            "  6%|▌         | 194/3510 [00:51<09:38,  5.74it/s]"
          ],
          "name": "stderr"
        },
        {
          "output_type": "stream",
          "text": [
            "Closed? 19926\n"
          ],
          "name": "stdout"
        },
        {
          "output_type": "stream",
          "text": [
            "  6%|▌         | 200/3510 [00:53<15:18,  3.60it/s]"
          ],
          "name": "stderr"
        },
        {
          "output_type": "stream",
          "text": [
            "Closed? 62904\n"
          ],
          "name": "stdout"
        },
        {
          "output_type": "stream",
          "text": [
            "  6%|▌         | 204/3510 [00:54<18:04,  3.05it/s]"
          ],
          "name": "stderr"
        },
        {
          "output_type": "stream",
          "text": [
            "Closed? 32513\n",
            "Closed? 36848\n",
            "Closed? 12675\n",
            "Closed? 21063\n"
          ],
          "name": "stdout"
        },
        {
          "output_type": "stream",
          "text": [
            "\r  6%|▌         | 209/3510 [00:54<13:51,  3.97it/s]"
          ],
          "name": "stderr"
        },
        {
          "output_type": "stream",
          "text": [
            "Closed? 21950\n"
          ],
          "name": "stdout"
        },
        {
          "output_type": "stream",
          "text": [
            "  6%|▌         | 213/3510 [00:55<16:05,  3.41it/s]"
          ],
          "name": "stderr"
        },
        {
          "output_type": "stream",
          "text": [
            "Closed? 55740\n"
          ],
          "name": "stdout"
        },
        {
          "output_type": "stream",
          "text": [
            "  6%|▋         | 224/3510 [00:59<20:51,  2.63it/s]"
          ],
          "name": "stderr"
        },
        {
          "output_type": "stream",
          "text": [
            "Closed? 60558\n"
          ],
          "name": "stdout"
        },
        {
          "output_type": "stream",
          "text": [
            "  6%|▋         | 228/3510 [01:00<19:10,  2.85it/s]"
          ],
          "name": "stderr"
        },
        {
          "output_type": "stream",
          "text": [
            "Closed? 12997\n"
          ],
          "name": "stdout"
        },
        {
          "output_type": "stream",
          "text": [
            "  7%|▋         | 235/3510 [01:02<16:46,  3.25it/s]"
          ],
          "name": "stderr"
        },
        {
          "output_type": "stream",
          "text": [
            "Closed? 7775\n"
          ],
          "name": "stdout"
        },
        {
          "output_type": "stream",
          "text": [
            "  7%|▋         | 239/3510 [01:03<18:03,  3.02it/s]"
          ],
          "name": "stderr"
        },
        {
          "output_type": "stream",
          "text": [
            "Closed? 13292\n"
          ],
          "name": "stdout"
        },
        {
          "output_type": "stream",
          "text": [
            "  7%|▋         | 245/3510 [01:05<15:22,  3.54it/s]"
          ],
          "name": "stderr"
        },
        {
          "output_type": "stream",
          "text": [
            "Closed? 4704\n"
          ],
          "name": "stdout"
        },
        {
          "output_type": "stream",
          "text": [
            "  7%|▋         | 249/3510 [01:06<16:23,  3.32it/s]"
          ],
          "name": "stderr"
        },
        {
          "output_type": "stream",
          "text": [
            "Closed? 23540\n"
          ],
          "name": "stdout"
        },
        {
          "output_type": "stream",
          "text": [
            "\r  7%|▋         | 251/3510 [01:06<14:20,  3.79it/s]"
          ],
          "name": "stderr"
        },
        {
          "output_type": "stream",
          "text": [
            "Closed? 34471\n"
          ],
          "name": "stdout"
        },
        {
          "output_type": "stream",
          "text": [
            "  7%|▋         | 263/3510 [01:10<16:14,  3.33it/s]"
          ],
          "name": "stderr"
        },
        {
          "output_type": "stream",
          "text": [
            "Closed? 2039\n"
          ],
          "name": "stdout"
        },
        {
          "output_type": "stream",
          "text": [
            "  8%|▊         | 267/3510 [01:11<13:26,  4.02it/s]"
          ],
          "name": "stderr"
        },
        {
          "output_type": "stream",
          "text": [
            "Closed? 29338\n"
          ],
          "name": "stdout"
        },
        {
          "output_type": "stream",
          "text": [
            "  8%|▊         | 280/3510 [01:15<18:07,  2.97it/s]"
          ],
          "name": "stderr"
        },
        {
          "output_type": "stream",
          "text": [
            "Closed? 59553\n"
          ],
          "name": "stdout"
        },
        {
          "output_type": "stream",
          "text": [
            "  9%|▊         | 307/3510 [01:23<17:48,  3.00it/s]"
          ],
          "name": "stderr"
        },
        {
          "output_type": "stream",
          "text": [
            "Closed? 33098\n"
          ],
          "name": "stdout"
        },
        {
          "output_type": "stream",
          "text": [
            "  9%|▉         | 310/3510 [01:24<13:32,  3.94it/s]"
          ],
          "name": "stderr"
        },
        {
          "output_type": "stream",
          "text": [
            "Closed? 22678\n"
          ],
          "name": "stdout"
        },
        {
          "output_type": "stream",
          "text": [
            "\r  9%|▉         | 312/3510 [01:24<12:27,  4.28it/s]"
          ],
          "name": "stderr"
        },
        {
          "output_type": "stream",
          "text": [
            "Closed? 35099\n"
          ],
          "name": "stdout"
        },
        {
          "output_type": "stream",
          "text": [
            "  9%|▉         | 318/3510 [01:26<17:39,  3.01it/s]"
          ],
          "name": "stderr"
        },
        {
          "output_type": "stream",
          "text": [
            "Closed? 26871\n"
          ],
          "name": "stdout"
        },
        {
          "output_type": "stream",
          "text": [
            "  9%|▉         | 321/3510 [01:27<14:48,  3.59it/s]"
          ],
          "name": "stderr"
        },
        {
          "output_type": "stream",
          "text": [
            "Closed? 13428\n"
          ],
          "name": "stdout"
        },
        {
          "output_type": "stream",
          "text": [
            "  9%|▉         | 326/3510 [01:28<10:59,  4.83it/s]"
          ],
          "name": "stderr"
        },
        {
          "output_type": "stream",
          "text": [
            "Closed? 26677\n"
          ],
          "name": "stdout"
        },
        {
          "output_type": "stream",
          "text": [
            "  9%|▉         | 329/3510 [01:29<14:17,  3.71it/s]"
          ],
          "name": "stderr"
        },
        {
          "output_type": "stream",
          "text": [
            "Closed? 12729\n"
          ],
          "name": "stdout"
        },
        {
          "output_type": "stream",
          "text": [
            " 10%|▉         | 345/3510 [01:34<20:52,  2.53it/s]"
          ],
          "name": "stderr"
        },
        {
          "output_type": "stream",
          "text": [
            "Closed? 231\n"
          ],
          "name": "stdout"
        },
        {
          "output_type": "stream",
          "text": [
            " 10%|█         | 355/3510 [01:36<10:58,  4.79it/s]"
          ],
          "name": "stderr"
        },
        {
          "output_type": "stream",
          "text": [
            "Closed? 16450\n"
          ],
          "name": "stdout"
        },
        {
          "output_type": "stream",
          "text": [
            " 10%|█         | 357/3510 [01:36<14:14,  3.69it/s]"
          ],
          "name": "stderr"
        },
        {
          "output_type": "stream",
          "text": [
            "Closed? 5160\n"
          ],
          "name": "stdout"
        },
        {
          "output_type": "stream",
          "text": [
            " 10%|█         | 361/3510 [01:37<11:19,  4.64it/s]"
          ],
          "name": "stderr"
        },
        {
          "output_type": "stream",
          "text": [
            "Closed? 12966\n"
          ],
          "name": "stdout"
        },
        {
          "output_type": "stream",
          "text": [
            " 11%|█         | 372/3510 [01:41<18:31,  2.82it/s]"
          ],
          "name": "stderr"
        },
        {
          "output_type": "stream",
          "text": [
            "Closed? 5589\n",
            "Closed? 26384\n"
          ],
          "name": "stdout"
        },
        {
          "output_type": "stream",
          "text": [
            " 11%|█         | 376/3510 [01:41<13:23,  3.90it/s]"
          ],
          "name": "stderr"
        },
        {
          "output_type": "stream",
          "text": [
            "Closed? 27511\n"
          ],
          "name": "stdout"
        },
        {
          "output_type": "stream",
          "text": [
            " 11%|█         | 389/3510 [01:46<18:30,  2.81it/s]"
          ],
          "name": "stderr"
        },
        {
          "output_type": "stream",
          "text": [
            "Closed? 3085\n"
          ],
          "name": "stdout"
        },
        {
          "output_type": "stream",
          "text": [
            " 11%|█▏        | 402/3510 [01:50<16:48,  3.08it/s]"
          ],
          "name": "stderr"
        },
        {
          "output_type": "stream",
          "text": [
            "Closed? 9809\n"
          ],
          "name": "stdout"
        },
        {
          "output_type": "stream",
          "text": [
            " 12%|█▏        | 411/3510 [01:52<16:36,  3.11it/s]"
          ],
          "name": "stderr"
        },
        {
          "output_type": "stream",
          "text": [
            "Closed? 17839\n"
          ],
          "name": "stdout"
        },
        {
          "output_type": "stream",
          "text": [
            " 12%|█▏        | 419/3510 [01:55<16:56,  3.04it/s]"
          ],
          "name": "stderr"
        },
        {
          "output_type": "stream",
          "text": [
            "Closed? 57577\n"
          ],
          "name": "stdout"
        },
        {
          "output_type": "stream",
          "text": [
            " 12%|█▏        | 430/3510 [01:58<17:08,  3.00it/s]"
          ],
          "name": "stderr"
        },
        {
          "output_type": "stream",
          "text": [
            "Closed? 11606\n"
          ],
          "name": "stdout"
        },
        {
          "output_type": "stream",
          "text": [
            " 13%|█▎        | 442/3510 [02:03<21:06,  2.42it/s]"
          ],
          "name": "stderr"
        },
        {
          "output_type": "stream",
          "text": [
            "Closed? 23097\n"
          ],
          "name": "stdout"
        },
        {
          "output_type": "stream",
          "text": [
            " 13%|█▎        | 446/3510 [02:04<13:07,  3.89it/s]"
          ],
          "name": "stderr"
        },
        {
          "output_type": "stream",
          "text": [
            "Closed? 25330\n"
          ],
          "name": "stdout"
        },
        {
          "output_type": "stream",
          "text": [
            " 13%|█▎        | 462/3510 [02:09<14:52,  3.41it/s]"
          ],
          "name": "stderr"
        },
        {
          "output_type": "stream",
          "text": [
            "Closed? 60810\n"
          ],
          "name": "stdout"
        },
        {
          "output_type": "stream",
          "text": [
            " 13%|█▎        | 470/3510 [02:11<18:56,  2.67it/s]"
          ],
          "name": "stderr"
        },
        {
          "output_type": "stream",
          "text": [
            "Closed? 61164\n",
            "Closed? 13294\n"
          ],
          "name": "stdout"
        },
        {
          "output_type": "stream",
          "text": [
            " 14%|█▎        | 475/3510 [02:12<15:53,  3.18it/s]"
          ],
          "name": "stderr"
        },
        {
          "output_type": "stream",
          "text": [
            "Closed? 15770\n"
          ],
          "name": "stdout"
        },
        {
          "output_type": "stream",
          "text": [
            "\r 14%|█▎        | 477/3510 [02:12<12:49,  3.94it/s]"
          ],
          "name": "stderr"
        },
        {
          "output_type": "stream",
          "text": [
            "Closed? 27856\n"
          ],
          "name": "stdout"
        },
        {
          "output_type": "stream",
          "text": [
            " 14%|█▍        | 484/3510 [02:14<11:43,  4.30it/s]"
          ],
          "name": "stderr"
        },
        {
          "output_type": "stream",
          "text": [
            "Closed? 10229\n",
            "Closed? 6414\n",
            "Closed? 30264\n"
          ],
          "name": "stdout"
        },
        {
          "output_type": "stream",
          "text": [
            " 14%|█▍        | 490/3510 [02:15<10:52,  4.63it/s]"
          ],
          "name": "stderr"
        },
        {
          "output_type": "stream",
          "text": [
            "Closed? 36638\n"
          ],
          "name": "stdout"
        },
        {
          "output_type": "stream",
          "text": [
            " 14%|█▍        | 496/3510 [02:17<13:42,  3.67it/s]"
          ],
          "name": "stderr"
        },
        {
          "output_type": "stream",
          "text": [
            "Closed? 18791\n"
          ],
          "name": "stdout"
        },
        {
          "output_type": "stream",
          "text": [
            " 14%|█▍        | 506/3510 [02:19<16:32,  3.03it/s]"
          ],
          "name": "stderr"
        },
        {
          "output_type": "stream",
          "text": [
            "Closed? 21041\n"
          ],
          "name": "stdout"
        },
        {
          "output_type": "stream",
          "text": [
            " 15%|█▍        | 510/3510 [02:20<13:29,  3.71it/s]"
          ],
          "name": "stderr"
        },
        {
          "output_type": "stream",
          "text": [
            "Closed? 11597\n",
            "Closed? 7105\n"
          ],
          "name": "stdout"
        },
        {
          "output_type": "stream",
          "text": [
            " 15%|█▍        | 521/3510 [02:22<11:15,  4.42it/s]"
          ],
          "name": "stderr"
        },
        {
          "output_type": "stream",
          "text": [
            "Closed? 30029\n"
          ],
          "name": "stdout"
        },
        {
          "output_type": "stream",
          "text": [
            " 15%|█▍        | 523/3510 [02:23<11:14,  4.43it/s]"
          ],
          "name": "stderr"
        },
        {
          "output_type": "stream",
          "text": [
            "Closed? 34684\n",
            "Closed? 7725\n",
            "Closed? 26852\n"
          ],
          "name": "stdout"
        },
        {
          "output_type": "stream",
          "text": [
            " 15%|█▌        | 537/3510 [02:27<16:46,  2.95it/s]"
          ],
          "name": "stderr"
        },
        {
          "output_type": "stream",
          "text": [
            "Closed? 30255\n"
          ],
          "name": "stdout"
        },
        {
          "output_type": "stream",
          "text": [
            " 15%|█▌        | 540/3510 [02:27<13:05,  3.78it/s]"
          ],
          "name": "stderr"
        },
        {
          "output_type": "stream",
          "text": [
            "Closed? 6072\n"
          ],
          "name": "stdout"
        },
        {
          "output_type": "stream",
          "text": [
            " 16%|█▌        | 548/3510 [02:30<17:47,  2.78it/s]"
          ],
          "name": "stderr"
        },
        {
          "output_type": "stream",
          "text": [
            "Closed? 24934\n"
          ],
          "name": "stdout"
        },
        {
          "output_type": "stream",
          "text": [
            " 16%|█▌        | 553/3510 [02:31<13:31,  3.64it/s]"
          ],
          "name": "stderr"
        },
        {
          "output_type": "stream",
          "text": [
            "Closed? 16607\n"
          ],
          "name": "stdout"
        },
        {
          "output_type": "stream",
          "text": [
            " 16%|█▌        | 562/3510 [02:33<14:28,  3.39it/s]"
          ],
          "name": "stderr"
        },
        {
          "output_type": "stream",
          "text": [
            "Closed? 24043\n"
          ],
          "name": "stdout"
        },
        {
          "output_type": "stream",
          "text": [
            " 16%|█▌        | 568/3510 [02:35<13:32,  3.62it/s]"
          ],
          "name": "stderr"
        },
        {
          "output_type": "stream",
          "text": [
            "Closed? 2419\n"
          ],
          "name": "stdout"
        },
        {
          "output_type": "stream",
          "text": [
            " 16%|█▌        | 570/3510 [02:36<14:47,  3.31it/s]"
          ],
          "name": "stderr"
        },
        {
          "output_type": "stream",
          "text": [
            "Closed? 9817\n"
          ],
          "name": "stdout"
        },
        {
          "output_type": "stream",
          "text": [
            " 16%|█▋        | 574/3510 [02:36<11:00,  4.45it/s]"
          ],
          "name": "stderr"
        },
        {
          "output_type": "stream",
          "text": [
            "Closed? 34439\n"
          ],
          "name": "stdout"
        },
        {
          "output_type": "stream",
          "text": [
            " 16%|█▋        | 576/3510 [02:37<15:06,  3.24it/s]"
          ],
          "name": "stderr"
        },
        {
          "output_type": "stream",
          "text": [
            "Closed? 55225\n"
          ],
          "name": "stdout"
        },
        {
          "output_type": "stream",
          "text": [
            " 16%|█▋        | 579/3510 [02:38<15:33,  3.14it/s]"
          ],
          "name": "stderr"
        },
        {
          "output_type": "stream",
          "text": [
            "Closed? 60618\n"
          ],
          "name": "stdout"
        },
        {
          "output_type": "stream",
          "text": [
            " 17%|█▋        | 594/3510 [02:42<15:52,  3.06it/s]"
          ],
          "name": "stderr"
        },
        {
          "output_type": "stream",
          "text": [
            "Closed? 27289\n",
            "Closed? 30428\n"
          ],
          "name": "stdout"
        },
        {
          "output_type": "stream",
          "text": [
            "\r 17%|█▋        | 597/3510 [02:42<12:56,  3.75it/s]"
          ],
          "name": "stderr"
        },
        {
          "output_type": "stream",
          "text": [
            "Closed? 24538\n"
          ],
          "name": "stdout"
        },
        {
          "output_type": "stream",
          "text": [
            " 18%|█▊        | 618/3510 [02:49<16:22,  2.94it/s]"
          ],
          "name": "stderr"
        },
        {
          "output_type": "stream",
          "text": [
            "Closed? 26239\n"
          ],
          "name": "stdout"
        },
        {
          "output_type": "stream",
          "text": [
            " 18%|█▊        | 621/3510 [02:50<12:32,  3.84it/s]"
          ],
          "name": "stderr"
        },
        {
          "output_type": "stream",
          "text": [
            "Closed? 1202\n"
          ],
          "name": "stdout"
        },
        {
          "output_type": "stream",
          "text": [
            " 18%|█▊        | 627/3510 [02:51<13:45,  3.49it/s]"
          ],
          "name": "stderr"
        },
        {
          "output_type": "stream",
          "text": [
            "Closed? 57309\n"
          ],
          "name": "stdout"
        },
        {
          "output_type": "stream",
          "text": [
            " 18%|█▊        | 635/3510 [02:53<14:19,  3.34it/s]"
          ],
          "name": "stderr"
        },
        {
          "output_type": "stream",
          "text": [
            "Closed? 27472\n"
          ],
          "name": "stdout"
        },
        {
          "output_type": "stream",
          "text": [
            " 18%|█▊        | 639/3510 [02:54<15:56,  3.00it/s]"
          ],
          "name": "stderr"
        },
        {
          "output_type": "stream",
          "text": [
            "Closed? 89\n",
            "Closed? 23496\n"
          ],
          "name": "stdout"
        },
        {
          "output_type": "stream",
          "text": [
            "\r 18%|█▊        | 642/3510 [02:55<12:51,  3.72it/s]"
          ],
          "name": "stderr"
        },
        {
          "output_type": "stream",
          "text": [
            "Closed? 20518\n"
          ],
          "name": "stdout"
        },
        {
          "output_type": "stream",
          "text": [
            " 18%|█▊        | 648/3510 [02:56<10:52,  4.39it/s]"
          ],
          "name": "stderr"
        },
        {
          "output_type": "stream",
          "text": [
            "Closed? 53302\n"
          ],
          "name": "stdout"
        },
        {
          "output_type": "stream",
          "text": [
            " 19%|█▊        | 655/3510 [02:58<14:10,  3.36it/s]"
          ],
          "name": "stderr"
        },
        {
          "output_type": "stream",
          "text": [
            "Closed? 31242\n"
          ],
          "name": "stdout"
        },
        {
          "output_type": "stream",
          "text": [
            " 19%|█▊        | 658/3510 [02:59<14:08,  3.36it/s]"
          ],
          "name": "stderr"
        },
        {
          "output_type": "stream",
          "text": [
            "Closed? 26328\n",
            "Closed? 30430\n"
          ],
          "name": "stdout"
        },
        {
          "output_type": "stream",
          "text": [
            " 19%|█▉        | 668/3510 [03:01<14:32,  3.26it/s]"
          ],
          "name": "stderr"
        },
        {
          "output_type": "stream",
          "text": [
            "Closed? 13014\n"
          ],
          "name": "stdout"
        },
        {
          "output_type": "stream",
          "text": [
            " 19%|█▉        | 671/3510 [03:02<10:54,  4.34it/s]"
          ],
          "name": "stderr"
        },
        {
          "output_type": "stream",
          "text": [
            "Closed? 59585\n",
            "Closed? 14529\n"
          ],
          "name": "stdout"
        },
        {
          "output_type": "stream",
          "text": [
            " 19%|█▉        | 675/3510 [03:03<13:23,  3.53it/s]"
          ],
          "name": "stderr"
        },
        {
          "output_type": "stream",
          "text": [
            "Closed? 57538\n",
            "Closed? 62439\n"
          ],
          "name": "stdout"
        },
        {
          "output_type": "stream",
          "text": [
            " 19%|█▉        | 680/3510 [03:03<11:19,  4.17it/s]"
          ],
          "name": "stderr"
        },
        {
          "output_type": "stream",
          "text": [
            "Closed? 18967\n",
            "Closed? 28312\n",
            "Closed? 15564\n"
          ],
          "name": "stdout"
        },
        {
          "output_type": "stream",
          "text": [
            " 20%|█▉        | 687/3510 [03:05<12:14,  3.84it/s]"
          ],
          "name": "stderr"
        },
        {
          "output_type": "stream",
          "text": [
            "Closed? 23577\n"
          ],
          "name": "stdout"
        },
        {
          "output_type": "stream",
          "text": [
            " 20%|██        | 706/3510 [03:10<14:08,  3.30it/s]"
          ],
          "name": "stderr"
        },
        {
          "output_type": "stream",
          "text": [
            "Closed? 11230\n",
            "Closed? 20842\n"
          ],
          "name": "stdout"
        },
        {
          "output_type": "stream",
          "text": [
            "\r 20%|██        | 709/3510 [03:11<11:49,  3.95it/s]"
          ],
          "name": "stderr"
        },
        {
          "output_type": "stream",
          "text": [
            "Closed? 18682\n"
          ],
          "name": "stdout"
        },
        {
          "output_type": "stream",
          "text": [
            " 20%|██        | 717/3510 [03:13<11:10,  4.16it/s]"
          ],
          "name": "stderr"
        },
        {
          "output_type": "stream",
          "text": [
            "Closed? 22506\n"
          ],
          "name": "stdout"
        },
        {
          "output_type": "stream",
          "text": [
            " 21%|██        | 723/3510 [03:14<15:58,  2.91it/s]"
          ],
          "name": "stderr"
        },
        {
          "output_type": "stream",
          "text": [
            "Closed? 62672\n",
            "Closed? 14855\n"
          ],
          "name": "stdout"
        },
        {
          "output_type": "stream",
          "text": [
            " 21%|██        | 737/3510 [03:17<11:21,  4.07it/s]"
          ],
          "name": "stderr"
        },
        {
          "output_type": "stream",
          "text": [
            "Closed? 57996\n"
          ],
          "name": "stdout"
        },
        {
          "output_type": "stream",
          "text": [
            " 21%|██        | 743/3510 [03:19<18:04,  2.55it/s]"
          ],
          "name": "stderr"
        },
        {
          "output_type": "stream",
          "text": [
            "Closed? 17071\n"
          ],
          "name": "stdout"
        },
        {
          "output_type": "stream",
          "text": [
            " 21%|██▏       | 749/3510 [03:21<14:34,  3.16it/s]"
          ],
          "name": "stderr"
        },
        {
          "output_type": "stream",
          "text": [
            "Closed? 384\n"
          ],
          "name": "stdout"
        },
        {
          "output_type": "stream",
          "text": [
            " 22%|██▏       | 758/3510 [03:23<13:26,  3.41it/s]"
          ],
          "name": "stderr"
        },
        {
          "output_type": "stream",
          "text": [
            "Closed? 35807\n",
            "Closed? 503\n"
          ],
          "name": "stdout"
        },
        {
          "output_type": "stream",
          "text": [
            " 22%|██▏       | 763/3510 [03:25<19:13,  2.38it/s]"
          ],
          "name": "stderr"
        },
        {
          "output_type": "stream",
          "text": [
            "Closed? 15289\n"
          ],
          "name": "stdout"
        },
        {
          "output_type": "stream",
          "text": [
            "\r 22%|██▏       | 765/3510 [03:25<15:05,  3.03it/s]"
          ],
          "name": "stderr"
        },
        {
          "output_type": "stream",
          "text": [
            "Closed? 33533\n"
          ],
          "name": "stdout"
        },
        {
          "output_type": "stream",
          "text": [
            " 22%|██▏       | 768/3510 [03:26<14:34,  3.14it/s]"
          ],
          "name": "stderr"
        },
        {
          "output_type": "stream",
          "text": [
            "Closed? 29828\n"
          ],
          "name": "stdout"
        },
        {
          "output_type": "stream",
          "text": [
            " 22%|██▏       | 773/3510 [03:27<14:35,  3.12it/s]"
          ],
          "name": "stderr"
        },
        {
          "output_type": "stream",
          "text": [
            "Closed? 58733\n",
            "Closed? 10245\n",
            "Closed? 35140\n"
          ],
          "name": "stdout"
        },
        {
          "output_type": "stream",
          "text": [
            "\r 22%|██▏       | 777/3510 [03:27<10:54,  4.17it/s]"
          ],
          "name": "stderr"
        },
        {
          "output_type": "stream",
          "text": [
            "Closed? 3435\n"
          ],
          "name": "stdout"
        },
        {
          "output_type": "stream",
          "text": [
            " 23%|██▎       | 790/3510 [03:31<13:05,  3.46it/s]"
          ],
          "name": "stderr"
        },
        {
          "output_type": "stream",
          "text": [
            "Closed? 33567\n",
            "Closed? 788\n",
            "Closed? 62546\n"
          ],
          "name": "stdout"
        },
        {
          "output_type": "stream",
          "text": [
            " 23%|██▎       | 796/3510 [03:32<13:21,  3.39it/s]"
          ],
          "name": "stderr"
        },
        {
          "output_type": "stream",
          "text": [
            "Closed? 35566\n"
          ],
          "name": "stdout"
        },
        {
          "output_type": "stream",
          "text": [
            " 23%|██▎       | 805/3510 [03:34<14:41,  3.07it/s]"
          ],
          "name": "stderr"
        },
        {
          "output_type": "stream",
          "text": [
            "Closed? 30879\n"
          ],
          "name": "stdout"
        },
        {
          "output_type": "stream",
          "text": [
            " 23%|██▎       | 808/3510 [03:35<14:10,  3.18it/s]"
          ],
          "name": "stderr"
        },
        {
          "output_type": "stream",
          "text": [
            "Closed? 31140\n"
          ],
          "name": "stdout"
        },
        {
          "output_type": "stream",
          "text": [
            " 23%|██▎       | 821/3510 [03:39<15:22,  2.91it/s]"
          ],
          "name": "stderr"
        },
        {
          "output_type": "stream",
          "text": [
            "Closed? 27350\n"
          ],
          "name": "stdout"
        },
        {
          "output_type": "stream",
          "text": [
            " 24%|██▎       | 831/3510 [03:42<09:50,  4.54it/s]"
          ],
          "name": "stderr"
        },
        {
          "output_type": "stream",
          "text": [
            "Closed? 14589\n"
          ],
          "name": "stdout"
        },
        {
          "output_type": "stream",
          "text": [
            " 24%|██▍       | 838/3510 [03:43<11:21,  3.92it/s]"
          ],
          "name": "stderr"
        },
        {
          "output_type": "stream",
          "text": [
            "Closed? 25836\n"
          ],
          "name": "stdout"
        },
        {
          "output_type": "stream",
          "text": [
            " 24%|██▍       | 843/3510 [03:44<09:51,  4.51it/s]"
          ],
          "name": "stderr"
        },
        {
          "output_type": "stream",
          "text": [
            "Closed? 62827\n"
          ],
          "name": "stdout"
        },
        {
          "output_type": "stream",
          "text": [
            "\r 24%|██▍       | 845/3510 [03:45<09:58,  4.46it/s]"
          ],
          "name": "stderr"
        },
        {
          "output_type": "stream",
          "text": [
            "Closed? 63520\n"
          ],
          "name": "stdout"
        },
        {
          "output_type": "stream",
          "text": [
            " 24%|██▍       | 849/3510 [03:46<11:13,  3.95it/s]"
          ],
          "name": "stderr"
        },
        {
          "output_type": "stream",
          "text": [
            "Closed? 56562\n"
          ],
          "name": "stdout"
        },
        {
          "output_type": "stream",
          "text": [
            " 25%|██▍       | 861/3510 [03:49<12:48,  3.45it/s]"
          ],
          "name": "stderr"
        },
        {
          "output_type": "stream",
          "text": [
            "Closed? 31939\n"
          ],
          "name": "stdout"
        },
        {
          "output_type": "stream",
          "text": [
            "\r 25%|██▍       | 863/3510 [03:49<11:10,  3.95it/s]"
          ],
          "name": "stderr"
        },
        {
          "output_type": "stream",
          "text": [
            "Closed? 53770\n"
          ],
          "name": "stdout"
        },
        {
          "output_type": "stream",
          "text": [
            " 25%|██▌       | 884/3510 [03:56<15:53,  2.75it/s]"
          ],
          "name": "stderr"
        },
        {
          "output_type": "stream",
          "text": [
            "Closed? 23797\n"
          ],
          "name": "stdout"
        },
        {
          "output_type": "stream",
          "text": [
            " 25%|██▌       | 888/3510 [03:57<10:34,  4.13it/s]"
          ],
          "name": "stderr"
        },
        {
          "output_type": "stream",
          "text": [
            "Closed? 10047\n"
          ],
          "name": "stdout"
        },
        {
          "output_type": "stream",
          "text": [
            " 25%|██▌       | 891/3510 [03:57<11:43,  3.72it/s]"
          ],
          "name": "stderr"
        },
        {
          "output_type": "stream",
          "text": [
            "Closed? 54211\n"
          ],
          "name": "stdout"
        },
        {
          "output_type": "stream",
          "text": [
            " 25%|██▌       | 894/3510 [03:58<12:48,  3.40it/s]"
          ],
          "name": "stderr"
        },
        {
          "output_type": "stream",
          "text": [
            "Closed? 55675\n"
          ],
          "name": "stdout"
        },
        {
          "output_type": "stream",
          "text": [
            " 26%|██▌       | 897/3510 [03:59<10:04,  4.33it/s]"
          ],
          "name": "stderr"
        },
        {
          "output_type": "stream",
          "text": [
            "Closed? 63385\n"
          ],
          "name": "stdout"
        },
        {
          "output_type": "stream",
          "text": [
            " 26%|██▌       | 913/3510 [04:04<12:05,  3.58it/s]"
          ],
          "name": "stderr"
        },
        {
          "output_type": "stream",
          "text": [
            "Closed? 6652\n"
          ],
          "name": "stdout"
        },
        {
          "output_type": "stream",
          "text": [
            " 26%|██▋       | 922/3510 [04:06<10:45,  4.01it/s]"
          ],
          "name": "stderr"
        },
        {
          "output_type": "stream",
          "text": [
            "Closed? 20072\n",
            "Closed? 59218\n"
          ],
          "name": "stdout"
        },
        {
          "output_type": "stream",
          "text": [
            " 26%|██▋       | 927/3510 [04:07<09:04,  4.75it/s]"
          ],
          "name": "stderr"
        },
        {
          "output_type": "stream",
          "text": [
            "Closed? 28828\n"
          ],
          "name": "stdout"
        },
        {
          "output_type": "stream",
          "text": [
            " 27%|██▋       | 936/3510 [04:09<09:49,  4.37it/s]"
          ],
          "name": "stderr"
        },
        {
          "output_type": "stream",
          "text": [
            "Closed? 791\n"
          ],
          "name": "stdout"
        },
        {
          "output_type": "stream",
          "text": [
            " 27%|██▋       | 940/3510 [04:10<12:28,  3.43it/s]"
          ],
          "name": "stderr"
        },
        {
          "output_type": "stream",
          "text": [
            "Closed? 7316\n"
          ],
          "name": "stdout"
        },
        {
          "output_type": "stream",
          "text": [
            " 27%|██▋       | 945/3510 [04:11<10:17,  4.16it/s]"
          ],
          "name": "stderr"
        },
        {
          "output_type": "stream",
          "text": [
            "Closed? 3571\n"
          ],
          "name": "stdout"
        },
        {
          "output_type": "stream",
          "text": [
            " 27%|██▋       | 948/3510 [04:12<08:11,  5.21it/s]"
          ],
          "name": "stderr"
        },
        {
          "output_type": "stream",
          "text": [
            "Closed? 14511\n",
            "Closed? 56403\n"
          ],
          "name": "stdout"
        },
        {
          "output_type": "stream",
          "text": [
            " 27%|██▋       | 952/3510 [04:12<10:20,  4.12it/s]"
          ],
          "name": "stderr"
        },
        {
          "output_type": "stream",
          "text": [
            "Closed? 53882\n"
          ],
          "name": "stdout"
        },
        {
          "output_type": "stream",
          "text": [
            " 27%|██▋       | 959/3510 [04:15<14:28,  2.94it/s]"
          ],
          "name": "stderr"
        },
        {
          "output_type": "stream",
          "text": [
            "Closed? 35964\n"
          ],
          "name": "stdout"
        },
        {
          "output_type": "stream",
          "text": [
            " 27%|██▋       | 962/3510 [04:15<14:16,  2.97it/s]"
          ],
          "name": "stderr"
        },
        {
          "output_type": "stream",
          "text": [
            "Closed? 54714\n",
            "Closed? 7840\n"
          ],
          "name": "stdout"
        },
        {
          "output_type": "stream",
          "text": [
            " 28%|██▊       | 968/3510 [04:16<10:49,  3.92it/s]"
          ],
          "name": "stderr"
        },
        {
          "output_type": "stream",
          "text": [
            "Closed? 22000\n"
          ],
          "name": "stdout"
        },
        {
          "output_type": "stream",
          "text": [
            " 28%|██▊       | 974/3510 [04:18<10:44,  3.93it/s]"
          ],
          "name": "stderr"
        },
        {
          "output_type": "stream",
          "text": [
            "Closed? 55320\n"
          ],
          "name": "stdout"
        },
        {
          "output_type": "stream",
          "text": [
            " 28%|██▊       | 977/3510 [04:18<09:45,  4.32it/s]"
          ],
          "name": "stderr"
        },
        {
          "output_type": "stream",
          "text": [
            "Closed? 63690\n"
          ],
          "name": "stdout"
        },
        {
          "output_type": "stream",
          "text": [
            " 29%|██▊       | 1004/3510 [04:26<11:06,  3.76it/s]"
          ],
          "name": "stderr"
        },
        {
          "output_type": "stream",
          "text": [
            "Closed? 60633\n"
          ],
          "name": "stdout"
        },
        {
          "output_type": "stream",
          "text": [
            " 29%|██▉       | 1010/3510 [04:28<09:53,  4.21it/s]"
          ],
          "name": "stderr"
        },
        {
          "output_type": "stream",
          "text": [
            "Closed? 23570\n"
          ],
          "name": "stdout"
        },
        {
          "output_type": "stream",
          "text": [
            " 29%|██▉       | 1015/3510 [04:29<09:52,  4.21it/s]"
          ],
          "name": "stderr"
        },
        {
          "output_type": "stream",
          "text": [
            "Closed? 4373\n"
          ],
          "name": "stdout"
        },
        {
          "output_type": "stream",
          "text": [
            " 29%|██▉       | 1017/3510 [04:29<11:09,  3.72it/s]"
          ],
          "name": "stderr"
        },
        {
          "output_type": "stream",
          "text": [
            "Closed? 36937\n"
          ],
          "name": "stdout"
        },
        {
          "output_type": "stream",
          "text": [
            " 29%|██▉       | 1021/3510 [04:30<10:33,  3.93it/s]"
          ],
          "name": "stderr"
        },
        {
          "output_type": "stream",
          "text": [
            "Closed? 9746\n"
          ],
          "name": "stdout"
        },
        {
          "output_type": "stream",
          "text": [
            " 29%|██▉       | 1032/3510 [04:33<09:59,  4.13it/s]"
          ],
          "name": "stderr"
        },
        {
          "output_type": "stream",
          "text": [
            "Closed? 1230\n"
          ],
          "name": "stdout"
        },
        {
          "output_type": "stream",
          "text": [
            " 30%|██▉       | 1040/3510 [04:36<13:36,  3.03it/s]"
          ],
          "name": "stderr"
        },
        {
          "output_type": "stream",
          "text": [
            "Closed? 7822\n"
          ],
          "name": "stdout"
        },
        {
          "output_type": "stream",
          "text": [
            " 30%|███       | 1060/3510 [04:41<11:32,  3.54it/s]"
          ],
          "name": "stderr"
        },
        {
          "output_type": "stream",
          "text": [
            "Closed? 32260\n",
            "Closed? 33529\n"
          ],
          "name": "stdout"
        },
        {
          "output_type": "stream",
          "text": [
            " 30%|███       | 1069/3510 [04:44<13:32,  3.00it/s]"
          ],
          "name": "stderr"
        },
        {
          "output_type": "stream",
          "text": [
            "Closed? 7322\n"
          ],
          "name": "stdout"
        },
        {
          "output_type": "stream",
          "text": [
            " 31%|███       | 1073/3510 [04:45<11:46,  3.45it/s]"
          ],
          "name": "stderr"
        },
        {
          "output_type": "stream",
          "text": [
            "Closed? 31402\n"
          ],
          "name": "stdout"
        },
        {
          "output_type": "stream",
          "text": [
            " 31%|███       | 1082/3510 [04:47<10:04,  4.01it/s]"
          ],
          "name": "stderr"
        },
        {
          "output_type": "stream",
          "text": [
            "Closed? 23506\n"
          ],
          "name": "stdout"
        },
        {
          "output_type": "stream",
          "text": [
            " 31%|███       | 1086/3510 [04:48<09:47,  4.13it/s]"
          ],
          "name": "stderr"
        },
        {
          "output_type": "stream",
          "text": [
            "Closed? 31321\n"
          ],
          "name": "stdout"
        },
        {
          "output_type": "stream",
          "text": [
            "\r 31%|███       | 1088/3510 [04:48<08:51,  4.56it/s]"
          ],
          "name": "stderr"
        },
        {
          "output_type": "stream",
          "text": [
            "Closed? 59490\n"
          ],
          "name": "stdout"
        },
        {
          "output_type": "stream",
          "text": [
            " 31%|███       | 1091/3510 [04:49<11:08,  3.62it/s]"
          ],
          "name": "stderr"
        },
        {
          "output_type": "stream",
          "text": [
            "Closed? 13892\n"
          ],
          "name": "stdout"
        },
        {
          "output_type": "stream",
          "text": [
            " 31%|███       | 1096/3510 [04:50<10:28,  3.84it/s]"
          ],
          "name": "stderr"
        },
        {
          "output_type": "stream",
          "text": [
            "Closed? 54908\n",
            "Closed? 10958\n"
          ],
          "name": "stdout"
        },
        {
          "output_type": "stream",
          "text": [
            " 32%|███▏      | 1107/3510 [04:53<13:36,  2.94it/s]"
          ],
          "name": "stderr"
        },
        {
          "output_type": "stream",
          "text": [
            "Closed? 56360\n"
          ],
          "name": "stdout"
        },
        {
          "output_type": "stream",
          "text": [
            " 32%|███▏      | 1116/3510 [04:55<13:17,  3.00it/s]"
          ],
          "name": "stderr"
        },
        {
          "output_type": "stream",
          "text": [
            "Closed? 6405\n"
          ],
          "name": "stdout"
        },
        {
          "output_type": "stream",
          "text": [
            " 32%|███▏      | 1119/3510 [04:56<10:47,  3.69it/s]"
          ],
          "name": "stderr"
        },
        {
          "output_type": "stream",
          "text": [
            "Closed? 7771\n"
          ],
          "name": "stdout"
        },
        {
          "output_type": "stream",
          "text": [
            " 32%|███▏      | 1133/3510 [05:00<12:44,  3.11it/s]"
          ],
          "name": "stderr"
        },
        {
          "output_type": "stream",
          "text": [
            "Closed? 58913\n"
          ],
          "name": "stdout"
        },
        {
          "output_type": "stream",
          "text": [
            " 32%|███▏      | 1136/3510 [05:01<10:38,  3.72it/s]"
          ],
          "name": "stderr"
        },
        {
          "output_type": "stream",
          "text": [
            "Closed? 23322\n"
          ],
          "name": "stdout"
        },
        {
          "output_type": "stream",
          "text": [
            " 32%|███▏      | 1139/3510 [05:01<09:52,  4.00it/s]"
          ],
          "name": "stderr"
        },
        {
          "output_type": "stream",
          "text": [
            "Closed? 16138\n"
          ],
          "name": "stdout"
        },
        {
          "output_type": "stream",
          "text": [
            " 33%|███▎      | 1147/3510 [05:03<08:41,  4.53it/s]"
          ],
          "name": "stderr"
        },
        {
          "output_type": "stream",
          "text": [
            "Closed? 7314\n"
          ],
          "name": "stdout"
        },
        {
          "output_type": "stream",
          "text": [
            " 33%|███▎      | 1152/3510 [05:04<10:28,  3.75it/s]"
          ],
          "name": "stderr"
        },
        {
          "output_type": "stream",
          "text": [
            "Closed? 35343\n"
          ],
          "name": "stdout"
        },
        {
          "output_type": "stream",
          "text": [
            " 33%|███▎      | 1158/3510 [05:05<09:01,  4.35it/s]"
          ],
          "name": "stderr"
        },
        {
          "output_type": "stream",
          "text": [
            "Closed? 6103\n",
            "Closed? 27227\n"
          ],
          "name": "stdout"
        },
        {
          "output_type": "stream",
          "text": [
            " 33%|███▎      | 1163/3510 [05:07<11:38,  3.36it/s]"
          ],
          "name": "stderr"
        },
        {
          "output_type": "stream",
          "text": [
            "Closed? 14149\n"
          ],
          "name": "stdout"
        },
        {
          "output_type": "stream",
          "text": [
            " 33%|███▎      | 1172/3510 [05:09<08:52,  4.39it/s]"
          ],
          "name": "stderr"
        },
        {
          "output_type": "stream",
          "text": [
            "Closed? 11949\n",
            "Closed? 7456\n",
            "Closed? 26686\n"
          ],
          "name": "stdout"
        },
        {
          "output_type": "stream",
          "text": [
            "\r 33%|███▎      | 1175/3510 [05:09<07:09,  5.44it/s]"
          ],
          "name": "stderr"
        },
        {
          "output_type": "stream",
          "text": [
            "Closed? 55504\n"
          ],
          "name": "stdout"
        },
        {
          "output_type": "stream",
          "text": [
            " 34%|███▍      | 1198/3510 [05:15<09:29,  4.06it/s]"
          ],
          "name": "stderr"
        },
        {
          "output_type": "stream",
          "text": [
            "Closed? 23575\n",
            "Closed? 28833\n"
          ],
          "name": "stdout"
        },
        {
          "output_type": "stream",
          "text": [
            " 34%|███▍      | 1202/3510 [05:16<11:11,  3.44it/s]"
          ],
          "name": "stderr"
        },
        {
          "output_type": "stream",
          "text": [
            "Closed? 3813\n"
          ],
          "name": "stdout"
        },
        {
          "output_type": "stream",
          "text": [
            " 34%|███▍      | 1210/3510 [05:18<09:35,  4.00it/s]"
          ],
          "name": "stderr"
        },
        {
          "output_type": "stream",
          "text": [
            "Closed? 11409\n"
          ],
          "name": "stdout"
        },
        {
          "output_type": "stream",
          "text": [
            " 35%|███▍      | 1213/3510 [05:19<12:17,  3.11it/s]"
          ],
          "name": "stderr"
        },
        {
          "output_type": "stream",
          "text": [
            "Closed? 57504\n"
          ],
          "name": "stdout"
        },
        {
          "output_type": "stream",
          "text": [
            "\r 35%|███▍      | 1215/3510 [05:19<10:15,  3.73it/s]"
          ],
          "name": "stderr"
        },
        {
          "output_type": "stream",
          "text": [
            "Closed? 27315\n"
          ],
          "name": "stdout"
        },
        {
          "output_type": "stream",
          "text": [
            " 35%|███▍      | 1222/3510 [05:22<12:24,  3.07it/s]"
          ],
          "name": "stderr"
        },
        {
          "output_type": "stream",
          "text": [
            "Closed? 58422\n"
          ],
          "name": "stdout"
        },
        {
          "output_type": "stream",
          "text": [
            "\r 35%|███▍      | 1224/3510 [05:22<10:21,  3.68it/s]"
          ],
          "name": "stderr"
        },
        {
          "output_type": "stream",
          "text": [
            "Closed? 52688\n"
          ],
          "name": "stdout"
        },
        {
          "output_type": "stream",
          "text": [
            " 35%|███▌      | 1243/3510 [05:27<11:40,  3.24it/s]"
          ],
          "name": "stderr"
        },
        {
          "output_type": "stream",
          "text": [
            "Closed? 56627\n",
            "Closed? 541\n"
          ],
          "name": "stdout"
        },
        {
          "output_type": "stream",
          "text": [
            "\r 35%|███▌      | 1246/3510 [05:28<09:49,  3.84it/s]"
          ],
          "name": "stderr"
        },
        {
          "output_type": "stream",
          "text": [
            "Closed? 57568\n",
            "Closed? 4323\n"
          ],
          "name": "stdout"
        },
        {
          "output_type": "stream",
          "text": [
            "\r 36%|███▌      | 1249/3510 [05:28<07:42,  4.89it/s]"
          ],
          "name": "stderr"
        },
        {
          "output_type": "stream",
          "text": [
            "Closed? 36558\n",
            "Closed? 10352\n",
            "Closed? 59604\n",
            "Closed? 696\n"
          ],
          "name": "stdout"
        },
        {
          "output_type": "stream",
          "text": [
            " 36%|███▌      | 1261/3510 [05:31<10:26,  3.59it/s]"
          ],
          "name": "stderr"
        },
        {
          "output_type": "stream",
          "text": [
            "Closed? 22366\n"
          ],
          "name": "stdout"
        },
        {
          "output_type": "stream",
          "text": [
            " 36%|███▌      | 1265/3510 [05:31<07:06,  5.27it/s]"
          ],
          "name": "stderr"
        },
        {
          "output_type": "stream",
          "text": [
            "Closed? 59033\n"
          ],
          "name": "stdout"
        },
        {
          "output_type": "stream",
          "text": [
            " 36%|███▌      | 1267/3510 [05:32<08:36,  4.34it/s]"
          ],
          "name": "stderr"
        },
        {
          "output_type": "stream",
          "text": [
            "Closed? 6685\n"
          ],
          "name": "stdout"
        },
        {
          "output_type": "stream",
          "text": [
            "\r 36%|███▌      | 1269/3510 [05:32<07:11,  5.19it/s]"
          ],
          "name": "stderr"
        },
        {
          "output_type": "stream",
          "text": [
            "Closed? 5900\n"
          ],
          "name": "stdout"
        },
        {
          "output_type": "stream",
          "text": [
            " 36%|███▋      | 1274/3510 [05:33<08:21,  4.46it/s]"
          ],
          "name": "stderr"
        },
        {
          "output_type": "stream",
          "text": [
            "Closed? 62942\n"
          ],
          "name": "stdout"
        },
        {
          "output_type": "stream",
          "text": [
            " 37%|███▋      | 1291/3510 [05:38<12:43,  2.91it/s]"
          ],
          "name": "stderr"
        },
        {
          "output_type": "stream",
          "text": [
            "Closed? 23569\n"
          ],
          "name": "stdout"
        },
        {
          "output_type": "stream",
          "text": [
            "\r 37%|███▋      | 1293/3510 [05:38<10:30,  3.51it/s]"
          ],
          "name": "stderr"
        },
        {
          "output_type": "stream",
          "text": [
            "Closed? 9609\n"
          ],
          "name": "stdout"
        },
        {
          "output_type": "stream",
          "text": [
            " 37%|███▋      | 1302/3510 [05:41<11:59,  3.07it/s]"
          ],
          "name": "stderr"
        },
        {
          "output_type": "stream",
          "text": [
            "Closed? 19027\n"
          ],
          "name": "stdout"
        },
        {
          "output_type": "stream",
          "text": [
            " 37%|███▋      | 1306/3510 [05:42<12:21,  2.97it/s]"
          ],
          "name": "stderr"
        },
        {
          "output_type": "stream",
          "text": [
            "Closed? 62265\n"
          ],
          "name": "stdout"
        },
        {
          "output_type": "stream",
          "text": [
            " 38%|███▊      | 1320/3510 [05:47<13:04,  2.79it/s]"
          ],
          "name": "stderr"
        },
        {
          "output_type": "stream",
          "text": [
            "Closed? 56457\n",
            "Closed? 17247\n"
          ],
          "name": "stdout"
        },
        {
          "output_type": "stream",
          "text": [
            "\r 38%|███▊      | 1323/3510 [05:47<10:42,  3.40it/s]"
          ],
          "name": "stderr"
        },
        {
          "output_type": "stream",
          "text": [
            "Closed? 9988\n",
            "Closed? 18586\n"
          ],
          "name": "stdout"
        },
        {
          "output_type": "stream",
          "text": [
            " 38%|███▊      | 1328/3510 [05:48<08:47,  4.14it/s]"
          ],
          "name": "stderr"
        },
        {
          "output_type": "stream",
          "text": [
            "Closed? 21886\n"
          ],
          "name": "stdout"
        },
        {
          "output_type": "stream",
          "text": [
            " 38%|███▊      | 1335/3510 [05:50<10:17,  3.52it/s]"
          ],
          "name": "stderr"
        },
        {
          "output_type": "stream",
          "text": [
            "Closed? 9975\n"
          ],
          "name": "stdout"
        },
        {
          "output_type": "stream",
          "text": [
            "\r 38%|███▊      | 1337/3510 [05:50<08:18,  4.36it/s]"
          ],
          "name": "stderr"
        },
        {
          "output_type": "stream",
          "text": [
            "Closed? 16003\n",
            "Closed? 6217\n",
            "Closed? 10944\n"
          ],
          "name": "stdout"
        },
        {
          "output_type": "stream",
          "text": [
            " 38%|███▊      | 1346/3510 [05:52<10:40,  3.38it/s]"
          ],
          "name": "stderr"
        },
        {
          "output_type": "stream",
          "text": [
            "Closed? 13404\n",
            "Closed? 62879\n",
            "Closed? 55452\n"
          ],
          "name": "stdout"
        },
        {
          "output_type": "stream",
          "text": [
            " 39%|███▉      | 1361/3510 [05:55<07:36,  4.71it/s]"
          ],
          "name": "stderr"
        },
        {
          "output_type": "stream",
          "text": [
            "Closed? 56206\n"
          ],
          "name": "stdout"
        },
        {
          "output_type": "stream",
          "text": [
            " 39%|███▉      | 1363/3510 [05:55<09:38,  3.71it/s]"
          ],
          "name": "stderr"
        },
        {
          "output_type": "stream",
          "text": [
            "Closed? 59027\n",
            "Closed? 12225\n"
          ],
          "name": "stdout"
        },
        {
          "output_type": "stream",
          "text": [
            " 39%|███▉      | 1377/3510 [06:00<13:07,  2.71it/s]"
          ],
          "name": "stderr"
        },
        {
          "output_type": "stream",
          "text": [
            "Closed? 54465\n"
          ],
          "name": "stdout"
        },
        {
          "output_type": "stream",
          "text": [
            " 39%|███▉      | 1385/3510 [06:02<09:10,  3.86it/s]"
          ],
          "name": "stderr"
        },
        {
          "output_type": "stream",
          "text": [
            "Closed? 9603\n"
          ],
          "name": "stdout"
        },
        {
          "output_type": "stream",
          "text": [
            "\r 39%|███▉      | 1386/3510 [06:02<11:10,  3.17it/s]"
          ],
          "name": "stderr"
        },
        {
          "output_type": "stream",
          "text": [
            "Closed? 12100\n"
          ],
          "name": "stdout"
        },
        {
          "output_type": "stream",
          "text": [
            " 40%|███▉      | 1390/3510 [06:03<10:47,  3.27it/s]"
          ],
          "name": "stderr"
        },
        {
          "output_type": "stream",
          "text": [
            "Closed? 1918\n"
          ],
          "name": "stdout"
        },
        {
          "output_type": "stream",
          "text": [
            " 40%|███▉      | 1393/3510 [06:04<08:51,  3.98it/s]"
          ],
          "name": "stderr"
        },
        {
          "output_type": "stream",
          "text": [
            "Closed? 2367\n"
          ],
          "name": "stdout"
        },
        {
          "output_type": "stream",
          "text": [
            " 40%|████      | 1415/3510 [06:10<08:38,  4.04it/s]"
          ],
          "name": "stderr"
        },
        {
          "output_type": "stream",
          "text": [
            "Closed? 32194\n",
            "Closed? 54549\n"
          ],
          "name": "stdout"
        },
        {
          "output_type": "stream",
          "text": [
            "\r 40%|████      | 1417/3510 [06:10<08:27,  4.12it/s]"
          ],
          "name": "stderr"
        },
        {
          "output_type": "stream",
          "text": [
            "Closed? 19384\n"
          ],
          "name": "stdout"
        },
        {
          "output_type": "stream",
          "text": [
            " 41%|████      | 1424/3510 [06:12<11:22,  3.06it/s]"
          ],
          "name": "stderr"
        },
        {
          "output_type": "stream",
          "text": [
            "Closed? 34723\n"
          ],
          "name": "stdout"
        },
        {
          "output_type": "stream",
          "text": [
            " 41%|████▏     | 1455/3510 [06:25<26:17,  1.30it/s]"
          ],
          "name": "stderr"
        },
        {
          "output_type": "stream",
          "text": [
            "Closed? 20382\n"
          ],
          "name": "stdout"
        },
        {
          "output_type": "stream",
          "text": [
            " 42%|████▏     | 1459/3510 [06:26<16:21,  2.09it/s]"
          ],
          "name": "stderr"
        },
        {
          "output_type": "stream",
          "text": [
            "Closed? 6845\n"
          ],
          "name": "stdout"
        },
        {
          "output_type": "stream",
          "text": [
            " 42%|████▏     | 1462/3510 [06:27<12:58,  2.63it/s]"
          ],
          "name": "stderr"
        },
        {
          "output_type": "stream",
          "text": [
            "Closed? 21148\n"
          ],
          "name": "stdout"
        },
        {
          "output_type": "stream",
          "text": [
            " 42%|████▏     | 1469/3510 [06:29<11:06,  3.06it/s]"
          ],
          "name": "stderr"
        },
        {
          "output_type": "stream",
          "text": [
            "Closed? 29833\n"
          ],
          "name": "stdout"
        },
        {
          "output_type": "stream",
          "text": [
            "\r 42%|████▏     | 1471/3510 [06:29<09:40,  3.51it/s]"
          ],
          "name": "stderr"
        },
        {
          "output_type": "stream",
          "text": [
            "Closed? 19497\n"
          ],
          "name": "stdout"
        },
        {
          "output_type": "stream",
          "text": [
            "\r 42%|████▏     | 1473/3510 [06:29<07:52,  4.31it/s]"
          ],
          "name": "stderr"
        },
        {
          "output_type": "stream",
          "text": [
            "Closed? 1745\n"
          ],
          "name": "stdout"
        },
        {
          "output_type": "stream",
          "text": [
            " 42%|████▏     | 1484/3510 [06:33<11:57,  2.82it/s]"
          ],
          "name": "stderr"
        },
        {
          "output_type": "stream",
          "text": [
            "Closed? 27803\n"
          ],
          "name": "stdout"
        },
        {
          "output_type": "stream",
          "text": [
            " 42%|████▏     | 1488/3510 [06:34<08:15,  4.08it/s]"
          ],
          "name": "stderr"
        },
        {
          "output_type": "stream",
          "text": [
            "Closed? 26709\n"
          ],
          "name": "stdout"
        },
        {
          "output_type": "stream",
          "text": [
            "\r 42%|████▏     | 1490/3510 [06:34<07:06,  4.74it/s]"
          ],
          "name": "stderr"
        },
        {
          "output_type": "stream",
          "text": [
            "Closed? 20689\n"
          ],
          "name": "stdout"
        },
        {
          "output_type": "stream",
          "text": [
            " 43%|████▎     | 1502/3510 [06:38<11:38,  2.88it/s]"
          ],
          "name": "stderr"
        },
        {
          "output_type": "stream",
          "text": [
            "Closed? 33738\n",
            "Closed? 27683\n"
          ],
          "name": "stdout"
        },
        {
          "output_type": "stream",
          "text": [
            " 43%|████▎     | 1510/3510 [06:40<11:30,  2.90it/s]"
          ],
          "name": "stderr"
        },
        {
          "output_type": "stream",
          "text": [
            "Closed? 5874\n",
            "Closed? 17365\n"
          ],
          "name": "stdout"
        },
        {
          "output_type": "stream",
          "text": [
            " 43%|████▎     | 1518/3510 [06:42<10:53,  3.05it/s]"
          ],
          "name": "stderr"
        },
        {
          "output_type": "stream",
          "text": [
            "Closed? 63291\n"
          ],
          "name": "stdout"
        },
        {
          "output_type": "stream",
          "text": [
            " 43%|████▎     | 1522/3510 [06:43<11:01,  3.00it/s]"
          ],
          "name": "stderr"
        },
        {
          "output_type": "stream",
          "text": [
            "Closed? 9414\n"
          ],
          "name": "stdout"
        },
        {
          "output_type": "stream",
          "text": [
            " 43%|████▎     | 1526/3510 [06:44<09:28,  3.49it/s]"
          ],
          "name": "stderr"
        },
        {
          "output_type": "stream",
          "text": [
            "Closed? 19970\n"
          ],
          "name": "stdout"
        },
        {
          "output_type": "stream",
          "text": [
            " 44%|████▎     | 1533/3510 [06:46<11:44,  2.80it/s]"
          ],
          "name": "stderr"
        },
        {
          "output_type": "stream",
          "text": [
            "Closed? 32141\n"
          ],
          "name": "stdout"
        },
        {
          "output_type": "stream",
          "text": [
            " 44%|████▍     | 1539/3510 [06:48<10:56,  3.00it/s]"
          ],
          "name": "stderr"
        },
        {
          "output_type": "stream",
          "text": [
            "Closed? 31807\n"
          ],
          "name": "stdout"
        },
        {
          "output_type": "stream",
          "text": [
            " 44%|████▍     | 1557/3510 [06:54<09:57,  3.27it/s]"
          ],
          "name": "stderr"
        },
        {
          "output_type": "stream",
          "text": [
            "Closed? 20143\n"
          ],
          "name": "stdout"
        },
        {
          "output_type": "stream",
          "text": [
            " 45%|████▍     | 1566/3510 [06:57<10:36,  3.05it/s]"
          ],
          "name": "stderr"
        },
        {
          "output_type": "stream",
          "text": [
            "Closed? 61622\n"
          ],
          "name": "stdout"
        },
        {
          "output_type": "stream",
          "text": [
            "\r 45%|████▍     | 1568/3510 [06:57<08:37,  3.76it/s]"
          ],
          "name": "stderr"
        },
        {
          "output_type": "stream",
          "text": [
            "Closed? 22372\n"
          ],
          "name": "stdout"
        },
        {
          "output_type": "stream",
          "text": [
            " 45%|████▍     | 1577/3510 [07:00<10:31,  3.06it/s]"
          ],
          "name": "stderr"
        },
        {
          "output_type": "stream",
          "text": [
            "Closed? 11901\n"
          ],
          "name": "stdout"
        },
        {
          "output_type": "stream",
          "text": [
            " 45%|████▌     | 1592/3510 [07:04<09:16,  3.45it/s]"
          ],
          "name": "stderr"
        },
        {
          "output_type": "stream",
          "text": [
            "Closed? 3076\n"
          ],
          "name": "stdout"
        },
        {
          "output_type": "stream",
          "text": [
            " 45%|████▌     | 1596/3510 [07:05<09:13,  3.46it/s]"
          ],
          "name": "stderr"
        },
        {
          "output_type": "stream",
          "text": [
            "Closed? 35320\n"
          ],
          "name": "stdout"
        },
        {
          "output_type": "stream",
          "text": [
            " 46%|████▌     | 1602/3510 [07:06<07:31,  4.23it/s]"
          ],
          "name": "stderr"
        },
        {
          "output_type": "stream",
          "text": [
            "Closed? 189\n",
            "Closed? 17949\n",
            "Closed? 55580\n"
          ],
          "name": "stdout"
        },
        {
          "output_type": "stream",
          "text": [
            " 46%|████▋     | 1624/3510 [07:12<11:15,  2.79it/s]"
          ],
          "name": "stderr"
        },
        {
          "output_type": "stream",
          "text": [
            "Closed? 20638\n"
          ],
          "name": "stdout"
        },
        {
          "output_type": "stream",
          "text": [
            " 46%|████▋     | 1627/3510 [07:13<07:49,  4.01it/s]"
          ],
          "name": "stderr"
        },
        {
          "output_type": "stream",
          "text": [
            "Closed? 6495\n"
          ],
          "name": "stdout"
        },
        {
          "output_type": "stream",
          "text": [
            " 46%|████▋     | 1630/3510 [07:13<08:01,  3.91it/s]"
          ],
          "name": "stderr"
        },
        {
          "output_type": "stream",
          "text": [
            "Closed? 34613\n"
          ],
          "name": "stdout"
        },
        {
          "output_type": "stream",
          "text": [
            " 47%|████▋     | 1639/3510 [07:16<06:38,  4.69it/s]"
          ],
          "name": "stderr"
        },
        {
          "output_type": "stream",
          "text": [
            "Closed? 23547\n",
            "Closed? 34710\n"
          ],
          "name": "stdout"
        },
        {
          "output_type": "stream",
          "text": [
            " 47%|████▋     | 1642/3510 [07:16<06:04,  5.13it/s]"
          ],
          "name": "stderr"
        },
        {
          "output_type": "stream",
          "text": [
            "Closed? 26730\n"
          ],
          "name": "stdout"
        },
        {
          "output_type": "stream",
          "text": [
            "\r 47%|████▋     | 1644/3510 [07:16<06:13,  5.00it/s]"
          ],
          "name": "stderr"
        },
        {
          "output_type": "stream",
          "text": [
            "Closed? 18900\n",
            "Closed? 54170\n"
          ],
          "name": "stdout"
        },
        {
          "output_type": "stream",
          "text": [
            " 47%|████▋     | 1649/3510 [07:17<07:16,  4.26it/s]"
          ],
          "name": "stderr"
        },
        {
          "output_type": "stream",
          "text": [
            "Closed? 54295\n"
          ],
          "name": "stdout"
        },
        {
          "output_type": "stream",
          "text": [
            " 47%|████▋     | 1652/3510 [07:18<10:04,  3.07it/s]"
          ],
          "name": "stderr"
        },
        {
          "output_type": "stream",
          "text": [
            "Closed? 55815\n"
          ],
          "name": "stdout"
        },
        {
          "output_type": "stream",
          "text": [
            " 48%|████▊     | 1672/3510 [07:24<06:48,  4.50it/s]"
          ],
          "name": "stderr"
        },
        {
          "output_type": "stream",
          "text": [
            "Closed? 1689\n",
            "Closed? 28618\n"
          ],
          "name": "stdout"
        },
        {
          "output_type": "stream",
          "text": [
            " 48%|████▊     | 1675/3510 [07:25<06:45,  4.52it/s]"
          ],
          "name": "stderr"
        },
        {
          "output_type": "stream",
          "text": [
            "Closed? 5524\n"
          ],
          "name": "stdout"
        },
        {
          "output_type": "stream",
          "text": [
            " 48%|████▊     | 1680/3510 [07:25<05:06,  5.97it/s]"
          ],
          "name": "stderr"
        },
        {
          "output_type": "stream",
          "text": [
            "Closed? 9824\n",
            "Closed? 34555\n"
          ],
          "name": "stdout"
        },
        {
          "output_type": "stream",
          "text": [
            "\r 48%|████▊     | 1681/3510 [07:25<05:55,  5.15it/s]"
          ],
          "name": "stderr"
        },
        {
          "output_type": "stream",
          "text": [
            "Closed? 19840\n"
          ],
          "name": "stdout"
        },
        {
          "output_type": "stream",
          "text": [
            " 48%|████▊     | 1690/3510 [07:27<07:12,  4.21it/s]"
          ],
          "name": "stderr"
        },
        {
          "output_type": "stream",
          "text": [
            "Closed? 15330\n"
          ],
          "name": "stdout"
        },
        {
          "output_type": "stream",
          "text": [
            " 48%|████▊     | 1692/3510 [07:28<08:24,  3.60it/s]"
          ],
          "name": "stderr"
        },
        {
          "output_type": "stream",
          "text": [
            "Closed? 58069\n",
            "Closed? 25955\n"
          ],
          "name": "stdout"
        },
        {
          "output_type": "stream",
          "text": [
            " 48%|████▊     | 1696/3510 [07:28<06:10,  4.90it/s]"
          ],
          "name": "stderr"
        },
        {
          "output_type": "stream",
          "text": [
            "Closed? 61774\n"
          ],
          "name": "stdout"
        },
        {
          "output_type": "stream",
          "text": [
            " 48%|████▊     | 1700/3510 [07:30<08:36,  3.51it/s]"
          ],
          "name": "stderr"
        },
        {
          "output_type": "stream",
          "text": [
            "Closed? 57468\n"
          ],
          "name": "stdout"
        },
        {
          "output_type": "stream",
          "text": [
            " 49%|████▉     | 1719/3510 [07:35<09:31,  3.14it/s]"
          ],
          "name": "stderr"
        },
        {
          "output_type": "stream",
          "text": [
            "Closed? 29635\n"
          ],
          "name": "stdout"
        },
        {
          "output_type": "stream",
          "text": [
            " 49%|████▉     | 1737/3510 [07:40<08:09,  3.62it/s]"
          ],
          "name": "stderr"
        },
        {
          "output_type": "stream",
          "text": [
            "Closed? 56241\n"
          ],
          "name": "stdout"
        },
        {
          "output_type": "stream",
          "text": [
            " 50%|████▉     | 1741/3510 [07:41<08:19,  3.54it/s]"
          ],
          "name": "stderr"
        },
        {
          "output_type": "stream",
          "text": [
            "Closed? 19346\n"
          ],
          "name": "stdout"
        },
        {
          "output_type": "stream",
          "text": [
            " 50%|████▉     | 1752/3510 [07:45<10:37,  2.76it/s]"
          ],
          "name": "stderr"
        },
        {
          "output_type": "stream",
          "text": [
            "Closed? 53753\n"
          ],
          "name": "stdout"
        },
        {
          "output_type": "stream",
          "text": [
            " 50%|█████     | 1756/3510 [07:46<09:06,  3.21it/s]"
          ],
          "name": "stderr"
        },
        {
          "output_type": "stream",
          "text": [
            "Closed? 22672\n"
          ],
          "name": "stdout"
        },
        {
          "output_type": "stream",
          "text": [
            " 50%|█████     | 1767/3510 [07:49<10:30,  2.76it/s]"
          ],
          "name": "stderr"
        },
        {
          "output_type": "stream",
          "text": [
            "Closed? 56861\n",
            "Closed? 20637\n"
          ],
          "name": "stdout"
        },
        {
          "output_type": "stream",
          "text": [
            " 51%|█████     | 1777/3510 [07:52<09:43,  2.97it/s]"
          ],
          "name": "stderr"
        },
        {
          "output_type": "stream",
          "text": [
            "Closed? 7524\n"
          ],
          "name": "stdout"
        },
        {
          "output_type": "stream",
          "text": [
            "\r 51%|█████     | 1779/3510 [07:52<07:57,  3.63it/s]"
          ],
          "name": "stderr"
        },
        {
          "output_type": "stream",
          "text": [
            "Closed? 30735\n"
          ],
          "name": "stdout"
        },
        {
          "output_type": "stream",
          "text": [
            " 51%|█████     | 1782/3510 [07:53<08:09,  3.53it/s]"
          ],
          "name": "stderr"
        },
        {
          "output_type": "stream",
          "text": [
            "Closed? 5824\n",
            "Closed? 29586\n",
            "Closed? 9273\n"
          ],
          "name": "stdout"
        },
        {
          "output_type": "stream",
          "text": [
            " 51%|█████     | 1790/3510 [07:55<09:49,  2.92it/s]"
          ],
          "name": "stderr"
        },
        {
          "output_type": "stream",
          "text": [
            "Closed? 22911\n"
          ],
          "name": "stdout"
        },
        {
          "output_type": "stream",
          "text": [
            " 51%|█████▏    | 1804/3510 [07:58<06:17,  4.51it/s]"
          ],
          "name": "stderr"
        },
        {
          "output_type": "stream",
          "text": [
            "Closed? 1463\n"
          ],
          "name": "stdout"
        },
        {
          "output_type": "stream",
          "text": [
            " 52%|█████▏    | 1808/3510 [08:00<09:01,  3.14it/s]"
          ],
          "name": "stderr"
        },
        {
          "output_type": "stream",
          "text": [
            "Closed? 15396\n",
            "Closed? 15651\n",
            "Closed? 10039\n"
          ],
          "name": "stdout"
        },
        {
          "output_type": "stream",
          "text": [
            " 52%|█████▏    | 1816/3510 [08:02<09:53,  2.86it/s]"
          ],
          "name": "stderr"
        },
        {
          "output_type": "stream",
          "text": [
            "Closed? 16232\n"
          ],
          "name": "stdout"
        },
        {
          "output_type": "stream",
          "text": [
            " 52%|█████▏    | 1820/3510 [08:03<09:07,  3.09it/s]"
          ],
          "name": "stderr"
        },
        {
          "output_type": "stream",
          "text": [
            "Closed? 20631\n"
          ],
          "name": "stdout"
        },
        {
          "output_type": "stream",
          "text": [
            " 52%|█████▏    | 1823/3510 [08:03<08:01,  3.50it/s]"
          ],
          "name": "stderr"
        },
        {
          "output_type": "stream",
          "text": [
            "Closed? 29467\n"
          ],
          "name": "stdout"
        },
        {
          "output_type": "stream",
          "text": [
            " 52%|█████▏    | 1826/3510 [08:04<07:05,  3.96it/s]"
          ],
          "name": "stderr"
        },
        {
          "output_type": "stream",
          "text": [
            "Closed? 14842\n"
          ],
          "name": "stdout"
        },
        {
          "output_type": "stream",
          "text": [
            " 52%|█████▏    | 1831/3510 [08:05<07:54,  3.54it/s]"
          ],
          "name": "stderr"
        },
        {
          "output_type": "stream",
          "text": [
            "Closed? 54069\n"
          ],
          "name": "stdout"
        },
        {
          "output_type": "stream",
          "text": [
            " 53%|█████▎    | 1843/3510 [08:08<07:02,  3.95it/s]"
          ],
          "name": "stderr"
        },
        {
          "output_type": "stream",
          "text": [
            "Closed? 14643\n"
          ],
          "name": "stdout"
        },
        {
          "output_type": "stream",
          "text": [
            " 53%|█████▎    | 1848/3510 [08:10<10:05,  2.74it/s]"
          ],
          "name": "stderr"
        },
        {
          "output_type": "stream",
          "text": [
            "Closed? 8028\n"
          ],
          "name": "stdout"
        },
        {
          "output_type": "stream",
          "text": [
            " 53%|█████▎    | 1860/3510 [08:14<10:07,  2.72it/s]"
          ],
          "name": "stderr"
        },
        {
          "output_type": "stream",
          "text": [
            "Closed? 31866\n"
          ],
          "name": "stdout"
        },
        {
          "output_type": "stream",
          "text": [
            " 53%|█████▎    | 1863/3510 [08:15<08:19,  3.29it/s]"
          ],
          "name": "stderr"
        },
        {
          "output_type": "stream",
          "text": [
            "Closed? 12165\n"
          ],
          "name": "stdout"
        },
        {
          "output_type": "stream",
          "text": [
            " 53%|█████▎    | 1866/3510 [08:16<07:16,  3.76it/s]"
          ],
          "name": "stderr"
        },
        {
          "output_type": "stream",
          "text": [
            "Closed? 16906\n"
          ],
          "name": "stdout"
        },
        {
          "output_type": "stream",
          "text": [
            " 53%|█████▎    | 1870/3510 [08:17<07:11,  3.80it/s]"
          ],
          "name": "stderr"
        },
        {
          "output_type": "stream",
          "text": [
            "Closed? 60689\n"
          ],
          "name": "stdout"
        },
        {
          "output_type": "stream",
          "text": [
            "\r 53%|█████▎    | 1872/3510 [08:17<06:30,  4.20it/s]"
          ],
          "name": "stderr"
        },
        {
          "output_type": "stream",
          "text": [
            "Closed? 10068\n"
          ],
          "name": "stdout"
        },
        {
          "output_type": "stream",
          "text": [
            " 54%|█████▎    | 1879/3510 [08:19<07:28,  3.64it/s]"
          ],
          "name": "stderr"
        },
        {
          "output_type": "stream",
          "text": [
            "Closed? 19761\n"
          ],
          "name": "stdout"
        },
        {
          "output_type": "stream",
          "text": [
            " 54%|█████▎    | 1883/3510 [08:20<09:55,  2.73it/s]"
          ],
          "name": "stderr"
        },
        {
          "output_type": "stream",
          "text": [
            "Closed? 3285\n",
            "Closed? 16447\n",
            "Closed? 35103\n",
            "Closed? 2645\n"
          ],
          "name": "stdout"
        },
        {
          "output_type": "stream",
          "text": [
            " 54%|█████▍    | 1889/3510 [08:21<08:47,  3.07it/s]"
          ],
          "name": "stderr"
        },
        {
          "output_type": "stream",
          "text": [
            "Closed? 25085\n"
          ],
          "name": "stdout"
        },
        {
          "output_type": "stream",
          "text": [
            " 54%|█████▍    | 1893/3510 [08:22<08:34,  3.14it/s]"
          ],
          "name": "stderr"
        },
        {
          "output_type": "stream",
          "text": [
            "Closed? 35075\n"
          ],
          "name": "stdout"
        },
        {
          "output_type": "stream",
          "text": [
            "\r 54%|█████▍    | 1895/3510 [08:22<07:11,  3.74it/s]"
          ],
          "name": "stderr"
        },
        {
          "output_type": "stream",
          "text": [
            "Closed? 9679\n"
          ],
          "name": "stdout"
        },
        {
          "output_type": "stream",
          "text": [
            "\r 54%|█████▍    | 1897/3510 [08:23<06:31,  4.12it/s]"
          ],
          "name": "stderr"
        },
        {
          "output_type": "stream",
          "text": [
            "Closed? 9086\n"
          ],
          "name": "stdout"
        },
        {
          "output_type": "stream",
          "text": [
            " 54%|█████▍    | 1901/3510 [08:24<06:56,  3.86it/s]"
          ],
          "name": "stderr"
        },
        {
          "output_type": "stream",
          "text": [
            "Closed? 1264\n"
          ],
          "name": "stdout"
        },
        {
          "output_type": "stream",
          "text": [
            " 55%|█████▍    | 1921/3510 [08:30<09:01,  2.94it/s]"
          ],
          "name": "stderr"
        },
        {
          "output_type": "stream",
          "text": [
            "Closed? 61280\n",
            "Closed? 59326\n",
            "Closed? 28015\n"
          ],
          "name": "stdout"
        },
        {
          "output_type": "stream",
          "text": [
            " 55%|█████▍    | 1929/3510 [08:32<08:09,  3.23it/s]"
          ],
          "name": "stderr"
        },
        {
          "output_type": "stream",
          "text": [
            "Closed? 25907\n"
          ],
          "name": "stdout"
        },
        {
          "output_type": "stream",
          "text": [
            " 55%|█████▌    | 1935/3510 [08:33<05:40,  4.62it/s]"
          ],
          "name": "stderr"
        },
        {
          "output_type": "stream",
          "text": [
            "Closed? 10063\n"
          ],
          "name": "stdout"
        },
        {
          "output_type": "stream",
          "text": [
            " 55%|█████▌    | 1943/3510 [08:35<08:43,  2.99it/s]"
          ],
          "name": "stderr"
        },
        {
          "output_type": "stream",
          "text": [
            "Closed? 36965\n"
          ],
          "name": "stdout"
        },
        {
          "output_type": "stream",
          "text": [
            " 55%|█████▌    | 1948/3510 [08:37<09:22,  2.78it/s]"
          ],
          "name": "stderr"
        },
        {
          "output_type": "stream",
          "text": [
            "Closed? 8598\n"
          ],
          "name": "stdout"
        },
        {
          "output_type": "stream",
          "text": [
            " 56%|█████▌    | 1966/3510 [08:43<09:26,  2.72it/s]"
          ],
          "name": "stderr"
        },
        {
          "output_type": "stream",
          "text": [
            "Closed? 11076\n"
          ],
          "name": "stdout"
        },
        {
          "output_type": "stream",
          "text": [
            " 56%|█████▌    | 1969/3510 [08:44<07:22,  3.48it/s]"
          ],
          "name": "stderr"
        },
        {
          "output_type": "stream",
          "text": [
            "Closed? 20614\n"
          ],
          "name": "stdout"
        },
        {
          "output_type": "stream",
          "text": [
            " 57%|█████▋    | 1992/3510 [08:52<08:46,  2.88it/s]"
          ],
          "name": "stderr"
        },
        {
          "output_type": "stream",
          "text": [
            "Closed? 6139\n"
          ],
          "name": "stdout"
        },
        {
          "output_type": "stream",
          "text": [
            " 57%|█████▋    | 1995/3510 [08:53<07:25,  3.40it/s]"
          ],
          "name": "stderr"
        },
        {
          "output_type": "stream",
          "text": [
            "Closed? 26390\n"
          ],
          "name": "stdout"
        },
        {
          "output_type": "stream",
          "text": [
            " 57%|█████▋    | 2003/3510 [08:55<08:17,  3.03it/s]"
          ],
          "name": "stderr"
        },
        {
          "output_type": "stream",
          "text": [
            "Closed? 7863\n"
          ],
          "name": "stdout"
        },
        {
          "output_type": "stream",
          "text": [
            " 57%|█████▋    | 2012/3510 [08:58<08:11,  3.05it/s]"
          ],
          "name": "stderr"
        },
        {
          "output_type": "stream",
          "text": [
            "Closed? 30494\n"
          ],
          "name": "stdout"
        },
        {
          "output_type": "stream",
          "text": [
            " 58%|█████▊    | 2036/3510 [09:06<08:13,  2.99it/s]"
          ],
          "name": "stderr"
        },
        {
          "output_type": "stream",
          "text": [
            "Closed? 16550\n"
          ],
          "name": "stdout"
        },
        {
          "output_type": "stream",
          "text": [
            "\r 58%|█████▊    | 2038/3510 [09:07<06:39,  3.69it/s]"
          ],
          "name": "stderr"
        },
        {
          "output_type": "stream",
          "text": [
            "Closed? 6023\n",
            "Closed? 57753\n",
            "Closed? 54260\n"
          ],
          "name": "stdout"
        },
        {
          "output_type": "stream",
          "text": [
            " 58%|█████▊    | 2047/3510 [09:09<08:52,  2.75it/s]"
          ],
          "name": "stderr"
        },
        {
          "output_type": "stream",
          "text": [
            "Closed? 22532\n"
          ],
          "name": "stdout"
        },
        {
          "output_type": "stream",
          "text": [
            " 59%|█████▊    | 2054/3510 [09:11<09:03,  2.68it/s]"
          ],
          "name": "stderr"
        },
        {
          "output_type": "stream",
          "text": [
            "Closed? 34258\n"
          ],
          "name": "stdout"
        },
        {
          "output_type": "stream",
          "text": [
            " 59%|█████▊    | 2062/3510 [09:13<06:49,  3.53it/s]"
          ],
          "name": "stderr"
        },
        {
          "output_type": "stream",
          "text": [
            "Closed? 32725\n",
            "Closed? 26412\n"
          ],
          "name": "stdout"
        },
        {
          "output_type": "stream",
          "text": [
            " 59%|█████▉    | 2069/3510 [09:14<04:16,  5.62it/s]"
          ],
          "name": "stderr"
        },
        {
          "output_type": "stream",
          "text": [
            "Closed? 3564\n",
            "Closed? 26176\n",
            "Closed? 55518\n"
          ],
          "name": "stdout"
        },
        {
          "output_type": "stream",
          "text": [
            "\r 59%|█████▉    | 2071/3510 [09:14<05:31,  4.34it/s]"
          ],
          "name": "stderr"
        },
        {
          "output_type": "stream",
          "text": [
            "Closed? 12598\n"
          ],
          "name": "stdout"
        },
        {
          "output_type": "stream",
          "text": [
            "\r 59%|█████▉    | 2073/3510 [09:15<05:05,  4.70it/s]"
          ],
          "name": "stderr"
        },
        {
          "output_type": "stream",
          "text": [
            "Closed? 60297\n"
          ],
          "name": "stdout"
        },
        {
          "output_type": "stream",
          "text": [
            " 59%|█████▉    | 2086/3510 [09:18<07:10,  3.31it/s]"
          ],
          "name": "stderr"
        },
        {
          "output_type": "stream",
          "text": [
            "Closed? 25905\n"
          ],
          "name": "stdout"
        },
        {
          "output_type": "stream",
          "text": [
            " 60%|█████▉    | 2096/3510 [09:22<07:07,  3.31it/s]"
          ],
          "name": "stderr"
        },
        {
          "output_type": "stream",
          "text": [
            "Closed? 19583\n",
            "Closed? 59224\n"
          ],
          "name": "stdout"
        },
        {
          "output_type": "stream",
          "text": [
            " 60%|██████    | 2112/3510 [09:27<07:49,  2.98it/s]"
          ],
          "name": "stderr"
        },
        {
          "output_type": "stream",
          "text": [
            "Closed? 10418\n"
          ],
          "name": "stdout"
        },
        {
          "output_type": "stream",
          "text": [
            " 60%|██████    | 2122/3510 [09:30<07:30,  3.08it/s]"
          ],
          "name": "stderr"
        },
        {
          "output_type": "stream",
          "text": [
            "Closed? 15299\n"
          ],
          "name": "stdout"
        },
        {
          "output_type": "stream",
          "text": [
            " 61%|██████    | 2133/3510 [09:33<07:36,  3.02it/s]"
          ],
          "name": "stderr"
        },
        {
          "output_type": "stream",
          "text": [
            "Closed? 16866\n"
          ],
          "name": "stdout"
        },
        {
          "output_type": "stream",
          "text": [
            " 61%|██████    | 2142/3510 [09:35<05:47,  3.94it/s]"
          ],
          "name": "stderr"
        },
        {
          "output_type": "stream",
          "text": [
            "Closed? 34172\n"
          ],
          "name": "stdout"
        },
        {
          "output_type": "stream",
          "text": [
            " 61%|██████    | 2147/3510 [09:36<06:48,  3.34it/s]"
          ],
          "name": "stderr"
        },
        {
          "output_type": "stream",
          "text": [
            "Closed? 60630\n"
          ],
          "name": "stdout"
        },
        {
          "output_type": "stream",
          "text": [
            " 61%|██████▏   | 2153/3510 [09:38<07:06,  3.18it/s]"
          ],
          "name": "stderr"
        },
        {
          "output_type": "stream",
          "text": [
            "Closed? 4325\n",
            "Closed? 6803\n"
          ],
          "name": "stdout"
        },
        {
          "output_type": "stream",
          "text": [
            "\r 61%|██████▏   | 2156/3510 [09:38<05:44,  3.93it/s]"
          ],
          "name": "stderr"
        },
        {
          "output_type": "stream",
          "text": [
            "Closed? 28191\n"
          ],
          "name": "stdout"
        },
        {
          "output_type": "stream",
          "text": [
            " 62%|██████▏   | 2170/3510 [09:42<04:37,  4.83it/s]"
          ],
          "name": "stderr"
        },
        {
          "output_type": "stream",
          "text": [
            "Closed? 17216\n",
            "Closed? 10\n"
          ],
          "name": "stdout"
        },
        {
          "output_type": "stream",
          "text": [
            " 63%|██████▎   | 2199/3510 [09:52<06:57,  3.14it/s]"
          ],
          "name": "stderr"
        },
        {
          "output_type": "stream",
          "text": [
            "Closed? 21768\n"
          ],
          "name": "stdout"
        },
        {
          "output_type": "stream",
          "text": [
            " 63%|██████▎   | 2211/3510 [09:56<07:21,  2.94it/s]"
          ],
          "name": "stderr"
        },
        {
          "output_type": "stream",
          "text": [
            "Closed? 58223\n"
          ],
          "name": "stdout"
        },
        {
          "output_type": "stream",
          "text": [
            " 63%|██████▎   | 2215/3510 [09:57<06:11,  3.48it/s]"
          ],
          "name": "stderr"
        },
        {
          "output_type": "stream",
          "text": [
            "Closed? 22131\n"
          ],
          "name": "stdout"
        },
        {
          "output_type": "stream",
          "text": [
            " 64%|██████▍   | 2238/3510 [10:04<06:45,  3.14it/s]"
          ],
          "name": "stderr"
        },
        {
          "output_type": "stream",
          "text": [
            "Closed? 57232\n"
          ],
          "name": "stdout"
        },
        {
          "output_type": "stream",
          "text": [
            " 64%|██████▍   | 2262/3510 [10:12<06:59,  2.98it/s]"
          ],
          "name": "stderr"
        },
        {
          "output_type": "stream",
          "text": [
            "Closed? 31201\n",
            "Closed? 11811\n",
            "Closed? 21056\n",
            "Closed? 17401\n"
          ],
          "name": "stdout"
        },
        {
          "output_type": "stream",
          "text": [
            " 65%|██████▍   | 2268/3510 [10:13<06:06,  3.39it/s]"
          ],
          "name": "stderr"
        },
        {
          "output_type": "stream",
          "text": [
            "Closed? 15663\n"
          ],
          "name": "stdout"
        },
        {
          "output_type": "stream",
          "text": [
            " 65%|██████▍   | 2279/3510 [10:16<07:17,  2.81it/s]"
          ],
          "name": "stderr"
        },
        {
          "output_type": "stream",
          "text": [
            "Closed? 56536\n"
          ],
          "name": "stdout"
        },
        {
          "output_type": "stream",
          "text": [
            " 65%|██████▌   | 2287/3510 [10:18<05:03,  4.02it/s]"
          ],
          "name": "stderr"
        },
        {
          "output_type": "stream",
          "text": [
            "Closed? 63829\n"
          ],
          "name": "stdout"
        },
        {
          "output_type": "stream",
          "text": [
            " 65%|██████▌   | 2289/3510 [10:19<04:47,  4.25it/s]"
          ],
          "name": "stderr"
        },
        {
          "output_type": "stream",
          "text": [
            "Closed? 15447\n"
          ],
          "name": "stdout"
        },
        {
          "output_type": "stream",
          "text": [
            "\r 65%|██████▌   | 2291/3510 [10:19<04:27,  4.55it/s]"
          ],
          "name": "stderr"
        },
        {
          "output_type": "stream",
          "text": [
            "Closed? 54123\n"
          ],
          "name": "stdout"
        },
        {
          "output_type": "stream",
          "text": [
            " 66%|██████▌   | 2303/3510 [10:23<07:17,  2.76it/s]"
          ],
          "name": "stderr"
        },
        {
          "output_type": "stream",
          "text": [
            "Closed? 19972\n"
          ],
          "name": "stdout"
        },
        {
          "output_type": "stream",
          "text": [
            "\r 66%|██████▌   | 2305/3510 [10:23<06:10,  3.25it/s]"
          ],
          "name": "stderr"
        },
        {
          "output_type": "stream",
          "text": [
            "Closed? 59254\n"
          ],
          "name": "stdout"
        },
        {
          "output_type": "stream",
          "text": [
            " 66%|██████▌   | 2309/3510 [10:24<05:22,  3.72it/s]"
          ],
          "name": "stderr"
        },
        {
          "output_type": "stream",
          "text": [
            "Closed? 60419\n"
          ],
          "name": "stdout"
        },
        {
          "output_type": "stream",
          "text": [
            " 66%|██████▌   | 2312/3510 [10:25<05:29,  3.64it/s]"
          ],
          "name": "stderr"
        },
        {
          "output_type": "stream",
          "text": [
            "Closed? 5861\n",
            "Closed? 35374\n"
          ],
          "name": "stdout"
        },
        {
          "output_type": "stream",
          "text": [
            "\r 66%|██████▌   | 2315/3510 [10:25<04:46,  4.17it/s]"
          ],
          "name": "stderr"
        },
        {
          "output_type": "stream",
          "text": [
            "Closed? 63734\n",
            "Closed? 30031\n",
            "Closed? 25948\n"
          ],
          "name": "stdout"
        },
        {
          "output_type": "stream",
          "text": [
            " 66%|██████▋   | 2327/3510 [10:28<06:58,  2.83it/s]"
          ],
          "name": "stderr"
        },
        {
          "output_type": "stream",
          "text": [
            "Closed? 33741\n"
          ],
          "name": "stdout"
        },
        {
          "output_type": "stream",
          "text": [
            " 66%|██████▋   | 2333/3510 [10:30<06:26,  3.05it/s]"
          ],
          "name": "stderr"
        },
        {
          "output_type": "stream",
          "text": [
            "Closed? 12238\n",
            "Closed? 2600\n"
          ],
          "name": "stdout"
        },
        {
          "output_type": "stream",
          "text": [
            " 67%|██████▋   | 2340/3510 [10:32<06:30,  2.99it/s]"
          ],
          "name": "stderr"
        },
        {
          "output_type": "stream",
          "text": [
            "Closed? 14368\n"
          ],
          "name": "stdout"
        },
        {
          "output_type": "stream",
          "text": [
            "\r 67%|██████▋   | 2342/3510 [10:32<05:37,  3.46it/s]"
          ],
          "name": "stderr"
        },
        {
          "output_type": "stream",
          "text": [
            "Closed? 22496\n"
          ],
          "name": "stdout"
        },
        {
          "output_type": "stream",
          "text": [
            " 67%|██████▋   | 2351/3510 [10:35<05:36,  3.44it/s]"
          ],
          "name": "stderr"
        },
        {
          "output_type": "stream",
          "text": [
            "Closed? 22073\n",
            "Closed? 27867\n"
          ],
          "name": "stdout"
        },
        {
          "output_type": "stream",
          "text": [
            " 67%|██████▋   | 2361/3510 [10:37<05:09,  3.71it/s]"
          ],
          "name": "stderr"
        },
        {
          "output_type": "stream",
          "text": [
            "Closed? 30506\n"
          ],
          "name": "stdout"
        },
        {
          "output_type": "stream",
          "text": [
            " 67%|██████▋   | 2367/3510 [10:39<05:22,  3.55it/s]"
          ],
          "name": "stderr"
        },
        {
          "output_type": "stream",
          "text": [
            "Closed? 15000\n"
          ],
          "name": "stdout"
        },
        {
          "output_type": "stream",
          "text": [
            " 68%|██████▊   | 2370/3510 [10:40<05:32,  3.43it/s]"
          ],
          "name": "stderr"
        },
        {
          "output_type": "stream",
          "text": [
            "Closed? 11718\n"
          ],
          "name": "stdout"
        },
        {
          "output_type": "stream",
          "text": [
            " 68%|██████▊   | 2374/3510 [10:41<06:11,  3.06it/s]"
          ],
          "name": "stderr"
        },
        {
          "output_type": "stream",
          "text": [
            "Closed? 63774\n"
          ],
          "name": "stdout"
        },
        {
          "output_type": "stream",
          "text": [
            " 68%|██████▊   | 2377/3510 [10:41<05:10,  3.65it/s]"
          ],
          "name": "stderr"
        },
        {
          "output_type": "stream",
          "text": [
            "Closed? 21535\n",
            "Closed? 1718\n"
          ],
          "name": "stdout"
        },
        {
          "output_type": "stream",
          "text": [
            " 68%|██████▊   | 2395/3510 [10:45<04:40,  3.97it/s]"
          ],
          "name": "stderr"
        },
        {
          "output_type": "stream",
          "text": [
            "Closed? 7735\n"
          ],
          "name": "stdout"
        },
        {
          "output_type": "stream",
          "text": [
            " 68%|██████▊   | 2401/3510 [10:47<05:24,  3.42it/s]"
          ],
          "name": "stderr"
        },
        {
          "output_type": "stream",
          "text": [
            "Closed? 10171\n"
          ],
          "name": "stdout"
        },
        {
          "output_type": "stream",
          "text": [
            "\r 68%|██████▊   | 2403/3510 [10:48<04:37,  3.98it/s]"
          ],
          "name": "stderr"
        },
        {
          "output_type": "stream",
          "text": [
            "Closed? 56495\n",
            "Closed? 63374\n"
          ],
          "name": "stdout"
        },
        {
          "output_type": "stream",
          "text": [
            " 69%|██████▊   | 2410/3510 [10:49<04:48,  3.81it/s]"
          ],
          "name": "stderr"
        },
        {
          "output_type": "stream",
          "text": [
            "Closed? 53326\n"
          ],
          "name": "stdout"
        },
        {
          "output_type": "stream",
          "text": [
            " 69%|██████▉   | 2416/3510 [10:50<03:52,  4.70it/s]"
          ],
          "name": "stderr"
        },
        {
          "output_type": "stream",
          "text": [
            "Closed? 61882\n",
            "Closed? 5186\n",
            "Closed? 58553\n"
          ],
          "name": "stdout"
        },
        {
          "output_type": "stream",
          "text": [
            " 69%|██████▉   | 2427/3510 [10:54<06:28,  2.79it/s]"
          ],
          "name": "stderr"
        },
        {
          "output_type": "stream",
          "text": [
            "Closed? 54310\n"
          ],
          "name": "stdout"
        },
        {
          "output_type": "stream",
          "text": [
            "\r 69%|██████▉   | 2429/3510 [10:54<05:08,  3.50it/s]"
          ],
          "name": "stderr"
        },
        {
          "output_type": "stream",
          "text": [
            "Closed? 14598\n",
            "Closed? 17721\n"
          ],
          "name": "stdout"
        },
        {
          "output_type": "stream",
          "text": [
            " 69%|██████▉   | 2434/3510 [10:55<04:48,  3.73it/s]"
          ],
          "name": "stderr"
        },
        {
          "output_type": "stream",
          "text": [
            "Closed? 33846\n"
          ],
          "name": "stdout"
        },
        {
          "output_type": "stream",
          "text": [
            " 70%|██████▉   | 2442/3510 [10:57<05:54,  3.02it/s]"
          ],
          "name": "stderr"
        },
        {
          "output_type": "stream",
          "text": [
            "Closed? 6043\n"
          ],
          "name": "stdout"
        },
        {
          "output_type": "stream",
          "text": [
            " 70%|██████▉   | 2453/3510 [11:01<07:12,  2.45it/s]"
          ],
          "name": "stderr"
        },
        {
          "output_type": "stream",
          "text": [
            "Closed? 35203\n"
          ],
          "name": "stdout"
        },
        {
          "output_type": "stream",
          "text": [
            " 70%|███████   | 2457/3510 [11:03<06:44,  2.61it/s]"
          ],
          "name": "stderr"
        },
        {
          "output_type": "stream",
          "text": [
            "Closed? 22999\n",
            "Closed? 11544\n"
          ],
          "name": "stdout"
        },
        {
          "output_type": "stream",
          "text": [
            "\r 70%|███████   | 2460/3510 [11:03<05:25,  3.22it/s]"
          ],
          "name": "stderr"
        },
        {
          "output_type": "stream",
          "text": [
            "Closed? 32728\n",
            "Closed? 18096\n"
          ],
          "name": "stdout"
        },
        {
          "output_type": "stream",
          "text": [
            " 70%|███████   | 2464/3510 [11:04<05:14,  3.33it/s]"
          ],
          "name": "stderr"
        },
        {
          "output_type": "stream",
          "text": [
            "Closed? 61416\n"
          ],
          "name": "stdout"
        },
        {
          "output_type": "stream",
          "text": [
            " 70%|███████   | 2467/3510 [11:05<04:43,  3.68it/s]"
          ],
          "name": "stderr"
        },
        {
          "output_type": "stream",
          "text": [
            "Closed? 17650\n"
          ],
          "name": "stdout"
        },
        {
          "output_type": "stream",
          "text": [
            " 71%|███████   | 2477/3510 [11:08<06:20,  2.72it/s]"
          ],
          "name": "stderr"
        },
        {
          "output_type": "stream",
          "text": [
            "Closed? 23049\n",
            "Closed? 15721\n",
            "Closed? 32120\n",
            "Closed? 14054\n"
          ],
          "name": "stdout"
        },
        {
          "output_type": "stream",
          "text": [
            "\r 71%|███████   | 2482/3510 [11:08<04:47,  3.58it/s]"
          ],
          "name": "stderr"
        },
        {
          "output_type": "stream",
          "text": [
            "Closed? 33701\n"
          ],
          "name": "stdout"
        },
        {
          "output_type": "stream",
          "text": [
            " 71%|███████   | 2485/3510 [11:09<05:30,  3.10it/s]"
          ],
          "name": "stderr"
        },
        {
          "output_type": "stream",
          "text": [
            "Closed? 10020\n",
            "Closed? 9667\n"
          ],
          "name": "stdout"
        },
        {
          "output_type": "stream",
          "text": [
            " 71%|███████   | 2491/3510 [11:11<05:35,  3.03it/s]"
          ],
          "name": "stderr"
        },
        {
          "output_type": "stream",
          "text": [
            "Closed? 61107\n"
          ],
          "name": "stdout"
        },
        {
          "output_type": "stream",
          "text": [
            " 71%|███████   | 2495/3510 [11:12<05:51,  2.88it/s]"
          ],
          "name": "stderr"
        },
        {
          "output_type": "stream",
          "text": [
            "Closed? 8393\n",
            "Closed? 5106\n"
          ],
          "name": "stdout"
        },
        {
          "output_type": "stream",
          "text": [
            " 71%|███████▏  | 2501/3510 [11:13<05:39,  2.97it/s]"
          ],
          "name": "stderr"
        },
        {
          "output_type": "stream",
          "text": [
            "Closed? 20885\n",
            "Closed? 63696\n"
          ],
          "name": "stdout"
        },
        {
          "output_type": "stream",
          "text": [
            " 72%|███████▏  | 2512/3510 [11:17<06:29,  2.56it/s]"
          ],
          "name": "stderr"
        },
        {
          "output_type": "stream",
          "text": [
            "Closed? 21989\n"
          ],
          "name": "stdout"
        },
        {
          "output_type": "stream",
          "text": [
            " 72%|███████▏  | 2520/3510 [11:19<05:14,  3.14it/s]"
          ],
          "name": "stderr"
        },
        {
          "output_type": "stream",
          "text": [
            "Closed? 13685\n"
          ],
          "name": "stdout"
        },
        {
          "output_type": "stream",
          "text": [
            " 72%|███████▏  | 2527/3510 [11:20<02:58,  5.50it/s]"
          ],
          "name": "stderr"
        },
        {
          "output_type": "stream",
          "text": [
            "Closed? 21559\n",
            "Closed? 36996\n",
            "Closed? 60449\n"
          ],
          "name": "stdout"
        },
        {
          "output_type": "stream",
          "text": [
            " 72%|███████▏  | 2535/3510 [11:23<05:40,  2.86it/s]"
          ],
          "name": "stderr"
        },
        {
          "output_type": "stream",
          "text": [
            "Closed? 57425\n"
          ],
          "name": "stdout"
        },
        {
          "output_type": "stream",
          "text": [
            " 73%|███████▎  | 2556/3510 [11:29<05:25,  2.94it/s]"
          ],
          "name": "stderr"
        },
        {
          "output_type": "stream",
          "text": [
            "Closed? 23271\n"
          ],
          "name": "stdout"
        },
        {
          "output_type": "stream",
          "text": [
            " 73%|███████▎  | 2560/3510 [11:31<05:58,  2.65it/s]"
          ],
          "name": "stderr"
        },
        {
          "output_type": "stream",
          "text": [
            "Closed? 24254\n"
          ],
          "name": "stdout"
        },
        {
          "output_type": "stream",
          "text": [
            " 73%|███████▎  | 2566/3510 [11:33<06:20,  2.48it/s]"
          ],
          "name": "stderr"
        },
        {
          "output_type": "stream",
          "text": [
            "Closed? 24135\n",
            "Closed? 56862\n"
          ],
          "name": "stdout"
        },
        {
          "output_type": "stream",
          "text": [
            " 74%|███████▎  | 2584/3510 [11:37<04:06,  3.75it/s]"
          ],
          "name": "stderr"
        },
        {
          "output_type": "stream",
          "text": [
            "Closed? 1159\n",
            "Closed? 3808\n",
            "Closed? 62760\n",
            "Closed? 56151\n",
            "Closed? 8924\n",
            "Closed? 61874\n",
            "Closed? 61662\n"
          ],
          "name": "stdout"
        },
        {
          "output_type": "stream",
          "text": [
            " 74%|███████▍  | 2600/3510 [11:41<06:16,  2.41it/s]"
          ],
          "name": "stderr"
        },
        {
          "output_type": "stream",
          "text": [
            "Closed? 26096\n"
          ],
          "name": "stdout"
        },
        {
          "output_type": "stream",
          "text": [
            " 74%|███████▍  | 2607/3510 [11:44<06:28,  2.33it/s]"
          ],
          "name": "stderr"
        },
        {
          "output_type": "stream",
          "text": [
            "Closed? 10755\n"
          ],
          "name": "stdout"
        },
        {
          "output_type": "stream",
          "text": [
            " 75%|███████▍  | 2627/3510 [11:50<04:33,  3.23it/s]"
          ],
          "name": "stderr"
        },
        {
          "output_type": "stream",
          "text": [
            "Closed? 57993\n",
            "Closed? 34096\n"
          ],
          "name": "stdout"
        },
        {
          "output_type": "stream",
          "text": [
            "\r 75%|███████▍  | 2630/3510 [11:51<03:49,  3.83it/s]"
          ],
          "name": "stderr"
        },
        {
          "output_type": "stream",
          "text": [
            "Closed? 25726\n"
          ],
          "name": "stdout"
        },
        {
          "output_type": "stream",
          "text": [
            " 75%|███████▌  | 2638/3510 [11:53<04:55,  2.95it/s]"
          ],
          "name": "stderr"
        },
        {
          "output_type": "stream",
          "text": [
            "Closed? 20067\n"
          ],
          "name": "stdout"
        },
        {
          "output_type": "stream",
          "text": [
            "\r 75%|███████▌  | 2640/3510 [11:53<04:22,  3.31it/s]"
          ],
          "name": "stderr"
        },
        {
          "output_type": "stream",
          "text": [
            "Closed? 27836\n",
            "Closed? 36104\n"
          ],
          "name": "stdout"
        },
        {
          "output_type": "stream",
          "text": [
            " 76%|███████▌  | 2656/3510 [11:58<03:46,  3.77it/s]"
          ],
          "name": "stderr"
        },
        {
          "output_type": "stream",
          "text": [
            "Closed? 25705\n",
            "Closed? 56425\n"
          ],
          "name": "stdout"
        },
        {
          "output_type": "stream",
          "text": [
            " 76%|███████▌  | 2671/3510 [12:03<04:45,  2.94it/s]"
          ],
          "name": "stderr"
        },
        {
          "output_type": "stream",
          "text": [
            "Closed? 24038\n"
          ],
          "name": "stdout"
        },
        {
          "output_type": "stream",
          "text": [
            "\r 76%|███████▌  | 2673/3510 [12:03<03:58,  3.50it/s]"
          ],
          "name": "stderr"
        },
        {
          "output_type": "stream",
          "text": [
            "Closed? 19211\n"
          ],
          "name": "stdout"
        },
        {
          "output_type": "stream",
          "text": [
            " 76%|███████▋  | 2679/3510 [12:05<05:11,  2.67it/s]"
          ],
          "name": "stderr"
        },
        {
          "output_type": "stream",
          "text": [
            "Closed? 22275\n",
            "Closed? 4764\n"
          ],
          "name": "stdout"
        },
        {
          "output_type": "stream",
          "text": [
            " 77%|███████▋  | 2689/3510 [12:08<03:49,  3.57it/s]"
          ],
          "name": "stderr"
        },
        {
          "output_type": "stream",
          "text": [
            "Closed? 33493\n"
          ],
          "name": "stdout"
        },
        {
          "output_type": "stream",
          "text": [
            " 77%|███████▋  | 2700/3510 [12:12<05:23,  2.50it/s]"
          ],
          "name": "stderr"
        },
        {
          "output_type": "stream",
          "text": [
            "Closed? 63214\n"
          ],
          "name": "stdout"
        },
        {
          "output_type": "stream",
          "text": [
            " 77%|███████▋  | 2703/3510 [12:13<04:36,  2.92it/s]"
          ],
          "name": "stderr"
        },
        {
          "output_type": "stream",
          "text": [
            "Closed? 35328\n"
          ],
          "name": "stdout"
        },
        {
          "output_type": "stream",
          "text": [
            " 77%|███████▋  | 2709/3510 [12:15<05:16,  2.53it/s]"
          ],
          "name": "stderr"
        },
        {
          "output_type": "stream",
          "text": [
            "Closed? 63756\n",
            "Closed? 55006\n"
          ],
          "name": "stdout"
        },
        {
          "output_type": "stream",
          "text": [
            " 77%|███████▋  | 2715/3510 [12:16<03:59,  3.32it/s]"
          ],
          "name": "stderr"
        },
        {
          "output_type": "stream",
          "text": [
            "Closed? 2723\n"
          ],
          "name": "stdout"
        },
        {
          "output_type": "stream",
          "text": [
            " 77%|███████▋  | 2718/3510 [12:17<03:43,  3.55it/s]"
          ],
          "name": "stderr"
        },
        {
          "output_type": "stream",
          "text": [
            "Closed? 27190\n"
          ],
          "name": "stdout"
        },
        {
          "output_type": "stream",
          "text": [
            " 78%|███████▊  | 2721/3510 [12:17<03:47,  3.47it/s]"
          ],
          "name": "stderr"
        },
        {
          "output_type": "stream",
          "text": [
            "Closed? 1917\n"
          ],
          "name": "stdout"
        },
        {
          "output_type": "stream",
          "text": [
            " 78%|███████▊  | 2726/3510 [12:19<03:46,  3.46it/s]"
          ],
          "name": "stderr"
        },
        {
          "output_type": "stream",
          "text": [
            "Closed? 23480\n"
          ],
          "name": "stdout"
        },
        {
          "output_type": "stream",
          "text": [
            " 78%|███████▊  | 2730/3510 [12:20<03:15,  3.99it/s]"
          ],
          "name": "stderr"
        },
        {
          "output_type": "stream",
          "text": [
            "Closed? 28703\n"
          ],
          "name": "stdout"
        },
        {
          "output_type": "stream",
          "text": [
            " 78%|███████▊  | 2737/3510 [12:22<04:18,  2.99it/s]"
          ],
          "name": "stderr"
        },
        {
          "output_type": "stream",
          "text": [
            "Closed? 7350\n",
            "Closed? 54615\n",
            "Closed? 13932\n"
          ],
          "name": "stdout"
        },
        {
          "output_type": "stream",
          "text": [
            " 78%|███████▊  | 2750/3510 [12:25<04:00,  3.16it/s]"
          ],
          "name": "stderr"
        },
        {
          "output_type": "stream",
          "text": [
            "Closed? 26724\n"
          ],
          "name": "stdout"
        },
        {
          "output_type": "stream",
          "text": [
            " 78%|███████▊  | 2755/3510 [12:26<03:07,  4.02it/s]"
          ],
          "name": "stderr"
        },
        {
          "output_type": "stream",
          "text": [
            "Closed? 29916\n",
            "Closed? 12145\n"
          ],
          "name": "stdout"
        },
        {
          "output_type": "stream",
          "text": [
            " 79%|███████▊  | 2759/3510 [12:27<03:21,  3.74it/s]"
          ],
          "name": "stderr"
        },
        {
          "output_type": "stream",
          "text": [
            "Closed? 12866\n"
          ],
          "name": "stdout"
        },
        {
          "output_type": "stream",
          "text": [
            " 79%|███████▊  | 2762/3510 [12:27<02:46,  4.50it/s]"
          ],
          "name": "stderr"
        },
        {
          "output_type": "stream",
          "text": [
            "Closed? 26342\n",
            "Closed? 22696\n"
          ],
          "name": "stdout"
        },
        {
          "output_type": "stream",
          "text": [
            " 79%|███████▉  | 2780/3510 [12:32<04:14,  2.87it/s]"
          ],
          "name": "stderr"
        },
        {
          "output_type": "stream",
          "text": [
            "Closed? 28173\n"
          ],
          "name": "stdout"
        },
        {
          "output_type": "stream",
          "text": [
            "\r 79%|███████▉  | 2782/3510 [12:33<03:46,  3.21it/s]"
          ],
          "name": "stderr"
        },
        {
          "output_type": "stream",
          "text": [
            "Closed? 57748\n",
            "Closed? 60216\n"
          ],
          "name": "stdout"
        },
        {
          "output_type": "stream",
          "text": [
            " 79%|███████▉  | 2786/3510 [12:34<03:37,  3.33it/s]"
          ],
          "name": "stderr"
        },
        {
          "output_type": "stream",
          "text": [
            "Closed? 22246\n",
            "Closed? 62447\n"
          ],
          "name": "stdout"
        },
        {
          "output_type": "stream",
          "text": [
            "\r 79%|███████▉  | 2789/3510 [12:34<02:51,  4.20it/s]"
          ],
          "name": "stderr"
        },
        {
          "output_type": "stream",
          "text": [
            "Closed? 21088\n"
          ],
          "name": "stdout"
        },
        {
          "output_type": "stream",
          "text": [
            " 80%|███████▉  | 2792/3510 [12:35<03:06,  3.86it/s]"
          ],
          "name": "stderr"
        },
        {
          "output_type": "stream",
          "text": [
            "Closed? 10204\n"
          ],
          "name": "stdout"
        },
        {
          "output_type": "stream",
          "text": [
            "\r 80%|███████▉  | 2794/3510 [12:35<02:47,  4.27it/s]"
          ],
          "name": "stderr"
        },
        {
          "output_type": "stream",
          "text": [
            "Closed? 13937\n"
          ],
          "name": "stdout"
        },
        {
          "output_type": "stream",
          "text": [
            " 80%|███████▉  | 2799/3510 [12:36<03:07,  3.80it/s]"
          ],
          "name": "stderr"
        },
        {
          "output_type": "stream",
          "text": [
            "Closed? 60338\n"
          ],
          "name": "stdout"
        },
        {
          "output_type": "stream",
          "text": [
            " 80%|███████▉  | 2803/3510 [12:37<04:01,  2.93it/s]"
          ],
          "name": "stderr"
        },
        {
          "output_type": "stream",
          "text": [
            "Closed? 10409\n"
          ],
          "name": "stdout"
        },
        {
          "output_type": "stream",
          "text": [
            " 80%|███████▉  | 2806/3510 [12:38<03:23,  3.47it/s]"
          ],
          "name": "stderr"
        },
        {
          "output_type": "stream",
          "text": [
            "Closed? 32995\n"
          ],
          "name": "stdout"
        },
        {
          "output_type": "stream",
          "text": [
            " 80%|████████  | 2812/3510 [12:39<02:39,  4.37it/s]"
          ],
          "name": "stderr"
        },
        {
          "output_type": "stream",
          "text": [
            "Closed? 7597\n"
          ],
          "name": "stdout"
        },
        {
          "output_type": "stream",
          "text": [
            " 81%|████████  | 2830/3510 [12:45<03:54,  2.89it/s]"
          ],
          "name": "stderr"
        },
        {
          "output_type": "stream",
          "text": [
            "Closed? 60385\n"
          ],
          "name": "stdout"
        },
        {
          "output_type": "stream",
          "text": [
            "\r 81%|████████  | 2832/3510 [12:45<03:19,  3.40it/s]"
          ],
          "name": "stderr"
        },
        {
          "output_type": "stream",
          "text": [
            "Closed? 20782\n",
            "Closed? 2721\n"
          ],
          "name": "stdout"
        },
        {
          "output_type": "stream",
          "text": [
            " 81%|████████  | 2847/3510 [12:49<03:05,  3.57it/s]"
          ],
          "name": "stderr"
        },
        {
          "output_type": "stream",
          "text": [
            "Closed? 5233\n"
          ],
          "name": "stdout"
        },
        {
          "output_type": "stream",
          "text": [
            " 81%|████████  | 2849/3510 [12:50<03:23,  3.25it/s]"
          ],
          "name": "stderr"
        },
        {
          "output_type": "stream",
          "text": [
            "Closed? 54110\n"
          ],
          "name": "stdout"
        },
        {
          "output_type": "stream",
          "text": [
            " 82%|████████▏ | 2866/3510 [12:56<04:16,  2.51it/s]"
          ],
          "name": "stderr"
        },
        {
          "output_type": "stream",
          "text": [
            "Closed? 3739\n"
          ],
          "name": "stdout"
        },
        {
          "output_type": "stream",
          "text": [
            " 82%|████████▏ | 2871/3510 [12:57<03:14,  3.28it/s]"
          ],
          "name": "stderr"
        },
        {
          "output_type": "stream",
          "text": [
            "Closed? 15792\n"
          ],
          "name": "stdout"
        },
        {
          "output_type": "stream",
          "text": [
            " 82%|████████▏ | 2889/3510 [13:04<04:09,  2.48it/s]"
          ],
          "name": "stderr"
        },
        {
          "output_type": "stream",
          "text": [
            "Closed? 31716\n"
          ],
          "name": "stdout"
        },
        {
          "output_type": "stream",
          "text": [
            " 83%|████████▎ | 2909/3510 [13:10<03:51,  2.60it/s]"
          ],
          "name": "stderr"
        },
        {
          "output_type": "stream",
          "text": [
            "Closed? 30744\n"
          ],
          "name": "stdout"
        },
        {
          "output_type": "stream",
          "text": [
            " 83%|████████▎ | 2917/3510 [13:13<03:33,  2.77it/s]"
          ],
          "name": "stderr"
        },
        {
          "output_type": "stream",
          "text": [
            "Closed? 34106\n"
          ],
          "name": "stdout"
        },
        {
          "output_type": "stream",
          "text": [
            " 83%|████████▎ | 2926/3510 [13:16<03:10,  3.07it/s]"
          ],
          "name": "stderr"
        },
        {
          "output_type": "stream",
          "text": [
            "Closed? 33510\n"
          ],
          "name": "stdout"
        },
        {
          "output_type": "stream",
          "text": [
            " 84%|████████▎ | 2931/3510 [13:17<03:45,  2.56it/s]"
          ],
          "name": "stderr"
        },
        {
          "output_type": "stream",
          "text": [
            "Closed? 22904\n"
          ],
          "name": "stdout"
        },
        {
          "output_type": "stream",
          "text": [
            " 84%|████████▎ | 2937/3510 [13:19<03:15,  2.93it/s]"
          ],
          "name": "stderr"
        },
        {
          "output_type": "stream",
          "text": [
            "Closed? 29720\n"
          ],
          "name": "stdout"
        },
        {
          "output_type": "stream",
          "text": [
            " 84%|████████▍ | 2944/3510 [13:21<03:08,  3.00it/s]"
          ],
          "name": "stderr"
        },
        {
          "output_type": "stream",
          "text": [
            "Closed? 28164\n"
          ],
          "name": "stdout"
        },
        {
          "output_type": "stream",
          "text": [
            " 84%|████████▍ | 2949/3510 [13:22<02:49,  3.30it/s]"
          ],
          "name": "stderr"
        },
        {
          "output_type": "stream",
          "text": [
            "Closed? 34901\n"
          ],
          "name": "stdout"
        },
        {
          "output_type": "stream",
          "text": [
            " 85%|████████▍ | 2971/3510 [13:29<03:04,  2.91it/s]"
          ],
          "name": "stderr"
        },
        {
          "output_type": "stream",
          "text": [
            "Closed? 27452\n"
          ],
          "name": "stdout"
        },
        {
          "output_type": "stream",
          "text": [
            " 85%|████████▍ | 2975/3510 [13:30<02:43,  3.27it/s]"
          ],
          "name": "stderr"
        },
        {
          "output_type": "stream",
          "text": [
            "Closed? 58444\n"
          ],
          "name": "stdout"
        },
        {
          "output_type": "stream",
          "text": [
            " 85%|████████▌ | 2992/3510 [13:35<02:24,  3.58it/s]"
          ],
          "name": "stderr"
        },
        {
          "output_type": "stream",
          "text": [
            "Closed? 23598\n"
          ],
          "name": "stdout"
        },
        {
          "output_type": "stream",
          "text": [
            " 86%|████████▌ | 3011/3510 [13:41<02:22,  3.51it/s]"
          ],
          "name": "stderr"
        },
        {
          "output_type": "stream",
          "text": [
            "Closed? 33885\n"
          ],
          "name": "stdout"
        },
        {
          "output_type": "stream",
          "text": [
            " 86%|████████▌ | 3023/3510 [13:45<02:57,  2.75it/s]"
          ],
          "name": "stderr"
        },
        {
          "output_type": "stream",
          "text": [
            "Closed? 21158\n"
          ],
          "name": "stdout"
        },
        {
          "output_type": "stream",
          "text": [
            "\r 86%|████████▌ | 3025/3510 [13:46<02:22,  3.40it/s]"
          ],
          "name": "stderr"
        },
        {
          "output_type": "stream",
          "text": [
            "Closed? 16036\n"
          ],
          "name": "stdout"
        },
        {
          "output_type": "stream",
          "text": [
            " 86%|████████▋ | 3032/3510 [13:47<01:36,  4.95it/s]"
          ],
          "name": "stderr"
        },
        {
          "output_type": "stream",
          "text": [
            "Closed? 34390\n",
            "Closed? 34056\n"
          ],
          "name": "stdout"
        },
        {
          "output_type": "stream",
          "text": [
            " 87%|████████▋ | 3051/3510 [13:54<03:04,  2.48it/s]"
          ],
          "name": "stderr"
        },
        {
          "output_type": "stream",
          "text": [
            "Closed? 487\n",
            "Closed? 33593\n"
          ],
          "name": "stdout"
        },
        {
          "output_type": "stream",
          "text": [
            " 87%|████████▋ | 3057/3510 [13:55<02:17,  3.30it/s]"
          ],
          "name": "stderr"
        },
        {
          "output_type": "stream",
          "text": [
            "Closed? 15286\n"
          ],
          "name": "stdout"
        },
        {
          "output_type": "stream",
          "text": [
            "\r 87%|████████▋ | 3059/3510 [13:55<01:59,  3.78it/s]"
          ],
          "name": "stderr"
        },
        {
          "output_type": "stream",
          "text": [
            "Closed? 29177\n",
            "Closed? 4926\n"
          ],
          "name": "stdout"
        },
        {
          "output_type": "stream",
          "text": [
            " 87%|████████▋ | 3066/3510 [13:57<01:58,  3.75it/s]"
          ],
          "name": "stderr"
        },
        {
          "output_type": "stream",
          "text": [
            "Closed? 56477\n",
            "Closed? 4247\n"
          ],
          "name": "stdout"
        },
        {
          "output_type": "stream",
          "text": [
            " 87%|████████▋ | 3070/3510 [13:57<01:43,  4.23it/s]"
          ],
          "name": "stderr"
        },
        {
          "output_type": "stream",
          "text": [
            "Closed? 12231\n"
          ],
          "name": "stdout"
        },
        {
          "output_type": "stream",
          "text": [
            " 88%|████████▊ | 3106/3510 [14:09<02:51,  2.36it/s]"
          ],
          "name": "stderr"
        },
        {
          "output_type": "stream",
          "text": [
            "Closed? 2942\n"
          ],
          "name": "stdout"
        },
        {
          "output_type": "stream",
          "text": [
            "\r 89%|████████▊ | 3108/3510 [14:10<02:22,  2.83it/s]"
          ],
          "name": "stderr"
        },
        {
          "output_type": "stream",
          "text": [
            "Closed? 14622\n"
          ],
          "name": "stdout"
        },
        {
          "output_type": "stream",
          "text": [
            " 89%|████████▉ | 3116/3510 [14:12<02:18,  2.84it/s]"
          ],
          "name": "stderr"
        },
        {
          "output_type": "stream",
          "text": [
            "Closed? 53886\n",
            "Closed? 30527\n"
          ],
          "name": "stdout"
        },
        {
          "output_type": "stream",
          "text": [
            " 89%|████████▉ | 3129/3510 [14:16<01:54,  3.34it/s]"
          ],
          "name": "stderr"
        },
        {
          "output_type": "stream",
          "text": [
            "Closed? 59699\n"
          ],
          "name": "stdout"
        },
        {
          "output_type": "stream",
          "text": [
            " 89%|████████▉ | 3134/3510 [14:17<02:07,  2.96it/s]"
          ],
          "name": "stderr"
        },
        {
          "output_type": "stream",
          "text": [
            "Closed? 59849\n"
          ],
          "name": "stdout"
        },
        {
          "output_type": "stream",
          "text": [
            "\r 89%|████████▉ | 3136/3510 [14:17<01:49,  3.40it/s]"
          ],
          "name": "stderr"
        },
        {
          "output_type": "stream",
          "text": [
            "Closed? 15634\n"
          ],
          "name": "stdout"
        },
        {
          "output_type": "stream",
          "text": [
            " 89%|████████▉ | 3139/3510 [14:18<01:38,  3.76it/s]"
          ],
          "name": "stderr"
        },
        {
          "output_type": "stream",
          "text": [
            "Closed? 8473\n",
            "Closed? 25854\n",
            "Closed? 60327\n"
          ],
          "name": "stdout"
        },
        {
          "output_type": "stream",
          "text": [
            " 90%|████████▉ | 3147/3510 [14:19<01:10,  5.13it/s]"
          ],
          "name": "stderr"
        },
        {
          "output_type": "stream",
          "text": [
            "Closed? 62380\n"
          ],
          "name": "stdout"
        },
        {
          "output_type": "stream",
          "text": [
            " 90%|████████▉ | 3149/3510 [14:20<01:35,  3.76it/s]"
          ],
          "name": "stderr"
        },
        {
          "output_type": "stream",
          "text": [
            "Closed? 33479\n"
          ],
          "name": "stdout"
        },
        {
          "output_type": "stream",
          "text": [
            " 90%|████████▉ | 3153/3510 [14:20<01:33,  3.83it/s]"
          ],
          "name": "stderr"
        },
        {
          "output_type": "stream",
          "text": [
            "Closed? 61150\n"
          ],
          "name": "stdout"
        },
        {
          "output_type": "stream",
          "text": [
            "\r 90%|████████▉ | 3155/3510 [14:21<01:26,  4.09it/s]"
          ],
          "name": "stderr"
        },
        {
          "output_type": "stream",
          "text": [
            "Closed? 6770\n"
          ],
          "name": "stdout"
        },
        {
          "output_type": "stream",
          "text": [
            " 90%|████████▉ | 3158/3510 [14:22<01:29,  3.92it/s]"
          ],
          "name": "stderr"
        },
        {
          "output_type": "stream",
          "text": [
            "Closed? 84\n"
          ],
          "name": "stdout"
        },
        {
          "output_type": "stream",
          "text": [
            " 90%|█████████ | 3162/3510 [14:23<01:53,  3.07it/s]"
          ],
          "name": "stderr"
        },
        {
          "output_type": "stream",
          "text": [
            "Closed? 1841\n"
          ],
          "name": "stdout"
        },
        {
          "output_type": "stream",
          "text": [
            " 90%|█████████ | 3170/3510 [14:25<01:59,  2.85it/s]"
          ],
          "name": "stderr"
        },
        {
          "output_type": "stream",
          "text": [
            "Closed? 59471\n"
          ],
          "name": "stdout"
        },
        {
          "output_type": "stream",
          "text": [
            " 91%|█████████ | 3188/3510 [14:31<01:44,  3.09it/s]"
          ],
          "name": "stderr"
        },
        {
          "output_type": "stream",
          "text": [
            "Closed? 36032\n"
          ],
          "name": "stdout"
        },
        {
          "output_type": "stream",
          "text": [
            " 91%|█████████ | 3199/3510 [14:34<01:43,  3.00it/s]"
          ],
          "name": "stderr"
        },
        {
          "output_type": "stream",
          "text": [
            "Closed? 7592\n"
          ],
          "name": "stdout"
        },
        {
          "output_type": "stream",
          "text": [
            " 91%|█████████▏| 3208/3510 [14:37<01:48,  2.79it/s]"
          ],
          "name": "stderr"
        },
        {
          "output_type": "stream",
          "text": [
            "Closed? 14623\n"
          ],
          "name": "stdout"
        },
        {
          "output_type": "stream",
          "text": [
            " 92%|█████████▏| 3238/3510 [14:46<01:14,  3.67it/s]"
          ],
          "name": "stderr"
        },
        {
          "output_type": "stream",
          "text": [
            "Closed? 35674\n",
            "Closed? 58075\n",
            "Closed? 34489\n"
          ],
          "name": "stdout"
        },
        {
          "output_type": "stream",
          "text": [
            " 92%|█████████▏| 3241/3510 [14:47<00:57,  4.64it/s]"
          ],
          "name": "stderr"
        },
        {
          "output_type": "stream",
          "text": [
            "Closed? 12637\n",
            "Closed? 26735\n"
          ],
          "name": "stdout"
        },
        {
          "output_type": "stream",
          "text": [
            " 93%|█████████▎| 3247/3510 [14:48<01:22,  3.17it/s]"
          ],
          "name": "stderr"
        },
        {
          "output_type": "stream",
          "text": [
            "Closed? 18764\n"
          ],
          "name": "stdout"
        },
        {
          "output_type": "stream",
          "text": [
            " 93%|█████████▎| 3250/3510 [14:49<01:11,  3.62it/s]"
          ],
          "name": "stderr"
        },
        {
          "output_type": "stream",
          "text": [
            "Closed? 30254\n"
          ],
          "name": "stdout"
        },
        {
          "output_type": "stream",
          "text": [
            " 93%|█████████▎| 3256/3510 [14:50<01:17,  3.27it/s]"
          ],
          "name": "stderr"
        },
        {
          "output_type": "stream",
          "text": [
            "Closed? 7791\n"
          ],
          "name": "stdout"
        },
        {
          "output_type": "stream",
          "text": [
            " 93%|█████████▎| 3266/3510 [14:53<01:03,  3.85it/s]"
          ],
          "name": "stderr"
        },
        {
          "output_type": "stream",
          "text": [
            "Closed? 53841\n"
          ],
          "name": "stdout"
        },
        {
          "output_type": "stream",
          "text": [
            " 93%|█████████▎| 3275/3510 [14:55<01:05,  3.61it/s]"
          ],
          "name": "stderr"
        },
        {
          "output_type": "stream",
          "text": [
            "Closed? 8854\n"
          ],
          "name": "stdout"
        },
        {
          "output_type": "stream",
          "text": [
            " 93%|█████████▎| 3280/3510 [14:57<01:19,  2.90it/s]"
          ],
          "name": "stderr"
        },
        {
          "output_type": "stream",
          "text": [
            "Closed? 36319\n"
          ],
          "name": "stdout"
        },
        {
          "output_type": "stream",
          "text": [
            " 94%|█████████▎| 3283/3510 [14:58<01:15,  3.00it/s]"
          ],
          "name": "stderr"
        },
        {
          "output_type": "stream",
          "text": [
            "Closed? 25021\n"
          ],
          "name": "stdout"
        },
        {
          "output_type": "stream",
          "text": [
            " 94%|█████████▍| 3297/3510 [15:02<01:07,  3.16it/s]"
          ],
          "name": "stderr"
        },
        {
          "output_type": "stream",
          "text": [
            "Closed? 35013\n"
          ],
          "name": "stdout"
        },
        {
          "output_type": "stream",
          "text": [
            " 94%|█████████▍| 3305/3510 [15:05<01:18,  2.62it/s]"
          ],
          "name": "stderr"
        },
        {
          "output_type": "stream",
          "text": [
            "Closed? 7918\n"
          ],
          "name": "stdout"
        },
        {
          "output_type": "stream",
          "text": [
            " 94%|█████████▍| 3310/3510 [15:06<00:59,  3.37it/s]"
          ],
          "name": "stderr"
        },
        {
          "output_type": "stream",
          "text": [
            "Closed? 22543\n",
            "Closed? 24743\n"
          ],
          "name": "stdout"
        },
        {
          "output_type": "stream",
          "text": [
            " 95%|█████████▍| 3320/3510 [15:08<00:50,  3.74it/s]"
          ],
          "name": "stderr"
        },
        {
          "output_type": "stream",
          "text": [
            "Closed? 4319\n",
            "Closed? 24417\n"
          ],
          "name": "stdout"
        },
        {
          "output_type": "stream",
          "text": [
            " 95%|█████████▍| 3330/3510 [15:11<01:02,  2.88it/s]"
          ],
          "name": "stderr"
        },
        {
          "output_type": "stream",
          "text": [
            "Closed? 21229\n"
          ],
          "name": "stdout"
        },
        {
          "output_type": "stream",
          "text": [
            " 95%|█████████▌| 3339/3510 [15:14<01:06,  2.59it/s]"
          ],
          "name": "stderr"
        },
        {
          "output_type": "stream",
          "text": [
            "Closed? 52617\n",
            "Closed? 6835\n"
          ],
          "name": "stdout"
        },
        {
          "output_type": "stream",
          "text": [
            " 95%|█████████▌| 3350/3510 [15:17<00:50,  3.16it/s]"
          ],
          "name": "stderr"
        },
        {
          "output_type": "stream",
          "text": [
            "Closed? 34803\n"
          ],
          "name": "stdout"
        },
        {
          "output_type": "stream",
          "text": [
            " 96%|█████████▌| 3366/3510 [15:22<00:49,  2.89it/s]"
          ],
          "name": "stderr"
        },
        {
          "output_type": "stream",
          "text": [
            "Closed? 7462\n"
          ],
          "name": "stdout"
        },
        {
          "output_type": "stream",
          "text": [
            " 97%|█████████▋| 3398/3510 [15:33<00:29,  3.82it/s]"
          ],
          "name": "stderr"
        },
        {
          "output_type": "stream",
          "text": [
            "Closed? 16600\n"
          ],
          "name": "stdout"
        },
        {
          "output_type": "stream",
          "text": [
            " 97%|█████████▋| 3400/3510 [15:33<00:30,  3.63it/s]"
          ],
          "name": "stderr"
        },
        {
          "output_type": "stream",
          "text": [
            "Closed? 21296\n"
          ],
          "name": "stdout"
        },
        {
          "output_type": "stream",
          "text": [
            " 97%|█████████▋| 3406/3510 [15:35<00:23,  4.43it/s]"
          ],
          "name": "stderr"
        },
        {
          "output_type": "stream",
          "text": [
            "Closed? 21656\n"
          ],
          "name": "stdout"
        },
        {
          "output_type": "stream",
          "text": [
            "\r 97%|█████████▋| 3407/3510 [15:35<00:26,  3.91it/s]"
          ],
          "name": "stderr"
        },
        {
          "output_type": "stream",
          "text": [
            "Closed? 851\n",
            "Closed? 21201\n"
          ],
          "name": "stdout"
        },
        {
          "output_type": "stream",
          "text": [
            " 97%|█████████▋| 3414/3510 [15:36<00:27,  3.53it/s]"
          ],
          "name": "stderr"
        },
        {
          "output_type": "stream",
          "text": [
            "Closed? 22556\n"
          ],
          "name": "stdout"
        },
        {
          "output_type": "stream",
          "text": [
            " 97%|█████████▋| 3417/3510 [15:37<00:25,  3.61it/s]"
          ],
          "name": "stderr"
        },
        {
          "output_type": "stream",
          "text": [
            "Closed? 28306\n"
          ],
          "name": "stdout"
        },
        {
          "output_type": "stream",
          "text": [
            " 98%|█████████▊| 3423/3510 [15:39<00:26,  3.27it/s]"
          ],
          "name": "stderr"
        },
        {
          "output_type": "stream",
          "text": [
            "Closed? 56469\n"
          ],
          "name": "stdout"
        },
        {
          "output_type": "stream",
          "text": [
            " 98%|█████████▊| 3431/3510 [15:41<00:22,  3.53it/s]"
          ],
          "name": "stderr"
        },
        {
          "output_type": "stream",
          "text": [
            "Closed? 36127\n"
          ],
          "name": "stdout"
        },
        {
          "output_type": "stream",
          "text": [
            "\r 98%|█████████▊| 3433/3510 [15:41<00:19,  4.03it/s]"
          ],
          "name": "stderr"
        },
        {
          "output_type": "stream",
          "text": [
            "Closed? 25667\n"
          ],
          "name": "stdout"
        },
        {
          "output_type": "stream",
          "text": [
            " 98%|█████████▊| 3437/3510 [15:42<00:19,  3.70it/s]"
          ],
          "name": "stderr"
        },
        {
          "output_type": "stream",
          "text": [
            "Closed? 34072\n"
          ],
          "name": "stdout"
        },
        {
          "output_type": "stream",
          "text": [
            " 98%|█████████▊| 3441/3510 [15:43<00:22,  3.03it/s]"
          ],
          "name": "stderr"
        },
        {
          "output_type": "stream",
          "text": [
            "Closed? 28605\n"
          ],
          "name": "stdout"
        },
        {
          "output_type": "stream",
          "text": [
            " 98%|█████████▊| 3448/3510 [15:45<00:16,  3.73it/s]"
          ],
          "name": "stderr"
        },
        {
          "output_type": "stream",
          "text": [
            "Closed? 7632\n"
          ],
          "name": "stdout"
        },
        {
          "output_type": "stream",
          "text": [
            " 98%|█████████▊| 3455/3510 [15:46<00:12,  4.38it/s]"
          ],
          "name": "stderr"
        },
        {
          "output_type": "stream",
          "text": [
            "Closed? 26094\n",
            "Closed? 32777\n"
          ],
          "name": "stdout"
        },
        {
          "output_type": "stream",
          "text": [
            "\r 98%|█████████▊| 3457/3510 [15:47<00:10,  4.82it/s]"
          ],
          "name": "stderr"
        },
        {
          "output_type": "stream",
          "text": [
            "Closed? 5893\n",
            "Closed? 59256\n"
          ],
          "name": "stdout"
        },
        {
          "output_type": "stream",
          "text": [
            " 99%|█████████▊| 3464/3510 [15:48<00:12,  3.71it/s]"
          ],
          "name": "stderr"
        },
        {
          "output_type": "stream",
          "text": [
            "Closed? 18640\n"
          ],
          "name": "stdout"
        },
        {
          "output_type": "stream",
          "text": [
            "\r 99%|█████████▊| 3466/3510 [15:49<00:11,  3.96it/s]"
          ],
          "name": "stderr"
        },
        {
          "output_type": "stream",
          "text": [
            "Closed? 56801\n"
          ],
          "name": "stdout"
        },
        {
          "output_type": "stream",
          "text": [
            "\r 99%|█████████▉| 3468/3510 [15:49<00:09,  4.35it/s]"
          ],
          "name": "stderr"
        },
        {
          "output_type": "stream",
          "text": [
            "Closed? 3896\n"
          ],
          "name": "stdout"
        },
        {
          "output_type": "stream",
          "text": [
            "\r 99%|█████████▉| 3470/3510 [15:49<00:08,  4.91it/s]"
          ],
          "name": "stderr"
        },
        {
          "output_type": "stream",
          "text": [
            "Closed? 6760\n"
          ],
          "name": "stdout"
        },
        {
          "output_type": "stream",
          "text": [
            " 99%|█████████▉| 3476/3510 [15:51<00:08,  3.81it/s]"
          ],
          "name": "stderr"
        },
        {
          "output_type": "stream",
          "text": [
            "Closed? 20914\n",
            "Closed? 8732\n"
          ],
          "name": "stdout"
        },
        {
          "output_type": "stream",
          "text": [
            " 99%|█████████▉| 3482/3510 [15:53<00:09,  2.98it/s]"
          ],
          "name": "stderr"
        },
        {
          "output_type": "stream",
          "text": [
            "Closed? 55409\n"
          ],
          "name": "stdout"
        },
        {
          "output_type": "stream",
          "text": [
            " 99%|█████████▉| 3490/3510 [15:54<00:05,  3.79it/s]"
          ],
          "name": "stderr"
        },
        {
          "output_type": "stream",
          "text": [
            "Closed? 30733\n",
            "Closed? 28855\n"
          ],
          "name": "stdout"
        },
        {
          "output_type": "stream",
          "text": [
            "100%|█████████▉| 3496/3510 [15:56<00:03,  3.83it/s]"
          ],
          "name": "stderr"
        },
        {
          "output_type": "stream",
          "text": [
            "Closed? 61601\n"
          ],
          "name": "stdout"
        },
        {
          "output_type": "stream",
          "text": [
            "100%|█████████▉| 3506/3510 [15:59<00:01,  3.66it/s]"
          ],
          "name": "stderr"
        },
        {
          "output_type": "stream",
          "text": [
            "Closed? 56551\n"
          ],
          "name": "stdout"
        },
        {
          "output_type": "stream",
          "text": [
            "\r100%|█████████▉| 3508/3510 [15:59<00:00,  3.97it/s]"
          ],
          "name": "stderr"
        },
        {
          "output_type": "stream",
          "text": [
            "Closed? 24047\n"
          ],
          "name": "stdout"
        },
        {
          "output_type": "stream",
          "text": [
            "100%|██████████| 3510/3510 [15:59<00:00,  3.66it/s]\n",
            "  0%|          | 19/10528 [00:00<02:06, 82.91it/s]"
          ],
          "name": "stderr"
        },
        {
          "output_type": "stream",
          "text": [
            "Closed? 32639\n",
            "Closed? 27876\n",
            "Closed? 31992\n",
            "Closed? 2066\n"
          ],
          "name": "stdout"
        },
        {
          "output_type": "stream",
          "text": [
            "  0%|          | 40/10528 [00:00<01:59, 88.04it/s]"
          ],
          "name": "stderr"
        },
        {
          "output_type": "stream",
          "text": [
            "Closed? 6230\n",
            "Closed? 33644\n",
            "Closed? 33918\n",
            "Closed? 61440\n"
          ],
          "name": "stdout"
        },
        {
          "output_type": "stream",
          "text": [
            "\r  1%|          | 56/10528 [00:00<01:45, 99.47it/s]"
          ],
          "name": "stderr"
        },
        {
          "output_type": "stream",
          "text": [
            "Closed? 62146\n",
            "Closed? 498\n",
            "Closed? 219\n",
            "Closed? 1751\n",
            "Closed? 54279\n",
            "Closed? 32973\n",
            "Closed? 26822\n",
            "Closed? 30594\n",
            "Closed? 20263\n",
            "Closed? 34540\n"
          ],
          "name": "stdout"
        },
        {
          "output_type": "stream",
          "text": [
            "  1%|          | 76/10528 [00:00<01:47, 97.40it/s]"
          ],
          "name": "stderr"
        },
        {
          "output_type": "stream",
          "text": [
            "Closed? 52610\n",
            "Closed? 121\n",
            "Closed? 24471\n",
            "Closed? 24886\n",
            "Closed? 15036\n"
          ],
          "name": "stdout"
        },
        {
          "output_type": "stream",
          "text": [
            "  1%|          | 108/10528 [00:01<01:45, 98.83it/s]"
          ],
          "name": "stderr"
        },
        {
          "output_type": "stream",
          "text": [
            "Closed? 57120\n",
            "Closed? 21842\n",
            "Closed? 16891\n",
            "Closed? 58612\n",
            "Closed? 53186\n",
            "Closed? 28479\n",
            "Closed? 18866\n"
          ],
          "name": "stdout"
        },
        {
          "output_type": "stream",
          "text": [
            "  1%|          | 128/10528 [00:01<01:57, 88.50it/s]"
          ],
          "name": "stderr"
        },
        {
          "output_type": "stream",
          "text": [
            "Closed? 20533\n",
            "Closed? 9101\n"
          ],
          "name": "stdout"
        },
        {
          "output_type": "stream",
          "text": [
            "  1%|▏         | 156/10528 [00:01<01:56, 88.82it/s]"
          ],
          "name": "stderr"
        },
        {
          "output_type": "stream",
          "text": [
            "Closed? 33637\n",
            "Closed? 543\n",
            "Closed? 29592\n",
            "Closed? 7943\n",
            "Closed? 31832\n"
          ],
          "name": "stdout"
        },
        {
          "output_type": "stream",
          "text": [
            "  2%|▏         | 177/10528 [00:01<01:54, 90.68it/s]"
          ],
          "name": "stderr"
        },
        {
          "output_type": "stream",
          "text": [
            "Closed? 3873\n",
            "Closed? 59827\n",
            "Closed? 9005\n",
            "Closed? 28908\n",
            "Closed? 60456\n",
            "Closed? 1829\n",
            "Closed? 20811\n",
            "Closed? 29264\n",
            "Closed? 55487\n"
          ],
          "name": "stdout"
        },
        {
          "output_type": "stream",
          "text": [
            "  2%|▏         | 200/10528 [00:02<01:56, 88.80it/s]"
          ],
          "name": "stderr"
        },
        {
          "output_type": "stream",
          "text": [
            "Closed? 597\n"
          ],
          "name": "stdout"
        },
        {
          "output_type": "stream",
          "text": [
            "\r  2%|▏         | 210/10528 [00:02<01:52, 91.56it/s]"
          ],
          "name": "stderr"
        },
        {
          "output_type": "stream",
          "text": [
            "Closed? 53208\n",
            "Closed? 53802\n",
            "Closed? 9666\n"
          ],
          "name": "stdout"
        },
        {
          "output_type": "stream",
          "text": [
            "  2%|▏         | 249/10528 [00:02<01:59, 85.73it/s]"
          ],
          "name": "stderr"
        },
        {
          "output_type": "stream",
          "text": [
            "Closed? 13695\n",
            "Closed? 9446\n",
            "Closed? 815\n",
            "Closed? 20059\n"
          ],
          "name": "stdout"
        },
        {
          "output_type": "stream",
          "text": [
            "  3%|▎         | 271/10528 [00:02<01:50, 92.77it/s]"
          ],
          "name": "stderr"
        },
        {
          "output_type": "stream",
          "text": [
            "Closed? 36887\n",
            "Closed? 24532\n",
            "Closed? 8307\n",
            "Closed? 4115\n",
            "Closed? 55650\n",
            "Closed? 63780\n",
            "Closed? 10514\n",
            "Closed? 27558\n",
            "Closed? 59712\n"
          ],
          "name": "stdout"
        },
        {
          "output_type": "stream",
          "text": [
            "  3%|▎         | 291/10528 [00:03<02:01, 84.35it/s]"
          ],
          "name": "stderr"
        },
        {
          "output_type": "stream",
          "text": [
            "Closed? 29763\n"
          ],
          "name": "stdout"
        },
        {
          "output_type": "stream",
          "text": [
            "  3%|▎         | 311/10528 [00:03<01:59, 85.77it/s]"
          ],
          "name": "stderr"
        },
        {
          "output_type": "stream",
          "text": [
            "Closed? 19390\n",
            "Closed? 13505\n",
            "Closed? 12220\n"
          ],
          "name": "stdout"
        },
        {
          "output_type": "stream",
          "text": [
            "  3%|▎         | 330/10528 [00:03<01:57, 86.58it/s]"
          ],
          "name": "stderr"
        },
        {
          "output_type": "stream",
          "text": [
            "Closed? 23230\n",
            "Closed? 21121\n",
            "Closed? 34491\n",
            "Closed? 2781\n"
          ],
          "name": "stdout"
        },
        {
          "output_type": "stream",
          "text": [
            "  3%|▎         | 358/10528 [00:03<01:58, 85.85it/s]"
          ],
          "name": "stderr"
        },
        {
          "output_type": "stream",
          "text": [
            "Closed? 19403\n",
            "Closed? 18463\n",
            "Closed? 36100\n"
          ],
          "name": "stdout"
        },
        {
          "output_type": "stream",
          "text": [
            "  4%|▎         | 377/10528 [00:04<01:57, 86.44it/s]"
          ],
          "name": "stderr"
        },
        {
          "output_type": "stream",
          "text": [
            "Closed? 31539\n",
            "Closed? 6830\n",
            "Closed? 62476\n",
            "Closed? 35630\n"
          ],
          "name": "stdout"
        },
        {
          "output_type": "stream",
          "text": [
            "  4%|▍         | 407/10528 [00:04<01:53, 89.36it/s]"
          ],
          "name": "stderr"
        },
        {
          "output_type": "stream",
          "text": [
            "Closed? 58268\n",
            "Closed? 14916\n",
            "Closed? 4272\n",
            "Closed? 20657\n",
            "Closed? 6243\n",
            "Closed? 55613\n"
          ],
          "name": "stdout"
        },
        {
          "output_type": "stream",
          "text": [
            "\r  4%|▍         | 421/10528 [00:04<01:43, 97.50it/s]"
          ],
          "name": "stderr"
        },
        {
          "output_type": "stream",
          "text": [
            "Closed? 2055\n",
            "Closed? 33938\n",
            "Closed? 4593\n",
            "Closed? 61771\n",
            "Closed? 4943\n",
            "Closed? 58325\n",
            "Closed? 1762\n",
            "Closed? 24510\n"
          ],
          "name": "stdout"
        },
        {
          "output_type": "stream",
          "text": [
            "  4%|▍         | 445/10528 [00:04<01:39, 101.02it/s]"
          ],
          "name": "stderr"
        },
        {
          "output_type": "stream",
          "text": [
            "Closed? 27820\n",
            "Closed? 30963\n",
            "Closed? 35093\n",
            "Closed? 9091\n",
            "Closed? 18045\n"
          ],
          "name": "stdout"
        },
        {
          "output_type": "stream",
          "text": [
            "  4%|▍         | 466/10528 [00:05<01:46, 94.04it/s]"
          ],
          "name": "stderr"
        },
        {
          "output_type": "stream",
          "text": [
            "Closed? 5701\n",
            "Closed? 22971\n",
            "Closed? 30426\n",
            "Closed? 16186\n",
            "Closed? 6655\n",
            "Closed? 391\n"
          ],
          "name": "stdout"
        },
        {
          "output_type": "stream",
          "text": [
            "  5%|▍         | 489/10528 [00:05<01:44, 95.91it/s]"
          ],
          "name": "stderr"
        },
        {
          "output_type": "stream",
          "text": [
            "Closed? 18088\n",
            "Closed? 9039\n",
            "Closed? 7030\n",
            "Closed? 35019\n"
          ],
          "name": "stdout"
        },
        {
          "output_type": "stream",
          "text": [
            "  5%|▍         | 519/10528 [00:05<01:55, 86.44it/s]"
          ],
          "name": "stderr"
        },
        {
          "output_type": "stream",
          "text": [
            "Closed? 59088\n",
            "Closed? 61546\n",
            "Closed? 53053\n",
            "Closed? 13784\n"
          ],
          "name": "stdout"
        },
        {
          "output_type": "stream",
          "text": [
            "  5%|▌         | 540/10528 [00:05<01:50, 90.44it/s]"
          ],
          "name": "stderr"
        },
        {
          "output_type": "stream",
          "text": [
            "Closed? 11729\n",
            "Closed? 55213\n",
            "Closed? 55295\n",
            "Closed? 23911\n",
            "Closed? 57352\n",
            "Closed? 26752\n"
          ],
          "name": "stdout"
        },
        {
          "output_type": "stream",
          "text": [
            "  5%|▌         | 562/10528 [00:06<01:43, 95.92it/s]"
          ],
          "name": "stderr"
        },
        {
          "output_type": "stream",
          "text": [
            "Closed? 15857\n",
            "Closed? 63683\n",
            "Closed? 24074\n",
            "Closed? 7458\n",
            "Closed? 63336\n"
          ],
          "name": "stdout"
        },
        {
          "output_type": "stream",
          "text": [
            "  6%|▌         | 582/10528 [00:06<01:48, 91.50it/s]"
          ],
          "name": "stderr"
        },
        {
          "output_type": "stream",
          "text": [
            "Closed? 54298\n",
            "Closed? 53378\n",
            "Closed? 14654\n",
            "Closed? 56716\n"
          ],
          "name": "stdout"
        },
        {
          "output_type": "stream",
          "text": [
            "  6%|▌         | 613/10528 [00:06<01:45, 93.67it/s]"
          ],
          "name": "stderr"
        },
        {
          "output_type": "stream",
          "text": [
            "Closed? 1281\n",
            "Closed? 23600\n",
            "Closed? 6175\n",
            "Closed? 9745\n",
            "Closed? 55744\n"
          ],
          "name": "stdout"
        },
        {
          "output_type": "stream",
          "text": [
            "  6%|▋         | 661/10528 [00:07<01:55, 85.18it/s]"
          ],
          "name": "stderr"
        },
        {
          "output_type": "stream",
          "text": [
            "Closed? 13389\n",
            "Closed? 35908\n",
            "Closed? 17062\n",
            "Closed? 20849\n",
            "Closed? 24911\n",
            "Closed? 13521\n",
            "Closed? 18548\n"
          ],
          "name": "stdout"
        },
        {
          "output_type": "stream",
          "text": [
            "  7%|▋         | 692/10528 [00:07<01:55, 85.03it/s]"
          ],
          "name": "stderr"
        },
        {
          "output_type": "stream",
          "text": [
            "Closed? 13282\n",
            "Closed? 35443\n"
          ],
          "name": "stdout"
        },
        {
          "output_type": "stream",
          "text": [
            "  7%|▋         | 713/10528 [00:07<01:48, 90.59it/s]"
          ],
          "name": "stderr"
        },
        {
          "output_type": "stream",
          "text": [
            "Closed? 8075\n",
            "Closed? 21569\n",
            "Closed? 6444\n",
            "Closed? 63596\n",
            "Closed? 1298\n",
            "Closed? 16973\n",
            "Closed? 5109\n"
          ],
          "name": "stdout"
        },
        {
          "output_type": "stream",
          "text": [
            "  7%|▋         | 734/10528 [00:08<01:53, 86.30it/s]"
          ],
          "name": "stderr"
        },
        {
          "output_type": "stream",
          "text": [
            "Closed? 19242\n"
          ],
          "name": "stdout"
        },
        {
          "output_type": "stream",
          "text": [
            "  7%|▋         | 756/10528 [00:08<01:53, 86.44it/s]"
          ],
          "name": "stderr"
        },
        {
          "output_type": "stream",
          "text": [
            "Closed? 29578\n",
            "Closed? 59345\n",
            "Closed? 63054\n",
            "Closed? 61361\n"
          ],
          "name": "stdout"
        },
        {
          "output_type": "stream",
          "text": [
            "\r  7%|▋         | 767/10528 [00:08<01:48, 90.21it/s]"
          ],
          "name": "stderr"
        },
        {
          "output_type": "stream",
          "text": [
            "Closed? 29199\n",
            "Closed? 55561\n",
            "Closed? 5167\n"
          ],
          "name": "stdout"
        },
        {
          "output_type": "stream",
          "text": [
            "  8%|▊         | 796/10528 [00:08<01:51, 87.06it/s]"
          ],
          "name": "stderr"
        },
        {
          "output_type": "stream",
          "text": [
            "Closed? 54005\n",
            "Closed? 2887\n",
            "Closed? 19009\n",
            "Closed? 33831\n",
            "Closed? 25180\n"
          ],
          "name": "stdout"
        },
        {
          "output_type": "stream",
          "text": [
            "  8%|▊         | 816/10528 [00:09<01:48, 89.91it/s]"
          ],
          "name": "stderr"
        },
        {
          "output_type": "stream",
          "text": [
            "Closed? 33131\n",
            "Closed? 26075\n",
            "Closed? 34988\n",
            "Closed? 20564\n"
          ],
          "name": "stdout"
        },
        {
          "output_type": "stream",
          "text": [
            "  8%|▊         | 844/10528 [00:09<02:00, 80.30it/s]"
          ],
          "name": "stderr"
        },
        {
          "output_type": "stream",
          "text": [
            "Closed? 36106\n",
            "Closed? 17300\n",
            "Closed? 14678\n"
          ],
          "name": "stdout"
        },
        {
          "output_type": "stream",
          "text": [
            "  8%|▊         | 865/10528 [00:09<01:50, 87.18it/s]"
          ],
          "name": "stderr"
        },
        {
          "output_type": "stream",
          "text": [
            "Closed? 30782\n",
            "Closed? 2582\n",
            "Closed? 27587\n",
            "Closed? 62902\n",
            "Closed? 17125\n",
            "Closed? 2093\n",
            "Closed? 36649\n"
          ],
          "name": "stdout"
        },
        {
          "output_type": "stream",
          "text": [
            "  9%|▊         | 896/10528 [00:09<01:45, 91.02it/s]"
          ],
          "name": "stderr"
        },
        {
          "output_type": "stream",
          "text": [
            "Closed? 20081\n",
            "Closed? 25491\n",
            "Closed? 12723\n",
            "Closed? 24089\n",
            "Closed? 9060\n",
            "Closed? 36077\n"
          ],
          "name": "stdout"
        },
        {
          "output_type": "stream",
          "text": [
            "  9%|▉         | 925/10528 [00:10<01:52, 85.51it/s]"
          ],
          "name": "stderr"
        },
        {
          "output_type": "stream",
          "text": [
            "Closed? 61020\n",
            "Closed? 33320\n"
          ],
          "name": "stdout"
        },
        {
          "output_type": "stream",
          "text": [
            "  9%|▉         | 944/10528 [00:10<01:50, 86.54it/s]"
          ],
          "name": "stderr"
        },
        {
          "output_type": "stream",
          "text": [
            "Closed? 20348\n",
            "Closed? 30925\n",
            "Closed? 54018\n",
            "Closed? 19823\n",
            "Closed? 31133\n"
          ],
          "name": "stdout"
        },
        {
          "output_type": "stream",
          "text": [
            "  9%|▉         | 964/10528 [00:10<01:47, 88.92it/s]"
          ],
          "name": "stderr"
        },
        {
          "output_type": "stream",
          "text": [
            "Closed? 36480\n",
            "Closed? 23262\n"
          ],
          "name": "stdout"
        },
        {
          "output_type": "stream",
          "text": [
            "  9%|▉         | 985/10528 [00:10<01:46, 89.74it/s]"
          ],
          "name": "stderr"
        },
        {
          "output_type": "stream",
          "text": [
            "Closed? 26747\n",
            "Closed? 15293\n",
            "Closed? 23487\n",
            "Closed? 4371\n"
          ],
          "name": "stdout"
        },
        {
          "output_type": "stream",
          "text": [
            " 10%|▉         | 1013/10528 [00:11<01:58, 80.31it/s]"
          ],
          "name": "stderr"
        },
        {
          "output_type": "stream",
          "text": [
            "Closed? 26392\n"
          ],
          "name": "stdout"
        },
        {
          "output_type": "stream",
          "text": [
            " 10%|▉         | 1042/10528 [00:11<01:51, 84.98it/s]"
          ],
          "name": "stderr"
        },
        {
          "output_type": "stream",
          "text": [
            "Closed? 30971\n",
            "Closed? 54735\n",
            "Closed? 13054\n",
            "Closed? 3490\n"
          ],
          "name": "stdout"
        },
        {
          "output_type": "stream",
          "text": [
            "\r 10%|█         | 1053/10528 [00:11<01:46, 88.85it/s]"
          ],
          "name": "stderr"
        },
        {
          "output_type": "stream",
          "text": [
            "Closed? 29351\n",
            "Closed? 18039\n",
            "Closed? 25045\n"
          ],
          "name": "stdout"
        },
        {
          "output_type": "stream",
          "text": [
            " 10%|█         | 1074/10528 [00:12<01:43, 91.21it/s]"
          ],
          "name": "stderr"
        },
        {
          "output_type": "stream",
          "text": [
            "Closed? 36167\n",
            "Closed? 647\n",
            "Closed? 61006\n",
            "Closed? 1283\n"
          ],
          "name": "stdout"
        },
        {
          "output_type": "stream",
          "text": [
            " 10%|█         | 1105/10528 [00:12<01:42, 91.51it/s]"
          ],
          "name": "stderr"
        },
        {
          "output_type": "stream",
          "text": [
            "Closed? 62390\n",
            "Closed? 17888\n",
            "Closed? 54184\n",
            "Closed? 36523\n",
            "Closed? 60446\n"
          ],
          "name": "stdout"
        },
        {
          "output_type": "stream",
          "text": [
            "\r 11%|█         | 1115/10528 [00:12<01:42, 91.95it/s]"
          ],
          "name": "stderr"
        },
        {
          "output_type": "stream",
          "text": [
            "Closed? 55290\n",
            "Closed? 61878\n"
          ],
          "name": "stdout"
        },
        {
          "output_type": "stream",
          "text": [
            " 11%|█         | 1137/10528 [00:12<01:41, 92.37it/s]"
          ],
          "name": "stderr"
        },
        {
          "output_type": "stream",
          "text": [
            "Closed? 406\n",
            "Closed? 5888\n",
            "Closed? 52703\n",
            "Closed? 16291\n",
            "Closed? 2953\n",
            "Closed? 30763\n",
            "Closed? 13919\n",
            "Closed? 59963\n"
          ],
          "name": "stdout"
        },
        {
          "output_type": "stream",
          "text": [
            " 11%|█         | 1159/10528 [00:12<01:41, 92.17it/s]"
          ],
          "name": "stderr"
        },
        {
          "output_type": "stream",
          "text": [
            "Closed? 21021\n",
            "Closed? 62108\n"
          ],
          "name": "stdout"
        },
        {
          "output_type": "stream",
          "text": [
            " 11%|█▏        | 1189/10528 [00:13<01:46, 87.90it/s]"
          ],
          "name": "stderr"
        },
        {
          "output_type": "stream",
          "text": [
            "Closed? 33720\n",
            "Closed? 24707\n",
            "Closed? 11313\n",
            "Closed? 28110\n"
          ],
          "name": "stdout"
        },
        {
          "output_type": "stream",
          "text": [
            " 12%|█▏        | 1214/10528 [00:13<01:34, 99.02it/s]"
          ],
          "name": "stderr"
        },
        {
          "output_type": "stream",
          "text": [
            "Closed? 9461\n",
            "Closed? 29195\n",
            "Closed? 25056\n",
            "Closed? 60418\n",
            "Closed? 29780\n",
            "Closed? 20493\n",
            "Closed? 62276\n",
            "Closed? 59955\n",
            "Closed? 22182\n",
            "Closed? 7194\n"
          ],
          "name": "stdout"
        },
        {
          "output_type": "stream",
          "text": [
            " 12%|█▏        | 1247/10528 [00:13<01:40, 92.51it/s]"
          ],
          "name": "stderr"
        },
        {
          "output_type": "stream",
          "text": [
            "Closed? 6737\n",
            "Closed? 21286\n",
            "Closed? 31598\n"
          ],
          "name": "stdout"
        },
        {
          "output_type": "stream",
          "text": [
            " 12%|█▏        | 1267/10528 [00:14<01:43, 89.20it/s]"
          ],
          "name": "stderr"
        },
        {
          "output_type": "stream",
          "text": [
            "Closed? 23003\n",
            "Closed? 22949\n",
            "Closed? 61644\n"
          ],
          "name": "stdout"
        },
        {
          "output_type": "stream",
          "text": [
            " 12%|█▏        | 1301/10528 [00:14<01:33, 98.83it/s]"
          ],
          "name": "stderr"
        },
        {
          "output_type": "stream",
          "text": [
            "Closed? 29737\n",
            "Closed? 4921\n",
            "Closed? 24140\n",
            "Closed? 34668\n",
            "Closed? 11340\n",
            "Closed? 9607\n",
            "Closed? 21864\n",
            "Closed? 31382\n",
            "Closed? 30269\n"
          ],
          "name": "stdout"
        },
        {
          "output_type": "stream",
          "text": [
            " 13%|█▎        | 1323/10528 [00:14<01:39, 92.78it/s]"
          ],
          "name": "stderr"
        },
        {
          "output_type": "stream",
          "text": [
            "Closed? 1580\n",
            "Closed? 34873\n",
            "Closed? 16925\n",
            "Closed? 3883\n",
            "Closed? 3142\n"
          ],
          "name": "stdout"
        },
        {
          "output_type": "stream",
          "text": [
            " 13%|█▎        | 1344/10528 [00:14<01:40, 91.31it/s]"
          ],
          "name": "stderr"
        },
        {
          "output_type": "stream",
          "text": [
            "Closed? 13744\n",
            "Closed? 34999\n"
          ],
          "name": "stdout"
        },
        {
          "output_type": "stream",
          "text": [
            " 13%|█▎        | 1363/10528 [00:15<01:45, 86.67it/s]"
          ],
          "name": "stderr"
        },
        {
          "output_type": "stream",
          "text": [
            "Closed? 55720\n",
            "Closed? 58129\n",
            "Closed? 59159\n"
          ],
          "name": "stdout"
        },
        {
          "output_type": "stream",
          "text": [
            " 13%|█▎        | 1391/10528 [00:15<01:44, 87.69it/s]"
          ],
          "name": "stderr"
        },
        {
          "output_type": "stream",
          "text": [
            "Closed? 52758\n",
            "Closed? 19347\n",
            "Closed? 20157\n",
            "Closed? 29704\n"
          ],
          "name": "stdout"
        },
        {
          "output_type": "stream",
          "text": [
            " 13%|█▎        | 1411/10528 [00:15<01:40, 90.60it/s]"
          ],
          "name": "stderr"
        },
        {
          "output_type": "stream",
          "text": [
            "Closed? 30910\n",
            "Closed? 58243\n",
            "Closed? 59781\n",
            "Closed? 2320\n"
          ],
          "name": "stdout"
        },
        {
          "output_type": "stream",
          "text": [
            " 14%|█▎        | 1440/10528 [00:16<01:42, 88.90it/s]"
          ],
          "name": "stderr"
        },
        {
          "output_type": "stream",
          "text": [
            "Closed? 61956\n",
            "Closed? 10342\n",
            "Closed? 6164\n",
            "Closed? 21470\n",
            "Closed? 15799\n",
            "Closed? 8639\n"
          ],
          "name": "stdout"
        },
        {
          "output_type": "stream",
          "text": [
            " 14%|█▍        | 1470/10528 [00:16<01:45, 85.59it/s]"
          ],
          "name": "stderr"
        },
        {
          "output_type": "stream",
          "text": [
            "Closed? 23374\n",
            "Closed? 25147\n",
            "Closed? 56101\n",
            "Closed? 12383\n",
            "Closed? 22932\n"
          ],
          "name": "stdout"
        },
        {
          "output_type": "stream",
          "text": [
            " 14%|█▍        | 1492/10528 [00:16<01:41, 88.94it/s]"
          ],
          "name": "stderr"
        },
        {
          "output_type": "stream",
          "text": [
            "Closed? 36397\n",
            "Closed? 15172\n",
            "Closed? 9716\n",
            "Closed? 676\n"
          ],
          "name": "stdout"
        },
        {
          "output_type": "stream",
          "text": [
            " 14%|█▍        | 1524/10528 [00:16<01:34, 94.82it/s]"
          ],
          "name": "stderr"
        },
        {
          "output_type": "stream",
          "text": [
            "Closed? 12030\n",
            "Closed? 21415\n",
            "Closed? 26624\n",
            "Closed? 26559\n",
            "Closed? 11711\n"
          ],
          "name": "stdout"
        },
        {
          "output_type": "stream",
          "text": [
            " 15%|█▍        | 1552/10528 [00:17<01:48, 82.35it/s]"
          ],
          "name": "stderr"
        },
        {
          "output_type": "stream",
          "text": [
            "Closed? 3728\n",
            "Closed? 436\n",
            "Closed? 20548\n",
            "Closed? 53679\n"
          ],
          "name": "stdout"
        },
        {
          "output_type": "stream",
          "text": [
            " 15%|█▌        | 1581/10528 [00:17<01:48, 82.37it/s]"
          ],
          "name": "stderr"
        },
        {
          "output_type": "stream",
          "text": [
            "Closed? 30567\n",
            "Closed? 29936\n",
            "Closed? 59016\n",
            "Closed? 14887\n",
            "Closed? 32835\n"
          ],
          "name": "stdout"
        },
        {
          "output_type": "stream",
          "text": [
            " 15%|█▌        | 1600/10528 [00:17<01:45, 84.36it/s]"
          ],
          "name": "stderr"
        },
        {
          "output_type": "stream",
          "text": [
            "Closed? 16986\n",
            "Closed? 59372\n",
            "Closed? 5238\n",
            "Closed? 53776\n"
          ],
          "name": "stdout"
        },
        {
          "output_type": "stream",
          "text": [
            " 15%|█▌        | 1623/10528 [00:18<01:34, 94.71it/s]"
          ],
          "name": "stderr"
        },
        {
          "output_type": "stream",
          "text": [
            "Closed? 14633\n",
            "Closed? 16611\n",
            "Closed? 11297\n",
            "Closed? 57063\n",
            "Closed? 22872\n",
            "Closed? 54510\n"
          ],
          "name": "stdout"
        },
        {
          "output_type": "stream",
          "text": [
            " 16%|█▌        | 1643/10528 [00:18<01:35, 92.60it/s]"
          ],
          "name": "stderr"
        },
        {
          "output_type": "stream",
          "text": [
            "Closed? 20193\n",
            "Closed? 62736\n",
            "Closed? 57533\n",
            "Closed? 25822\n",
            "Closed? 35317\n",
            "Closed? 27891\n",
            "Closed? 59526\n",
            "Closed? 25867\n"
          ],
          "name": "stdout"
        },
        {
          "output_type": "stream",
          "text": [
            " 16%|█▌        | 1687/10528 [00:18<01:40, 87.74it/s]"
          ],
          "name": "stderr"
        },
        {
          "output_type": "stream",
          "text": [
            "Closed? 59142\n",
            "Closed? 31255\n",
            "Closed? 10261\n"
          ],
          "name": "stdout"
        },
        {
          "output_type": "stream",
          "text": [
            " 16%|█▋        | 1715/10528 [00:19<01:43, 84.81it/s]"
          ],
          "name": "stderr"
        },
        {
          "output_type": "stream",
          "text": [
            "Closed? 2878\n",
            "Closed? 6690\n",
            "Closed? 33201\n"
          ],
          "name": "stdout"
        },
        {
          "output_type": "stream",
          "text": [
            " 16%|█▋        | 1735/10528 [00:19<01:39, 88.30it/s]"
          ],
          "name": "stderr"
        },
        {
          "output_type": "stream",
          "text": [
            "Closed? 54649\n",
            "Closed? 12980\n",
            "Closed? 29302\n",
            "Closed? 12993\n"
          ],
          "name": "stdout"
        },
        {
          "output_type": "stream",
          "text": [
            " 17%|█▋        | 1754/10528 [00:19<01:40, 87.66it/s]"
          ],
          "name": "stderr"
        },
        {
          "output_type": "stream",
          "text": [
            "Closed? 4931\n",
            "Closed? 1427\n",
            "Closed? 36417\n",
            "Closed? 35322\n"
          ],
          "name": "stdout"
        },
        {
          "output_type": "stream",
          "text": [
            " 17%|█▋        | 1783/10528 [00:19<01:38, 88.71it/s]"
          ],
          "name": "stderr"
        },
        {
          "output_type": "stream",
          "text": [
            "Closed? 20950\n",
            "Closed? 20121\n",
            "Closed? 36854\n",
            "Closed? 57671\n",
            "Closed? 58440\n",
            "Closed? 13537\n"
          ],
          "name": "stdout"
        },
        {
          "output_type": "stream",
          "text": [
            " 17%|█▋        | 1805/10528 [00:20<01:34, 92.50it/s]"
          ],
          "name": "stderr"
        },
        {
          "output_type": "stream",
          "text": [
            "Closed? 26536\n",
            "Closed? 17583\n",
            "Closed? 957\n",
            "Closed? 59913\n",
            "Closed? 977\n"
          ],
          "name": "stdout"
        },
        {
          "output_type": "stream",
          "text": [
            " 17%|█▋        | 1826/10528 [00:20<01:32, 94.24it/s]"
          ],
          "name": "stderr"
        },
        {
          "output_type": "stream",
          "text": [
            "Closed? 204\n",
            "Closed? 3914\n",
            "Closed? 7921\n",
            "Closed? 7712\n"
          ],
          "name": "stdout"
        },
        {
          "output_type": "stream",
          "text": [
            " 18%|█▊        | 1883/10528 [00:21<01:40, 85.80it/s]"
          ],
          "name": "stderr"
        },
        {
          "output_type": "stream",
          "text": [
            "Closed? 21129\n",
            "Closed? 8934\n",
            "Closed? 7507\n",
            "Closed? 34856\n",
            "Closed? 63736\n"
          ],
          "name": "stdout"
        },
        {
          "output_type": "stream",
          "text": [
            " 18%|█▊        | 1902/10528 [00:21<01:39, 87.05it/s]"
          ],
          "name": "stderr"
        },
        {
          "output_type": "stream",
          "text": [
            "Closed? 23208\n",
            "Closed? 6882\n",
            "Closed? 24626\n",
            "Closed? 33969\n",
            "Closed? 12415\n"
          ],
          "name": "stdout"
        },
        {
          "output_type": "stream",
          "text": [
            " 18%|█▊        | 1925/10528 [00:21<01:29, 96.35it/s]"
          ],
          "name": "stderr"
        },
        {
          "output_type": "stream",
          "text": [
            "Closed? 28527\n",
            "Closed? 9336\n",
            "Closed? 23194\n",
            "Closed? 3289\n",
            "Closed? 59575\n"
          ],
          "name": "stdout"
        },
        {
          "output_type": "stream",
          "text": [
            " 19%|█▊        | 1956/10528 [00:21<01:40, 85.40it/s]"
          ],
          "name": "stderr"
        },
        {
          "output_type": "stream",
          "text": [
            "Closed? 10041\n",
            "Closed? 15357\n",
            "Closed? 31032\n"
          ],
          "name": "stdout"
        },
        {
          "output_type": "stream",
          "text": [
            " 19%|█▉        | 1976/10528 [00:22<01:35, 89.49it/s]"
          ],
          "name": "stderr"
        },
        {
          "output_type": "stream",
          "text": [
            "Closed? 6277\n",
            "Closed? 59408\n",
            "Closed? 32323\n",
            "Closed? 31763\n"
          ],
          "name": "stdout"
        },
        {
          "output_type": "stream",
          "text": [
            " 19%|█▉        | 1996/10528 [00:22<01:37, 87.25it/s]"
          ],
          "name": "stderr"
        },
        {
          "output_type": "stream",
          "text": [
            "Closed? 271\n",
            "Closed? 53337\n",
            "Closed? 4948\n"
          ],
          "name": "stdout"
        },
        {
          "output_type": "stream",
          "text": [
            " 19%|█▉        | 2017/10528 [00:22<01:35, 88.99it/s]"
          ],
          "name": "stderr"
        },
        {
          "output_type": "stream",
          "text": [
            "Closed? 18558\n",
            "Closed? 22057\n",
            "Closed? 1941\n",
            "Closed? 60245\n",
            "Closed? 27915\n",
            "Closed? 21495\n"
          ],
          "name": "stdout"
        },
        {
          "output_type": "stream",
          "text": [
            " 19%|█▉        | 2047/10528 [00:22<01:36, 87.44it/s]"
          ],
          "name": "stderr"
        },
        {
          "output_type": "stream",
          "text": [
            "Closed? 2000\n",
            "Closed? 34018\n",
            "Closed? 31156\n"
          ],
          "name": "stdout"
        },
        {
          "output_type": "stream",
          "text": [
            " 20%|█▉        | 2084/10528 [00:23<01:39, 84.67it/s]"
          ],
          "name": "stderr"
        },
        {
          "output_type": "stream",
          "text": [
            "Closed? 5895\n",
            "Closed? 30444\n",
            "Closed? 19544\n"
          ],
          "name": "stdout"
        },
        {
          "output_type": "stream",
          "text": [
            " 20%|█▉        | 2104/10528 [00:23<01:37, 86.70it/s]"
          ],
          "name": "stderr"
        },
        {
          "output_type": "stream",
          "text": [
            "Closed? 32632\n",
            "Closed? 27904\n",
            "Closed? 57325\n",
            "Closed? 59458\n"
          ],
          "name": "stdout"
        },
        {
          "output_type": "stream",
          "text": [
            " 20%|██        | 2131/10528 [00:23<01:38, 85.07it/s]"
          ],
          "name": "stderr"
        },
        {
          "output_type": "stream",
          "text": [
            "Closed? 61900\n",
            "Closed? 24719\n",
            "Closed? 33727\n"
          ],
          "name": "stdout"
        },
        {
          "output_type": "stream",
          "text": [
            " 20%|██        | 2150/10528 [00:24<01:35, 87.80it/s]"
          ],
          "name": "stderr"
        },
        {
          "output_type": "stream",
          "text": [
            "Closed? 2\n",
            "Closed? 23539\n",
            "Closed? 14364\n"
          ],
          "name": "stdout"
        },
        {
          "output_type": "stream",
          "text": [
            " 21%|██        | 2179/10528 [00:24<01:32, 90.63it/s]"
          ],
          "name": "stderr"
        },
        {
          "output_type": "stream",
          "text": [
            "Closed? 25797\n",
            "Closed? 14952\n",
            "Closed? 36170\n",
            "Closed? 15125\n",
            "Closed? 53530\n"
          ],
          "name": "stdout"
        },
        {
          "output_type": "stream",
          "text": [
            " 21%|██        | 2199/10528 [00:24<01:34, 87.82it/s]"
          ],
          "name": "stderr"
        },
        {
          "output_type": "stream",
          "text": [
            "Closed? 54024\n",
            "Closed? 13858\n"
          ],
          "name": "stdout"
        },
        {
          "output_type": "stream",
          "text": [
            " 21%|██        | 2221/10528 [00:24<01:31, 90.78it/s]"
          ],
          "name": "stderr"
        },
        {
          "output_type": "stream",
          "text": [
            "Closed? 2773\n",
            "Closed? 33213\n",
            "Closed? 31709\n",
            "Closed? 63042\n",
            "Closed? 54478\n",
            "Closed? 12428\n",
            "Closed? 6650\n",
            "Closed? 33306\n",
            "Closed? 24065\n",
            "Closed? 31479\n"
          ],
          "name": "stdout"
        },
        {
          "output_type": "stream",
          "text": [
            " 21%|██▏       | 2255/10528 [00:25<01:32, 89.07it/s]"
          ],
          "name": "stderr"
        },
        {
          "output_type": "stream",
          "text": [
            "Closed? 7536\n",
            "Closed? 4237\n",
            "Closed? 10325\n"
          ],
          "name": "stdout"
        },
        {
          "output_type": "stream",
          "text": [
            " 22%|██▏       | 2277/10528 [00:25<01:29, 92.65it/s]"
          ],
          "name": "stderr"
        },
        {
          "output_type": "stream",
          "text": [
            "Closed? 8901\n",
            "Closed? 58377\n",
            "Closed? 20747\n",
            "Closed? 28487\n",
            "Closed? 63483\n",
            "Closed? 18759\n"
          ],
          "name": "stdout"
        },
        {
          "output_type": "stream",
          "text": [
            " 22%|██▏       | 2299/10528 [00:25<01:23, 98.25it/s]"
          ],
          "name": "stderr"
        },
        {
          "output_type": "stream",
          "text": [
            "Closed? 34364\n",
            "Closed? 2450\n",
            "Closed? 20968\n",
            "Closed? 3707\n",
            "Closed? 16516\n",
            "Closed? 22974\n",
            "Closed? 33099\n"
          ],
          "name": "stdout"
        },
        {
          "output_type": "stream",
          "text": [
            " 22%|██▏       | 2319/10528 [00:25<01:25, 95.56it/s]"
          ],
          "name": "stderr"
        },
        {
          "output_type": "stream",
          "text": [
            "Closed? 4075\n",
            "Closed? 1840\n",
            "Closed? 54032\n",
            "Closed? 8536\n"
          ],
          "name": "stdout"
        },
        {
          "output_type": "stream",
          "text": [
            " 22%|██▏       | 2339/10528 [00:26<01:31, 89.71it/s]"
          ],
          "name": "stderr"
        },
        {
          "output_type": "stream",
          "text": [
            "Closed? 24190\n",
            "Closed? 3399\n",
            "Closed? 60839\n"
          ],
          "name": "stdout"
        },
        {
          "output_type": "stream",
          "text": [
            " 22%|██▏       | 2358/10528 [00:26<01:38, 82.56it/s]"
          ],
          "name": "stderr"
        },
        {
          "output_type": "stream",
          "text": [
            "Closed? 27331\n",
            "Closed? 4436\n"
          ],
          "name": "stdout"
        },
        {
          "output_type": "stream",
          "text": [
            " 23%|██▎       | 2377/10528 [00:26<01:37, 83.22it/s]"
          ],
          "name": "stderr"
        },
        {
          "output_type": "stream",
          "text": [
            "Closed? 10111\n",
            "Closed? 13945\n"
          ],
          "name": "stdout"
        },
        {
          "output_type": "stream",
          "text": [
            " 23%|██▎       | 2396/10528 [00:26<01:39, 82.11it/s]"
          ],
          "name": "stderr"
        },
        {
          "output_type": "stream",
          "text": [
            "Closed? 18401\n",
            "Closed? 14555\n",
            "Closed? 21079\n",
            "Closed? 21150\n",
            "Closed? 12619\n",
            "Closed? 1325\n"
          ],
          "name": "stdout"
        },
        {
          "output_type": "stream",
          "text": [
            " 23%|██▎       | 2440/10528 [00:27<01:30, 88.98it/s]"
          ],
          "name": "stderr"
        },
        {
          "output_type": "stream",
          "text": [
            "Closed? 62220\n",
            "Closed? 26215\n",
            "Closed? 12649\n",
            "Closed? 12532\n",
            "Closed? 18804\n",
            "Closed? 18488\n"
          ],
          "name": "stdout"
        },
        {
          "output_type": "stream",
          "text": [
            " 23%|██▎       | 2468/10528 [00:27<01:38, 82.03it/s]"
          ],
          "name": "stderr"
        },
        {
          "output_type": "stream",
          "text": [
            "Closed? 59640\n",
            "Closed? 15822\n"
          ],
          "name": "stdout"
        },
        {
          "output_type": "stream",
          "text": [
            " 24%|██▎       | 2490/10528 [00:27<01:29, 89.82it/s]"
          ],
          "name": "stderr"
        },
        {
          "output_type": "stream",
          "text": [
            "Closed? 15775\n",
            "Closed? 56395\n",
            "Closed? 36934\n",
            "Closed? 33271\n",
            "Closed? 15137\n",
            "Closed? 2128\n"
          ],
          "name": "stdout"
        },
        {
          "output_type": "stream",
          "text": [
            " 24%|██▍       | 2509/10528 [00:28<01:34, 84.42it/s]"
          ],
          "name": "stderr"
        },
        {
          "output_type": "stream",
          "text": [
            "Closed? 60061\n",
            "Closed? 58370\n",
            "Closed? 3661\n",
            "Closed? 32668\n",
            "Closed? 61144\n",
            "Closed? 36264\n"
          ],
          "name": "stdout"
        },
        {
          "output_type": "stream",
          "text": [
            " 24%|██▍       | 2531/10528 [00:28<01:31, 86.94it/s]"
          ],
          "name": "stderr"
        },
        {
          "output_type": "stream",
          "text": [
            "Closed? 11113\n",
            "Closed? 62234\n"
          ],
          "name": "stdout"
        },
        {
          "output_type": "stream",
          "text": [
            " 24%|██▍       | 2552/10528 [00:28<01:27, 91.00it/s]"
          ],
          "name": "stderr"
        },
        {
          "output_type": "stream",
          "text": [
            "Closed? 34309\n",
            "Closed? 34182\n",
            "Closed? 54276\n",
            "Closed? 28902\n",
            "Closed? 53501\n"
          ],
          "name": "stdout"
        },
        {
          "output_type": "stream",
          "text": [
            " 24%|██▍       | 2574/10528 [00:28<01:33, 85.31it/s]"
          ],
          "name": "stderr"
        },
        {
          "output_type": "stream",
          "text": [
            "Closed? 60587\n",
            "Closed? 55727\n",
            "Closed? 32339\n",
            "Closed? 22581\n",
            "Closed? 29018\n",
            "Closed? 21375\n"
          ],
          "name": "stdout"
        },
        {
          "output_type": "stream",
          "text": [
            "\r 25%|██▍       | 2588/10528 [00:29<01:22, 96.06it/s]"
          ],
          "name": "stderr"
        },
        {
          "output_type": "stream",
          "text": [
            "Closed? 59896\n",
            "Closed? 32915\n",
            "Closed? 29917\n",
            "Closed? 15088\n"
          ],
          "name": "stdout"
        },
        {
          "output_type": "stream",
          "text": [
            " 25%|██▍       | 2628/10528 [00:29<01:34, 83.21it/s]"
          ],
          "name": "stderr"
        },
        {
          "output_type": "stream",
          "text": [
            "Closed? 10795\n",
            "Closed? 16016\n",
            "Closed? 20946\n",
            "Closed? 11716\n",
            "Closed? 27263\n",
            "Closed? 13875\n"
          ],
          "name": "stdout"
        },
        {
          "output_type": "stream",
          "text": [
            " 25%|██▌       | 2650/10528 [00:29<01:31, 86.18it/s]"
          ],
          "name": "stderr"
        },
        {
          "output_type": "stream",
          "text": [
            "Closed? 26343\n",
            "Closed? 18690\n"
          ],
          "name": "stdout"
        },
        {
          "output_type": "stream",
          "text": [
            " 25%|██▌       | 2668/10528 [00:29<01:35, 82.59it/s]"
          ],
          "name": "stderr"
        },
        {
          "output_type": "stream",
          "text": [
            "Closed? 29854\n",
            "Closed? 55960\n",
            "Closed? 17684\n",
            "Closed? 25945\n"
          ],
          "name": "stdout"
        },
        {
          "output_type": "stream",
          "text": [
            " 26%|██▌       | 2688/10528 [00:30<01:33, 84.12it/s]"
          ],
          "name": "stderr"
        },
        {
          "output_type": "stream",
          "text": [
            "Closed? 13122\n",
            "Closed? 30840\n",
            "Closed? 63615\n"
          ],
          "name": "stdout"
        },
        {
          "output_type": "stream",
          "text": [
            " 26%|██▌       | 2718/10528 [00:30<01:28, 87.89it/s]"
          ],
          "name": "stderr"
        },
        {
          "output_type": "stream",
          "text": [
            "Closed? 32868\n",
            "Closed? 7599\n",
            "Closed? 30792\n",
            "Closed? 2194\n",
            "Closed? 24775\n"
          ],
          "name": "stdout"
        },
        {
          "output_type": "stream",
          "text": [
            " 26%|██▌       | 2740/10528 [00:30<01:24, 92.36it/s]"
          ],
          "name": "stderr"
        },
        {
          "output_type": "stream",
          "text": [
            "Closed? 30214\n",
            "Closed? 29618\n",
            "Closed? 23207\n",
            "Closed? 60813\n",
            "Closed? 19632\n",
            "Closed? 6888\n"
          ],
          "name": "stdout"
        },
        {
          "output_type": "stream",
          "text": [
            " 26%|██▌       | 2763/10528 [00:31<01:21, 94.78it/s]"
          ],
          "name": "stderr"
        },
        {
          "output_type": "stream",
          "text": [
            "Closed? 23935\n",
            "Closed? 17706\n",
            "Closed? 17177\n",
            "Closed? 11457\n",
            "Closed? 15779\n",
            "Closed? 59308\n",
            "Closed? 17859\n",
            "Closed? 14711\n"
          ],
          "name": "stdout"
        },
        {
          "output_type": "stream",
          "text": [
            " 27%|██▋       | 2793/10528 [00:31<01:28, 87.13it/s]"
          ],
          "name": "stderr"
        },
        {
          "output_type": "stream",
          "text": [
            "Closed? 23538\n",
            "Closed? 35736\n",
            "Closed? 35741\n"
          ],
          "name": "stdout"
        },
        {
          "output_type": "stream",
          "text": [
            " 27%|██▋       | 2833/10528 [00:31<01:23, 92.49it/s]"
          ],
          "name": "stderr"
        },
        {
          "output_type": "stream",
          "text": [
            "Closed? 15853\n",
            "Closed? 13689\n",
            "Closed? 63540\n",
            "Closed? 12277\n",
            "Closed? 18951\n",
            "Closed? 7587\n",
            "Closed? 29074\n"
          ],
          "name": "stdout"
        },
        {
          "output_type": "stream",
          "text": [
            " 27%|██▋       | 2854/10528 [00:32<01:19, 96.89it/s]"
          ],
          "name": "stderr"
        },
        {
          "output_type": "stream",
          "text": [
            "Closed? 19063\n",
            "Closed? 2862\n",
            "Closed? 8316\n",
            "Closed? 60548\n",
            "Closed? 57035\n"
          ],
          "name": "stdout"
        },
        {
          "output_type": "stream",
          "text": [
            " 27%|██▋       | 2893/10528 [00:32<01:27, 86.87it/s]"
          ],
          "name": "stderr"
        },
        {
          "output_type": "stream",
          "text": [
            "Closed? 26739\n",
            "Closed? 3328\n",
            "Closed? 36619\n"
          ],
          "name": "stdout"
        },
        {
          "output_type": "stream",
          "text": [
            "\r 28%|██▊       | 2903/10528 [00:32<01:26, 88.54it/s]"
          ],
          "name": "stderr"
        },
        {
          "output_type": "stream",
          "text": [
            "Closed? 16126\n",
            "Closed? 28841\n",
            "Closed? 17008\n"
          ],
          "name": "stdout"
        },
        {
          "output_type": "stream",
          "text": [
            " 28%|██▊       | 2930/10528 [00:32<01:29, 84.94it/s]"
          ],
          "name": "stderr"
        },
        {
          "output_type": "stream",
          "text": [
            "Closed? 7859\n",
            "Closed? 3725\n"
          ],
          "name": "stdout"
        },
        {
          "output_type": "stream",
          "text": [
            " 28%|██▊       | 2948/10528 [00:33<01:33, 81.28it/s]"
          ],
          "name": "stderr"
        },
        {
          "output_type": "stream",
          "text": [
            "Closed? 30676\n"
          ],
          "name": "stdout"
        },
        {
          "output_type": "stream",
          "text": [
            " 28%|██▊       | 2975/10528 [00:33<01:36, 78.55it/s]"
          ],
          "name": "stderr"
        },
        {
          "output_type": "stream",
          "text": [
            "Closed? 56983\n",
            "Closed? 63681\n"
          ],
          "name": "stdout"
        },
        {
          "output_type": "stream",
          "text": [
            " 28%|██▊       | 2994/10528 [00:33<01:30, 82.94it/s]"
          ],
          "name": "stderr"
        },
        {
          "output_type": "stream",
          "text": [
            "Closed? 25165\n",
            "Closed? 21406\n"
          ],
          "name": "stdout"
        },
        {
          "output_type": "stream",
          "text": [
            " 29%|██▊       | 3022/10528 [00:34<01:28, 84.57it/s]"
          ],
          "name": "stderr"
        },
        {
          "output_type": "stream",
          "text": [
            "Closed? 55955\n",
            "Closed? 52714\n",
            "Closed? 6804\n"
          ],
          "name": "stdout"
        },
        {
          "output_type": "stream",
          "text": [
            " 29%|██▉       | 3040/10528 [00:34<01:32, 80.69it/s]"
          ],
          "name": "stderr"
        },
        {
          "output_type": "stream",
          "text": [
            "Closed? 58442\n",
            "Closed? 8914\n",
            "Closed? 4282\n",
            "Closed? 29978\n",
            "Closed? 30094\n"
          ],
          "name": "stdout"
        },
        {
          "output_type": "stream",
          "text": [
            " 29%|██▉       | 3070/10528 [00:34<01:30, 82.01it/s]"
          ],
          "name": "stderr"
        },
        {
          "output_type": "stream",
          "text": [
            "Closed? 21264\n"
          ],
          "name": "stdout"
        },
        {
          "output_type": "stream",
          "text": [
            " 30%|██▉       | 3107/10528 [00:35<01:30, 81.95it/s]"
          ],
          "name": "stderr"
        },
        {
          "output_type": "stream",
          "text": [
            "Closed? 56428\n",
            "Closed? 58218\n",
            "Closed? 34730\n"
          ],
          "name": "stdout"
        },
        {
          "output_type": "stream",
          "text": [
            " 30%|██▉       | 3125/10528 [00:35<01:29, 83.08it/s]"
          ],
          "name": "stderr"
        },
        {
          "output_type": "stream",
          "text": [
            "Closed? 16321\n",
            "Closed? 14367\n"
          ],
          "name": "stdout"
        },
        {
          "output_type": "stream",
          "text": [
            " 30%|██▉       | 3145/10528 [00:35<01:23, 88.12it/s]"
          ],
          "name": "stderr"
        },
        {
          "output_type": "stream",
          "text": [
            "Closed? 23449\n",
            "Closed? 20977\n",
            "Closed? 27515\n",
            "Closed? 17098\n",
            "Closed? 17939\n"
          ],
          "name": "stdout"
        },
        {
          "output_type": "stream",
          "text": [
            " 30%|███       | 3172/10528 [00:35<01:26, 85.21it/s]"
          ],
          "name": "stderr"
        },
        {
          "output_type": "stream",
          "text": [
            "Closed? 20073\n",
            "Closed? 4499\n",
            "Closed? 3329\n",
            "Closed? 27286\n"
          ],
          "name": "stdout"
        },
        {
          "output_type": "stream",
          "text": [
            " 30%|███       | 3204/10528 [00:36<01:17, 94.80it/s]"
          ],
          "name": "stderr"
        },
        {
          "output_type": "stream",
          "text": [
            "Closed? 5030\n",
            "Closed? 54777\n",
            "Closed? 34179\n",
            "Closed? 23403\n",
            "Closed? 28994\n",
            "Closed? 26261\n",
            "Closed? 23826\n"
          ],
          "name": "stdout"
        },
        {
          "output_type": "stream",
          "text": [
            " 31%|███       | 3225/10528 [00:36<01:15, 96.66it/s]"
          ],
          "name": "stderr"
        },
        {
          "output_type": "stream",
          "text": [
            "Closed? 23314\n",
            "Closed? 56980\n",
            "Closed? 54836\n",
            "Closed? 55139\n"
          ],
          "name": "stdout"
        },
        {
          "output_type": "stream",
          "text": [
            " 31%|███       | 3246/10528 [00:36<01:14, 97.43it/s]"
          ],
          "name": "stderr"
        },
        {
          "output_type": "stream",
          "text": [
            "Closed? 34729\n",
            "Closed? 33310\n",
            "Closed? 60043\n",
            "Closed? 59925\n",
            "Closed? 14853\n"
          ],
          "name": "stdout"
        },
        {
          "output_type": "stream",
          "text": [
            " 31%|███       | 3266/10528 [00:36<01:19, 91.66it/s]"
          ],
          "name": "stderr"
        },
        {
          "output_type": "stream",
          "text": [
            "Closed? 32163\n",
            "Closed? 58528\n",
            "Closed? 22424\n"
          ],
          "name": "stdout"
        },
        {
          "output_type": "stream",
          "text": [
            " 31%|███▏      | 3294/10528 [00:37<01:29, 80.59it/s]"
          ],
          "name": "stderr"
        },
        {
          "output_type": "stream",
          "text": [
            "Closed? 63146\n"
          ],
          "name": "stdout"
        },
        {
          "output_type": "stream",
          "text": [
            " 31%|███▏      | 3314/10528 [00:37<01:24, 85.30it/s]"
          ],
          "name": "stderr"
        },
        {
          "output_type": "stream",
          "text": [
            "Closed? 36083\n",
            "Closed? 25511\n",
            "Closed? 17657\n",
            "Closed? 6990\n"
          ],
          "name": "stdout"
        },
        {
          "output_type": "stream",
          "text": [
            " 32%|███▏      | 3332/10528 [00:37<01:26, 83.53it/s]"
          ],
          "name": "stderr"
        },
        {
          "output_type": "stream",
          "text": [
            "Closed? 4100\n",
            "Closed? 53715\n",
            "Closed? 29474\n"
          ],
          "name": "stdout"
        },
        {
          "output_type": "stream",
          "text": [
            " 32%|███▏      | 3369/10528 [00:38<01:25, 83.49it/s]"
          ],
          "name": "stderr"
        },
        {
          "output_type": "stream",
          "text": [
            "Closed? 16913\n",
            "Closed? 2842\n",
            "Closed? 28136\n",
            "Closed? 3629\n"
          ],
          "name": "stdout"
        },
        {
          "output_type": "stream",
          "text": [
            "\r 32%|███▏      | 3378/10528 [00:38<01:25, 83.51it/s]"
          ],
          "name": "stderr"
        },
        {
          "output_type": "stream",
          "text": [
            "Closed? 5795\n"
          ],
          "name": "stdout"
        },
        {
          "output_type": "stream",
          "text": [
            " 32%|███▏      | 3407/10528 [00:38<01:22, 86.49it/s]"
          ],
          "name": "stderr"
        },
        {
          "output_type": "stream",
          "text": [
            "Closed? 55564\n",
            "Closed? 11899\n",
            "Closed? 54309\n",
            "Closed? 24664\n",
            "Closed? 5209\n"
          ],
          "name": "stdout"
        },
        {
          "output_type": "stream",
          "text": [
            " 33%|███▎      | 3425/10528 [00:38<01:23, 84.84it/s]"
          ],
          "name": "stderr"
        },
        {
          "output_type": "stream",
          "text": [
            "Closed? 33813\n",
            "Closed? 32095\n",
            "Closed? 36333\n",
            "Closed? 31506\n"
          ],
          "name": "stdout"
        },
        {
          "output_type": "stream",
          "text": [
            " 33%|███▎      | 3446/10528 [00:38<01:20, 87.64it/s]"
          ],
          "name": "stderr"
        },
        {
          "output_type": "stream",
          "text": [
            "Closed? 55483\n",
            "Closed? 21486\n",
            "Closed? 5155\n",
            "Closed? 13770\n"
          ],
          "name": "stdout"
        },
        {
          "output_type": "stream",
          "text": [
            " 33%|███▎      | 3467/10528 [00:39<01:19, 88.47it/s]"
          ],
          "name": "stderr"
        },
        {
          "output_type": "stream",
          "text": [
            "Closed? 3176\n",
            "Closed? 20078\n",
            "Closed? 1164\n"
          ],
          "name": "stdout"
        },
        {
          "output_type": "stream",
          "text": [
            " 33%|███▎      | 3487/10528 [00:39<01:20, 87.17it/s]"
          ],
          "name": "stderr"
        },
        {
          "output_type": "stream",
          "text": [
            "Closed? 30762\n",
            "Closed? 27872\n"
          ],
          "name": "stdout"
        },
        {
          "output_type": "stream",
          "text": [
            " 33%|███▎      | 3523/10528 [00:39<01:26, 80.91it/s]"
          ],
          "name": "stderr"
        },
        {
          "output_type": "stream",
          "text": [
            "Closed? 18561\n",
            "Closed? 6152\n"
          ],
          "name": "stdout"
        },
        {
          "output_type": "stream",
          "text": [
            " 34%|███▎      | 3544/10528 [00:40<01:18, 88.78it/s]"
          ],
          "name": "stderr"
        },
        {
          "output_type": "stream",
          "text": [
            "Closed? 26233\n",
            "Closed? 13837\n",
            "Closed? 20556\n",
            "Closed? 1646\n",
            "Closed? 906\n"
          ],
          "name": "stdout"
        },
        {
          "output_type": "stream",
          "text": [
            " 34%|███▍      | 3563/10528 [00:40<01:23, 83.45it/s]"
          ],
          "name": "stderr"
        },
        {
          "output_type": "stream",
          "text": [
            "Closed? 20276\n",
            "Closed? 60950\n",
            "Closed? 19860\n",
            "Closed? 2436\n"
          ],
          "name": "stdout"
        },
        {
          "output_type": "stream",
          "text": [
            " 34%|███▍      | 3604/10528 [00:40<01:16, 90.07it/s]"
          ],
          "name": "stderr"
        },
        {
          "output_type": "stream",
          "text": [
            "Closed? 9158\n",
            "Closed? 62436\n",
            "Closed? 36694\n",
            "Closed? 35774\n",
            "Closed? 11021\n"
          ],
          "name": "stdout"
        },
        {
          "output_type": "stream",
          "text": [
            "\r 34%|███▍      | 3614/10528 [00:40<01:18, 87.69it/s]"
          ],
          "name": "stderr"
        },
        {
          "output_type": "stream",
          "text": [
            "Closed? 63101\n",
            "Closed? 61168\n",
            "Closed? 54579\n"
          ],
          "name": "stdout"
        },
        {
          "output_type": "stream",
          "text": [
            " 35%|███▍      | 3643/10528 [00:41<01:20, 85.52it/s]"
          ],
          "name": "stderr"
        },
        {
          "output_type": "stream",
          "text": [
            "Closed? 29545\n",
            "Closed? 13716\n"
          ],
          "name": "stdout"
        },
        {
          "output_type": "stream",
          "text": [
            " 35%|███▍      | 3681/10528 [00:41<01:21, 84.05it/s]"
          ],
          "name": "stderr"
        },
        {
          "output_type": "stream",
          "text": [
            "Closed? 4335\n",
            "Closed? 25508\n",
            "Closed? 3831\n",
            "Closed? 53888\n",
            "Closed? 63188\n"
          ],
          "name": "stdout"
        },
        {
          "output_type": "stream",
          "text": [
            " 35%|███▌      | 3699/10528 [00:41<01:22, 83.07it/s]"
          ],
          "name": "stderr"
        },
        {
          "output_type": "stream",
          "text": [
            "Closed? 15339\n"
          ],
          "name": "stdout"
        },
        {
          "output_type": "stream",
          "text": [
            " 35%|███▌      | 3729/10528 [00:42<01:17, 87.84it/s]"
          ],
          "name": "stderr"
        },
        {
          "output_type": "stream",
          "text": [
            "Closed? 8532\n",
            "Closed? 34469\n",
            "Closed? 24867\n",
            "Closed? 58896\n",
            "Closed? 53397\n"
          ],
          "name": "stdout"
        },
        {
          "output_type": "stream",
          "text": [
            " 36%|███▌      | 3748/10528 [00:42<01:19, 85.38it/s]"
          ],
          "name": "stderr"
        },
        {
          "output_type": "stream",
          "text": [
            "Closed? 29110\n",
            "Closed? 58892\n",
            "Closed? 10668\n"
          ],
          "name": "stdout"
        },
        {
          "output_type": "stream",
          "text": [
            " 36%|███▌      | 3767/10528 [00:42<01:18, 85.94it/s]"
          ],
          "name": "stderr"
        },
        {
          "output_type": "stream",
          "text": [
            "Closed? 6396\n",
            "Closed? 17350\n"
          ],
          "name": "stdout"
        },
        {
          "output_type": "stream",
          "text": [
            " 36%|███▌      | 3787/10528 [00:42<01:15, 89.52it/s]"
          ],
          "name": "stderr"
        },
        {
          "output_type": "stream",
          "text": [
            "Closed? 53916\n",
            "Closed? 56730\n",
            "Closed? 1267\n",
            "Closed? 54858\n"
          ],
          "name": "stdout"
        },
        {
          "output_type": "stream",
          "text": [
            " 36%|███▌      | 3816/10528 [00:43<01:15, 89.33it/s]"
          ],
          "name": "stderr"
        },
        {
          "output_type": "stream",
          "text": [
            "Closed? 8419\n",
            "Closed? 30084\n",
            "Closed? 34007\n",
            "Closed? 12376\n",
            "Closed? 61839\n",
            "Closed? 20323\n",
            "Closed? 13090\n",
            "Closed? 28215\n",
            "Closed? 34739\n",
            "Closed? 5910\n"
          ],
          "name": "stdout"
        },
        {
          "output_type": "stream",
          "text": [
            " 37%|███▋      | 3861/10528 [00:43<01:18, 84.64it/s]"
          ],
          "name": "stderr"
        },
        {
          "output_type": "stream",
          "text": [
            "Closed? 31469\n",
            "Closed? 11329\n"
          ],
          "name": "stdout"
        },
        {
          "output_type": "stream",
          "text": [
            " 37%|███▋      | 3879/10528 [00:43<01:21, 81.52it/s]"
          ],
          "name": "stderr"
        },
        {
          "output_type": "stream",
          "text": [
            "Closed? 30661\n",
            "Closed? 17977\n"
          ],
          "name": "stdout"
        },
        {
          "output_type": "stream",
          "text": [
            " 37%|███▋      | 3898/10528 [00:44<01:19, 83.79it/s]"
          ],
          "name": "stderr"
        },
        {
          "output_type": "stream",
          "text": [
            "Closed? 34796\n",
            "Closed? 5126\n"
          ],
          "name": "stdout"
        },
        {
          "output_type": "stream",
          "text": [
            "\r 37%|███▋      | 3907/10528 [00:44<01:19, 83.23it/s]"
          ],
          "name": "stderr"
        },
        {
          "output_type": "stream",
          "text": [
            "Closed? 28495\n"
          ],
          "name": "stdout"
        },
        {
          "output_type": "stream",
          "text": [
            " 37%|███▋      | 3926/10528 [00:44<01:19, 82.60it/s]"
          ],
          "name": "stderr"
        },
        {
          "output_type": "stream",
          "text": [
            "Closed? 55366\n",
            "Closed? 31558\n",
            "Closed? 1886\n",
            "Closed? 57114\n",
            "Closed? 11746\n"
          ],
          "name": "stdout"
        },
        {
          "output_type": "stream",
          "text": [
            " 38%|███▊      | 3956/10528 [00:44<01:16, 85.84it/s]"
          ],
          "name": "stderr"
        },
        {
          "output_type": "stream",
          "text": [
            "Closed? 17067\n",
            "Closed? 28178\n",
            "Closed? 19927\n"
          ],
          "name": "stdout"
        },
        {
          "output_type": "stream",
          "text": [
            " 38%|███▊      | 3975/10528 [00:45<01:15, 87.36it/s]"
          ],
          "name": "stderr"
        },
        {
          "output_type": "stream",
          "text": [
            "Closed? 60081\n",
            "Closed? 3772\n",
            "Closed? 655\n"
          ],
          "name": "stdout"
        },
        {
          "output_type": "stream",
          "text": [
            " 38%|███▊      | 3993/10528 [00:45<01:16, 85.82it/s]"
          ],
          "name": "stderr"
        },
        {
          "output_type": "stream",
          "text": [
            "Closed? 8725\n",
            "Closed? 11894\n",
            "Closed? 34088\n"
          ],
          "name": "stdout"
        },
        {
          "output_type": "stream",
          "text": [
            " 38%|███▊      | 4012/10528 [00:45<01:14, 87.49it/s]"
          ],
          "name": "stderr"
        },
        {
          "output_type": "stream",
          "text": [
            "Closed? 59515\n",
            "Closed? 6007\n",
            "Closed? 33317\n"
          ],
          "name": "stdout"
        },
        {
          "output_type": "stream",
          "text": [
            " 38%|███▊      | 4030/10528 [00:45<01:18, 82.73it/s]"
          ],
          "name": "stderr"
        },
        {
          "output_type": "stream",
          "text": [
            "Closed? 5100\n",
            "Closed? 59512\n"
          ],
          "name": "stdout"
        },
        {
          "output_type": "stream",
          "text": [
            " 38%|███▊      | 4051/10528 [00:45<01:12, 88.94it/s]"
          ],
          "name": "stderr"
        },
        {
          "output_type": "stream",
          "text": [
            "Closed? 11541\n",
            "Closed? 34564\n",
            "Closed? 13416\n",
            "Closed? 23915\n",
            "Closed? 61652\n",
            "Closed? 14828\n"
          ],
          "name": "stdout"
        },
        {
          "output_type": "stream",
          "text": [
            " 39%|███▊      | 4074/10528 [00:46<01:06, 96.62it/s]"
          ],
          "name": "stderr"
        },
        {
          "output_type": "stream",
          "text": [
            "Closed? 9121\n",
            "Closed? 24170\n",
            "Closed? 15995\n",
            "Closed? 1266\n",
            "Closed? 58197\n",
            "Closed? 4386\n",
            "Closed? 5330\n",
            "Closed? 92\n",
            "Closed? 10005\n"
          ],
          "name": "stdout"
        },
        {
          "output_type": "stream",
          "text": [
            " 39%|███▉      | 4097/10528 [00:46<01:06, 96.36it/s]"
          ],
          "name": "stderr"
        },
        {
          "output_type": "stream",
          "text": [
            "Closed? 35276\n",
            "Closed? 27567\n"
          ],
          "name": "stdout"
        },
        {
          "output_type": "stream",
          "text": [
            " 39%|███▉      | 4119/10528 [00:46<01:07, 95.24it/s]"
          ],
          "name": "stderr"
        },
        {
          "output_type": "stream",
          "text": [
            "Closed? 35662\n",
            "Closed? 18581\n",
            "Closed? 21116\n",
            "Closed? 7233\n",
            "Closed? 2891\n"
          ],
          "name": "stdout"
        },
        {
          "output_type": "stream",
          "text": [
            " 39%|███▉      | 4148/10528 [00:47<01:15, 84.70it/s]"
          ],
          "name": "stderr"
        },
        {
          "output_type": "stream",
          "text": [
            "Closed? 31162\n",
            "Closed? 7376\n"
          ],
          "name": "stdout"
        },
        {
          "output_type": "stream",
          "text": [
            " 40%|███▉      | 4167/10528 [00:47<01:15, 84.73it/s]"
          ],
          "name": "stderr"
        },
        {
          "output_type": "stream",
          "text": [
            "Closed? 32874\n",
            "Closed? 59358\n",
            "Closed? 4691\n",
            "Closed? 32673\n"
          ],
          "name": "stdout"
        },
        {
          "output_type": "stream",
          "text": [
            " 40%|███▉      | 4186/10528 [00:47<01:14, 85.63it/s]"
          ],
          "name": "stderr"
        },
        {
          "output_type": "stream",
          "text": [
            "Closed? 6300\n",
            "Closed? 31594\n"
          ],
          "name": "stdout"
        },
        {
          "output_type": "stream",
          "text": [
            " 40%|████      | 4216/10528 [00:47<01:11, 88.24it/s]"
          ],
          "name": "stderr"
        },
        {
          "output_type": "stream",
          "text": [
            "Closed? 53456\n",
            "Closed? 26691\n",
            "Closed? 13429\n",
            "Closed? 11867\n",
            "Closed? 4317\n"
          ],
          "name": "stdout"
        },
        {
          "output_type": "stream",
          "text": [
            " 40%|████      | 4243/10528 [00:48<01:17, 81.60it/s]"
          ],
          "name": "stderr"
        },
        {
          "output_type": "stream",
          "text": [
            "Closed? 35818\n",
            "Closed? 11810\n"
          ],
          "name": "stdout"
        },
        {
          "output_type": "stream",
          "text": [
            " 41%|████      | 4270/10528 [00:48<01:21, 77.20it/s]"
          ],
          "name": "stderr"
        },
        {
          "output_type": "stream",
          "text": [
            "Closed? 24424\n"
          ],
          "name": "stdout"
        },
        {
          "output_type": "stream",
          "text": [
            " 41%|████      | 4288/10528 [00:48<01:19, 78.80it/s]"
          ],
          "name": "stderr"
        },
        {
          "output_type": "stream",
          "text": [
            "Closed? 23187\n",
            "Closed? 4126\n"
          ],
          "name": "stdout"
        },
        {
          "output_type": "stream",
          "text": [
            " 41%|████      | 4314/10528 [00:49<01:18, 79.46it/s]"
          ],
          "name": "stderr"
        },
        {
          "output_type": "stream",
          "text": [
            "Closed? 21956\n",
            "Closed? 3907\n",
            "Closed? 7460\n"
          ],
          "name": "stdout"
        },
        {
          "output_type": "stream",
          "text": [
            " 41%|████      | 4340/10528 [00:49<01:04, 95.44it/s]"
          ],
          "name": "stderr"
        },
        {
          "output_type": "stream",
          "text": [
            "Closed? 27697\n",
            "Closed? 20151\n",
            "Closed? 7254\n",
            "Closed? 22627\n",
            "Closed? 16144\n",
            "Closed? 34767\n",
            "Closed? 14581\n",
            "Closed? 53894\n",
            "Closed? 20138\n",
            "Closed? 63473\n",
            "Closed? 55611\n"
          ],
          "name": "stdout"
        },
        {
          "output_type": "stream",
          "text": [
            " 41%|████▏     | 4363/10528 [00:49<01:03, 96.37it/s]"
          ],
          "name": "stderr"
        },
        {
          "output_type": "stream",
          "text": [
            "Closed? 5556\n",
            "Closed? 7209\n",
            "Closed? 8380\n",
            "Closed? 16951\n",
            "Closed? 5321\n"
          ],
          "name": "stdout"
        },
        {
          "output_type": "stream",
          "text": [
            " 42%|████▏     | 4386/10528 [00:49<01:04, 95.87it/s]"
          ],
          "name": "stderr"
        },
        {
          "output_type": "stream",
          "text": [
            "Closed? 5153\n",
            "Closed? 30674\n",
            "Closed? 14242\n",
            "Closed? 10084\n",
            "Closed? 33985\n"
          ],
          "name": "stdout"
        },
        {
          "output_type": "stream",
          "text": [
            " 42%|████▏     | 4406/10528 [00:50<01:06, 92.45it/s]"
          ],
          "name": "stderr"
        },
        {
          "output_type": "stream",
          "text": [
            "Closed? 24566\n",
            "Closed? 196\n",
            "Closed? 4571\n",
            "Closed? 13036\n"
          ],
          "name": "stdout"
        },
        {
          "output_type": "stream",
          "text": [
            " 42%|████▏     | 4426/10528 [00:50<01:06, 91.98it/s]"
          ],
          "name": "stderr"
        },
        {
          "output_type": "stream",
          "text": [
            "Closed? 62778\n",
            "Closed? 57311\n",
            "Closed? 15332\n",
            "Closed? 27480\n",
            "Closed? 6018\n"
          ],
          "name": "stdout"
        },
        {
          "output_type": "stream",
          "text": [
            " 42%|████▏     | 4448/10528 [00:50<01:05, 92.54it/s]"
          ],
          "name": "stderr"
        },
        {
          "output_type": "stream",
          "text": [
            "Closed? 24438\n",
            "Closed? 8212\n",
            "Closed? 52634\n",
            "Closed? 24689\n",
            "Closed? 6895\n"
          ],
          "name": "stdout"
        },
        {
          "output_type": "stream",
          "text": [
            " 42%|████▏     | 4471/10528 [00:50<01:01, 97.72it/s]"
          ],
          "name": "stderr"
        },
        {
          "output_type": "stream",
          "text": [
            "Closed? 36708\n",
            "Closed? 9405\n",
            "Closed? 24808\n",
            "Closed? 12137\n",
            "Closed? 4913\n",
            "Closed? 54316\n",
            "Closed? 13215\n",
            "Closed? 16030\n"
          ],
          "name": "stdout"
        },
        {
          "output_type": "stream",
          "text": [
            " 43%|████▎     | 4494/10528 [00:50<01:01, 97.46it/s] "
          ],
          "name": "stderr"
        },
        {
          "output_type": "stream",
          "text": [
            "Closed? 32732\n",
            "Closed? 20983\n",
            "Closed? 16274\n",
            "Closed? 10564\n"
          ],
          "name": "stdout"
        },
        {
          "output_type": "stream",
          "text": [
            " 43%|████▎     | 4514/10528 [00:51<01:08, 87.84it/s]"
          ],
          "name": "stderr"
        },
        {
          "output_type": "stream",
          "text": [
            "Closed? 22942\n",
            "Closed? 54074\n",
            "Closed? 22964\n",
            "Closed? 19355\n"
          ],
          "name": "stdout"
        },
        {
          "output_type": "stream",
          "text": [
            " 43%|████▎     | 4537/10528 [00:51<01:03, 94.67it/s]"
          ],
          "name": "stderr"
        },
        {
          "output_type": "stream",
          "text": [
            "Closed? 11440\n",
            "Closed? 54636\n",
            "Closed? 55378\n",
            "Closed? 19998\n"
          ],
          "name": "stdout"
        },
        {
          "output_type": "stream",
          "text": [
            " 43%|████▎     | 4566/10528 [00:51<01:07, 88.24it/s]"
          ],
          "name": "stderr"
        },
        {
          "output_type": "stream",
          "text": [
            "Closed? 29154\n",
            "Closed? 10494\n",
            "Closed? 3102\n"
          ],
          "name": "stdout"
        },
        {
          "output_type": "stream",
          "text": [
            " 44%|████▎     | 4593/10528 [00:52<01:11, 83.43it/s]"
          ],
          "name": "stderr"
        },
        {
          "output_type": "stream",
          "text": [
            "Closed? 7900\n",
            "Closed? 15360\n"
          ],
          "name": "stdout"
        },
        {
          "output_type": "stream",
          "text": [
            " 44%|████▍     | 4613/10528 [00:52<01:07, 87.56it/s]"
          ],
          "name": "stderr"
        },
        {
          "output_type": "stream",
          "text": [
            "Closed? 3247\n",
            "Closed? 6960\n",
            "Closed? 10378\n",
            "Closed? 6700\n",
            "Closed? 22208\n"
          ],
          "name": "stdout"
        },
        {
          "output_type": "stream",
          "text": [
            " 44%|████▍     | 4644/10528 [00:52<01:03, 93.30it/s]"
          ],
          "name": "stderr"
        },
        {
          "output_type": "stream",
          "text": [
            "Closed? 62719\n",
            "Closed? 31596\n",
            "Closed? 5988\n",
            "Closed? 23582\n",
            "Closed? 8168\n",
            "Closed? 24292\n"
          ],
          "name": "stdout"
        },
        {
          "output_type": "stream",
          "text": [
            " 44%|████▍     | 4664/10528 [00:52<01:05, 89.50it/s]"
          ],
          "name": "stderr"
        },
        {
          "output_type": "stream",
          "text": [
            "Closed? 17812\n",
            "Closed? 25708\n",
            "Closed? 31984\n"
          ],
          "name": "stdout"
        },
        {
          "output_type": "stream",
          "text": [
            " 44%|████▍     | 4684/10528 [00:53<01:06, 87.70it/s]"
          ],
          "name": "stderr"
        },
        {
          "output_type": "stream",
          "text": [
            "Closed? 62634\n",
            "Closed? 4331\n",
            "Closed? 3750\n"
          ],
          "name": "stdout"
        },
        {
          "output_type": "stream",
          "text": [
            " 45%|████▍     | 4704/10528 [00:53<01:04, 89.69it/s]"
          ],
          "name": "stderr"
        },
        {
          "output_type": "stream",
          "text": [
            "Closed? 53742\n",
            "Closed? 18607\n",
            "Closed? 31248\n",
            "Closed? 53307\n",
            "Closed? 56251\n",
            "Closed? 54148\n",
            "Closed? 22919\n"
          ],
          "name": "stdout"
        },
        {
          "output_type": "stream",
          "text": [
            " 45%|████▍     | 4725/10528 [00:53<01:05, 88.89it/s]"
          ],
          "name": "stderr"
        },
        {
          "output_type": "stream",
          "text": [
            "Closed? 20190\n",
            "Closed? 31323\n"
          ],
          "name": "stdout"
        },
        {
          "output_type": "stream",
          "text": [
            " 45%|████▌     | 4748/10528 [00:53<00:59, 96.89it/s]"
          ],
          "name": "stderr"
        },
        {
          "output_type": "stream",
          "text": [
            "Closed? 26234\n",
            "Closed? 34583\n",
            "Closed? 26627\n",
            "Closed? 54807\n",
            "Closed? 16308\n",
            "Closed? 9174\n",
            "Closed? 22930\n"
          ],
          "name": "stdout"
        },
        {
          "output_type": "stream",
          "text": [
            " 45%|████▌     | 4768/10528 [00:53<01:01, 93.72it/s]"
          ],
          "name": "stderr"
        },
        {
          "output_type": "stream",
          "text": [
            "Closed? 58683\n",
            "Closed? 15346\n",
            "Closed? 58486\n"
          ],
          "name": "stdout"
        },
        {
          "output_type": "stream",
          "text": [
            " 46%|████▌     | 4808/10528 [00:54<01:04, 88.74it/s]"
          ],
          "name": "stderr"
        },
        {
          "output_type": "stream",
          "text": [
            "Closed? 63600\n",
            "Closed? 58443\n",
            "Closed? 23110\n",
            "Closed? 3078\n",
            "Closed? 7752\n"
          ],
          "name": "stdout"
        },
        {
          "output_type": "stream",
          "text": [
            " 46%|████▌     | 4862/10528 [00:55<01:11, 79.46it/s]"
          ],
          "name": "stderr"
        },
        {
          "output_type": "stream",
          "text": [
            "Closed? 57333\n",
            "Closed? 10375\n",
            "Closed? 3857\n"
          ],
          "name": "stdout"
        },
        {
          "output_type": "stream",
          "text": [
            " 46%|████▋     | 4889/10528 [00:55<01:09, 81.58it/s]"
          ],
          "name": "stderr"
        },
        {
          "output_type": "stream",
          "text": [
            "Closed? 63055\n",
            "Closed? 9175\n",
            "Closed? 8303\n"
          ],
          "name": "stdout"
        },
        {
          "output_type": "stream",
          "text": [
            " 47%|████▋     | 4912/10528 [00:55<01:01, 91.80it/s]"
          ],
          "name": "stderr"
        },
        {
          "output_type": "stream",
          "text": [
            "Closed? 6847\n",
            "Closed? 27220\n",
            "Closed? 33368\n",
            "Closed? 1417\n",
            "Closed? 59760\n",
            "Closed? 19958\n"
          ],
          "name": "stdout"
        },
        {
          "output_type": "stream",
          "text": [
            " 47%|████▋     | 4932/10528 [00:55<01:01, 91.54it/s]"
          ],
          "name": "stderr"
        },
        {
          "output_type": "stream",
          "text": [
            "Closed? 32485\n",
            "Closed? 20471\n",
            "Closed? 4496\n",
            "Closed? 23330\n"
          ],
          "name": "stdout"
        },
        {
          "output_type": "stream",
          "text": [
            " 47%|████▋     | 4961/10528 [00:56<01:06, 84.33it/s]"
          ],
          "name": "stderr"
        },
        {
          "output_type": "stream",
          "text": [
            "Closed? 33581\n",
            "Closed? 17985\n",
            "Closed? 93\n"
          ],
          "name": "stdout"
        },
        {
          "output_type": "stream",
          "text": [
            " 47%|████▋     | 4983/10528 [00:56<00:59, 93.18it/s]"
          ],
          "name": "stderr"
        },
        {
          "output_type": "stream",
          "text": [
            "Closed? 58591\n",
            "Closed? 23428\n",
            "Closed? 5849\n",
            "Closed? 9687\n",
            "Closed? 33228\n",
            "Closed? 5902\n",
            "Closed? 35520\n"
          ],
          "name": "stdout"
        },
        {
          "output_type": "stream",
          "text": [
            " 48%|████▊     | 5013/10528 [00:56<01:01, 89.09it/s]"
          ],
          "name": "stderr"
        },
        {
          "output_type": "stream",
          "text": [
            "Closed? 8560\n",
            "Closed? 60019\n",
            "Closed? 54034\n",
            "Closed? 54278\n"
          ],
          "name": "stdout"
        },
        {
          "output_type": "stream",
          "text": [
            " 48%|████▊     | 5034/10528 [00:57<00:59, 92.64it/s]"
          ],
          "name": "stderr"
        },
        {
          "output_type": "stream",
          "text": [
            "Closed? 30102\n",
            "Closed? 61628\n",
            "Closed? 59135\n",
            "Closed? 31417\n",
            "Closed? 13141\n"
          ],
          "name": "stdout"
        },
        {
          "output_type": "stream",
          "text": [
            " 48%|████▊     | 5055/10528 [00:57<01:01, 88.46it/s]"
          ],
          "name": "stderr"
        },
        {
          "output_type": "stream",
          "text": [
            "Closed? 13723\n",
            "Closed? 7709\n",
            "Closed? 62737\n"
          ],
          "name": "stdout"
        },
        {
          "output_type": "stream",
          "text": [
            " 48%|████▊     | 5085/10528 [00:57<01:03, 86.03it/s]"
          ],
          "name": "stderr"
        },
        {
          "output_type": "stream",
          "text": [
            "Closed? 417\n",
            "Closed? 63098\n",
            "Closed? 60814\n",
            "Closed? 54869\n",
            "Closed? 28396\n"
          ],
          "name": "stdout"
        },
        {
          "output_type": "stream",
          "text": [
            " 48%|████▊     | 5105/10528 [00:57<01:01, 88.36it/s]"
          ],
          "name": "stderr"
        },
        {
          "output_type": "stream",
          "text": [
            "Closed? 63413\n",
            "Closed? 30008\n",
            "Closed? 32139\n",
            "Closed? 25833\n"
          ],
          "name": "stdout"
        },
        {
          "output_type": "stream",
          "text": [
            " 49%|████▉     | 5142/10528 [00:58<01:07, 80.06it/s]"
          ],
          "name": "stderr"
        },
        {
          "output_type": "stream",
          "text": [
            "Closed? 8029\n",
            "Closed? 31929\n",
            "Closed? 20573\n",
            "Closed? 17454\n"
          ],
          "name": "stdout"
        },
        {
          "output_type": "stream",
          "text": [
            " 49%|████▉     | 5171/10528 [00:58<01:03, 84.48it/s]"
          ],
          "name": "stderr"
        },
        {
          "output_type": "stream",
          "text": [
            "Closed? 34848\n",
            "Closed? 55330\n",
            "Closed? 58561\n"
          ],
          "name": "stdout"
        },
        {
          "output_type": "stream",
          "text": [
            " 49%|████▉     | 5189/10528 [00:58<01:04, 82.40it/s]"
          ],
          "name": "stderr"
        },
        {
          "output_type": "stream",
          "text": [
            "Closed? 28608\n",
            "Closed? 31445\n",
            "Closed? 23563\n"
          ],
          "name": "stdout"
        },
        {
          "output_type": "stream",
          "text": [
            " 49%|████▉     | 5209/10528 [00:59<01:02, 85.15it/s]"
          ],
          "name": "stderr"
        },
        {
          "output_type": "stream",
          "text": [
            "Closed? 15883\n",
            "Closed? 59635\n",
            "Closed? 15233\n"
          ],
          "name": "stdout"
        },
        {
          "output_type": "stream",
          "text": [
            " 50%|████▉     | 5226/10528 [00:59<01:09, 75.75it/s]"
          ],
          "name": "stderr"
        },
        {
          "output_type": "stream",
          "text": [
            "Closed? 6013\n",
            "Closed? 31879\n",
            "Closed? 53196\n",
            "Closed? 59185\n"
          ],
          "name": "stdout"
        },
        {
          "output_type": "stream",
          "text": [
            " 50%|████▉     | 5260/10528 [00:59<00:57, 92.37it/s]"
          ],
          "name": "stderr"
        },
        {
          "output_type": "stream",
          "text": [
            "Closed? 29270\n",
            "Closed? 25704\n",
            "Closed? 61074\n",
            "Closed? 3695\n",
            "Closed? 13792\n",
            "Closed? 20027\n",
            "Closed? 1773\n",
            "Closed? 54505\n"
          ],
          "name": "stdout"
        },
        {
          "output_type": "stream",
          "text": [
            "\r 50%|█████     | 5271/10528 [00:59<00:55, 94.56it/s]"
          ],
          "name": "stderr"
        },
        {
          "output_type": "stream",
          "text": [
            "Closed? 60903\n",
            "Closed? 26626\n",
            "Closed? 36386\n",
            "Closed? 28897\n",
            "Closed? 24384\n"
          ],
          "name": "stdout"
        },
        {
          "output_type": "stream",
          "text": [
            " 50%|█████     | 5293/10528 [01:00<00:53, 97.76it/s]"
          ],
          "name": "stderr"
        },
        {
          "output_type": "stream",
          "text": [
            "Closed? 2733\n",
            "Closed? 62870\n",
            "Closed? 18557\n",
            "Closed? 32374\n"
          ],
          "name": "stdout"
        },
        {
          "output_type": "stream",
          "text": [
            " 51%|█████     | 5322/10528 [01:00<01:01, 84.60it/s]"
          ],
          "name": "stderr"
        },
        {
          "output_type": "stream",
          "text": [
            "Closed? 61813\n",
            "Closed? 13874\n"
          ],
          "name": "stdout"
        },
        {
          "output_type": "stream",
          "text": [
            " 51%|█████     | 5340/10528 [01:00<01:03, 82.02it/s]"
          ],
          "name": "stderr"
        },
        {
          "output_type": "stream",
          "text": [
            "Closed? 14658\n",
            "Closed? 19158\n",
            "Closed? 31552\n",
            "Closed? 5037\n",
            "Closed? 6555\n",
            "Closed? 6718\n",
            "Closed? 19315\n",
            "Closed? 33457\n"
          ],
          "name": "stdout"
        },
        {
          "output_type": "stream",
          "text": [
            " 51%|█████     | 5364/10528 [01:00<00:58, 88.76it/s]"
          ],
          "name": "stderr"
        },
        {
          "output_type": "stream",
          "text": [
            "Closed? 55772\n"
          ],
          "name": "stdout"
        },
        {
          "output_type": "stream",
          "text": [
            " 51%|█████     | 5385/10528 [01:01<00:58, 87.26it/s]"
          ],
          "name": "stderr"
        },
        {
          "output_type": "stream",
          "text": [
            "Closed? 12626\n",
            "Closed? 26745\n",
            "Closed? 21197\n",
            "Closed? 1839\n",
            "Closed? 6475\n",
            "Closed? 32832\n",
            "Closed? 12716\n"
          ],
          "name": "stdout"
        },
        {
          "output_type": "stream",
          "text": [
            " 51%|█████▏    | 5407/10528 [01:01<00:57, 88.82it/s]"
          ],
          "name": "stderr"
        },
        {
          "output_type": "stream",
          "text": [
            "Closed? 4676\n",
            "Closed? 30846\n",
            "Closed? 53716\n",
            "Closed? 18244\n",
            "Closed? 825\n"
          ],
          "name": "stdout"
        },
        {
          "output_type": "stream",
          "text": [
            " 52%|█████▏    | 5449/10528 [01:01<00:58, 87.37it/s]"
          ],
          "name": "stderr"
        },
        {
          "output_type": "stream",
          "text": [
            "Closed? 62730\n",
            "Closed? 14867\n",
            "Closed? 63772\n",
            "Closed? 60795\n",
            "Closed? 54300\n",
            "Closed? 34203\n"
          ],
          "name": "stdout"
        },
        {
          "output_type": "stream",
          "text": [
            " 52%|█████▏    | 5470/10528 [01:02<00:55, 90.98it/s]"
          ],
          "name": "stderr"
        },
        {
          "output_type": "stream",
          "text": [
            "Closed? 59465\n",
            "Closed? 22925\n",
            "Closed? 10710\n"
          ],
          "name": "stdout"
        },
        {
          "output_type": "stream",
          "text": [
            " 52%|█████▏    | 5490/10528 [01:02<00:57, 87.56it/s]"
          ],
          "name": "stderr"
        },
        {
          "output_type": "stream",
          "text": [
            "Closed? 54676\n",
            "Closed? 34145\n"
          ],
          "name": "stdout"
        },
        {
          "output_type": "stream",
          "text": [
            " 52%|█████▏    | 5510/10528 [01:02<00:56, 88.42it/s]"
          ],
          "name": "stderr"
        },
        {
          "output_type": "stream",
          "text": [
            "Closed? 10439\n",
            "Closed? 14348\n",
            "Closed? 7034\n",
            "Closed? 2901\n",
            "Closed? 35218\n",
            "Closed? 62960\n",
            "Closed? 4286\n",
            "Closed? 18385\n"
          ],
          "name": "stdout"
        },
        {
          "output_type": "stream",
          "text": [
            " 53%|█████▎    | 5533/10528 [01:02<00:53, 93.93it/s]"
          ],
          "name": "stderr"
        },
        {
          "output_type": "stream",
          "text": [
            "Closed? 27291\n",
            "Closed? 13217\n",
            "Closed? 19415\n",
            "Closed? 17793\n"
          ],
          "name": "stdout"
        },
        {
          "output_type": "stream",
          "text": [
            " 53%|█████▎    | 5553/10528 [01:02<00:55, 89.69it/s]"
          ],
          "name": "stderr"
        },
        {
          "output_type": "stream",
          "text": [
            "Closed? 21149\n",
            "Closed? 4183\n"
          ],
          "name": "stdout"
        },
        {
          "output_type": "stream",
          "text": [
            " 53%|█████▎    | 5573/10528 [01:03<00:55, 89.04it/s]"
          ],
          "name": "stderr"
        },
        {
          "output_type": "stream",
          "text": [
            "Closed? 19960\n",
            "Closed? 31923\n",
            "Closed? 31058\n",
            "Closed? 30679\n",
            "Closed? 6715\n"
          ],
          "name": "stdout"
        },
        {
          "output_type": "stream",
          "text": [
            " 53%|█████▎    | 5593/10528 [01:03<00:54, 90.26it/s]"
          ],
          "name": "stderr"
        },
        {
          "output_type": "stream",
          "text": [
            "Closed? 8389\n",
            "Closed? 28782\n"
          ],
          "name": "stdout"
        },
        {
          "output_type": "stream",
          "text": [
            " 53%|█████▎    | 5623/10528 [01:03<00:55, 87.97it/s]"
          ],
          "name": "stderr"
        },
        {
          "output_type": "stream",
          "text": [
            "Closed? 35395\n",
            "Closed? 63147\n",
            "Closed? 30699\n",
            "Closed? 56201\n"
          ],
          "name": "stdout"
        },
        {
          "output_type": "stream",
          "text": [
            " 54%|█████▎    | 5644/10528 [01:04<00:52, 92.98it/s]"
          ],
          "name": "stderr"
        },
        {
          "output_type": "stream",
          "text": [
            "Closed? 57427\n",
            "Closed? 32369\n",
            "Closed? 11953\n",
            "Closed? 9584\n",
            "Closed? 10014\n"
          ],
          "name": "stdout"
        },
        {
          "output_type": "stream",
          "text": [
            " 54%|█████▍    | 5664/10528 [01:04<00:54, 89.37it/s]"
          ],
          "name": "stderr"
        },
        {
          "output_type": "stream",
          "text": [
            "Closed? 22148\n",
            "Closed? 28035\n",
            "Closed? 19988\n",
            "Closed? 54721\n"
          ],
          "name": "stdout"
        },
        {
          "output_type": "stream",
          "text": [
            " 54%|█████▍    | 5684/10528 [01:04<00:57, 84.83it/s]"
          ],
          "name": "stderr"
        },
        {
          "output_type": "stream",
          "text": [
            "Closed? 13548\n"
          ],
          "name": "stdout"
        },
        {
          "output_type": "stream",
          "text": [
            " 54%|█████▍    | 5703/10528 [01:04<00:55, 86.40it/s]"
          ],
          "name": "stderr"
        },
        {
          "output_type": "stream",
          "text": [
            "Closed? 6289\n",
            "Closed? 33721\n",
            "Closed? 6649\n"
          ],
          "name": "stdout"
        },
        {
          "output_type": "stream",
          "text": [
            " 54%|█████▍    | 5726/10528 [01:04<00:51, 94.14it/s]"
          ],
          "name": "stderr"
        },
        {
          "output_type": "stream",
          "text": [
            "Closed? 22163\n",
            "Closed? 11102\n",
            "Closed? 63152\n",
            "Closed? 58836\n",
            "Closed? 10410\n",
            "Closed? 56710\n",
            "Closed? 35193\n",
            "Closed? 63309\n"
          ],
          "name": "stdout"
        },
        {
          "output_type": "stream",
          "text": [
            " 55%|█████▍    | 5747/10528 [01:05<00:51, 92.41it/s]"
          ],
          "name": "stderr"
        },
        {
          "output_type": "stream",
          "text": [
            "Closed? 26863\n",
            "Closed? 60176\n",
            "Closed? 29735\n",
            "Closed? 14903\n"
          ],
          "name": "stdout"
        },
        {
          "output_type": "stream",
          "text": [
            " 55%|█████▍    | 5777/10528 [01:05<00:55, 85.56it/s]"
          ],
          "name": "stderr"
        },
        {
          "output_type": "stream",
          "text": [
            "Closed? 19135\n",
            "Closed? 26834\n",
            "Closed? 3116\n",
            "Closed? 11136\n",
            "Closed? 10203\n",
            "Closed? 32206\n"
          ],
          "name": "stdout"
        },
        {
          "output_type": "stream",
          "text": [
            " 55%|█████▌    | 5800/10528 [01:05<00:50, 93.85it/s]"
          ],
          "name": "stderr"
        },
        {
          "output_type": "stream",
          "text": [
            "Closed? 20069\n",
            "Closed? 14269\n",
            "Closed? 28111\n",
            "Closed? 26767\n"
          ],
          "name": "stdout"
        },
        {
          "output_type": "stream",
          "text": [
            " 55%|█████▌    | 5820/10528 [01:05<00:52, 90.45it/s]"
          ],
          "name": "stderr"
        },
        {
          "output_type": "stream",
          "text": [
            "Closed? 21104\n",
            "Closed? 6897\n",
            "Closed? 31015\n",
            "Closed? 24381\n",
            "Closed? 54197\n"
          ],
          "name": "stdout"
        },
        {
          "output_type": "stream",
          "text": [
            " 56%|█████▌    | 5852/10528 [01:06<00:50, 92.39it/s]"
          ],
          "name": "stderr"
        },
        {
          "output_type": "stream",
          "text": [
            "Closed? 33413\n",
            "Closed? 58976\n",
            "Closed? 13479\n",
            "Closed? 59907\n"
          ],
          "name": "stdout"
        },
        {
          "output_type": "stream",
          "text": [
            " 56%|█████▌    | 5872/10528 [01:06<00:53, 87.42it/s]"
          ],
          "name": "stderr"
        },
        {
          "output_type": "stream",
          "text": [
            "Closed? 25773\n",
            "Closed? 24788\n",
            "Closed? 15090\n"
          ],
          "name": "stdout"
        },
        {
          "output_type": "stream",
          "text": [
            "\r 56%|█████▌    | 5882/10528 [01:06<00:52, 89.16it/s]"
          ],
          "name": "stderr"
        },
        {
          "output_type": "stream",
          "text": [
            "Closed? 1945\n",
            "Closed? 22871\n",
            "Closed? 21112\n"
          ],
          "name": "stdout"
        },
        {
          "output_type": "stream",
          "text": [
            " 56%|█████▌    | 5911/10528 [01:07<00:53, 86.28it/s]"
          ],
          "name": "stderr"
        },
        {
          "output_type": "stream",
          "text": [
            "Closed? 34027\n",
            "Closed? 31942\n",
            "Closed? 4046\n",
            "Closed? 6218\n",
            "Closed? 25876\n",
            "Closed? 12942\n"
          ],
          "name": "stdout"
        },
        {
          "output_type": "stream",
          "text": [
            " 56%|█████▋    | 5941/10528 [01:07<00:50, 90.07it/s]"
          ],
          "name": "stderr"
        },
        {
          "output_type": "stream",
          "text": [
            "Closed? 63675\n",
            "Closed? 11802\n",
            "Closed? 54945\n",
            "Closed? 28208\n"
          ],
          "name": "stdout"
        },
        {
          "output_type": "stream",
          "text": [
            " 57%|█████▋    | 5960/10528 [01:07<00:53, 85.19it/s]"
          ],
          "name": "stderr"
        },
        {
          "output_type": "stream",
          "text": [
            "Closed? 7160\n",
            "Closed? 63562\n"
          ],
          "name": "stdout"
        },
        {
          "output_type": "stream",
          "text": [
            " 57%|█████▋    | 5979/10528 [01:07<00:52, 86.87it/s]"
          ],
          "name": "stderr"
        },
        {
          "output_type": "stream",
          "text": [
            "Closed? 9312\n",
            "Closed? 23051\n",
            "Closed? 5031\n"
          ],
          "name": "stdout"
        },
        {
          "output_type": "stream",
          "text": [
            " 57%|█████▋    | 6008/10528 [01:08<00:52, 85.84it/s]"
          ],
          "name": "stderr"
        },
        {
          "output_type": "stream",
          "text": [
            "Closed? 36782\n",
            "Closed? 11892\n",
            "Closed? 36113\n",
            "Closed? 1892\n"
          ],
          "name": "stdout"
        },
        {
          "output_type": "stream",
          "text": [
            " 57%|█████▋    | 6027/10528 [01:08<00:52, 85.53it/s]"
          ],
          "name": "stderr"
        },
        {
          "output_type": "stream",
          "text": [
            "Closed? 31715\n",
            "Closed? 5164\n",
            "Closed? 19902\n",
            "Closed? 57775\n",
            "Closed? 35647\n"
          ],
          "name": "stdout"
        },
        {
          "output_type": "stream",
          "text": [
            " 57%|█████▋    | 6047/10528 [01:08<00:54, 82.84it/s]"
          ],
          "name": "stderr"
        },
        {
          "output_type": "stream",
          "text": [
            "Closed? 30533\n"
          ],
          "name": "stdout"
        },
        {
          "output_type": "stream",
          "text": [
            " 58%|█████▊    | 6068/10528 [01:08<00:50, 88.82it/s]"
          ],
          "name": "stderr"
        },
        {
          "output_type": "stream",
          "text": [
            "Closed? 21458\n",
            "Closed? 16042\n",
            "Closed? 5345\n",
            "Closed? 35881\n",
            "Closed? 34411\n",
            "Closed? 3722\n"
          ],
          "name": "stdout"
        },
        {
          "output_type": "stream",
          "text": [
            " 58%|█████▊    | 6107/10528 [01:09<00:51, 85.38it/s]"
          ],
          "name": "stderr"
        },
        {
          "output_type": "stream",
          "text": [
            "Closed? 13574\n",
            "Closed? 63066\n",
            "Closed? 3839\n",
            "Closed? 63352\n",
            "Closed? 2277\n",
            "Closed? 10124\n",
            "Closed? 62659\n"
          ],
          "name": "stdout"
        },
        {
          "output_type": "stream",
          "text": [
            " 58%|█████▊    | 6130/10528 [01:09<00:47, 92.95it/s]"
          ],
          "name": "stderr"
        },
        {
          "output_type": "stream",
          "text": [
            "Closed? 6734\n",
            "Closed? 30037\n",
            "Closed? 59980\n",
            "Closed? 33968\n",
            "Closed? 9064\n"
          ],
          "name": "stdout"
        },
        {
          "output_type": "stream",
          "text": [
            " 58%|█████▊    | 6150/10528 [01:09<00:50, 86.88it/s]"
          ],
          "name": "stderr"
        },
        {
          "output_type": "stream",
          "text": [
            "Closed? 7995\n",
            "Closed? 57376\n"
          ],
          "name": "stdout"
        },
        {
          "output_type": "stream",
          "text": [
            " 59%|█████▊    | 6180/10528 [01:10<00:48, 90.47it/s]"
          ],
          "name": "stderr"
        },
        {
          "output_type": "stream",
          "text": [
            "Closed? 17413\n",
            "Closed? 63785\n",
            "Closed? 8353\n",
            "Closed? 62729\n",
            "Closed? 26918\n"
          ],
          "name": "stdout"
        },
        {
          "output_type": "stream",
          "text": [
            " 59%|█████▉    | 6200/10528 [01:10<00:48, 88.77it/s]"
          ],
          "name": "stderr"
        },
        {
          "output_type": "stream",
          "text": [
            "Closed? 19573\n",
            "Closed? 5024\n",
            "Closed? 36199\n"
          ],
          "name": "stdout"
        },
        {
          "output_type": "stream",
          "text": [
            " 59%|█████▉    | 6219/10528 [01:10<00:48, 88.96it/s]"
          ],
          "name": "stderr"
        },
        {
          "output_type": "stream",
          "text": [
            "Closed? 35464\n",
            "Closed? 31786\n",
            "Closed? 53549\n",
            "Closed? 29366\n"
          ],
          "name": "stdout"
        },
        {
          "output_type": "stream",
          "text": [
            " 59%|█████▉    | 6240/10528 [01:10<00:46, 92.77it/s]"
          ],
          "name": "stderr"
        },
        {
          "output_type": "stream",
          "text": [
            "Closed? 31476\n",
            "Closed? 35342\n",
            "Closed? 29556\n",
            "Closed? 12279\n",
            "Closed? 33576\n",
            "Closed? 56574\n"
          ],
          "name": "stdout"
        },
        {
          "output_type": "stream",
          "text": [
            " 59%|█████▉    | 6263/10528 [01:10<00:42, 99.65it/s]"
          ],
          "name": "stderr"
        },
        {
          "output_type": "stream",
          "text": [
            "Closed? 26070\n",
            "Closed? 11046\n",
            "Closed? 36110\n",
            "Closed? 19229\n",
            "Closed? 25782\n",
            "Closed? 19867\n"
          ],
          "name": "stdout"
        },
        {
          "output_type": "stream",
          "text": [
            " 60%|█████▉    | 6294/10528 [01:11<00:47, 88.93it/s]"
          ],
          "name": "stderr"
        },
        {
          "output_type": "stream",
          "text": [
            "Closed? 32402\n",
            "Closed? 54745\n",
            "Closed? 62511\n"
          ],
          "name": "stdout"
        },
        {
          "output_type": "stream",
          "text": [
            " 60%|██████    | 6317/10528 [01:11<00:46, 90.98it/s]"
          ],
          "name": "stderr"
        },
        {
          "output_type": "stream",
          "text": [
            "Closed? 10984\n",
            "Closed? 59118\n",
            "Closed? 35803\n",
            "Closed? 62750\n",
            "Closed? 14601\n",
            "Closed? 8097\n"
          ],
          "name": "stdout"
        },
        {
          "output_type": "stream",
          "text": [
            " 60%|██████    | 6337/10528 [01:11<00:48, 86.07it/s]"
          ],
          "name": "stderr"
        },
        {
          "output_type": "stream",
          "text": [
            "Closed? 17442\n"
          ],
          "name": "stdout"
        },
        {
          "output_type": "stream",
          "text": [
            " 60%|██████    | 6356/10528 [01:12<00:49, 84.99it/s]"
          ],
          "name": "stderr"
        },
        {
          "output_type": "stream",
          "text": [
            "Closed? 8626\n",
            "Closed? 11096\n"
          ],
          "name": "stdout"
        },
        {
          "output_type": "stream",
          "text": [
            " 61%|██████    | 6387/10528 [01:12<00:45, 91.26it/s]"
          ],
          "name": "stderr"
        },
        {
          "output_type": "stream",
          "text": [
            "Closed? 13352\n",
            "Closed? 60806\n",
            "Closed? 5608\n",
            "Closed? 20739\n",
            "Closed? 19291\n",
            "Closed? 24959\n",
            "Closed? 28200\n"
          ],
          "name": "stdout"
        },
        {
          "output_type": "stream",
          "text": [
            " 61%|██████    | 6409/10528 [01:12<00:45, 91.21it/s]"
          ],
          "name": "stderr"
        },
        {
          "output_type": "stream",
          "text": [
            "Closed? 8559\n",
            "Closed? 54509\n",
            "Closed? 59951\n",
            "Closed? 15733\n"
          ],
          "name": "stdout"
        },
        {
          "output_type": "stream",
          "text": [
            " 61%|██████    | 6430/10528 [01:12<00:43, 93.18it/s]"
          ],
          "name": "stderr"
        },
        {
          "output_type": "stream",
          "text": [
            "Closed? 3486\n",
            "Closed? 22935\n",
            "Closed? 27770\n",
            "Closed? 24701\n",
            "Closed? 35577\n"
          ],
          "name": "stdout"
        },
        {
          "output_type": "stream",
          "text": [
            " 61%|██████▏   | 6450/10528 [01:13<00:47, 86.65it/s]"
          ],
          "name": "stderr"
        },
        {
          "output_type": "stream",
          "text": [
            "Closed? 31639\n",
            "Closed? 25829\n"
          ],
          "name": "stdout"
        },
        {
          "output_type": "stream",
          "text": [
            " 61%|██████▏   | 6470/10528 [01:13<00:45, 89.18it/s]"
          ],
          "name": "stderr"
        },
        {
          "output_type": "stream",
          "text": [
            "Closed? 54364\n",
            "Closed? 13061\n",
            "Closed? 19589\n",
            "Closed? 15111\n",
            "Closed? 33662\n"
          ],
          "name": "stdout"
        },
        {
          "output_type": "stream",
          "text": [
            " 62%|██████▏   | 6489/10528 [01:13<00:46, 86.30it/s]"
          ],
          "name": "stderr"
        },
        {
          "output_type": "stream",
          "text": [
            "Closed? 14893\n"
          ],
          "name": "stdout"
        },
        {
          "output_type": "stream",
          "text": [
            " 62%|██████▏   | 6518/10528 [01:13<00:48, 82.38it/s]"
          ],
          "name": "stderr"
        },
        {
          "output_type": "stream",
          "text": [
            "Closed? 14551\n",
            "Closed? 56133\n",
            "Closed? 239\n",
            "Closed? 30438\n"
          ],
          "name": "stdout"
        },
        {
          "output_type": "stream",
          "text": [
            " 62%|██████▏   | 6547/10528 [01:14<00:45, 87.81it/s]"
          ],
          "name": "stderr"
        },
        {
          "output_type": "stream",
          "text": [
            "Closed? 19577\n",
            "Closed? 33863\n",
            "Closed? 17847\n",
            "Closed? 62780\n",
            "Closed? 12043\n"
          ],
          "name": "stdout"
        },
        {
          "output_type": "stream",
          "text": [
            " 62%|██████▏   | 6575/10528 [01:14<00:46, 85.03it/s]"
          ],
          "name": "stderr"
        },
        {
          "output_type": "stream",
          "text": [
            "Closed? 24377\n",
            "Closed? 31975\n",
            "Closed? 33048\n",
            "Closed? 1077\n"
          ],
          "name": "stdout"
        },
        {
          "output_type": "stream",
          "text": [
            " 63%|██████▎   | 6596/10528 [01:14<00:43, 90.39it/s]"
          ],
          "name": "stderr"
        },
        {
          "output_type": "stream",
          "text": [
            "Closed? 2045\n",
            "Closed? 61311\n",
            "Closed? 17746\n",
            "Closed? 54262\n"
          ],
          "name": "stdout"
        },
        {
          "output_type": "stream",
          "text": [
            " 63%|██████▎   | 6618/10528 [01:15<00:42, 92.90it/s]"
          ],
          "name": "stderr"
        },
        {
          "output_type": "stream",
          "text": [
            "Closed? 14717\n",
            "Closed? 36426\n",
            "Closed? 4416\n",
            "Closed? 17472\n",
            "Closed? 4540\n",
            "Closed? 61599\n"
          ],
          "name": "stdout"
        },
        {
          "output_type": "stream",
          "text": [
            " 63%|██████▎   | 6650/10528 [01:15<00:40, 95.79it/s]"
          ],
          "name": "stderr"
        },
        {
          "output_type": "stream",
          "text": [
            "Closed? 54588\n",
            "Closed? 55771\n",
            "Closed? 63571\n",
            "Closed? 5986\n",
            "Closed? 32430\n",
            "Closed? 33456\n"
          ],
          "name": "stdout"
        },
        {
          "output_type": "stream",
          "text": [
            " 63%|██████▎   | 6679/10528 [01:15<00:46, 82.81it/s]"
          ],
          "name": "stderr"
        },
        {
          "output_type": "stream",
          "text": [
            "Closed? 20166\n",
            "Closed? 61031\n",
            "Closed? 2219\n"
          ],
          "name": "stdout"
        },
        {
          "output_type": "stream",
          "text": [
            " 64%|██████▎   | 6706/10528 [01:16<00:49, 77.99it/s]"
          ],
          "name": "stderr"
        },
        {
          "output_type": "stream",
          "text": [
            "Closed? 6698\n"
          ],
          "name": "stdout"
        },
        {
          "output_type": "stream",
          "text": [
            "\r 64%|██████▍   | 6715/10528 [01:16<00:48, 79.33it/s]"
          ],
          "name": "stderr"
        },
        {
          "output_type": "stream",
          "text": [
            "Closed? 34427\n",
            "Closed? 8381\n",
            "Closed? 12740\n"
          ],
          "name": "stdout"
        },
        {
          "output_type": "stream",
          "text": [
            " 64%|██████▍   | 6752/10528 [01:16<00:48, 77.99it/s]"
          ],
          "name": "stderr"
        },
        {
          "output_type": "stream",
          "text": [
            "Closed? 10320\n",
            "Closed? 60656\n"
          ],
          "name": "stdout"
        },
        {
          "output_type": "stream",
          "text": [
            " 64%|██████▍   | 6772/10528 [01:16<00:44, 83.81it/s]"
          ],
          "name": "stderr"
        },
        {
          "output_type": "stream",
          "text": [
            "Closed? 56743\n",
            "Closed? 22067\n",
            "Closed? 54569\n",
            "Closed? 62417\n",
            "Closed? 52950\n"
          ],
          "name": "stdout"
        },
        {
          "output_type": "stream",
          "text": [
            " 65%|██████▍   | 6792/10528 [01:17<00:43, 86.63it/s]"
          ],
          "name": "stderr"
        },
        {
          "output_type": "stream",
          "text": [
            "Closed? 32252\n",
            "Closed? 26000\n",
            "Closed? 3946\n"
          ],
          "name": "stdout"
        },
        {
          "output_type": "stream",
          "text": [
            " 65%|██████▍   | 6811/10528 [01:17<00:42, 86.62it/s]"
          ],
          "name": "stderr"
        },
        {
          "output_type": "stream",
          "text": [
            "Closed? 60551\n",
            "Closed? 29524\n"
          ],
          "name": "stdout"
        },
        {
          "output_type": "stream",
          "text": [
            " 65%|██████▍   | 6838/10528 [01:17<00:45, 81.83it/s]"
          ],
          "name": "stderr"
        },
        {
          "output_type": "stream",
          "text": [
            "Closed? 4398\n",
            "Closed? 10814\n"
          ],
          "name": "stdout"
        },
        {
          "output_type": "stream",
          "text": [
            " 65%|██████▌   | 6878/10528 [01:18<00:41, 87.09it/s]"
          ],
          "name": "stderr"
        },
        {
          "output_type": "stream",
          "text": [
            "Closed? 14594\n",
            "Closed? 8804\n",
            "Closed? 14411\n",
            "Closed? 32051\n",
            "Closed? 23502\n",
            "Closed? 26766\n",
            "Closed? 14449\n",
            "Closed? 23793\n"
          ],
          "name": "stdout"
        },
        {
          "output_type": "stream",
          "text": [
            " 66%|██████▌   | 6914/10528 [01:18<00:44, 81.73it/s]"
          ],
          "name": "stderr"
        },
        {
          "output_type": "stream",
          "text": [
            "Closed? 58341\n",
            "Closed? 59957\n"
          ],
          "name": "stdout"
        },
        {
          "output_type": "stream",
          "text": [
            " 66%|██████▌   | 6934/10528 [01:18<00:41, 86.67it/s]"
          ],
          "name": "stderr"
        },
        {
          "output_type": "stream",
          "text": [
            "Closed? 53976\n",
            "Closed? 36998\n",
            "Closed? 63126\n",
            "Closed? 33365\n",
            "Closed? 9046\n"
          ],
          "name": "stdout"
        },
        {
          "output_type": "stream",
          "text": [
            " 66%|██████▌   | 6953/10528 [01:18<00:40, 87.29it/s]"
          ],
          "name": "stderr"
        },
        {
          "output_type": "stream",
          "text": [
            "Closed? 18975\n",
            "Closed? 33383\n",
            "Closed? 14661\n"
          ],
          "name": "stdout"
        },
        {
          "output_type": "stream",
          "text": [
            " 66%|██████▋   | 6982/10528 [01:19<00:40, 87.10it/s]"
          ],
          "name": "stderr"
        },
        {
          "output_type": "stream",
          "text": [
            "Closed? 59769\n",
            "Closed? 8116\n",
            "Closed? 7728\n",
            "Closed? 3557\n",
            "Closed? 24840\n"
          ],
          "name": "stdout"
        },
        {
          "output_type": "stream",
          "text": [
            " 67%|██████▋   | 7013/10528 [01:19<00:38, 91.51it/s]"
          ],
          "name": "stderr"
        },
        {
          "output_type": "stream",
          "text": [
            "Closed? 62525\n",
            "Closed? 17964\n",
            "Closed? 11204\n",
            "Closed? 63764\n",
            "Closed? 31868\n",
            "Closed? 24120\n"
          ],
          "name": "stdout"
        },
        {
          "output_type": "stream",
          "text": [
            " 67%|██████▋   | 7033/10528 [01:19<00:38, 89.74it/s]"
          ],
          "name": "stderr"
        },
        {
          "output_type": "stream",
          "text": [
            "Closed? 11370\n",
            "Closed? 57800\n",
            "Closed? 15992\n",
            "Closed? 848\n",
            "Closed? 25274\n"
          ],
          "name": "stdout"
        },
        {
          "output_type": "stream",
          "text": [
            " 67%|██████▋   | 7054/10528 [01:20<00:37, 91.50it/s]"
          ],
          "name": "stderr"
        },
        {
          "output_type": "stream",
          "text": [
            "Closed? 34820\n",
            "Closed? 835\n",
            "Closed? 209\n",
            "Closed? 33145\n",
            "Closed? 61901\n"
          ],
          "name": "stdout"
        },
        {
          "output_type": "stream",
          "text": [
            " 67%|██████▋   | 7082/10528 [01:20<00:40, 86.01it/s]"
          ],
          "name": "stderr"
        },
        {
          "output_type": "stream",
          "text": [
            "Closed? 9401\n",
            "Closed? 24408\n",
            "Closed? 21102\n"
          ],
          "name": "stdout"
        },
        {
          "output_type": "stream",
          "text": [
            " 67%|██████▋   | 7100/10528 [01:20<00:42, 81.01it/s]"
          ],
          "name": "stderr"
        },
        {
          "output_type": "stream",
          "text": [
            "Closed? 29317\n"
          ],
          "name": "stdout"
        },
        {
          "output_type": "stream",
          "text": [
            " 68%|██████▊   | 7118/10528 [01:20<00:41, 81.70it/s]"
          ],
          "name": "stderr"
        },
        {
          "output_type": "stream",
          "text": [
            "Closed? 34442\n",
            "Closed? 527\n",
            "Closed? 17055\n"
          ],
          "name": "stdout"
        },
        {
          "output_type": "stream",
          "text": [
            " 68%|██████▊   | 7145/10528 [01:21<00:42, 79.04it/s]"
          ],
          "name": "stderr"
        },
        {
          "output_type": "stream",
          "text": [
            "Closed? 59947\n",
            "Closed? 59147\n",
            "Closed? 13623\n"
          ],
          "name": "stdout"
        },
        {
          "output_type": "stream",
          "text": [
            " 68%|██████▊   | 7180/10528 [01:21<00:34, 96.63it/s]"
          ],
          "name": "stderr"
        },
        {
          "output_type": "stream",
          "text": [
            "Closed? 4356\n",
            "Closed? 21811\n",
            "Closed? 62571\n",
            "Closed? 15953\n",
            "Closed? 12681\n",
            "Closed? 20528\n",
            "Closed? 17279\n",
            "Closed? 31290\n",
            "Closed? 36581\n"
          ],
          "name": "stdout"
        },
        {
          "output_type": "stream",
          "text": [
            " 68%|██████▊   | 7200/10528 [01:21<00:36, 90.32it/s]"
          ],
          "name": "stderr"
        },
        {
          "output_type": "stream",
          "text": [
            "Closed? 6137\n",
            "Closed? 56757\n",
            "Closed? 27815\n"
          ],
          "name": "stdout"
        },
        {
          "output_type": "stream",
          "text": [
            " 69%|██████▊   | 7229/10528 [01:22<00:40, 81.52it/s]"
          ],
          "name": "stderr"
        },
        {
          "output_type": "stream",
          "text": [
            "Closed? 52600\n",
            "Closed? 24332\n"
          ],
          "name": "stdout"
        },
        {
          "output_type": "stream",
          "text": [
            " 69%|██████▉   | 7259/10528 [01:22<00:37, 86.83it/s]"
          ],
          "name": "stderr"
        },
        {
          "output_type": "stream",
          "text": [
            "Closed? 31157\n",
            "Closed? 27433\n",
            "Closed? 6929\n",
            "Closed? 61972\n",
            "Closed? 34315\n",
            "Closed? 62079\n"
          ],
          "name": "stdout"
        },
        {
          "output_type": "stream",
          "text": [
            " 69%|██████▉   | 7279/10528 [01:22<00:36, 90.09it/s]"
          ],
          "name": "stderr"
        },
        {
          "output_type": "stream",
          "text": [
            "Closed? 61927\n",
            "Closed? 35912\n",
            "Closed? 35846\n",
            "Closed? 54677\n",
            "Closed? 30653\n",
            "Closed? 5576\n"
          ],
          "name": "stdout"
        },
        {
          "output_type": "stream",
          "text": [
            " 69%|██████▉   | 7298/10528 [01:22<00:36, 88.51it/s]"
          ],
          "name": "stderr"
        },
        {
          "output_type": "stream",
          "text": [
            "Closed? 8175\n",
            "Closed? 24095\n",
            "Closed? 21291\n",
            "Closed? 30503\n",
            "Closed? 16967\n"
          ],
          "name": "stdout"
        },
        {
          "output_type": "stream",
          "text": [
            " 70%|██████▉   | 7326/10528 [01:23<00:36, 86.81it/s]"
          ],
          "name": "stderr"
        },
        {
          "output_type": "stream",
          "text": [
            "Closed? 6082\n",
            "Closed? 61073\n",
            "Closed? 5823\n",
            "Closed? 59426\n",
            "Closed? 19282\n"
          ],
          "name": "stdout"
        },
        {
          "output_type": "stream",
          "text": [
            " 70%|██████▉   | 7344/10528 [01:23<00:39, 81.05it/s]"
          ],
          "name": "stderr"
        },
        {
          "output_type": "stream",
          "text": [
            "Closed? 63068\n"
          ],
          "name": "stdout"
        },
        {
          "output_type": "stream",
          "text": [
            " 70%|██████▉   | 7361/10528 [01:23<00:40, 78.31it/s]"
          ],
          "name": "stderr"
        },
        {
          "output_type": "stream",
          "text": [
            "Closed? 35431\n",
            "Closed? 31007\n",
            "Closed? 60140\n",
            "Closed? 1118\n"
          ],
          "name": "stdout"
        },
        {
          "output_type": "stream",
          "text": [
            " 70%|███████   | 7381/10528 [01:23<00:36, 86.62it/s]"
          ],
          "name": "stderr"
        },
        {
          "output_type": "stream",
          "text": [
            "Closed? 62160\n",
            "Closed? 61869\n",
            "Closed? 7206\n",
            "Closed? 13304\n"
          ],
          "name": "stdout"
        },
        {
          "output_type": "stream",
          "text": [
            " 70%|███████   | 7419/10528 [01:24<00:36, 84.14it/s]"
          ],
          "name": "stderr"
        },
        {
          "output_type": "stream",
          "text": [
            "Closed? 35088\n",
            "Closed? 60415\n",
            "Closed? 24989\n",
            "Closed? 18290\n",
            "Closed? 14664\n"
          ],
          "name": "stdout"
        },
        {
          "output_type": "stream",
          "text": [
            " 71%|███████   | 7444/10528 [01:24<00:31, 98.38it/s]"
          ],
          "name": "stderr"
        },
        {
          "output_type": "stream",
          "text": [
            "Closed? 7455\n",
            "Closed? 54098\n",
            "Closed? 7860\n",
            "Closed? 3616\n",
            "Closed? 16413\n",
            "Closed? 17811\n",
            "Closed? 36541\n",
            "Closed? 11795\n",
            "Closed? 7578\n",
            "Closed? 20532\n",
            "Closed? 23662\n"
          ],
          "name": "stdout"
        },
        {
          "output_type": "stream",
          "text": [
            " 71%|███████   | 7465/10528 [01:24<00:33, 92.30it/s]"
          ],
          "name": "stderr"
        },
        {
          "output_type": "stream",
          "text": [
            "Closed? 14660\n",
            "Closed? 23335\n",
            "Closed? 26847\n",
            "Closed? 53534\n"
          ],
          "name": "stdout"
        },
        {
          "output_type": "stream",
          "text": [
            " 71%|███████   | 7486/10528 [01:25<00:34, 87.42it/s]"
          ],
          "name": "stderr"
        },
        {
          "output_type": "stream",
          "text": [
            "Closed? 8472\n",
            "Closed? 35408\n",
            "Closed? 207\n",
            "Closed? 27554\n",
            "Closed? 57171\n"
          ],
          "name": "stdout"
        },
        {
          "output_type": "stream",
          "text": [
            " 71%|███████▏  | 7505/10528 [01:25<00:38, 77.93it/s]"
          ],
          "name": "stderr"
        },
        {
          "output_type": "stream",
          "text": [
            "Closed? 26697\n"
          ],
          "name": "stdout"
        },
        {
          "output_type": "stream",
          "text": [
            " 71%|███████▏  | 7524/10528 [01:25<00:36, 81.97it/s]"
          ],
          "name": "stderr"
        },
        {
          "output_type": "stream",
          "text": [
            "Closed? 4621\n",
            "Closed? 16603\n",
            "Closed? 9012\n",
            "Closed? 33562\n"
          ],
          "name": "stdout"
        },
        {
          "output_type": "stream",
          "text": [
            " 72%|███████▏  | 7553/10528 [01:25<00:34, 86.54it/s]"
          ],
          "name": "stderr"
        },
        {
          "output_type": "stream",
          "text": [
            "Closed? 24143\n",
            "Closed? 62286\n",
            "Closed? 36286\n",
            "Closed? 790\n",
            "Closed? 7761\n",
            "Closed? 9079\n"
          ],
          "name": "stdout"
        },
        {
          "output_type": "stream",
          "text": [
            " 72%|███████▏  | 7571/10528 [01:26<00:34, 85.17it/s]"
          ],
          "name": "stderr"
        },
        {
          "output_type": "stream",
          "text": [
            "Closed? 23149\n",
            "Closed? 32860\n",
            "Closed? 34724\n",
            "Closed? 24799\n",
            "Closed? 14607\n",
            "Closed? 59457\n"
          ],
          "name": "stdout"
        },
        {
          "output_type": "stream",
          "text": [
            " 72%|███████▏  | 7590/10528 [01:26<00:33, 88.04it/s]"
          ],
          "name": "stderr"
        },
        {
          "output_type": "stream",
          "text": [
            "Closed? 17654\n",
            "Closed? 14674\n"
          ],
          "name": "stdout"
        },
        {
          "output_type": "stream",
          "text": [
            " 72%|███████▏  | 7617/10528 [01:26<00:35, 81.14it/s]"
          ],
          "name": "stderr"
        },
        {
          "output_type": "stream",
          "text": [
            "Closed? 34692\n",
            "Closed? 802\n"
          ],
          "name": "stdout"
        },
        {
          "output_type": "stream",
          "text": [
            " 73%|███████▎  | 7638/10528 [01:26<00:32, 87.87it/s]"
          ],
          "name": "stderr"
        },
        {
          "output_type": "stream",
          "text": [
            "Closed? 35292\n",
            "Closed? 30939\n",
            "Closed? 11714\n",
            "Closed? 33070\n",
            "Closed? 17663\n",
            "Closed? 20967\n"
          ],
          "name": "stdout"
        },
        {
          "output_type": "stream",
          "text": [
            " 73%|███████▎  | 7656/10528 [01:27<00:36, 79.56it/s]"
          ],
          "name": "stderr"
        },
        {
          "output_type": "stream",
          "text": [
            "Closed? 20458\n",
            "Closed? 17651\n"
          ],
          "name": "stdout"
        },
        {
          "output_type": "stream",
          "text": [
            " 73%|███████▎  | 7683/10528 [01:27<00:35, 80.48it/s]"
          ],
          "name": "stderr"
        },
        {
          "output_type": "stream",
          "text": [
            "Closed? 59509\n",
            "Closed? 52847\n"
          ],
          "name": "stdout"
        },
        {
          "output_type": "stream",
          "text": [
            " 73%|███████▎  | 7726/10528 [01:28<00:35, 79.78it/s]"
          ],
          "name": "stderr"
        },
        {
          "output_type": "stream",
          "text": [
            "Closed? 23912\n",
            "Closed? 34123\n",
            "Closed? 10055\n"
          ],
          "name": "stdout"
        },
        {
          "output_type": "stream",
          "text": [
            " 74%|███████▎  | 7744/10528 [01:28<00:33, 82.39it/s]"
          ],
          "name": "stderr"
        },
        {
          "output_type": "stream",
          "text": [
            "Closed? 52628\n",
            "Closed? 24832\n",
            "Closed? 25084\n"
          ],
          "name": "stdout"
        },
        {
          "output_type": "stream",
          "text": [
            " 74%|███████▎  | 7763/10528 [01:28<00:33, 82.09it/s]"
          ],
          "name": "stderr"
        },
        {
          "output_type": "stream",
          "text": [
            "Closed? 30244\n",
            "Closed? 53071\n",
            "Closed? 32149\n"
          ],
          "name": "stdout"
        },
        {
          "output_type": "stream",
          "text": [
            " 74%|███████▍  | 7781/10528 [01:28<00:33, 81.00it/s]"
          ],
          "name": "stderr"
        },
        {
          "output_type": "stream",
          "text": [
            "Closed? 59703\n",
            "Closed? 17756\n"
          ],
          "name": "stdout"
        },
        {
          "output_type": "stream",
          "text": [
            " 74%|███████▍  | 7799/10528 [01:28<00:33, 82.18it/s]"
          ],
          "name": "stderr"
        },
        {
          "output_type": "stream",
          "text": [
            "Closed? 19705\n",
            "Closed? 18839\n",
            "Closed? 10027\n",
            "Closed? 58818\n",
            "Closed? 18163\n"
          ],
          "name": "stdout"
        },
        {
          "output_type": "stream",
          "text": [
            " 74%|███████▍  | 7817/10528 [01:29<00:31, 85.42it/s]"
          ],
          "name": "stderr"
        },
        {
          "output_type": "stream",
          "text": [
            "Closed? 18049\n",
            "Closed? 2530\n",
            "Closed? 18001\n"
          ],
          "name": "stdout"
        },
        {
          "output_type": "stream",
          "text": [
            " 74%|███████▍  | 7839/10528 [01:29<00:29, 92.20it/s]"
          ],
          "name": "stderr"
        },
        {
          "output_type": "stream",
          "text": [
            "Closed? 33376\n",
            "Closed? 60761\n",
            "Closed? 1850\n",
            "Closed? 15586\n",
            "Closed? 26329\n",
            "Closed? 26225\n"
          ],
          "name": "stdout"
        },
        {
          "output_type": "stream",
          "text": [
            " 75%|███████▍  | 7869/10528 [01:29<00:32, 82.12it/s]"
          ],
          "name": "stderr"
        },
        {
          "output_type": "stream",
          "text": [
            "Closed? 58657\n",
            "Closed? 17353\n",
            "Closed? 52746\n"
          ],
          "name": "stdout"
        },
        {
          "output_type": "stream",
          "text": [
            " 75%|███████▌  | 7905/10528 [01:30<00:32, 81.95it/s]"
          ],
          "name": "stderr"
        },
        {
          "output_type": "stream",
          "text": [
            "Closed? 19396\n",
            "Closed? 36314\n",
            "Closed? 30406\n",
            "Closed? 28282\n",
            "Closed? 9298\n",
            "Closed? 20047\n",
            "Closed? 6981\n",
            "Closed? 15243\n"
          ],
          "name": "stdout"
        },
        {
          "output_type": "stream",
          "text": [
            " 75%|███████▌  | 7935/10528 [01:30<00:31, 81.32it/s]"
          ],
          "name": "stderr"
        },
        {
          "output_type": "stream",
          "text": [
            "Closed? 9921\n",
            "Closed? 56622\n",
            "Closed? 13143\n"
          ],
          "name": "stdout"
        },
        {
          "output_type": "stream",
          "text": [
            " 76%|███████▌  | 7953/10528 [01:30<00:31, 81.36it/s]"
          ],
          "name": "stderr"
        },
        {
          "output_type": "stream",
          "text": [
            "Closed? 10276\n",
            "Closed? 60254\n"
          ],
          "name": "stdout"
        },
        {
          "output_type": "stream",
          "text": [
            " 76%|███████▌  | 7989/10528 [01:31<00:31, 80.73it/s]"
          ],
          "name": "stderr"
        },
        {
          "output_type": "stream",
          "text": [
            "Closed? 22987\n",
            "Closed? 31648\n",
            "Closed? 9070\n",
            "Closed? 6688\n",
            "Closed? 19649\n"
          ],
          "name": "stdout"
        },
        {
          "output_type": "stream",
          "text": [
            " 76%|███████▌  | 8007/10528 [01:31<00:30, 83.97it/s]"
          ],
          "name": "stderr"
        },
        {
          "output_type": "stream",
          "text": [
            "Closed? 53631\n",
            "Closed? 60889\n",
            "Closed? 32371\n",
            "Closed? 3165\n",
            "Closed? 59023\n"
          ],
          "name": "stdout"
        },
        {
          "output_type": "stream",
          "text": [
            " 76%|███████▋  | 8035/10528 [01:31<00:29, 84.78it/s]"
          ],
          "name": "stderr"
        },
        {
          "output_type": "stream",
          "text": [
            "Closed? 31579\n",
            "Closed? 23373\n",
            "Closed? 13757\n",
            "Closed? 10442\n",
            "Closed? 8004\n"
          ],
          "name": "stdout"
        },
        {
          "output_type": "stream",
          "text": [
            " 77%|███████▋  | 8062/10528 [01:32<00:29, 82.79it/s]"
          ],
          "name": "stderr"
        },
        {
          "output_type": "stream",
          "text": [
            "Closed? 61627\n",
            "Closed? 16168\n",
            "Closed? 16594\n",
            "Closed? 18652\n"
          ],
          "name": "stdout"
        },
        {
          "output_type": "stream",
          "text": [
            " 77%|███████▋  | 8080/10528 [01:32<00:30, 81.37it/s]"
          ],
          "name": "stderr"
        },
        {
          "output_type": "stream",
          "text": [
            "Closed? 2863\n",
            "Closed? 2782\n",
            "Closed? 57085\n",
            "Closed? 31442\n",
            "Closed? 52692\n"
          ],
          "name": "stdout"
        },
        {
          "output_type": "stream",
          "text": [
            " 77%|███████▋  | 8098/10528 [01:32<00:30, 79.34it/s]"
          ],
          "name": "stderr"
        },
        {
          "output_type": "stream",
          "text": [
            "Closed? 10011\n",
            "Closed? 21046\n",
            "Closed? 20162\n"
          ],
          "name": "stdout"
        },
        {
          "output_type": "stream",
          "text": [
            " 77%|███████▋  | 8118/10528 [01:32<00:28, 85.83it/s]"
          ],
          "name": "stderr"
        },
        {
          "output_type": "stream",
          "text": [
            "Closed? 58907\n",
            "Closed? 32694\n",
            "Closed? 13135\n",
            "Closed? 25027\n",
            "Closed? 26137\n",
            "Closed? 14650\n"
          ],
          "name": "stdout"
        },
        {
          "output_type": "stream",
          "text": [
            " 77%|███████▋  | 8145/10528 [01:33<00:29, 80.04it/s]"
          ],
          "name": "stderr"
        },
        {
          "output_type": "stream",
          "text": [
            "Closed? 32191\n",
            "Closed? 2002\n"
          ],
          "name": "stdout"
        },
        {
          "output_type": "stream",
          "text": [
            " 78%|███████▊  | 8164/10528 [01:33<00:28, 83.66it/s]"
          ],
          "name": "stderr"
        },
        {
          "output_type": "stream",
          "text": [
            "Closed? 27913\n",
            "Closed? 19744\n",
            "Closed? 23434\n",
            "Closed? 13986\n",
            "Closed? 17618\n"
          ],
          "name": "stdout"
        },
        {
          "output_type": "stream",
          "text": [
            " 78%|███████▊  | 8183/10528 [01:33<00:28, 81.09it/s]"
          ],
          "name": "stderr"
        },
        {
          "output_type": "stream",
          "text": [
            "Closed? 19096\n",
            "Closed? 9729\n",
            "Closed? 30117\n"
          ],
          "name": "stdout"
        },
        {
          "output_type": "stream",
          "text": [
            " 78%|███████▊  | 8201/10528 [01:33<00:29, 78.97it/s]"
          ],
          "name": "stderr"
        },
        {
          "output_type": "stream",
          "text": [
            "Closed? 1609\n",
            "Closed? 58636\n",
            "Closed? 61169\n"
          ],
          "name": "stdout"
        },
        {
          "output_type": "stream",
          "text": [
            " 78%|███████▊  | 8220/10528 [01:34<00:27, 85.46it/s]"
          ],
          "name": "stderr"
        },
        {
          "output_type": "stream",
          "text": [
            "Closed? 30519\n",
            "Closed? 9018\n",
            "Closed? 31043\n",
            "Closed? 29116\n",
            "Closed? 9029\n",
            "Closed? 13333\n"
          ],
          "name": "stdout"
        },
        {
          "output_type": "stream",
          "text": [
            " 78%|███████▊  | 8250/10528 [01:34<00:24, 92.63it/s]"
          ],
          "name": "stderr"
        },
        {
          "output_type": "stream",
          "text": [
            "Closed? 57782\n",
            "Closed? 12472\n",
            "Closed? 54180\n",
            "Closed? 6670\n",
            "Closed? 52665\n",
            "Closed? 23044\n",
            "Closed? 8165\n"
          ],
          "name": "stdout"
        },
        {
          "output_type": "stream",
          "text": [
            "\r 78%|███████▊  | 8260/10528 [01:34<00:24, 90.73it/s]"
          ],
          "name": "stderr"
        },
        {
          "output_type": "stream",
          "text": [
            "Closed? 24023\n",
            "Closed? 11540\n",
            "Closed? 31921\n"
          ],
          "name": "stdout"
        },
        {
          "output_type": "stream",
          "text": [
            " 79%|███████▊  | 8279/10528 [01:34<00:27, 81.77it/s]"
          ],
          "name": "stderr"
        },
        {
          "output_type": "stream",
          "text": [
            "Closed? 32109\n",
            "Closed? 6852\n",
            "Closed? 819\n",
            "Closed? 17851\n",
            "Closed? 36287\n"
          ],
          "name": "stdout"
        },
        {
          "output_type": "stream",
          "text": [
            " 79%|███████▉  | 8308/10528 [01:35<00:26, 82.90it/s]"
          ],
          "name": "stderr"
        },
        {
          "output_type": "stream",
          "text": [
            "Closed? 52741\n",
            "Closed? 53798\n",
            "Closed? 63350\n"
          ],
          "name": "stdout"
        },
        {
          "output_type": "stream",
          "text": [
            " 79%|███████▉  | 8326/10528 [01:35<00:28, 77.40it/s]"
          ],
          "name": "stderr"
        },
        {
          "output_type": "stream",
          "text": [
            "Closed? 34167\n",
            "Closed? 56515\n"
          ],
          "name": "stdout"
        },
        {
          "output_type": "stream",
          "text": [
            " 79%|███████▉  | 8344/10528 [01:35<00:27, 79.22it/s]"
          ],
          "name": "stderr"
        },
        {
          "output_type": "stream",
          "text": [
            "Closed? 2649\n",
            "Closed? 53423\n",
            "Closed? 55773\n"
          ],
          "name": "stdout"
        },
        {
          "output_type": "stream",
          "text": [
            " 79%|███████▉  | 8362/10528 [01:35<00:28, 76.11it/s]"
          ],
          "name": "stderr"
        },
        {
          "output_type": "stream",
          "text": [
            "Closed? 54109\n",
            "Closed? 24660\n"
          ],
          "name": "stdout"
        },
        {
          "output_type": "stream",
          "text": [
            " 80%|███████▉  | 8392/10528 [01:36<00:24, 85.90it/s]"
          ],
          "name": "stderr"
        },
        {
          "output_type": "stream",
          "text": [
            "Closed? 24348\n",
            "Closed? 2774\n",
            "Closed? 30086\n",
            "Closed? 52935\n",
            "Closed? 9465\n",
            "Closed? 14075\n",
            "Closed? 32245\n"
          ],
          "name": "stdout"
        },
        {
          "output_type": "stream",
          "text": [
            "\r 80%|███████▉  | 8401/10528 [01:36<00:25, 82.77it/s]"
          ],
          "name": "stderr"
        },
        {
          "output_type": "stream",
          "text": [
            "Closed? 13739\n",
            "Closed? 5382\n"
          ],
          "name": "stdout"
        },
        {
          "output_type": "stream",
          "text": [
            " 80%|████████  | 8435/10528 [01:36<00:27, 77.00it/s]"
          ],
          "name": "stderr"
        },
        {
          "output_type": "stream",
          "text": [
            "Closed? 22477\n",
            "Closed? 58155\n"
          ],
          "name": "stdout"
        },
        {
          "output_type": "stream",
          "text": [
            "\r 80%|████████  | 8444/10528 [01:36<00:26, 79.36it/s]"
          ],
          "name": "stderr"
        },
        {
          "output_type": "stream",
          "text": [
            "Closed? 35980\n",
            "Closed? 59900\n",
            "Closed? 60669\n"
          ],
          "name": "stdout"
        },
        {
          "output_type": "stream",
          "text": [
            " 80%|████████  | 8469/10528 [01:37<00:27, 75.50it/s]"
          ],
          "name": "stderr"
        },
        {
          "output_type": "stream",
          "text": [
            "Closed? 14356\n"
          ],
          "name": "stdout"
        },
        {
          "output_type": "stream",
          "text": [
            " 81%|████████  | 8488/10528 [01:37<00:24, 81.62it/s]"
          ],
          "name": "stderr"
        },
        {
          "output_type": "stream",
          "text": [
            "Closed? 31766\n",
            "Closed? 34944\n",
            "Closed? 57875\n",
            "Closed? 24012\n",
            "Closed? 21120\n",
            "Closed? 56488\n",
            "Closed? 33357\n",
            "Closed? 30675\n",
            "Closed? 3762\n",
            "Closed? 14507\n"
          ],
          "name": "stdout"
        },
        {
          "output_type": "stream",
          "text": [
            " 81%|████████  | 8512/10528 [01:37<00:21, 94.85it/s]"
          ],
          "name": "stderr"
        },
        {
          "output_type": "stream",
          "text": [
            "Closed? 2569\n",
            "Closed? 23656\n",
            "Closed? 18615\n",
            "Closed? 7520\n",
            "Closed? 15015\n"
          ],
          "name": "stdout"
        },
        {
          "output_type": "stream",
          "text": [
            " 81%|████████  | 8541/10528 [01:37<00:23, 84.83it/s]"
          ],
          "name": "stderr"
        },
        {
          "output_type": "stream",
          "text": [
            "Closed? 34957\n",
            "Closed? 10056\n",
            "Closed? 13566\n",
            "Closed? 22984\n"
          ],
          "name": "stdout"
        },
        {
          "output_type": "stream",
          "text": [
            " 81%|████████▏ | 8563/10528 [01:38<00:22, 87.60it/s]"
          ],
          "name": "stderr"
        },
        {
          "output_type": "stream",
          "text": [
            "Closed? 19481\n",
            "Closed? 54104\n",
            "Closed? 34905\n",
            "Closed? 32623\n",
            "Closed? 32955\n"
          ],
          "name": "stdout"
        },
        {
          "output_type": "stream",
          "text": [
            "\r 81%|████████▏ | 8574/10528 [01:38<00:21, 92.12it/s]"
          ],
          "name": "stderr"
        },
        {
          "output_type": "stream",
          "text": [
            "Closed? 33459\n",
            "Closed? 22607\n",
            "Closed? 60307\n",
            "Closed? 18626\n",
            "Closed? 7201\n",
            "Closed? 1620\n"
          ],
          "name": "stdout"
        },
        {
          "output_type": "stream",
          "text": [
            " 82%|████████▏ | 8607/10528 [01:38<00:19, 100.28it/s]"
          ],
          "name": "stderr"
        },
        {
          "output_type": "stream",
          "text": [
            "Closed? 12211\n",
            "Closed? 28578\n",
            "Closed? 14473\n",
            "Closed? 684\n",
            "Closed? 4103\n",
            "Closed? 62528\n",
            "Closed? 32089\n",
            "Closed? 31457\n",
            "Closed? 616\n"
          ],
          "name": "stdout"
        },
        {
          "output_type": "stream",
          "text": [
            "\r 82%|████████▏ | 8618/10528 [01:38<00:19, 98.90it/s] "
          ],
          "name": "stderr"
        },
        {
          "output_type": "stream",
          "text": [
            "Closed? 53341\n",
            "Closed? 53839\n",
            "Closed? 677\n",
            "Closed? 55008\n"
          ],
          "name": "stdout"
        },
        {
          "output_type": "stream",
          "text": [
            " 82%|████████▏ | 8657/10528 [01:39<00:23, 79.06it/s]"
          ],
          "name": "stderr"
        },
        {
          "output_type": "stream",
          "text": [
            "Closed? 14357\n",
            "Closed? 18453\n"
          ],
          "name": "stdout"
        },
        {
          "output_type": "stream",
          "text": [
            " 82%|████████▏ | 8683/10528 [01:39<00:23, 77.10it/s]"
          ],
          "name": "stderr"
        },
        {
          "output_type": "stream",
          "text": [
            "Closed? 13514\n",
            "Closed? 15648\n"
          ],
          "name": "stdout"
        },
        {
          "output_type": "stream",
          "text": [
            " 83%|████████▎ | 8708/10528 [01:39<00:23, 78.18it/s]"
          ],
          "name": "stderr"
        },
        {
          "output_type": "stream",
          "text": [
            "Closed? 13230\n",
            "Closed? 3933\n",
            "Closed? 18970\n"
          ],
          "name": "stdout"
        },
        {
          "output_type": "stream",
          "text": [
            " 83%|████████▎ | 8728/10528 [01:40<00:20, 85.88it/s]"
          ],
          "name": "stderr"
        },
        {
          "output_type": "stream",
          "text": [
            "Closed? 52837\n",
            "Closed? 36307\n",
            "Closed? 63479\n",
            "Closed? 13124\n",
            "Closed? 2880\n",
            "Closed? 34001\n"
          ],
          "name": "stdout"
        },
        {
          "output_type": "stream",
          "text": [
            " 83%|████████▎ | 8750/10528 [01:40<00:18, 94.46it/s]"
          ],
          "name": "stderr"
        },
        {
          "output_type": "stream",
          "text": [
            "Closed? 23584\n",
            "Closed? 62330\n",
            "Closed? 8678\n",
            "Closed? 10874\n",
            "Closed? 12969\n",
            "Closed? 53401\n",
            "Closed? 13835\n"
          ],
          "name": "stdout"
        },
        {
          "output_type": "stream",
          "text": [
            " 83%|████████▎ | 8770/10528 [01:40<00:18, 92.89it/s]"
          ],
          "name": "stderr"
        },
        {
          "output_type": "stream",
          "text": [
            "Closed? 27245\n",
            "Closed? 30622\n",
            "Closed? 53195\n",
            "Closed? 26663\n",
            "Closed? 9507\n"
          ],
          "name": "stdout"
        },
        {
          "output_type": "stream",
          "text": [
            " 83%|████████▎ | 8790/10528 [01:40<00:19, 90.24it/s]"
          ],
          "name": "stderr"
        },
        {
          "output_type": "stream",
          "text": [
            "Closed? 29963\n",
            "Closed? 14586\n",
            "Closed? 54426\n"
          ],
          "name": "stdout"
        },
        {
          "output_type": "stream",
          "text": [
            " 84%|████████▎ | 8809/10528 [01:41<00:20, 82.05it/s]"
          ],
          "name": "stderr"
        },
        {
          "output_type": "stream",
          "text": [
            "Closed? 8110\n",
            "Closed? 5954\n",
            "Closed? 24056\n"
          ],
          "name": "stdout"
        },
        {
          "output_type": "stream",
          "text": [
            " 84%|████████▍ | 8828/10528 [01:41<00:20, 82.97it/s]"
          ],
          "name": "stderr"
        },
        {
          "output_type": "stream",
          "text": [
            "Closed? 23342\n",
            "Closed? 55055\n",
            "Closed? 23293\n",
            "Closed? 20960\n"
          ],
          "name": "stdout"
        },
        {
          "output_type": "stream",
          "text": [
            " 84%|████████▍ | 8855/10528 [01:41<00:19, 85.40it/s]"
          ],
          "name": "stderr"
        },
        {
          "output_type": "stream",
          "text": [
            "Closed? 35636\n",
            "Closed? 24780\n",
            "Closed? 53191\n",
            "Closed? 6772\n",
            "Closed? 57417\n"
          ],
          "name": "stdout"
        },
        {
          "output_type": "stream",
          "text": [
            " 84%|████████▍ | 8876/10528 [01:41<00:17, 93.00it/s]"
          ],
          "name": "stderr"
        },
        {
          "output_type": "stream",
          "text": [
            "Closed? 21607\n",
            "Closed? 7234\n",
            "Closed? 27950\n",
            "Closed? 34842\n",
            "Closed? 9407\n",
            "Closed? 27800\n",
            "Closed? 36086\n"
          ],
          "name": "stdout"
        },
        {
          "output_type": "stream",
          "text": [
            " 85%|████████▍ | 8907/10528 [01:42<00:17, 90.15it/s]"
          ],
          "name": "stderr"
        },
        {
          "output_type": "stream",
          "text": [
            "Closed? 26942\n",
            "Closed? 19747\n",
            "Closed? 25824\n",
            "Closed? 4143\n",
            "Closed? 30646\n"
          ],
          "name": "stdout"
        },
        {
          "output_type": "stream",
          "text": [
            "\r 85%|████████▍ | 8918/10528 [01:42<00:17, 91.71it/s]"
          ],
          "name": "stderr"
        },
        {
          "output_type": "stream",
          "text": [
            "Closed? 16051\n",
            "Closed? 16108\n",
            "Closed? 12322\n",
            "Closed? 32022\n",
            "Closed? 2207\n"
          ],
          "name": "stdout"
        },
        {
          "output_type": "stream",
          "text": [
            " 85%|████████▍ | 8948/10528 [01:42<00:18, 87.16it/s]"
          ],
          "name": "stderr"
        },
        {
          "output_type": "stream",
          "text": [
            "Closed? 7935\n",
            "Closed? 58999\n",
            "Closed? 22348\n",
            "Closed? 55486\n",
            "Closed? 28141"
          ],
          "name": "stdout"
        },
        {
          "output_type": "stream",
          "text": [
            " 85%|████████▌ | 8978/10528 [01:42<00:17, 89.53it/s]"
          ],
          "name": "stderr"
        },
        {
          "output_type": "stream",
          "text": [
            "\n",
            "Closed? 22093\n",
            "Closed? 5372\n",
            "Closed? 31337\n",
            "Closed? 25431\n",
            "Closed? 10093\n"
          ],
          "name": "stdout"
        },
        {
          "output_type": "stream",
          "text": [
            " 85%|████████▌ | 8998/10528 [01:43<00:17, 89.26it/s]"
          ],
          "name": "stderr"
        },
        {
          "output_type": "stream",
          "text": [
            "Closed? 29100\n",
            "Closed? 30814\n",
            "Closed? 14611\n",
            "Closed? 55906\n",
            "Closed? 61734\n"
          ],
          "name": "stdout"
        },
        {
          "output_type": "stream",
          "text": [
            " 86%|████████▌ | 9017/10528 [01:43<00:18, 83.10it/s]"
          ],
          "name": "stderr"
        },
        {
          "output_type": "stream",
          "text": [
            "Closed? 34071\n",
            "Closed? 2205\n",
            "Closed? 9822\n"
          ],
          "name": "stdout"
        },
        {
          "output_type": "stream",
          "text": [
            " 86%|████████▌ | 9036/10528 [01:43<00:17, 86.00it/s]"
          ],
          "name": "stderr"
        },
        {
          "output_type": "stream",
          "text": [
            "Closed? 2866\n",
            "Closed? 52623\n",
            "Closed? 36795\n",
            "Closed? 18250\n",
            "Closed? 29017\n"
          ],
          "name": "stdout"
        },
        {
          "output_type": "stream",
          "text": [
            " 86%|████████▌ | 9057/10528 [01:43<00:17, 86.31it/s]"
          ],
          "name": "stderr"
        },
        {
          "output_type": "stream",
          "text": [
            "Closed? 20205\n",
            "Closed? 9426\n",
            "Closed? 9435\n"
          ],
          "name": "stdout"
        },
        {
          "output_type": "stream",
          "text": [
            " 86%|████████▌ | 9075/10528 [01:44<00:17, 81.37it/s]"
          ],
          "name": "stderr"
        },
        {
          "output_type": "stream",
          "text": [
            "Closed? 59567\n",
            "Closed? 16285\n",
            "Closed? 36097\n"
          ],
          "name": "stdout"
        },
        {
          "output_type": "stream",
          "text": [
            "\r 86%|████████▋ | 9086/10528 [01:44<00:16, 87.11it/s]"
          ],
          "name": "stderr"
        },
        {
          "output_type": "stream",
          "text": [
            "Closed? 15407\n",
            "Closed? 55901\n",
            "Closed? 32012\n",
            "Closed? 20639\n",
            "Closed? 31891\n",
            "Closed? 492\n",
            "Closed? 36217\n"
          ],
          "name": "stdout"
        },
        {
          "output_type": "stream",
          "text": [
            " 87%|████████▋ | 9108/10528 [01:44<00:15, 93.53it/s]"
          ],
          "name": "stderr"
        },
        {
          "output_type": "stream",
          "text": [
            "Closed? 53345\n",
            "Closed? 5555\n",
            "Closed? 6517\n",
            "Closed? 13629\n",
            "Closed? 21615\n",
            "Closed? 27892\n"
          ],
          "name": "stdout"
        },
        {
          "output_type": "stream",
          "text": [
            " 87%|████████▋ | 9140/10528 [01:44<00:14, 93.17it/s]"
          ],
          "name": "stderr"
        },
        {
          "output_type": "stream",
          "text": [
            "Closed? 55525\n",
            "Closed? 36025\n",
            "Closed? 11721\n",
            "Closed? 1771\n",
            "Closed? 7182\n",
            "Closed? 23909\n",
            "Closed? 14873\n"
          ],
          "name": "stdout"
        },
        {
          "output_type": "stream",
          "text": [
            " 87%|████████▋ | 9160/10528 [01:44<00:14, 92.01it/s]"
          ],
          "name": "stderr"
        },
        {
          "output_type": "stream",
          "text": [
            "Closed? 29201\n",
            "Closed? 60211\n",
            "Closed? 33958\n",
            "Closed? 6151\n"
          ],
          "name": "stdout"
        },
        {
          "output_type": "stream",
          "text": [
            " 87%|████████▋ | 9179/10528 [01:45<00:16, 82.10it/s]"
          ],
          "name": "stderr"
        },
        {
          "output_type": "stream",
          "text": [
            "Closed? 24215\n",
            "Closed? 9195\n",
            "Closed? 34945\n",
            "Closed? 5163\n"
          ],
          "name": "stdout"
        },
        {
          "output_type": "stream",
          "text": [
            " 87%|████████▋ | 9199/10528 [01:45<00:16, 81.24it/s]"
          ],
          "name": "stderr"
        },
        {
          "output_type": "stream",
          "text": [
            "Closed? 29422\n",
            "Closed? 26700\n",
            "Closed? 30303\n"
          ],
          "name": "stdout"
        },
        {
          "output_type": "stream",
          "text": [
            " 88%|████████▊ | 9217/10528 [01:45<00:16, 78.24it/s]"
          ],
          "name": "stderr"
        },
        {
          "output_type": "stream",
          "text": [
            "Closed? 88\n",
            "Closed? 54398\n",
            "Closed? 14214\n",
            "Closed? 17332\n"
          ],
          "name": "stdout"
        },
        {
          "output_type": "stream",
          "text": [
            " 88%|████████▊ | 9236/10528 [01:45<00:15, 82.77it/s]"
          ],
          "name": "stderr"
        },
        {
          "output_type": "stream",
          "text": [
            "Closed? 26585\n",
            "Closed? 6004\n",
            "Closed? 35096\n",
            "Closed? 26100\n"
          ],
          "name": "stdout"
        },
        {
          "output_type": "stream",
          "text": [
            " 88%|████████▊ | 9254/10528 [01:46<00:15, 81.76it/s]"
          ],
          "name": "stderr"
        },
        {
          "output_type": "stream",
          "text": [
            "Closed? 61203\n",
            "Closed? 29354\n",
            "Closed? 10031\n",
            "Closed? 10615\n"
          ],
          "name": "stdout"
        },
        {
          "output_type": "stream",
          "text": [
            " 88%|████████▊ | 9282/10528 [01:46<00:15, 78.08it/s]"
          ],
          "name": "stderr"
        },
        {
          "output_type": "stream",
          "text": [
            "Closed? 34187\n",
            "Closed? 59078\n",
            "Closed? 59463\n",
            "Closed? 17016\n",
            "Closed? 59243\n"
          ],
          "name": "stdout"
        },
        {
          "output_type": "stream",
          "text": [
            " 88%|████████▊ | 9303/10528 [01:46<00:14, 87.39it/s]"
          ],
          "name": "stderr"
        },
        {
          "output_type": "stream",
          "text": [
            "Closed? 32345\n",
            "Closed? 3841\n",
            "Closed? 56545\n",
            "Closed? 7134\n",
            "Closed? 56865\n",
            "Closed? 36320\n"
          ],
          "name": "stdout"
        },
        {
          "output_type": "stream",
          "text": [
            " 89%|████████▊ | 9321/10528 [01:46<00:15, 79.03it/s]"
          ],
          "name": "stderr"
        },
        {
          "output_type": "stream",
          "text": [
            "Closed? 1228\n"
          ],
          "name": "stdout"
        },
        {
          "output_type": "stream",
          "text": [
            " 89%|████████▉ | 9346/10528 [01:47<00:16, 73.74it/s]"
          ],
          "name": "stderr"
        },
        {
          "output_type": "stream",
          "text": [
            "Closed? 8811\n",
            "Closed? 63535\n",
            "Closed? 54752\n"
          ],
          "name": "stdout"
        },
        {
          "output_type": "stream",
          "text": [
            " 89%|████████▉ | 9363/10528 [01:47<00:14, 78.19it/s]"
          ],
          "name": "stderr"
        },
        {
          "output_type": "stream",
          "text": [
            "Closed? 36363\n",
            "Closed? 54815\n",
            "Closed? 22479\n"
          ],
          "name": "stdout"
        },
        {
          "output_type": "stream",
          "text": [
            " 89%|████████▉ | 9391/10528 [01:47<00:13, 84.13it/s]"
          ],
          "name": "stderr"
        },
        {
          "output_type": "stream",
          "text": [
            "Closed? 63737\n",
            "Closed? 16828\n",
            "Closed? 8222\n",
            "Closed? 21566\n",
            "Closed? 21727\n",
            "Closed? 3069\n"
          ],
          "name": "stdout"
        },
        {
          "output_type": "stream",
          "text": [
            " 89%|████████▉ | 9416/10528 [01:48<00:14, 75.77it/s]"
          ],
          "name": "stderr"
        },
        {
          "output_type": "stream",
          "text": [
            "Closed? 15275\n",
            "Closed? 5856\n",
            "Closed? 7342\n",
            "Closed? 9322\n"
          ],
          "name": "stdout"
        },
        {
          "output_type": "stream",
          "text": [
            " 90%|████████▉ | 9444/10528 [01:48<00:13, 80.59it/s]"
          ],
          "name": "stderr"
        },
        {
          "output_type": "stream",
          "text": [
            "Closed? 35359\n",
            "Closed? 52853\n",
            "Closed? 15806\n",
            "Closed? 22916\n"
          ],
          "name": "stdout"
        },
        {
          "output_type": "stream",
          "text": [
            " 90%|████████▉ | 9462/10528 [01:48<00:13, 78.04it/s]"
          ],
          "name": "stderr"
        },
        {
          "output_type": "stream",
          "text": [
            "Closed? 25328\n",
            "Closed? 7082\n",
            "Closed? 34342\n",
            "Closed? 12333\n",
            "Closed? 25012\n",
            "Closed? 36954\n",
            "Closed? 34925\n"
          ],
          "name": "stdout"
        },
        {
          "output_type": "stream",
          "text": [
            " 90%|█████████ | 9485/10528 [01:49<00:11, 87.39it/s]"
          ],
          "name": "stderr"
        },
        {
          "output_type": "stream",
          "text": [
            "Closed? 60728\n",
            "Closed? 53442\n",
            "Closed? 63036\n",
            "Closed? 1988\n"
          ],
          "name": "stdout"
        },
        {
          "output_type": "stream",
          "text": [
            " 90%|█████████ | 9505/10528 [01:49<00:11, 88.13it/s]"
          ],
          "name": "stderr"
        },
        {
          "output_type": "stream",
          "text": [
            "Closed? 33264\n",
            "Closed? 36367\n",
            "Closed? 9213\n",
            "Closed? 63789\n"
          ],
          "name": "stdout"
        },
        {
          "output_type": "stream",
          "text": [
            " 90%|█████████ | 9524/10528 [01:49<00:11, 86.50it/s]"
          ],
          "name": "stderr"
        },
        {
          "output_type": "stream",
          "text": [
            "Closed? 10705\n",
            "Closed? 10369\n",
            "Closed? 25386\n",
            "Closed? 35485\n"
          ],
          "name": "stdout"
        },
        {
          "output_type": "stream",
          "text": [
            " 91%|█████████ | 9551/10528 [01:49<00:11, 83.41it/s]"
          ],
          "name": "stderr"
        },
        {
          "output_type": "stream",
          "text": [
            "Closed? 10156\n",
            "Closed? 30638\n",
            "Closed? 32500\n"
          ],
          "name": "stdout"
        },
        {
          "output_type": "stream",
          "text": [
            " 91%|█████████ | 9569/10528 [01:50<00:12, 77.81it/s]"
          ],
          "name": "stderr"
        },
        {
          "output_type": "stream",
          "text": [
            "Closed? 30921\n",
            "Closed? 16686\n"
          ],
          "name": "stdout"
        },
        {
          "output_type": "stream",
          "text": [
            " 91%|█████████ | 9588/10528 [01:50<00:12, 76.75it/s]"
          ],
          "name": "stderr"
        },
        {
          "output_type": "stream",
          "text": [
            "Closed? 55512\n",
            "Closed? 59914\n",
            "Closed? 6919\n"
          ],
          "name": "stdout"
        },
        {
          "output_type": "stream",
          "text": [
            " 91%|█████████▏| 9609/10528 [01:50<00:10, 88.21it/s]"
          ],
          "name": "stderr"
        },
        {
          "output_type": "stream",
          "text": [
            "Closed? 54716\n",
            "Closed? 21683\n",
            "Closed? 21113\n",
            "Closed? 17325\n",
            "Closed? 60632\n",
            "Closed? 5094\n"
          ],
          "name": "stdout"
        },
        {
          "output_type": "stream",
          "text": [
            " 91%|█████████▏| 9628/10528 [01:50<00:10, 85.60it/s]"
          ],
          "name": "stderr"
        },
        {
          "output_type": "stream",
          "text": [
            "Closed? 59428\n",
            "Closed? 55828\n",
            "Closed? 32077\n"
          ],
          "name": "stdout"
        },
        {
          "output_type": "stream",
          "text": [
            " 92%|█████████▏| 9648/10528 [01:50<00:10, 84.00it/s]"
          ],
          "name": "stderr"
        },
        {
          "output_type": "stream",
          "text": [
            "Closed? 35845\n",
            "Closed? 21618\n",
            "Closed? 13588\n",
            "Closed? 24044\n"
          ],
          "name": "stdout"
        },
        {
          "output_type": "stream",
          "text": [
            " 92%|█████████▏| 9675/10528 [01:51<00:11, 76.28it/s]"
          ],
          "name": "stderr"
        },
        {
          "output_type": "stream",
          "text": [
            "Closed? 34499\n",
            "Closed? 55233\n"
          ],
          "name": "stdout"
        },
        {
          "output_type": "stream",
          "text": [
            " 92%|█████████▏| 9692/10528 [01:51<00:10, 76.23it/s]"
          ],
          "name": "stderr"
        },
        {
          "output_type": "stream",
          "text": [
            "Closed? 13096\n",
            "Closed? 4339\n"
          ],
          "name": "stdout"
        },
        {
          "output_type": "stream",
          "text": [
            " 92%|█████████▏| 9717/10528 [01:51<00:10, 77.02it/s]"
          ],
          "name": "stderr"
        },
        {
          "output_type": "stream",
          "text": [
            "Closed? 18206\n",
            "Closed? 29753\n",
            "Closed? 26355\n"
          ],
          "name": "stdout"
        },
        {
          "output_type": "stream",
          "text": [
            " 93%|█████████▎| 9742/10528 [01:52<00:10, 75.32it/s]"
          ],
          "name": "stderr"
        },
        {
          "output_type": "stream",
          "text": [
            "Closed? 34080\n",
            "Closed? 8227\n",
            "Closed? 55163\n"
          ],
          "name": "stdout"
        },
        {
          "output_type": "stream",
          "text": [
            " 93%|█████████▎| 9759/10528 [01:52<00:10, 76.20it/s]"
          ],
          "name": "stderr"
        },
        {
          "output_type": "stream",
          "text": [
            "Closed? 10689\n",
            "Closed? 36123\n",
            "Closed? 392\n"
          ],
          "name": "stdout"
        },
        {
          "output_type": "stream",
          "text": [
            " 93%|█████████▎| 9776/10528 [01:52<00:09, 77.87it/s]"
          ],
          "name": "stderr"
        },
        {
          "output_type": "stream",
          "text": [
            "Closed? 7172\n",
            "Closed? 52876\n",
            "Closed? 16487\n"
          ],
          "name": "stdout"
        },
        {
          "output_type": "stream",
          "text": [
            " 93%|█████████▎| 9800/10528 [01:53<00:10, 71.12it/s]"
          ],
          "name": "stderr"
        },
        {
          "output_type": "stream",
          "text": [
            "Closed? 29858\n",
            "Closed? 18757\n"
          ],
          "name": "stdout"
        },
        {
          "output_type": "stream",
          "text": [
            " 93%|█████████▎| 9825/10528 [01:53<00:09, 76.44it/s]"
          ],
          "name": "stderr"
        },
        {
          "output_type": "stream",
          "text": [
            "Closed? 28392\n",
            "Closed? 8666\n",
            "Closed? 28673\n",
            "Closed? 31899\n"
          ],
          "name": "stdout"
        },
        {
          "output_type": "stream",
          "text": [
            " 93%|█████████▎| 9842/10528 [01:53<00:08, 79.34it/s]"
          ],
          "name": "stderr"
        },
        {
          "output_type": "stream",
          "text": [
            "Closed? 54899\n",
            "Closed? 55088\n"
          ],
          "name": "stdout"
        },
        {
          "output_type": "stream",
          "text": [
            " 94%|█████████▎| 9869/10528 [01:53<00:08, 81.77it/s]"
          ],
          "name": "stderr"
        },
        {
          "output_type": "stream",
          "text": [
            "Closed? 20937\n",
            "Closed? 23593\n",
            "Closed? 28648\n",
            "Closed? 34470\n",
            "Closed? 54172\n",
            "Closed? 25781\n"
          ],
          "name": "stdout"
        },
        {
          "output_type": "stream",
          "text": [
            " 94%|█████████▍| 9887/10528 [01:54<00:07, 84.31it/s]"
          ],
          "name": "stderr"
        },
        {
          "output_type": "stream",
          "text": [
            "Closed? 28004\n",
            "Closed? 14638\n",
            "Closed? 32306\n",
            "Closed? 33833\n",
            "Closed? 16367\n"
          ],
          "name": "stdout"
        },
        {
          "output_type": "stream",
          "text": [
            " 94%|█████████▍| 9914/10528 [01:54<00:07, 83.81it/s]"
          ],
          "name": "stderr"
        },
        {
          "output_type": "stream",
          "text": [
            "Closed? 15257\n",
            "Closed? 26699\n",
            "Closed? 27325\n",
            "Closed? 59357\n",
            "Closed? 2229\n",
            "Closed? 2655\n"
          ],
          "name": "stdout"
        },
        {
          "output_type": "stream",
          "text": [
            " 94%|█████████▍| 9941/10528 [01:54<00:07, 82.38it/s]"
          ],
          "name": "stderr"
        },
        {
          "output_type": "stream",
          "text": [
            "Closed? 9823\n",
            "Closed? 24066\n",
            "Closed? 62137\n",
            "Closed? 26734\n",
            "Closed? 21898\n"
          ],
          "name": "stdout"
        },
        {
          "output_type": "stream",
          "text": [
            " 95%|█████████▍| 9959/10528 [01:54<00:07, 79.97it/s]"
          ],
          "name": "stderr"
        },
        {
          "output_type": "stream",
          "text": [
            "Closed? 60320\n",
            "Closed? 30831\n"
          ],
          "name": "stdout"
        },
        {
          "output_type": "stream",
          "text": [
            " 95%|█████████▍| 9979/10528 [01:55<00:06, 83.39it/s]"
          ],
          "name": "stderr"
        },
        {
          "output_type": "stream",
          "text": [
            "Closed? 19905\n",
            "Closed? 61482\n",
            "Closed? 27470\n",
            "Closed? 56144\n",
            "Closed? 10633\n",
            "Closed? 21748\n"
          ],
          "name": "stdout"
        },
        {
          "output_type": "stream",
          "text": [
            " 95%|█████████▍| 9998/10528 [01:55<00:06, 85.30it/s]"
          ],
          "name": "stderr"
        },
        {
          "output_type": "stream",
          "text": [
            "Closed? 5260\n",
            "Closed? 28401\n",
            "Closed? 53825\n",
            "Closed? 3067\n",
            "Closed? 55247\n"
          ],
          "name": "stdout"
        },
        {
          "output_type": "stream",
          "text": [
            " 95%|█████████▌| 10016/10528 [01:55<00:06, 82.33it/s]"
          ],
          "name": "stderr"
        },
        {
          "output_type": "stream",
          "text": [
            "Closed? 34993\n",
            "Closed? 13219\n"
          ],
          "name": "stdout"
        },
        {
          "output_type": "stream",
          "text": [
            " 95%|█████████▌| 10041/10528 [01:56<00:06, 72.80it/s]"
          ],
          "name": "stderr"
        },
        {
          "output_type": "stream",
          "text": [
            "Closed? 16262\n"
          ],
          "name": "stdout"
        },
        {
          "output_type": "stream",
          "text": [
            " 96%|█████████▌| 10069/10528 [01:56<00:06, 75.78it/s]"
          ],
          "name": "stderr"
        },
        {
          "output_type": "stream",
          "text": [
            "Closed? 54441\n",
            "Closed? 26299\n",
            "Closed? 1339\n",
            "Closed? 7299\n",
            "Closed? 35907\n"
          ],
          "name": "stdout"
        },
        {
          "output_type": "stream",
          "text": [
            " 96%|█████████▌| 10110/10528 [01:56<00:05, 73.86it/s]"
          ],
          "name": "stderr"
        },
        {
          "output_type": "stream",
          "text": [
            "Closed? 5137\n",
            "Closed? 5343\n"
          ],
          "name": "stdout"
        },
        {
          "output_type": "stream",
          "text": [
            " 96%|█████████▌| 10128/10528 [01:57<00:05, 77.38it/s]"
          ],
          "name": "stderr"
        },
        {
          "output_type": "stream",
          "text": [
            "Closed? 9998\n",
            "Closed? 32556\n",
            "Closed? 36543\n"
          ],
          "name": "stdout"
        },
        {
          "output_type": "stream",
          "text": [
            " 97%|█████████▋| 10161/10528 [01:57<00:04, 77.35it/s]"
          ],
          "name": "stderr"
        },
        {
          "output_type": "stream",
          "text": [
            "Closed? 30722\n",
            "Closed? 11896\n",
            "Closed? 10770\n"
          ],
          "name": "stdout"
        },
        {
          "output_type": "stream",
          "text": [
            " 97%|█████████▋| 10177/10528 [01:57<00:04, 76.54it/s]"
          ],
          "name": "stderr"
        },
        {
          "output_type": "stream",
          "text": [
            "Closed? 2998\n",
            "Closed? 60912\n",
            "Closed? 35434\n"
          ],
          "name": "stdout"
        },
        {
          "output_type": "stream",
          "text": [
            " 97%|█████████▋| 10196/10528 [01:58<00:03, 84.18it/s]"
          ],
          "name": "stderr"
        },
        {
          "output_type": "stream",
          "text": [
            "Closed? 62421\n",
            "Closed? 21055\n",
            "Closed? 6024\n",
            "Closed? 6303\n"
          ],
          "name": "stdout"
        },
        {
          "output_type": "stream",
          "text": [
            " 97%|█████████▋| 10232/10528 [01:58<00:03, 79.75it/s]"
          ],
          "name": "stderr"
        },
        {
          "output_type": "stream",
          "text": [
            "Closed? 55556\n",
            "Closed? 54251\n",
            "Closed? 32016\n",
            "Closed? 27443\n"
          ],
          "name": "stdout"
        },
        {
          "output_type": "stream",
          "text": [
            " 97%|█████████▋| 10251/10528 [01:58<00:03, 81.30it/s]"
          ],
          "name": "stderr"
        },
        {
          "output_type": "stream",
          "text": [
            "Closed? 3298\n",
            "Closed? 16074\n",
            "Closed? 5528\n"
          ],
          "name": "stdout"
        },
        {
          "output_type": "stream",
          "text": [
            " 98%|█████████▊| 10279/10528 [01:59<00:03, 80.01it/s]"
          ],
          "name": "stderr"
        },
        {
          "output_type": "stream",
          "text": [
            "Closed? 34854\n",
            "Closed? 59584\n",
            "Closed? 12380\n",
            "Closed? 33354\n",
            "Closed? 6113\n"
          ],
          "name": "stdout"
        },
        {
          "output_type": "stream",
          "text": [
            " 98%|█████████▊| 10299/10528 [01:59<00:02, 82.08it/s]"
          ],
          "name": "stderr"
        },
        {
          "output_type": "stream",
          "text": [
            "Closed? 20780\n",
            "Closed? 31174\n",
            "Closed? 22354\n",
            "Closed? 9980\n",
            "Closed? 20958\n"
          ],
          "name": "stdout"
        },
        {
          "output_type": "stream",
          "text": [
            " 98%|█████████▊| 10319/10528 [01:59<00:02, 89.49it/s]"
          ],
          "name": "stderr"
        },
        {
          "output_type": "stream",
          "text": [
            "Closed? 9171\n",
            "Closed? 21547\n",
            "Closed? 8384\n",
            "Closed? 24361\n",
            "Closed? 22695\n"
          ],
          "name": "stdout"
        },
        {
          "output_type": "stream",
          "text": [
            " 98%|█████████▊| 10338/10528 [01:59<00:02, 80.79it/s]"
          ],
          "name": "stderr"
        },
        {
          "output_type": "stream",
          "text": [
            "Closed? 31433\n"
          ],
          "name": "stdout"
        },
        {
          "output_type": "stream",
          "text": [
            " 98%|█████████▊| 10356/10528 [02:00<00:02, 81.88it/s]"
          ],
          "name": "stderr"
        },
        {
          "output_type": "stream",
          "text": [
            "Closed? 56035\n",
            "Closed? 12821\n",
            "Closed? 12935\n",
            "Closed? 55812\n"
          ],
          "name": "stdout"
        },
        {
          "output_type": "stream",
          "text": [
            " 99%|█████████▊| 10374/10528 [02:00<00:01, 81.46it/s]"
          ],
          "name": "stderr"
        },
        {
          "output_type": "stream",
          "text": [
            "Closed? 60567\n",
            "Closed? 59004\n"
          ],
          "name": "stdout"
        },
        {
          "output_type": "stream",
          "text": [
            " 99%|█████████▊| 10394/10528 [02:00<00:01, 82.92it/s]"
          ],
          "name": "stderr"
        },
        {
          "output_type": "stream",
          "text": [
            "Closed? 62926\n",
            "Closed? 62188\n",
            "Closed? 35608\n",
            "Closed? 12508\n"
          ],
          "name": "stdout"
        },
        {
          "output_type": "stream",
          "text": [
            " 99%|█████████▉| 10428/10528 [02:00<00:01, 75.69it/s]"
          ],
          "name": "stderr"
        },
        {
          "output_type": "stream",
          "text": [
            "Closed? 19255\n",
            "Closed? 31622\n"
          ],
          "name": "stdout"
        },
        {
          "output_type": "stream",
          "text": [
            " 99%|█████████▉| 10446/10528 [02:01<00:01, 80.30it/s]"
          ],
          "name": "stderr"
        },
        {
          "output_type": "stream",
          "text": [
            "Closed? 31546\n",
            "Closed? 3491\n",
            "Closed? 21196\n",
            "Closed? 23146\n",
            "Closed? 26844\n",
            "Closed? 23056\n",
            "Closed? 23537\n"
          ],
          "name": "stdout"
        },
        {
          "output_type": "stream",
          "text": [
            " 99%|█████████▉| 10474/10528 [02:01<00:00, 80.33it/s]"
          ],
          "name": "stderr"
        },
        {
          "output_type": "stream",
          "text": [
            "Closed? 36960\n",
            "Closed? 29995\n",
            "Closed? 34823\n",
            "Closed? 28874\n",
            "Closed? 33995\n"
          ],
          "name": "stdout"
        },
        {
          "output_type": "stream",
          "text": [
            "100%|█████████▉| 10493/10528 [02:01<00:00, 82.00it/s]"
          ],
          "name": "stderr"
        },
        {
          "output_type": "stream",
          "text": [
            "Closed? 4511\n",
            "Closed? 11034\n",
            "Closed? 8735\n"
          ],
          "name": "stdout"
        },
        {
          "output_type": "stream",
          "text": [
            "\r100%|█████████▉| 10506/10528 [02:01<00:00, 91.84it/s]"
          ],
          "name": "stderr"
        },
        {
          "output_type": "stream",
          "text": [
            "Closed? 29203\n",
            "Closed? 62920\n",
            "Closed? 59615\n",
            "Closed? 21873\n",
            "Closed? 2195\n",
            "Closed? 7465\n"
          ],
          "name": "stdout"
        },
        {
          "output_type": "stream",
          "text": [
            "100%|██████████| 10528/10528 [02:02<00:00, 86.22it/s]\n",
            "/usr/local/lib/python3.7/dist-packages/ipykernel_launcher.py:15: VisibleDeprecationWarning: Creating an ndarray from ragged nested sequences (which is a list-or-tuple of lists-or-tuples-or ndarrays with different lengths or shapes) is deprecated. If you meant to do this, you must specify 'dtype=object' when creating the ndarray\n",
            "  from ipykernel import kernelapp as app\n",
            "  0%|          | 0/3510 [00:00<?, ?it/s]"
          ],
          "name": "stderr"
        },
        {
          "output_type": "stream",
          "text": [
            "Closed? 10801\n",
            "Closed? 53190\n"
          ],
          "name": "stdout"
        },
        {
          "output_type": "stream",
          "text": [
            "  1%|          | 20/3510 [00:00<00:36, 94.76it/s]"
          ],
          "name": "stderr"
        },
        {
          "output_type": "stream",
          "text": [
            "Closed? 30710\n",
            "Closed? 26229\n",
            "Closed? 15012\n",
            "Closed? 18340\n",
            "Closed? 25033\n"
          ],
          "name": "stdout"
        },
        {
          "output_type": "stream",
          "text": [
            "  1%|          | 35/3510 [00:00<00:43, 80.43it/s]"
          ],
          "name": "stderr"
        },
        {
          "output_type": "stream",
          "text": [
            "Closed? 14405\n",
            "Closed? 59965\n",
            "Closed? 14267\n",
            "Closed? 35389\n"
          ],
          "name": "stdout"
        },
        {
          "output_type": "stream",
          "text": [
            "  2%|▏         | 55/3510 [00:00<00:41, 83.82it/s]"
          ],
          "name": "stderr"
        },
        {
          "output_type": "stream",
          "text": [
            "Closed? 56292\n",
            "Closed? 15185\n"
          ],
          "name": "stdout"
        },
        {
          "output_type": "stream",
          "text": [
            "  2%|▏         | 73/3510 [00:00<00:40, 85.34it/s]"
          ],
          "name": "stderr"
        },
        {
          "output_type": "stream",
          "text": [
            "Closed? 36629\n",
            "Closed? 55099\n",
            "Closed? 3050\n",
            "Closed? 30880\n",
            "Closed? 57030\n"
          ],
          "name": "stdout"
        },
        {
          "output_type": "stream",
          "text": [
            "  3%|▎         | 98/3510 [00:01<00:42, 79.71it/s]"
          ],
          "name": "stderr"
        },
        {
          "output_type": "stream",
          "text": [
            "Closed? 17275\n",
            "Closed? 26325\n"
          ],
          "name": "stdout"
        },
        {
          "output_type": "stream",
          "text": [
            "  3%|▎         | 118/3510 [00:01<00:38, 88.40it/s]"
          ],
          "name": "stderr"
        },
        {
          "output_type": "stream",
          "text": [
            "Closed? 26134\n",
            "Closed? 8581\n",
            "Closed? 12506\n",
            "Closed? 55837\n",
            "Closed? 5194\n",
            "Closed? 35089\n"
          ],
          "name": "stdout"
        },
        {
          "output_type": "stream",
          "text": [
            "  4%|▍         | 139/3510 [00:01<00:35, 95.12it/s]"
          ],
          "name": "stderr"
        },
        {
          "output_type": "stream",
          "text": [
            "Closed? 60427\n",
            "Closed? 18269\n",
            "Closed? 23470\n",
            "Closed? 28662\n",
            "Closed? 13263\n",
            "Closed? 6907\n",
            "Closed? 52834\n",
            "Closed? 460\n",
            "Closed? 21473\n"
          ],
          "name": "stdout"
        },
        {
          "output_type": "stream",
          "text": [
            "  5%|▍         | 170/3510 [00:01<00:36, 91.50it/s]"
          ],
          "name": "stderr"
        },
        {
          "output_type": "stream",
          "text": [
            "Closed? 19974\n",
            "Closed? 22635\n",
            "Closed? 26232\n",
            "Closed? 36018\n",
            "Closed? 20238\n",
            "Closed? 34000\n"
          ],
          "name": "stdout"
        },
        {
          "output_type": "stream",
          "text": [
            "  5%|▌         | 191/3510 [00:02<00:35, 94.82it/s]"
          ],
          "name": "stderr"
        },
        {
          "output_type": "stream",
          "text": [
            "Closed? 61055\n",
            "Closed? 33217\n",
            "Closed? 62756\n",
            "Closed? 28821\n",
            "Closed? 14938\n",
            "Closed? 19189\n",
            "Closed? 6747\n"
          ],
          "name": "stdout"
        },
        {
          "output_type": "stream",
          "text": [
            "  6%|▌         | 211/3510 [00:02<00:35, 91.75it/s]"
          ],
          "name": "stderr"
        },
        {
          "output_type": "stream",
          "text": [
            "Closed? 54708\n",
            "Closed? 26310\n",
            "Closed? 56082\n",
            "Closed? 62861\n",
            "Closed? 30418\n"
          ],
          "name": "stdout"
        },
        {
          "output_type": "stream",
          "text": [
            "  7%|▋         | 243/3510 [00:02<00:35, 92.49it/s]"
          ],
          "name": "stderr"
        },
        {
          "output_type": "stream",
          "text": [
            "Closed? 20425\n",
            "Closed? 13259\n",
            "Closed? 34954\n",
            "Closed? 23581\n",
            "Closed? 54254\n",
            "Closed? 14616\n"
          ],
          "name": "stdout"
        },
        {
          "output_type": "stream",
          "text": [
            "\r  7%|▋         | 253/3510 [00:02<00:34, 93.79it/s]"
          ],
          "name": "stderr"
        },
        {
          "output_type": "stream",
          "text": [
            "Closed? 59058\n",
            "Closed? 32409\n",
            "Closed? 35041\n"
          ],
          "name": "stdout"
        },
        {
          "output_type": "stream",
          "text": [
            "  8%|▊         | 284/3510 [00:03<00:37, 85.23it/s]"
          ],
          "name": "stderr"
        },
        {
          "output_type": "stream",
          "text": [
            "Closed? 56309\n",
            "Closed? 2732\n",
            "Closed? 60473\n",
            "Closed? 54881\n"
          ],
          "name": "stdout"
        },
        {
          "output_type": "stream",
          "text": [
            "  9%|▊         | 303/3510 [00:03<00:38, 84.03it/s]"
          ],
          "name": "stderr"
        },
        {
          "output_type": "stream",
          "text": [
            "Closed? 30850\n",
            "Closed? 457\n",
            "Closed? 6728\n"
          ],
          "name": "stdout"
        },
        {
          "output_type": "stream",
          "text": [
            "  9%|▉         | 330/3510 [00:03<00:39, 81.38it/s]"
          ],
          "name": "stderr"
        },
        {
          "output_type": "stream",
          "text": [
            "Closed? 32257\n",
            "Closed? 12104\n",
            "Closed? 7929\n",
            "Closed? 8034\n",
            "Closed? 31198\n"
          ],
          "name": "stdout"
        },
        {
          "output_type": "stream",
          "text": [
            "\r 10%|▉         | 341/3510 [00:03<00:36, 87.41it/s]"
          ],
          "name": "stderr"
        },
        {
          "output_type": "stream",
          "text": [
            "Closed? 54314\n",
            "Closed? 31997\n"
          ],
          "name": "stdout"
        },
        {
          "output_type": "stream",
          "text": [
            " 11%|█         | 378/3510 [00:04<00:38, 80.72it/s]"
          ],
          "name": "stderr"
        },
        {
          "output_type": "stream",
          "text": [
            "Closed? 59306\n",
            "Closed? 36901\n",
            "Closed? 13550\n",
            "Closed? 63784\n",
            "Closed? 34485\n"
          ],
          "name": "stdout"
        },
        {
          "output_type": "stream",
          "text": [
            " 12%|█▏        | 404/3510 [00:04<00:40, 76.95it/s]"
          ],
          "name": "stderr"
        },
        {
          "output_type": "stream",
          "text": [
            "Closed? 35999\n",
            "Closed? 559\n",
            "Closed? 18165\n",
            "Closed? 13257\n"
          ],
          "name": "stdout"
        },
        {
          "output_type": "stream",
          "text": [
            " 12%|█▏        | 423/3510 [00:04<00:36, 84.16it/s]"
          ],
          "name": "stderr"
        },
        {
          "output_type": "stream",
          "text": [
            "Closed? 62979\n",
            "Closed? 23459\n",
            "Closed? 23493\n",
            "Closed? 17845\n"
          ],
          "name": "stdout"
        },
        {
          "output_type": "stream",
          "text": [
            " 13%|█▎        | 457/3510 [00:05<00:35, 85.90it/s]"
          ],
          "name": "stderr"
        },
        {
          "output_type": "stream",
          "text": [
            "Closed? 31358\n",
            "Closed? 60729\n",
            "Closed? 6450\n",
            "Closed? 26707\n",
            "Closed? 15626\n",
            "Closed? 8138\n"
          ],
          "name": "stdout"
        },
        {
          "output_type": "stream",
          "text": [
            " 14%|█▍        | 486/3510 [00:05<00:36, 83.98it/s]"
          ],
          "name": "stderr"
        },
        {
          "output_type": "stream",
          "text": [
            "Closed? 56833\n",
            "Closed? 23508\n",
            "Closed? 32189\n",
            "Closed? 59514\n"
          ],
          "name": "stdout"
        },
        {
          "output_type": "stream",
          "text": [
            "\r 14%|█▍        | 495/3510 [00:05<00:35, 84.60it/s]"
          ],
          "name": "stderr"
        },
        {
          "output_type": "stream",
          "text": [
            "Closed? 26480\n",
            "Closed? 63627\n",
            "Closed? 6689\n"
          ],
          "name": "stdout"
        },
        {
          "output_type": "stream",
          "text": [
            " 15%|█▍        | 524/3510 [00:06<00:33, 89.24it/s]"
          ],
          "name": "stderr"
        },
        {
          "output_type": "stream",
          "text": [
            "Closed? 55333\n",
            "Closed? 25864\n",
            "Closed? 7130\n",
            "Closed? 142\n",
            "Closed? 54299\n",
            "Closed? 4928\n"
          ],
          "name": "stdout"
        },
        {
          "output_type": "stream",
          "text": [
            " 15%|█▌        | 543/3510 [00:06<00:37, 78.85it/s]"
          ],
          "name": "stderr"
        },
        {
          "output_type": "stream",
          "text": [
            "Closed? 25154\n",
            "Closed? 5827\n"
          ],
          "name": "stdout"
        },
        {
          "output_type": "stream",
          "text": [
            " 16%|█▌        | 570/3510 [00:06<00:36, 81.57it/s]"
          ],
          "name": "stderr"
        },
        {
          "output_type": "stream",
          "text": [
            "Closed? 26471\n",
            "Closed? 9090\n",
            "Closed? 23227\n",
            "Closed? 29286\n",
            "Closed? 12640\n",
            "Closed? 18186\n"
          ],
          "name": "stdout"
        },
        {
          "output_type": "stream",
          "text": [
            " 17%|█▋        | 589/3510 [00:06<00:33, 86.54it/s]"
          ],
          "name": "stderr"
        },
        {
          "output_type": "stream",
          "text": [
            "Closed? 30534\n",
            "Closed? 59330\n",
            "Closed? 30183\n"
          ],
          "name": "stdout"
        },
        {
          "output_type": "stream",
          "text": [
            " 17%|█▋        | 607/3510 [00:07<00:37, 78.27it/s]"
          ],
          "name": "stderr"
        },
        {
          "output_type": "stream",
          "text": [
            "Closed? 36297\n",
            "Closed? 63286\n",
            "Closed? 23960\n",
            "Closed? 10895\n"
          ],
          "name": "stdout"
        },
        {
          "output_type": "stream",
          "text": [
            " 18%|█▊        | 627/3510 [00:07<00:36, 79.08it/s]"
          ],
          "name": "stderr"
        },
        {
          "output_type": "stream",
          "text": [
            "Closed? 6746\n",
            "Closed? 33011\n",
            "Closed? 973\n"
          ],
          "name": "stdout"
        },
        {
          "output_type": "stream",
          "text": [
            " 19%|█▉        | 670/3510 [00:07<00:36, 77.45it/s]"
          ],
          "name": "stderr"
        },
        {
          "output_type": "stream",
          "text": [
            "Closed? 20160\n",
            "Closed? 4695\n",
            "Closed? 19725\n"
          ],
          "name": "stdout"
        },
        {
          "output_type": "stream",
          "text": [
            " 20%|█▉        | 690/3510 [00:08<00:33, 85.23it/s]"
          ],
          "name": "stderr"
        },
        {
          "output_type": "stream",
          "text": [
            "Closed? 21536\n",
            "Closed? 17127\n",
            "Closed? 31023\n",
            "Closed? 35272\n",
            "Closed? 22536\n",
            "Closed? 4738\n",
            "Closed? 29357\n",
            "Closed? 22879\n"
          ],
          "name": "stdout"
        },
        {
          "output_type": "stream",
          "text": [
            " 20%|██        | 708/3510 [00:08<00:33, 82.82it/s]"
          ],
          "name": "stderr"
        },
        {
          "output_type": "stream",
          "text": [
            "Closed? 29424\n"
          ],
          "name": "stdout"
        },
        {
          "output_type": "stream",
          "text": [
            " 21%|██        | 742/3510 [00:08<00:38, 72.42it/s]"
          ],
          "name": "stderr"
        },
        {
          "output_type": "stream",
          "text": [
            "Closed? 25679\n"
          ],
          "name": "stdout"
        },
        {
          "output_type": "stream",
          "text": [
            " 22%|██▏       | 759/3510 [00:09<00:35, 77.40it/s]"
          ],
          "name": "stderr"
        },
        {
          "output_type": "stream",
          "text": [
            "Closed? 12618\n",
            "Closed? 9189\n",
            "Closed? 9705\n"
          ],
          "name": "stdout"
        },
        {
          "output_type": "stream",
          "text": [
            " 23%|██▎       | 793/3510 [00:09<00:35, 76.45it/s]"
          ],
          "name": "stderr"
        },
        {
          "output_type": "stream",
          "text": [
            "Closed? 25756\n",
            "Closed? 55177\n",
            "Closed? 12353\n",
            "Closed? 34951\n"
          ],
          "name": "stdout"
        },
        {
          "output_type": "stream",
          "text": [
            " 23%|██▎       | 811/3510 [00:09<00:34, 77.74it/s]"
          ],
          "name": "stderr"
        },
        {
          "output_type": "stream",
          "text": [
            "Closed? 3272\n",
            "Closed? 19572\n",
            "Closed? 58746\n",
            "Closed? 32656\n"
          ],
          "name": "stdout"
        },
        {
          "output_type": "stream",
          "text": [
            " 24%|██▎       | 828/3510 [00:09<00:33, 79.99it/s]"
          ],
          "name": "stderr"
        },
        {
          "output_type": "stream",
          "text": [
            "Closed? 31563\n",
            "Closed? 36916\n",
            "Closed? 20629\n",
            "Closed? 61232\n",
            "Closed? 7707\n"
          ],
          "name": "stdout"
        },
        {
          "output_type": "stream",
          "text": [
            " 24%|██▍       | 856/3510 [00:10<00:33, 79.51it/s]"
          ],
          "name": "stderr"
        },
        {
          "output_type": "stream",
          "text": [
            "Closed? 22167\n",
            "Closed? 2539\n"
          ],
          "name": "stdout"
        },
        {
          "output_type": "stream",
          "text": [
            " 25%|██▍       | 875/3510 [00:10<00:31, 83.55it/s]"
          ],
          "name": "stderr"
        },
        {
          "output_type": "stream",
          "text": [
            "Closed? 24819\n",
            "Closed? 24013\n",
            "Closed? 32477\n",
            "Closed? 32887\n",
            "Closed? 27007\n",
            "Closed? 59024\n"
          ],
          "name": "stdout"
        },
        {
          "output_type": "stream",
          "text": [
            " 26%|██▌       | 910/3510 [00:10<00:33, 76.47it/s]"
          ],
          "name": "stderr"
        },
        {
          "output_type": "stream",
          "text": [
            "Closed? 35843\n"
          ],
          "name": "stdout"
        },
        {
          "output_type": "stream",
          "text": [
            " 27%|██▋       | 935/3510 [00:11<00:34, 75.41it/s]"
          ],
          "name": "stderr"
        },
        {
          "output_type": "stream",
          "text": [
            "Closed? 14667\n",
            "Closed? 18964\n"
          ],
          "name": "stdout"
        },
        {
          "output_type": "stream",
          "text": [
            " 27%|██▋       | 951/3510 [00:11<00:34, 74.97it/s]"
          ],
          "name": "stderr"
        },
        {
          "output_type": "stream",
          "text": [
            "Closed? 9270\n",
            "Closed? 18528\n"
          ],
          "name": "stdout"
        },
        {
          "output_type": "stream",
          "text": [
            " 28%|██▊       | 976/3510 [00:11<00:32, 77.07it/s]"
          ],
          "name": "stderr"
        },
        {
          "output_type": "stream",
          "text": [
            "Closed? 25718\n",
            "Closed? 63115\n"
          ],
          "name": "stdout"
        },
        {
          "output_type": "stream",
          "text": [
            " 28%|██▊       | 1000/3510 [00:12<00:32, 76.80it/s]"
          ],
          "name": "stderr"
        },
        {
          "output_type": "stream",
          "text": [
            "Closed? 27647\n",
            "Closed? 33429\n",
            "Closed? 34004\n",
            "Closed? 24851\n"
          ],
          "name": "stdout"
        },
        {
          "output_type": "stream",
          "text": [
            " 29%|██▉       | 1028/3510 [00:12<00:29, 83.75it/s]"
          ],
          "name": "stderr"
        },
        {
          "output_type": "stream",
          "text": [
            "Closed? 60913\n",
            "Closed? 23917\n",
            "Closed? 12129\n",
            "Closed? 8051\n"
          ],
          "name": "stdout"
        },
        {
          "output_type": "stream",
          "text": [
            " 30%|██▉       | 1049/3510 [00:12<00:28, 86.24it/s]"
          ],
          "name": "stderr"
        },
        {
          "output_type": "stream",
          "text": [
            "Closed? 8806\n",
            "Closed? 15846\n",
            "Closed? 54861\n",
            "Closed? 2124\n",
            "Closed? 15291\n"
          ],
          "name": "stdout"
        },
        {
          "output_type": "stream",
          "text": [
            " 30%|███       | 1067/3510 [00:12<00:28, 85.30it/s]"
          ],
          "name": "stderr"
        },
        {
          "output_type": "stream",
          "text": [
            "Closed? 62936\n",
            "Closed? 31568\n",
            "Closed? 31619\n"
          ],
          "name": "stdout"
        },
        {
          "output_type": "stream",
          "text": [
            " 31%|███       | 1085/3510 [00:13<00:31, 77.71it/s]"
          ],
          "name": "stderr"
        },
        {
          "output_type": "stream",
          "text": [
            "Closed? 1255\n",
            "Closed? 3219\n",
            "Closed? 60793\n"
          ],
          "name": "stdout"
        },
        {
          "output_type": "stream",
          "text": [
            " 31%|███▏      | 1104/3510 [00:13<00:30, 79.52it/s]"
          ],
          "name": "stderr"
        },
        {
          "output_type": "stream",
          "text": [
            "Closed? 14651\n"
          ],
          "name": "stdout"
        },
        {
          "output_type": "stream",
          "text": [
            " 32%|███▏      | 1132/3510 [00:13<00:29, 79.36it/s]"
          ],
          "name": "stderr"
        },
        {
          "output_type": "stream",
          "text": [
            "Closed? 62494\n",
            "Closed? 643\n",
            "Closed? 30180\n",
            "Closed? 959\n",
            "Closed? 26541\n"
          ],
          "name": "stdout"
        },
        {
          "output_type": "stream",
          "text": [
            " 33%|███▎      | 1150/3510 [00:13<00:28, 82.41it/s]"
          ],
          "name": "stderr"
        },
        {
          "output_type": "stream",
          "text": [
            "Closed? 27217\n",
            "Closed? 5004\n",
            "Closed? 29878\n",
            "Closed? 60846\n"
          ],
          "name": "stdout"
        },
        {
          "output_type": "stream",
          "text": [
            " 34%|███▎      | 1177/3510 [00:14<00:28, 81.04it/s]"
          ],
          "name": "stderr"
        },
        {
          "output_type": "stream",
          "text": [
            "Closed? 59335\n",
            "Closed? 7896\n"
          ],
          "name": "stdout"
        },
        {
          "output_type": "stream",
          "text": [
            " 34%|███▍      | 1206/3510 [00:14<00:27, 82.56it/s]"
          ],
          "name": "stderr"
        },
        {
          "output_type": "stream",
          "text": [
            "Closed? 10064\n",
            "Closed? 56555\n",
            "Closed? 21784\n",
            "Closed? 62666\n",
            "Closed? 54876\n",
            "Closed? 57156\n",
            "Closed? 61685\n"
          ],
          "name": "stdout"
        },
        {
          "output_type": "stream",
          "text": [
            " 35%|███▍      | 1228/3510 [00:14<00:26, 85.91it/s]"
          ],
          "name": "stderr"
        },
        {
          "output_type": "stream",
          "text": [
            "Closed? 34837\n",
            "Closed? 4497\n",
            "Closed? 3859\n",
            "Closed? 25092\n"
          ],
          "name": "stdout"
        },
        {
          "output_type": "stream",
          "text": [
            " 35%|███▌      | 1246/3510 [00:15<00:28, 78.55it/s]"
          ],
          "name": "stderr"
        },
        {
          "output_type": "stream",
          "text": [
            "Closed? 29796\n",
            "Closed? 6089\n",
            "Closed? 25410\n",
            "Closed? 8808\n"
          ],
          "name": "stdout"
        },
        {
          "output_type": "stream",
          "text": [
            " 36%|███▋      | 1275/3510 [00:15<00:28, 79.44it/s]"
          ],
          "name": "stderr"
        },
        {
          "output_type": "stream",
          "text": [
            "Closed? 56501\n",
            "Closed? 57863\n",
            "Closed? 53270\n"
          ],
          "name": "stdout"
        },
        {
          "output_type": "stream",
          "text": [
            " 37%|███▋      | 1295/3510 [00:15<00:27, 79.86it/s]"
          ],
          "name": "stderr"
        },
        {
          "output_type": "stream",
          "text": [
            "Closed? 36317\n",
            "Closed? 30236\n",
            "Closed? 3759\n",
            "Closed? 19002\n",
            "Closed? 62629\n"
          ],
          "name": "stdout"
        },
        {
          "output_type": "stream",
          "text": [
            " 38%|███▊      | 1323/3510 [00:16<00:26, 83.78it/s]"
          ],
          "name": "stderr"
        },
        {
          "output_type": "stream",
          "text": [
            "Closed? 23337\n",
            "Closed? 34313\n",
            "Closed? 30656\n",
            "Closed? 33064\n",
            "Closed? 5467\n"
          ],
          "name": "stdout"
        },
        {
          "output_type": "stream",
          "text": [
            " 38%|███▊      | 1349/3510 [00:16<00:27, 78.20it/s]"
          ],
          "name": "stderr"
        },
        {
          "output_type": "stream",
          "text": [
            "Closed? 53492\n",
            "Closed? 61812\n",
            "Closed? 26258\n",
            "Closed? 59492\n",
            "Closed? 21240\n"
          ],
          "name": "stdout"
        },
        {
          "output_type": "stream",
          "text": [
            " 40%|███▉      | 1387/3510 [00:16<00:26, 80.99it/s]"
          ],
          "name": "stderr"
        },
        {
          "output_type": "stream",
          "text": [
            "Closed? 27785\n",
            "Closed? 25758\n",
            "Closed? 23596\n",
            "Closed? 6474\n",
            "Closed? 17243\n",
            "Closed? 6665\n"
          ],
          "name": "stdout"
        },
        {
          "output_type": "stream",
          "text": [
            " 40%|████      | 1420/3510 [00:17<00:27, 74.91it/s]"
          ],
          "name": "stderr"
        },
        {
          "output_type": "stream",
          "text": [
            "Closed? 23183\n",
            "Closed? 13946\n"
          ],
          "name": "stdout"
        },
        {
          "output_type": "stream",
          "text": [
            " 41%|████      | 1437/3510 [00:17<00:27, 74.18it/s]"
          ],
          "name": "stderr"
        },
        {
          "output_type": "stream",
          "text": [
            "Closed? 2090\n"
          ],
          "name": "stdout"
        },
        {
          "output_type": "stream",
          "text": [
            " 42%|████▏     | 1464/3510 [00:17<00:25, 79.83it/s]"
          ],
          "name": "stderr"
        },
        {
          "output_type": "stream",
          "text": [
            "Closed? 30834\n",
            "Closed? 1205\n",
            "Closed? 61025\n",
            "Closed? 17597\n"
          ],
          "name": "stdout"
        },
        {
          "output_type": "stream",
          "text": [
            " 42%|████▏     | 1483/3510 [00:18<00:24, 83.69it/s]"
          ],
          "name": "stderr"
        },
        {
          "output_type": "stream",
          "text": [
            "Closed? 61773\n",
            "Closed? 422\n",
            "Closed? 26370\n",
            "Closed? 56724\n",
            "Closed? 34278\n"
          ],
          "name": "stdout"
        },
        {
          "output_type": "stream",
          "text": [
            " 43%|████▎     | 1501/3510 [00:18<00:24, 81.37it/s]"
          ],
          "name": "stderr"
        },
        {
          "output_type": "stream",
          "text": [
            "Closed? 59940\n",
            "Closed? 25865\n",
            "Closed? 11724\n",
            "Closed? 24219\n",
            "Closed? 53605\n"
          ],
          "name": "stdout"
        },
        {
          "output_type": "stream",
          "text": [
            " 43%|████▎     | 1524/3510 [00:18<00:23, 85.63it/s]"
          ],
          "name": "stderr"
        },
        {
          "output_type": "stream",
          "text": [
            "Closed? 31210\n",
            "Closed? 15958\n",
            "Closed? 16438\n",
            "Closed? 28827\n"
          ],
          "name": "stdout"
        },
        {
          "output_type": "stream",
          "text": [
            " 44%|████▍     | 1542/3510 [00:18<00:25, 78.59it/s]"
          ],
          "name": "stderr"
        },
        {
          "output_type": "stream",
          "text": [
            "Closed? 24238\n",
            "Closed? 10087\n",
            "Closed? 60028\n"
          ],
          "name": "stdout"
        },
        {
          "output_type": "stream",
          "text": [
            " 44%|████▍     | 1561/3510 [00:19<00:22, 84.99it/s]"
          ],
          "name": "stderr"
        },
        {
          "output_type": "stream",
          "text": [
            "Closed? 57749\n",
            "Closed? 53640\n",
            "Closed? 12204\n"
          ],
          "name": "stdout"
        },
        {
          "output_type": "stream",
          "text": [
            " 45%|████▍     | 1579/3510 [00:19<00:23, 83.18it/s]"
          ],
          "name": "stderr"
        },
        {
          "output_type": "stream",
          "text": [
            "Closed? 36359\n",
            "Closed? 15350\n",
            "Closed? 30752\n",
            "Closed? 9807\n"
          ],
          "name": "stdout"
        },
        {
          "output_type": "stream",
          "text": [
            " 45%|████▌     | 1597/3510 [00:19<00:23, 79.96it/s]"
          ],
          "name": "stderr"
        },
        {
          "output_type": "stream",
          "text": [
            "Closed? 27658\n",
            "Closed? 15519\n"
          ],
          "name": "stdout"
        },
        {
          "output_type": "stream",
          "text": [
            " 46%|████▌     | 1615/3510 [00:19<00:22, 83.30it/s]"
          ],
          "name": "stderr"
        },
        {
          "output_type": "stream",
          "text": [
            "Closed? 388\n",
            "Closed? 30023\n",
            "Closed? 30942\n",
            "Closed? 33649\n",
            "Closed? 2382\n"
          ],
          "name": "stdout"
        },
        {
          "output_type": "stream",
          "text": [
            " 47%|████▋     | 1634/3510 [00:19<00:21, 87.03it/s]"
          ],
          "name": "stderr"
        },
        {
          "output_type": "stream",
          "text": [
            "Closed? 14122\n",
            "Closed? 54850\n",
            "Closed? 10424\n",
            "Closed? 29395\n"
          ],
          "name": "stdout"
        },
        {
          "output_type": "stream",
          "text": [
            " 47%|████▋     | 1661/3510 [00:20<00:23, 77.74it/s]"
          ],
          "name": "stderr"
        },
        {
          "output_type": "stream",
          "text": [
            "Closed? 35701\n"
          ],
          "name": "stdout"
        },
        {
          "output_type": "stream",
          "text": [
            " 48%|████▊     | 1677/3510 [00:20<00:24, 75.99it/s]"
          ],
          "name": "stderr"
        },
        {
          "output_type": "stream",
          "text": [
            "Closed? 27188\n"
          ],
          "name": "stdout"
        },
        {
          "output_type": "stream",
          "text": [
            " 49%|████▊     | 1703/3510 [00:20<00:23, 77.99it/s]"
          ],
          "name": "stderr"
        },
        {
          "output_type": "stream",
          "text": [
            "Closed? 36064\n",
            "Closed? 21523\n",
            "Closed? 11527\n"
          ],
          "name": "stdout"
        },
        {
          "output_type": "stream",
          "text": [
            " 49%|████▉     | 1719/3510 [00:21<00:22, 78.00it/s]"
          ],
          "name": "stderr"
        },
        {
          "output_type": "stream",
          "text": [
            "Closed? 7565\n",
            "Closed? 25935\n"
          ],
          "name": "stdout"
        },
        {
          "output_type": "stream",
          "text": [
            " 50%|████▉     | 1745/3510 [00:21<00:21, 80.47it/s]"
          ],
          "name": "stderr"
        },
        {
          "output_type": "stream",
          "text": [
            "Closed? 62058\n",
            "Closed? 12989\n",
            "Closed? 23841\n",
            "Closed? 2886\n",
            "Closed? 20173\n",
            "Closed? 60807\n"
          ],
          "name": "stdout"
        },
        {
          "output_type": "stream",
          "text": [
            " 50%|█████     | 1772/3510 [00:21<00:21, 82.29it/s]"
          ],
          "name": "stderr"
        },
        {
          "output_type": "stream",
          "text": [
            "Closed? 27641\n",
            "Closed? 9208\n",
            "Closed? 58771\n",
            "Closed? 53783\n"
          ],
          "name": "stdout"
        },
        {
          "output_type": "stream",
          "text": [
            " 51%|█████▏    | 1800/3510 [00:21<00:19, 86.00it/s]"
          ],
          "name": "stderr"
        },
        {
          "output_type": "stream",
          "text": [
            "Closed? 53597\n",
            "Closed? 23195\n",
            "Closed? 24803\n",
            "Closed? 28302\n",
            "Closed? 16381\n",
            "Closed? 17630\n",
            "Closed? 36500\n"
          ],
          "name": "stdout"
        },
        {
          "output_type": "stream",
          "text": [
            " 52%|█████▏    | 1819/3510 [00:22<00:19, 86.27it/s]"
          ],
          "name": "stderr"
        },
        {
          "output_type": "stream",
          "text": [
            "Closed? 61632\n",
            "Closed? 3118\n"
          ],
          "name": "stdout"
        },
        {
          "output_type": "stream",
          "text": [
            " 53%|█████▎    | 1850/3510 [00:22<00:18, 89.25it/s]"
          ],
          "name": "stderr"
        },
        {
          "output_type": "stream",
          "text": [
            "Closed? 24416\n",
            "Closed? 3903\n",
            "Closed? 10880\n",
            "Closed? 35399\n",
            "Closed? 19985\n",
            "Closed? 34806\n",
            "Closed? 55181\n"
          ],
          "name": "stdout"
        },
        {
          "output_type": "stream",
          "text": [
            " 53%|█████▎    | 1869/3510 [00:22<00:19, 83.43it/s]"
          ],
          "name": "stderr"
        },
        {
          "output_type": "stream",
          "text": [
            "Closed? 62677\n",
            "Closed? 32362\n",
            "Closed? 21714\n"
          ],
          "name": "stdout"
        },
        {
          "output_type": "stream",
          "text": [
            " 54%|█████▍    | 1905/3510 [00:23<00:19, 82.15it/s]"
          ],
          "name": "stderr"
        },
        {
          "output_type": "stream",
          "text": [
            "Closed? 61489\n",
            "Closed? 871\n",
            "Closed? 26073\n",
            "Closed? 57973\n",
            "Closed? 30820\n",
            "Closed? 30124\n",
            "Closed? 25802\n",
            "Closed? 29559\n",
            "Closed? 59562\n",
            "Closed? 36068\n"
          ],
          "name": "stdout"
        },
        {
          "output_type": "stream",
          "text": [
            " 55%|█████▌    | 1938/3510 [00:23<00:17, 90.52it/s]"
          ],
          "name": "stderr"
        },
        {
          "output_type": "stream",
          "text": [
            "Closed? 61818\n",
            "Closed? 17295\n",
            "Closed? 57225\n",
            "Closed? 25094\n",
            "Closed? 32550\n",
            "Closed? 58154\n",
            "Closed? 7000\n",
            "Closed? 36698\n"
          ],
          "name": "stdout"
        },
        {
          "output_type": "stream",
          "text": [
            " 56%|█████▌    | 1969/3510 [00:23<00:16, 91.01it/s]"
          ],
          "name": "stderr"
        },
        {
          "output_type": "stream",
          "text": [
            "Closed? 22261\n",
            "Closed? 13271\n",
            "Closed? 18723\n",
            "Closed? 6745\n",
            "Closed? 55708\n"
          ],
          "name": "stdout"
        },
        {
          "output_type": "stream",
          "text": [
            " 57%|█████▋    | 1991/3510 [00:24<00:17, 87.08it/s]"
          ],
          "name": "stderr"
        },
        {
          "output_type": "stream",
          "text": [
            "Closed? 9943\n",
            "Closed? 16479\n",
            "Closed? 21472\n"
          ],
          "name": "stdout"
        },
        {
          "output_type": "stream",
          "text": [
            " 58%|█████▊    | 2020/3510 [00:24<00:17, 83.54it/s]"
          ],
          "name": "stderr"
        },
        {
          "output_type": "stream",
          "text": [
            "Closed? 10572\n",
            "Closed? 28903\n",
            "Closed? 13668\n",
            "Closed? 34913\n"
          ],
          "name": "stdout"
        },
        {
          "output_type": "stream",
          "text": [
            " 58%|█████▊    | 2038/3510 [00:24<00:18, 80.01it/s]"
          ],
          "name": "stderr"
        },
        {
          "output_type": "stream",
          "text": [
            "Closed? 12768\n",
            "Closed? 2602\n"
          ],
          "name": "stdout"
        },
        {
          "output_type": "stream",
          "text": [
            "\r 58%|█████▊    | 2047/3510 [00:24<00:18, 79.45it/s]"
          ],
          "name": "stderr"
        },
        {
          "output_type": "stream",
          "text": [
            "Closed? 54523\n"
          ],
          "name": "stdout"
        },
        {
          "output_type": "stream",
          "text": [
            " 59%|█████▉    | 2075/3510 [00:25<00:17, 80.01it/s]"
          ],
          "name": "stderr"
        },
        {
          "output_type": "stream",
          "text": [
            "Closed? 30891\n",
            "Closed? 59543\n",
            "Closed? 26795\n"
          ],
          "name": "stdout"
        },
        {
          "output_type": "stream",
          "text": [
            " 60%|█████▉    | 2094/3510 [00:25<00:16, 85.79it/s]"
          ],
          "name": "stderr"
        },
        {
          "output_type": "stream",
          "text": [
            "Closed? 33002\n",
            "Closed? 63797\n",
            "Closed? 27274\n",
            "Closed? 22173\n",
            "Closed? 55758\n"
          ],
          "name": "stdout"
        },
        {
          "output_type": "stream",
          "text": [
            " 60%|██████    | 2121/3510 [00:25<00:16, 81.85it/s]"
          ],
          "name": "stderr"
        },
        {
          "output_type": "stream",
          "text": [
            "Closed? 26765\n",
            "Closed? 20802\n",
            "Closed? 21128\n"
          ],
          "name": "stdout"
        },
        {
          "output_type": "stream",
          "text": [
            " 61%|██████    | 2149/3510 [00:26<00:16, 80.52it/s]"
          ],
          "name": "stderr"
        },
        {
          "output_type": "stream",
          "text": [
            "Closed? 33979\n",
            "Closed? 15644\n",
            "Closed? 18669\n",
            "Closed? 12812\n",
            "Closed? 29741\n",
            "Closed? 7244\n"
          ],
          "name": "stdout"
        },
        {
          "output_type": "stream",
          "text": [
            " 62%|██████▏   | 2171/3510 [00:26<00:14, 90.60it/s]"
          ],
          "name": "stderr"
        },
        {
          "output_type": "stream",
          "text": [
            "Closed? 14092\n",
            "Closed? 57941\n",
            "Closed? 21144\n",
            "Closed? 8387\n",
            "Closed? 31025\n",
            "Closed? 3890\n"
          ],
          "name": "stdout"
        },
        {
          "output_type": "stream",
          "text": [
            " 62%|██████▏   | 2191/3510 [00:26<00:14, 88.92it/s]"
          ],
          "name": "stderr"
        },
        {
          "output_type": "stream",
          "text": [
            "Closed? 36692\n",
            "Closed? 11513\n",
            "Closed? 63834\n",
            "Closed? 55868\n"
          ],
          "name": "stdout"
        },
        {
          "output_type": "stream",
          "text": [
            " 63%|██████▎   | 2219/3510 [00:26<00:16, 78.12it/s]"
          ],
          "name": "stderr"
        },
        {
          "output_type": "stream",
          "text": [
            "Closed? 14906\n",
            "Closed? 34853\n"
          ],
          "name": "stdout"
        },
        {
          "output_type": "stream",
          "text": [
            " 64%|██████▎   | 2235/3510 [00:27<00:17, 73.74it/s]"
          ],
          "name": "stderr"
        },
        {
          "output_type": "stream",
          "text": [
            "Closed? 13953\n",
            "Closed? 5973\n"
          ],
          "name": "stdout"
        },
        {
          "output_type": "stream",
          "text": [
            " 64%|██████▍   | 2260/3510 [00:27<00:15, 79.01it/s]"
          ],
          "name": "stderr"
        },
        {
          "output_type": "stream",
          "text": [
            "Closed? 52742\n",
            "Closed? 24588\n",
            "Closed? 3768\n"
          ],
          "name": "stdout"
        },
        {
          "output_type": "stream",
          "text": [
            " 65%|██████▌   | 2284/3510 [00:27<00:16, 75.85it/s]"
          ],
          "name": "stderr"
        },
        {
          "output_type": "stream",
          "text": [
            "Closed? 8863\n",
            "Closed? 8351\n"
          ],
          "name": "stdout"
        },
        {
          "output_type": "stream",
          "text": [
            " 66%|██████▌   | 2309/3510 [00:28<00:15, 78.07it/s]"
          ],
          "name": "stderr"
        },
        {
          "output_type": "stream",
          "text": [
            "Closed? 956\n",
            "Closed? 22317\n",
            "Closed? 18300\n"
          ],
          "name": "stdout"
        },
        {
          "output_type": "stream",
          "text": [
            " 66%|██████▋   | 2327/3510 [00:28<00:14, 82.44it/s]"
          ],
          "name": "stderr"
        },
        {
          "output_type": "stream",
          "text": [
            "Closed? 60074\n",
            "Closed? 36940\n",
            "Closed? 53552\n",
            "Closed? 32491\n"
          ],
          "name": "stdout"
        },
        {
          "output_type": "stream",
          "text": [
            " 67%|██████▋   | 2354/3510 [00:28<00:14, 80.32it/s]"
          ],
          "name": "stderr"
        },
        {
          "output_type": "stream",
          "text": [
            "Closed? 20119\n",
            "Closed? 34388\n",
            "Closed? 63226\n",
            "Closed? 18015\n",
            "Closed? 63702\n",
            "Closed? 19849\n"
          ],
          "name": "stdout"
        },
        {
          "output_type": "stream",
          "text": [
            " 68%|██████▊   | 2377/3510 [00:28<00:13, 84.95it/s]"
          ],
          "name": "stderr"
        },
        {
          "output_type": "stream",
          "text": [
            "Closed? 54868\n",
            "Closed? 34816\n",
            "Closed? 18549\n"
          ],
          "name": "stdout"
        },
        {
          "output_type": "stream",
          "text": [
            " 68%|██████▊   | 2395/3510 [00:29<00:13, 80.39it/s]"
          ],
          "name": "stderr"
        },
        {
          "output_type": "stream",
          "text": [
            "Closed? 34942\n",
            "Closed? 54187\n"
          ],
          "name": "stdout"
        },
        {
          "output_type": "stream",
          "text": [
            " 69%|██████▉   | 2428/3510 [00:29<00:14, 76.28it/s]"
          ],
          "name": "stderr"
        },
        {
          "output_type": "stream",
          "text": [
            "Closed? 32085\n",
            "Closed? 34160\n",
            "Closed? 14362\n"
          ],
          "name": "stdout"
        },
        {
          "output_type": "stream",
          "text": [
            " 70%|██████▉   | 2447/3510 [00:29<00:12, 82.37it/s]"
          ],
          "name": "stderr"
        },
        {
          "output_type": "stream",
          "text": [
            "Closed? 19663\n",
            "Closed? 20994\n",
            "Closed? 21203\n",
            "Closed? 16672\n",
            "Closed? 26682\n",
            "Closed? 501\n"
          ],
          "name": "stdout"
        },
        {
          "output_type": "stream",
          "text": [
            " 70%|███████   | 2468/3510 [00:30<00:11, 89.57it/s]"
          ],
          "name": "stderr"
        },
        {
          "output_type": "stream",
          "text": [
            "Closed? 32110\n",
            "Closed? 14572\n",
            "Closed? 30872\n",
            "Closed? 61798\n"
          ],
          "name": "stdout"
        },
        {
          "output_type": "stream",
          "text": [
            " 71%|███████   | 2496/3510 [00:30<00:12, 82.53it/s]"
          ],
          "name": "stderr"
        },
        {
          "output_type": "stream",
          "text": [
            "Closed? 15250\n",
            "Closed? 12426\n",
            "Closed? 8911\n",
            "Closed? 5226\n"
          ],
          "name": "stdout"
        },
        {
          "output_type": "stream",
          "text": [
            " 72%|███████▏  | 2516/3510 [00:30<00:11, 83.76it/s]"
          ],
          "name": "stderr"
        },
        {
          "output_type": "stream",
          "text": [
            "Closed? 13255\n",
            "Closed? 30961\n"
          ],
          "name": "stdout"
        },
        {
          "output_type": "stream",
          "text": [
            " 72%|███████▏  | 2534/3510 [00:30<00:12, 78.96it/s]"
          ],
          "name": "stderr"
        },
        {
          "output_type": "stream",
          "text": [
            "Closed? 1554\n",
            "Closed? 7318\n"
          ],
          "name": "stdout"
        },
        {
          "output_type": "stream",
          "text": [
            " 73%|███████▎  | 2553/3510 [00:31<00:11, 80.77it/s]"
          ],
          "name": "stderr"
        },
        {
          "output_type": "stream",
          "text": [
            "Closed? 14656\n",
            "Closed? 34371\n",
            "Closed? 7128\n"
          ],
          "name": "stdout"
        },
        {
          "output_type": "stream",
          "text": [
            " 74%|███████▍  | 2589/3510 [00:31<00:11, 82.33it/s]"
          ],
          "name": "stderr"
        },
        {
          "output_type": "stream",
          "text": [
            "Closed? 16185\n",
            "Closed? 36622\n",
            "Closed? 54732\n",
            "Closed? 12728\n"
          ],
          "name": "stdout"
        },
        {
          "output_type": "stream",
          "text": [
            " 74%|███████▍  | 2608/3510 [00:31<00:10, 83.35it/s]"
          ],
          "name": "stderr"
        },
        {
          "output_type": "stream",
          "text": [
            "Closed? 149\n",
            "Closed? 5554\n",
            "Closed? 57474\n",
            "Closed? 3094\n",
            "Closed? 56455\n"
          ],
          "name": "stdout"
        },
        {
          "output_type": "stream",
          "text": [
            " 75%|███████▍  | 2628/3510 [00:31<00:10, 85.95it/s]"
          ],
          "name": "stderr"
        },
        {
          "output_type": "stream",
          "text": [
            "Closed? 25389\n",
            "Closed? 61271\n"
          ],
          "name": "stdout"
        },
        {
          "output_type": "stream",
          "text": [
            " 75%|███████▌  | 2650/3510 [00:32<00:09, 92.11it/s]"
          ],
          "name": "stderr"
        },
        {
          "output_type": "stream",
          "text": [
            "Closed? 19892\n",
            "Closed? 7726\n",
            "Closed? 9938\n",
            "Closed? 55080\n",
            "Closed? 61919\n",
            "Closed? 55696\n",
            "Closed? 10099\n",
            "Closed? 8296\n"
          ],
          "name": "stdout"
        },
        {
          "output_type": "stream",
          "text": [
            " 76%|███████▋  | 2682/3510 [00:32<00:08, 96.24it/s]"
          ],
          "name": "stderr"
        },
        {
          "output_type": "stream",
          "text": [
            "Closed? 24380\n",
            "Closed? 25885\n",
            "Closed? 52669\n",
            "Closed? 6709\n",
            "Closed? 17157\n",
            "Closed? 20939\n"
          ],
          "name": "stdout"
        },
        {
          "output_type": "stream",
          "text": [
            " 77%|███████▋  | 2702/3510 [00:32<00:08, 91.90it/s]"
          ],
          "name": "stderr"
        },
        {
          "output_type": "stream",
          "text": [
            "Closed? 11254\n",
            "Closed? 1928\n",
            "Closed? 20930\n",
            "Closed? 22933\n"
          ],
          "name": "stdout"
        },
        {
          "output_type": "stream",
          "text": [
            "\r 77%|███████▋  | 2713/3510 [00:32<00:08, 93.78it/s]"
          ],
          "name": "stderr"
        },
        {
          "output_type": "stream",
          "text": [
            "Closed? 12627\n",
            "Closed? 557\n",
            "Closed? 33851\n"
          ],
          "name": "stdout"
        },
        {
          "output_type": "stream",
          "text": [
            " 78%|███████▊  | 2736/3510 [00:33<00:08, 93.01it/s]"
          ],
          "name": "stderr"
        },
        {
          "output_type": "stream",
          "text": [
            "Closed? 61288\n",
            "Closed? 14376\n",
            "Closed? 26401\n",
            "Closed? 10957\n",
            "Closed? 11124\n",
            "Closed? 7737\n",
            "Closed? 26797\n"
          ],
          "name": "stdout"
        },
        {
          "output_type": "stream",
          "text": [
            " 79%|███████▊  | 2756/3510 [00:33<00:08, 86.71it/s]"
          ],
          "name": "stderr"
        },
        {
          "output_type": "stream",
          "text": [
            "Closed? 29677\n"
          ],
          "name": "stdout"
        },
        {
          "output_type": "stream",
          "text": [
            " 79%|███████▉  | 2774/3510 [00:33<00:09, 81.08it/s]"
          ],
          "name": "stderr"
        },
        {
          "output_type": "stream",
          "text": [
            "Closed? 36628\n",
            "Closed? 14128\n",
            "Closed? 18802\n",
            "Closed? 35400\n",
            "Closed? 23652\n",
            "Closed? 53228\n"
          ],
          "name": "stdout"
        },
        {
          "output_type": "stream",
          "text": [
            " 80%|███████▉  | 2805/3510 [00:33<00:08, 87.96it/s]"
          ],
          "name": "stderr"
        },
        {
          "output_type": "stream",
          "text": [
            "Closed? 57520\n",
            "Closed? 17024\n",
            "Closed? 59982\n",
            "Closed? 19490\n"
          ],
          "name": "stdout"
        },
        {
          "output_type": "stream",
          "text": [
            " 80%|████████  | 2824/3510 [00:34<00:07, 86.19it/s]"
          ],
          "name": "stderr"
        },
        {
          "output_type": "stream",
          "text": [
            "Closed? 6711\n",
            "Closed? 54971\n",
            "Closed? 54208\n"
          ],
          "name": "stdout"
        },
        {
          "output_type": "stream",
          "text": [
            " 81%|████████  | 2843/3510 [00:34<00:07, 84.88it/s]"
          ],
          "name": "stderr"
        },
        {
          "output_type": "stream",
          "text": [
            "Closed? 28783\n",
            "Closed? 36455\n",
            "Closed? 10008\n"
          ],
          "name": "stdout"
        },
        {
          "output_type": "stream",
          "text": [
            " 82%|████████▏ | 2861/3510 [00:34<00:08, 77.86it/s]"
          ],
          "name": "stderr"
        },
        {
          "output_type": "stream",
          "text": [
            "Closed? 17689\n"
          ],
          "name": "stdout"
        },
        {
          "output_type": "stream",
          "text": [
            " 82%|████████▏ | 2877/3510 [00:34<00:08, 75.41it/s]"
          ],
          "name": "stderr"
        },
        {
          "output_type": "stream",
          "text": [
            "Closed? 17710\n",
            "Closed? 13403\n"
          ],
          "name": "stdout"
        },
        {
          "output_type": "stream",
          "text": [
            " 83%|████████▎ | 2906/3510 [00:35<00:06, 88.36it/s]"
          ],
          "name": "stderr"
        },
        {
          "output_type": "stream",
          "text": [
            "Closed? 1441\n",
            "Closed? 10441\n",
            "Closed? 62857\n",
            "Closed? 16050\n",
            "Closed? 14673\n",
            "Closed? 28682\n",
            "Closed? 29895\n"
          ],
          "name": "stdout"
        },
        {
          "output_type": "stream",
          "text": [
            " 83%|████████▎ | 2926/3510 [00:35<00:06, 88.60it/s]"
          ],
          "name": "stderr"
        },
        {
          "output_type": "stream",
          "text": [
            "Closed? 33100\n",
            "Closed? 28022\n",
            "Closed? 30803\n",
            "Closed? 55185\n"
          ],
          "name": "stdout"
        },
        {
          "output_type": "stream",
          "text": [
            " 84%|████████▍ | 2945/3510 [00:35<00:06, 90.81it/s]"
          ],
          "name": "stderr"
        },
        {
          "output_type": "stream",
          "text": [
            "Closed? 6997\n",
            "Closed? 20956\n",
            "Closed? 27194\n",
            "Closed? 19163\n",
            "Closed? 15962\n",
            "Closed? 2279\n",
            "Closed? 54054\n"
          ],
          "name": "stdout"
        },
        {
          "output_type": "stream",
          "text": [
            " 85%|████████▍ | 2973/3510 [00:35<00:06, 86.19it/s]"
          ],
          "name": "stderr"
        },
        {
          "output_type": "stream",
          "text": [
            "Closed? 28090\n",
            "Closed? 1533\n",
            "Closed? 9948\n",
            "Closed? 28738\n"
          ],
          "name": "stdout"
        },
        {
          "output_type": "stream",
          "text": [
            " 85%|████████▌ | 3001/3510 [00:36<00:05, 85.78it/s]"
          ],
          "name": "stderr"
        },
        {
          "output_type": "stream",
          "text": [
            "Closed? 505\n",
            "Closed? 9995\n",
            "Closed? 63116\n",
            "Closed? 61951\n"
          ],
          "name": "stdout"
        },
        {
          "output_type": "stream",
          "text": [
            " 86%|████████▌ | 3027/3510 [00:36<00:06, 77.80it/s]"
          ],
          "name": "stderr"
        },
        {
          "output_type": "stream",
          "text": [
            "Closed? 54658\n",
            "Closed? 27868\n",
            "Closed? 21498\n"
          ],
          "name": "stdout"
        },
        {
          "output_type": "stream",
          "text": [
            " 87%|████████▋ | 3049/3510 [00:36<00:05, 88.61it/s]"
          ],
          "name": "stderr"
        },
        {
          "output_type": "stream",
          "text": [
            "Closed? 62779\n",
            "Closed? 23895\n",
            "Closed? 32891\n",
            "Closed? 24116\n",
            "Closed? 52904\n",
            "Closed? 27426\n",
            "Closed? 30348\n"
          ],
          "name": "stdout"
        },
        {
          "output_type": "stream",
          "text": [
            " 88%|████████▊ | 3079/3510 [00:37<00:05, 85.88it/s]"
          ],
          "name": "stderr"
        },
        {
          "output_type": "stream",
          "text": [
            "Closed? 56903\n",
            "Closed? 30788\n",
            "Closed? 5907\n",
            "Closed? 19685\n",
            "Closed? 30949\n"
          ],
          "name": "stdout"
        },
        {
          "output_type": "stream",
          "text": [
            " 88%|████████▊ | 3097/3510 [00:37<00:04, 85.87it/s]"
          ],
          "name": "stderr"
        },
        {
          "output_type": "stream",
          "text": [
            "Closed? 30934\n",
            "Closed? 27976\n",
            "Closed? 32172\n",
            "Closed? 11101\n"
          ],
          "name": "stdout"
        },
        {
          "output_type": "stream",
          "text": [
            " 89%|████████▊ | 3115/3510 [00:37<00:04, 86.67it/s]"
          ],
          "name": "stderr"
        },
        {
          "output_type": "stream",
          "text": [
            "Closed? 24679\n",
            "Closed? 18621\n",
            "Closed? 35611\n",
            "Closed? 1013\n"
          ],
          "name": "stdout"
        },
        {
          "output_type": "stream",
          "text": [
            " 89%|████████▉ | 3135/3510 [00:37<00:04, 88.29it/s]"
          ],
          "name": "stderr"
        },
        {
          "output_type": "stream",
          "text": [
            "Closed? 35062\n",
            "Closed? 16371\n",
            "Closed? 31036\n"
          ],
          "name": "stdout"
        },
        {
          "output_type": "stream",
          "text": [
            " 90%|█████████ | 3162/3510 [00:38<00:04, 77.47it/s]"
          ],
          "name": "stderr"
        },
        {
          "output_type": "stream",
          "text": [
            "Closed? 9670\n",
            "Closed? 419\n",
            "Closed? 63377\n"
          ],
          "name": "stdout"
        },
        {
          "output_type": "stream",
          "text": [
            " 91%|█████████ | 3191/3510 [00:38<00:03, 84.43it/s]"
          ],
          "name": "stderr"
        },
        {
          "output_type": "stream",
          "text": [
            "Closed? 8080\n",
            "Closed? 59371\n",
            "Closed? 25911\n",
            "Closed? 4627\n",
            "Closed? 29789\n",
            "Closed? 24634\n",
            "Closed? 19181\n"
          ],
          "name": "stdout"
        },
        {
          "output_type": "stream",
          "text": [
            " 92%|█████████▏| 3228/3510 [00:38<00:03, 76.03it/s]"
          ],
          "name": "stderr"
        },
        {
          "output_type": "stream",
          "text": [
            "Closed? 54079\n"
          ],
          "name": "stdout"
        },
        {
          "output_type": "stream",
          "text": [
            " 92%|█████████▏| 3245/3510 [00:39<00:03, 77.74it/s]"
          ],
          "name": "stderr"
        },
        {
          "output_type": "stream",
          "text": [
            "Closed? 54319\n",
            "Closed? 33406\n",
            "Closed? 405\n"
          ],
          "name": "stdout"
        },
        {
          "output_type": "stream",
          "text": [
            " 93%|█████████▎| 3271/3510 [00:39<00:03, 79.20it/s]"
          ],
          "name": "stderr"
        },
        {
          "output_type": "stream",
          "text": [
            "Closed? 34130\n",
            "Closed? 55043\n",
            "Closed? 25870\n"
          ],
          "name": "stdout"
        },
        {
          "output_type": "stream",
          "text": [
            " 94%|█████████▍| 3297/3510 [00:39<00:02, 77.38it/s]"
          ],
          "name": "stderr"
        },
        {
          "output_type": "stream",
          "text": [
            "Closed? 56896\n",
            "Closed? 13375\n",
            "Closed? 58894\n"
          ],
          "name": "stdout"
        },
        {
          "output_type": "stream",
          "text": [
            " 95%|█████████▍| 3326/3510 [00:40<00:02, 82.82it/s]"
          ],
          "name": "stderr"
        },
        {
          "output_type": "stream",
          "text": [
            "Closed? 17884\n",
            "Closed? 8712\n",
            "Closed? 4159\n",
            "Closed? 24645\n",
            "Closed? 6706\n"
          ],
          "name": "stdout"
        },
        {
          "output_type": "stream",
          "text": [
            " 95%|█████████▌| 3345/3510 [00:40<00:02, 81.62it/s]"
          ],
          "name": "stderr"
        },
        {
          "output_type": "stream",
          "text": [
            "Closed? 12302\n",
            "Closed? 60005\n"
          ],
          "name": "stdout"
        },
        {
          "output_type": "stream",
          "text": [
            " 96%|█████████▌| 3363/3510 [00:40<00:01, 78.56it/s]"
          ],
          "name": "stderr"
        },
        {
          "output_type": "stream",
          "text": [
            "Closed? 24874\n"
          ],
          "name": "stdout"
        },
        {
          "output_type": "stream",
          "text": [
            " 96%|█████████▋| 3382/3510 [00:40<00:01, 86.06it/s]"
          ],
          "name": "stderr"
        },
        {
          "output_type": "stream",
          "text": [
            "Closed? 23018\n",
            "Closed? 3079\n",
            "Closed? 31491\n",
            "Closed? 53594\n",
            "Closed? 4043\n"
          ],
          "name": "stdout"
        },
        {
          "output_type": "stream",
          "text": [
            " 97%|█████████▋| 3401/3510 [00:41<00:01, 85.72it/s]"
          ],
          "name": "stderr"
        },
        {
          "output_type": "stream",
          "text": [
            "Closed? 55068\n",
            "Closed? 18945\n",
            "Closed? 60361\n",
            "Closed? 62166\n"
          ],
          "name": "stdout"
        },
        {
          "output_type": "stream",
          "text": [
            " 98%|█████████▊| 3430/3510 [00:41<00:00, 86.38it/s]"
          ],
          "name": "stderr"
        },
        {
          "output_type": "stream",
          "text": [
            "Closed? 60861\n",
            "Closed? 8981\n",
            "Closed? 20677\n",
            "Closed? 58195\n",
            "Closed? 10092\n",
            "Closed? 62017\n"
          ],
          "name": "stdout"
        },
        {
          "output_type": "stream",
          "text": [
            " 99%|█████████▊| 3466/3510 [00:41<00:00, 78.82it/s]"
          ],
          "name": "stderr"
        },
        {
          "output_type": "stream",
          "text": [
            "Closed? 52867\n",
            "Closed? 35503\n"
          ],
          "name": "stdout"
        },
        {
          "output_type": "stream",
          "text": [
            " 99%|█████████▉| 3483/3510 [00:42<00:00, 80.64it/s]"
          ],
          "name": "stderr"
        },
        {
          "output_type": "stream",
          "text": [
            "Closed? 63831\n",
            "Closed? 34989\n",
            "Closed? 16411\n"
          ],
          "name": "stdout"
        },
        {
          "output_type": "stream",
          "text": [
            "100%|█████████▉| 3501/3510 [00:42<00:00, 81.93it/s]"
          ],
          "name": "stderr"
        },
        {
          "output_type": "stream",
          "text": [
            "Closed? 21173\n",
            "Closed? 61252\n",
            "Closed? 33580\n",
            "Closed? 53887\n",
            "Closed? 10100\n",
            "Closed? 19984\n"
          ],
          "name": "stdout"
        },
        {
          "output_type": "stream",
          "text": [
            "100%|██████████| 3510/3510 [00:42<00:00, 82.74it/s]\n",
            "  0%|          | 16/3510 [00:00<00:44, 78.68it/s]"
          ],
          "name": "stderr"
        },
        {
          "output_type": "stream",
          "text": [
            "Closed? 13262\n",
            "Closed? 34968\n"
          ],
          "name": "stdout"
        },
        {
          "output_type": "stream",
          "text": [
            "  1%|          | 33/3510 [00:00<00:44, 77.28it/s]"
          ],
          "name": "stderr"
        },
        {
          "output_type": "stream",
          "text": [
            "Closed? 844\n",
            "Closed? 11243\n",
            "Closed? 29851\n",
            "Closed? 7213\n"
          ],
          "name": "stdout"
        },
        {
          "output_type": "stream",
          "text": [
            "  2%|▏         | 58/3510 [00:00<00:44, 77.20it/s]"
          ],
          "name": "stderr"
        },
        {
          "output_type": "stream",
          "text": [
            "Closed? 6826\n",
            "Closed? 22599\n"
          ],
          "name": "stdout"
        },
        {
          "output_type": "stream",
          "text": [
            "  2%|▏         | 74/3510 [00:00<00:44, 77.92it/s]"
          ],
          "name": "stderr"
        },
        {
          "output_type": "stream",
          "text": [
            "Closed? 6701\n",
            "Closed? 36503\n",
            "Closed? 31864\n",
            "Closed? 25321\n",
            "Closed? 58957\n",
            "Closed? 61052\n"
          ],
          "name": "stdout"
        },
        {
          "output_type": "stream",
          "text": [
            "  3%|▎         | 103/3510 [00:01<00:41, 83.01it/s]"
          ],
          "name": "stderr"
        },
        {
          "output_type": "stream",
          "text": [
            "Closed? 24599\n",
            "Closed? 26764\n",
            "Closed? 28177\n"
          ],
          "name": "stdout"
        },
        {
          "output_type": "stream",
          "text": [
            "  4%|▎         | 128/3510 [00:01<00:43, 77.45it/s]"
          ],
          "name": "stderr"
        },
        {
          "output_type": "stream",
          "text": [
            "Closed? 5364\n",
            "Closed? 29420\n"
          ],
          "name": "stdout"
        },
        {
          "output_type": "stream",
          "text": [
            "  4%|▍         | 153/3510 [00:01<00:44, 74.81it/s]"
          ],
          "name": "stderr"
        },
        {
          "output_type": "stream",
          "text": [
            "Closed? 9311\n"
          ],
          "name": "stdout"
        },
        {
          "output_type": "stream",
          "text": [
            "  5%|▌         | 179/3510 [00:02<00:43, 76.42it/s]"
          ],
          "name": "stderr"
        },
        {
          "output_type": "stream",
          "text": [
            "Closed? 29869\n",
            "Closed? 10910\n",
            "Closed? 30984\n",
            "Closed? 62772\n"
          ],
          "name": "stdout"
        },
        {
          "output_type": "stream",
          "text": [
            "  6%|▌         | 198/3510 [00:02<00:39, 83.96it/s]"
          ],
          "name": "stderr"
        },
        {
          "output_type": "stream",
          "text": [
            "Closed? 14692\n",
            "Closed? 8519\n",
            "Closed? 56607\n",
            "Closed? 19926\n",
            "Closed? 62904\n",
            "Closed? 32513\n",
            "Closed? 36848\n",
            "Closed? 12675\n",
            "Closed? 21063\n"
          ],
          "name": "stdout"
        },
        {
          "output_type": "stream",
          "text": [
            "  6%|▋         | 221/3510 [00:02<00:38, 86.40it/s]"
          ],
          "name": "stderr"
        },
        {
          "output_type": "stream",
          "text": [
            "Closed? 21950\n",
            "Closed? 55740\n",
            "Closed? 60558\n"
          ],
          "name": "stdout"
        },
        {
          "output_type": "stream",
          "text": [
            "  7%|▋         | 239/3510 [00:02<00:38, 84.09it/s]"
          ],
          "name": "stderr"
        },
        {
          "output_type": "stream",
          "text": [
            "Closed? 12997\n",
            "Closed? 7775\n",
            "Closed? 13292\n"
          ],
          "name": "stdout"
        },
        {
          "output_type": "stream",
          "text": [
            "  7%|▋         | 257/3510 [00:03<00:38, 84.58it/s]"
          ],
          "name": "stderr"
        },
        {
          "output_type": "stream",
          "text": [
            "Closed? 4704\n",
            "Closed? 23540\n",
            "Closed? 34471\n"
          ],
          "name": "stdout"
        },
        {
          "output_type": "stream",
          "text": [
            "  8%|▊         | 275/3510 [00:03<00:41, 78.85it/s]"
          ],
          "name": "stderr"
        },
        {
          "output_type": "stream",
          "text": [
            "Closed? 2039\n",
            "Closed? 29338\n"
          ],
          "name": "stdout"
        },
        {
          "output_type": "stream",
          "text": [
            "  8%|▊         | 291/3510 [00:03<00:42, 75.13it/s]"
          ],
          "name": "stderr"
        },
        {
          "output_type": "stream",
          "text": [
            "Closed? 59553\n"
          ],
          "name": "stdout"
        },
        {
          "output_type": "stream",
          "text": [
            "  9%|▉         | 317/3510 [00:03<00:42, 75.99it/s]"
          ],
          "name": "stderr"
        },
        {
          "output_type": "stream",
          "text": [
            "Closed? 33098\n",
            "Closed? 22678\n",
            "Closed? 35099\n",
            "Closed? 26871\n",
            "Closed? 13428\n",
            "Closed? 26677\n"
          ],
          "name": "stdout"
        },
        {
          "output_type": "stream",
          "text": [
            " 10%|▉         | 336/3510 [00:04<00:40, 78.60it/s]"
          ],
          "name": "stderr"
        },
        {
          "output_type": "stream",
          "text": [
            "Closed? 12729\n"
          ],
          "name": "stdout"
        },
        {
          "output_type": "stream",
          "text": [
            " 10%|█         | 361/3510 [00:04<00:39, 79.12it/s]"
          ],
          "name": "stderr"
        },
        {
          "output_type": "stream",
          "text": [
            "Closed? 231\n",
            "Closed? 16450\n",
            "Closed? 5160\n",
            "Closed? 12966\n"
          ],
          "name": "stdout"
        },
        {
          "output_type": "stream",
          "text": [
            " 11%|█         | 380/3510 [00:04<00:38, 82.27it/s]"
          ],
          "name": "stderr"
        },
        {
          "output_type": "stream",
          "text": [
            "Closed? 5589\n",
            "Closed? 26384\n",
            "Closed? 27511\n"
          ],
          "name": "stdout"
        },
        {
          "output_type": "stream",
          "text": [
            " 11%|█▏        | 397/3510 [00:04<00:39, 78.25it/s]"
          ],
          "name": "stderr"
        },
        {
          "output_type": "stream",
          "text": [
            "Closed? 3085\n",
            "Closed? 9809\n"
          ],
          "name": "stdout"
        },
        {
          "output_type": "stream",
          "text": [
            " 12%|█▏        | 423/3510 [00:05<00:39, 78.88it/s]"
          ],
          "name": "stderr"
        },
        {
          "output_type": "stream",
          "text": [
            "Closed? 17839\n",
            "Closed? 57577\n"
          ],
          "name": "stdout"
        },
        {
          "output_type": "stream",
          "text": [
            " 13%|█▎        | 440/3510 [00:05<00:40, 76.51it/s]"
          ],
          "name": "stderr"
        },
        {
          "output_type": "stream",
          "text": [
            "Closed? 11606\n",
            "Closed? 23097\n",
            "Closed? 25330\n"
          ],
          "name": "stdout"
        },
        {
          "output_type": "stream",
          "text": [
            " 14%|█▎        | 479/3510 [00:06<00:36, 83.50it/s]"
          ],
          "name": "stderr"
        },
        {
          "output_type": "stream",
          "text": [
            "Closed? 60810\n",
            "Closed? 61164\n",
            "Closed? 13294\n",
            "Closed? 15770\n",
            "Closed? 27856\n"
          ],
          "name": "stdout"
        },
        {
          "output_type": "stream",
          "text": [
            "\r 14%|█▍        | 491/3510 [00:06<00:33, 89.22it/s]"
          ],
          "name": "stderr"
        },
        {
          "output_type": "stream",
          "text": [
            "Closed? 10229\n",
            "Closed? 6414\n",
            "Closed? 30264\n",
            "Closed? 36638\n",
            "Closed? 18791\n"
          ],
          "name": "stdout"
        },
        {
          "output_type": "stream",
          "text": [
            " 15%|█▍        | 521/3510 [00:06<00:34, 87.14it/s]"
          ],
          "name": "stderr"
        },
        {
          "output_type": "stream",
          "text": [
            "Closed? 21041\n",
            "Closed? 11597\n",
            "Closed? 7105\n",
            "Closed? 30029\n",
            "Closed? 34684\n",
            "Closed? 7725\n",
            "Closed? 26852\n"
          ],
          "name": "stdout"
        },
        {
          "output_type": "stream",
          "text": [
            " 16%|█▌        | 550/3510 [00:06<00:34, 85.66it/s]"
          ],
          "name": "stderr"
        },
        {
          "output_type": "stream",
          "text": [
            "Closed? 30255\n",
            "Closed? 6072\n",
            "Closed? 24934\n",
            "Closed? 16607\n"
          ],
          "name": "stdout"
        },
        {
          "output_type": "stream",
          "text": [
            " 16%|█▋        | 579/3510 [00:07<00:33, 88.13it/s]"
          ],
          "name": "stderr"
        },
        {
          "output_type": "stream",
          "text": [
            "Closed? 24043\n",
            "Closed? 2419\n",
            "Closed? 9817\n",
            "Closed? 34439\n",
            "Closed? 55225\n",
            "Closed? 60618\n"
          ],
          "name": "stdout"
        },
        {
          "output_type": "stream",
          "text": [
            " 17%|█▋        | 606/3510 [00:07<00:34, 83.42it/s]"
          ],
          "name": "stderr"
        },
        {
          "output_type": "stream",
          "text": [
            "Closed? 27289\n",
            "Closed? 30428\n",
            "Closed? 24538\n"
          ],
          "name": "stdout"
        },
        {
          "output_type": "stream",
          "text": [
            " 18%|█▊        | 633/3510 [00:07<00:35, 80.82it/s]"
          ],
          "name": "stderr"
        },
        {
          "output_type": "stream",
          "text": [
            "Closed? 26239\n",
            "Closed? 1202\n",
            "Closed? 57309\n",
            "Closed? 27472\n"
          ],
          "name": "stdout"
        },
        {
          "output_type": "stream",
          "text": [
            " 19%|█▊        | 653/3510 [00:08<00:34, 82.20it/s]"
          ],
          "name": "stderr"
        },
        {
          "output_type": "stream",
          "text": [
            "Closed? 89\n",
            "Closed? 23496\n",
            "Closed? 20518\n",
            "Closed? 53302\n",
            "Closed? 31242\n"
          ],
          "name": "stdout"
        },
        {
          "output_type": "stream",
          "text": [
            " 19%|█▉        | 672/3510 [00:08<00:32, 86.83it/s]"
          ],
          "name": "stderr"
        },
        {
          "output_type": "stream",
          "text": [
            "Closed? 26328\n",
            "Closed? 30430\n",
            "Closed? 13014\n",
            "Closed? 59585\n",
            "Closed? 14529\n",
            "Closed? 57538\n",
            "Closed? 62439\n"
          ],
          "name": "stdout"
        },
        {
          "output_type": "stream",
          "text": [
            " 20%|█▉        | 695/3510 [00:08<00:31, 89.15it/s]"
          ],
          "name": "stderr"
        },
        {
          "output_type": "stream",
          "text": [
            "Closed? 18967\n",
            "Closed? 28312\n",
            "Closed? 15564\n",
            "Closed? 23577\n"
          ],
          "name": "stdout"
        },
        {
          "output_type": "stream",
          "text": [
            " 20%|██        | 716/3510 [00:08<00:32, 86.72it/s]"
          ],
          "name": "stderr"
        },
        {
          "output_type": "stream",
          "text": [
            "Closed? 11230\n",
            "Closed? 20842\n",
            "Closed? 18682\n",
            "Closed? 22506\n",
            "Closed? 62672\n",
            "Closed? 14855\n"
          ],
          "name": "stdout"
        },
        {
          "output_type": "stream",
          "text": [
            " 21%|██▏       | 746/3510 [00:09<00:33, 82.28it/s]"
          ],
          "name": "stderr"
        },
        {
          "output_type": "stream",
          "text": [
            "Closed? 57996\n",
            "Closed? 17071\n",
            "Closed? 384\n"
          ],
          "name": "stdout"
        },
        {
          "output_type": "stream",
          "text": [
            " 22%|██▏       | 779/3510 [00:09<00:29, 92.43it/s]"
          ],
          "name": "stderr"
        },
        {
          "output_type": "stream",
          "text": [
            "Closed? 35807\n",
            "Closed? 503\n",
            "Closed? 15289\n",
            "Closed? 33533\n",
            "Closed? 29828\n",
            "Closed? 58733\n",
            "Closed? 10245\n",
            "Closed? 35140\n",
            "Closed? 3435\n"
          ],
          "name": "stdout"
        },
        {
          "output_type": "stream",
          "text": [
            " 23%|██▎       | 800/3510 [00:09<00:30, 90.26it/s]"
          ],
          "name": "stderr"
        },
        {
          "output_type": "stream",
          "text": [
            "Closed? 33567\n",
            "Closed? 788\n",
            "Closed? 62546\n",
            "Closed? 35566\n",
            "Closed? 30879\n",
            "Closed? 31140\n"
          ],
          "name": "stdout"
        },
        {
          "output_type": "stream",
          "text": [
            " 24%|██▎       | 829/3510 [00:10<00:33, 79.15it/s]"
          ],
          "name": "stderr"
        },
        {
          "output_type": "stream",
          "text": [
            "Closed? 27350\n",
            "Closed? 14589\n"
          ],
          "name": "stdout"
        },
        {
          "output_type": "stream",
          "text": [
            " 24%|██▍       | 848/3510 [00:10<00:32, 82.93it/s]"
          ],
          "name": "stderr"
        },
        {
          "output_type": "stream",
          "text": [
            "Closed? 25836\n",
            "Closed? 62827\n",
            "Closed? 63520\n",
            "Closed? 56562\n"
          ],
          "name": "stdout"
        },
        {
          "output_type": "stream",
          "text": [
            " 25%|██▍       | 875/3510 [00:10<00:34, 76.79it/s]"
          ],
          "name": "stderr"
        },
        {
          "output_type": "stream",
          "text": [
            "Closed? 31939\n",
            "Closed? 53770\n"
          ],
          "name": "stdout"
        },
        {
          "output_type": "stream",
          "text": [
            " 26%|██▌       | 902/3510 [00:10<00:32, 81.00it/s]"
          ],
          "name": "stderr"
        },
        {
          "output_type": "stream",
          "text": [
            "Closed? 23797\n",
            "Closed? 10047\n",
            "Closed? 54211\n",
            "Closed? 55675\n",
            "Closed? 63385\n"
          ],
          "name": "stdout"
        },
        {
          "output_type": "stream",
          "text": [
            " 26%|██▋       | 929/3510 [00:11<00:31, 81.98it/s]"
          ],
          "name": "stderr"
        },
        {
          "output_type": "stream",
          "text": [
            "Closed? 6652\n",
            "Closed? 20072\n",
            "Closed? 59218\n",
            "Closed? 28828\n"
          ],
          "name": "stdout"
        },
        {
          "output_type": "stream",
          "text": [
            " 27%|██▋       | 947/3510 [00:11<00:30, 82.86it/s]"
          ],
          "name": "stderr"
        },
        {
          "output_type": "stream",
          "text": [
            "Closed? 791\n",
            "Closed? 7316\n",
            "Closed? 3571\n",
            "Closed? 14511\n",
            "Closed? 56403\n",
            "Closed? 53882\n"
          ],
          "name": "stdout"
        },
        {
          "output_type": "stream",
          "text": [
            " 28%|██▊       | 978/3510 [00:11<00:27, 91.13it/s]"
          ],
          "name": "stderr"
        },
        {
          "output_type": "stream",
          "text": [
            "Closed? 35964\n",
            "Closed? 54714\n",
            "Closed? 7840\n",
            "Closed? 22000\n",
            "Closed? 55320\n",
            "Closed? 63690\n"
          ],
          "name": "stdout"
        },
        {
          "output_type": "stream",
          "text": [
            " 29%|██▉       | 1015/3510 [00:12<00:30, 80.99it/s]"
          ],
          "name": "stderr"
        },
        {
          "output_type": "stream",
          "text": [
            "Closed? 60633\n",
            "Closed? 23570\n",
            "Closed? 4373\n",
            "Closed? 36937\n",
            "Closed? 9746\n"
          ],
          "name": "stdout"
        },
        {
          "output_type": "stream",
          "text": [
            " 30%|██▉       | 1042/3510 [00:12<00:30, 82.26it/s]"
          ],
          "name": "stderr"
        },
        {
          "output_type": "stream",
          "text": [
            "Closed? 1230\n",
            "Closed? 7822\n"
          ],
          "name": "stdout"
        },
        {
          "output_type": "stream",
          "text": [
            " 31%|███       | 1078/3510 [00:13<00:29, 81.74it/s]"
          ],
          "name": "stderr"
        },
        {
          "output_type": "stream",
          "text": [
            "Closed? 32260\n",
            "Closed? 33529\n",
            "Closed? 7322\n",
            "Closed? 31402\n"
          ],
          "name": "stdout"
        },
        {
          "output_type": "stream",
          "text": [
            " 31%|███       | 1096/3510 [00:13<00:28, 84.35it/s]"
          ],
          "name": "stderr"
        },
        {
          "output_type": "stream",
          "text": [
            "Closed? 23506\n",
            "Closed? 31321\n",
            "Closed? 59490\n",
            "Closed? 13892\n",
            "Closed? 54908\n",
            "Closed? 10958\n"
          ],
          "name": "stdout"
        },
        {
          "output_type": "stream",
          "text": [
            " 32%|███▏      | 1124/3510 [00:13<00:28, 84.06it/s]"
          ],
          "name": "stderr"
        },
        {
          "output_type": "stream",
          "text": [
            "Closed? 56360\n",
            "Closed? 6405\n",
            "Closed? 7771\n"
          ],
          "name": "stdout"
        },
        {
          "output_type": "stream",
          "text": [
            " 33%|███▎      | 1143/3510 [00:13<00:28, 82.29it/s]"
          ],
          "name": "stderr"
        },
        {
          "output_type": "stream",
          "text": [
            "Closed? 58913\n",
            "Closed? 23322\n",
            "Closed? 16138\n",
            "Closed? 7314\n"
          ],
          "name": "stdout"
        },
        {
          "output_type": "stream",
          "text": [
            " 33%|███▎      | 1162/3510 [00:14<00:27, 84.49it/s]"
          ],
          "name": "stderr"
        },
        {
          "output_type": "stream",
          "text": [
            "Closed? 35343\n",
            "Closed? 6103\n",
            "Closed? 27227\n",
            "Closed? 14149\n"
          ],
          "name": "stdout"
        },
        {
          "output_type": "stream",
          "text": [
            " 34%|███▎      | 1181/3510 [00:14<00:26, 88.09it/s]"
          ],
          "name": "stderr"
        },
        {
          "output_type": "stream",
          "text": [
            "Closed? 11949\n",
            "Closed? 7456\n",
            "Closed? 26686\n",
            "Closed? 55504\n"
          ],
          "name": "stdout"
        },
        {
          "output_type": "stream",
          "text": [
            " 34%|███▍      | 1208/3510 [00:14<00:28, 80.87it/s]"
          ],
          "name": "stderr"
        },
        {
          "output_type": "stream",
          "text": [
            "Closed? 23575\n",
            "Closed? 28833\n",
            "Closed? 3813\n",
            "Closed? 11409\n",
            "Closed? 57504\n"
          ],
          "name": "stdout"
        },
        {
          "output_type": "stream",
          "text": [
            " 35%|███▍      | 1227/3510 [00:14<00:26, 86.65it/s]"
          ],
          "name": "stderr"
        },
        {
          "output_type": "stream",
          "text": [
            "Closed? 27315\n",
            "Closed? 58422\n",
            "Closed? 52688\n"
          ],
          "name": "stdout"
        },
        {
          "output_type": "stream",
          "text": [
            " 36%|███▌      | 1258/3510 [00:15<00:24, 90.77it/s]"
          ],
          "name": "stderr"
        },
        {
          "output_type": "stream",
          "text": [
            "Closed? 56627\n",
            "Closed? 541\n",
            "Closed? 57568\n",
            "Closed? 4323\n",
            "Closed? 36558\n",
            "Closed? 10352\n",
            "Closed? 59604\n",
            "Closed? 696\n",
            "Closed? 22366\n",
            "Closed? 59033\n"
          ],
          "name": "stdout"
        },
        {
          "output_type": "stream",
          "text": [
            " 36%|███▋      | 1278/3510 [00:15<00:24, 90.36it/s]"
          ],
          "name": "stderr"
        },
        {
          "output_type": "stream",
          "text": [
            "Closed? 6685\n",
            "Closed? 5900\n",
            "Closed? 62942\n"
          ],
          "name": "stdout"
        },
        {
          "output_type": "stream",
          "text": [
            " 37%|███▋      | 1306/3510 [00:15<00:26, 82.74it/s]"
          ],
          "name": "stderr"
        },
        {
          "output_type": "stream",
          "text": [
            "Closed? 23569\n",
            "Closed? 9609\n",
            "Closed? 19027\n",
            "Closed? 62265\n"
          ],
          "name": "stdout"
        },
        {
          "output_type": "stream",
          "text": [
            " 38%|███▊      | 1335/3510 [00:16<00:25, 84.41it/s]"
          ],
          "name": "stderr"
        },
        {
          "output_type": "stream",
          "text": [
            "Closed? 56457\n",
            "Closed? 17247\n",
            "Closed? 9988\n",
            "Closed? 18586\n",
            "Closed? 21886\n",
            "Closed? 9975\n",
            "Closed? 16003\n",
            "Closed? 6217\n",
            "Closed? 10944\n"
          ],
          "name": "stdout"
        },
        {
          "output_type": "stream",
          "text": [
            " 39%|███▊      | 1356/3510 [00:16<00:23, 92.28it/s]"
          ],
          "name": "stderr"
        },
        {
          "output_type": "stream",
          "text": [
            "Closed? 13404\n",
            "Closed? 62879\n",
            "Closed? 55452\n",
            "Closed? 56206\n",
            "Closed? 59027\n",
            "Closed? 12225\n"
          ],
          "name": "stdout"
        },
        {
          "output_type": "stream",
          "text": [
            " 39%|███▉      | 1386/3510 [00:16<00:24, 85.85it/s]"
          ],
          "name": "stderr"
        },
        {
          "output_type": "stream",
          "text": [
            "Closed? 54465\n",
            "Closed? 9603\n",
            "Closed? 12100\n",
            "Closed? 1918\n",
            "Closed? 2367\n"
          ],
          "name": "stdout"
        },
        {
          "output_type": "stream",
          "text": [
            " 41%|████      | 1424/3510 [00:17<00:25, 81.79it/s]"
          ],
          "name": "stderr"
        },
        {
          "output_type": "stream",
          "text": [
            "Closed? 32194\n",
            "Closed? 54549\n",
            "Closed? 19384\n",
            "Closed? 34723\n"
          ],
          "name": "stdout"
        },
        {
          "output_type": "stream",
          "text": [
            " 42%|████▏     | 1467/3510 [00:17<00:25, 79.41it/s]"
          ],
          "name": "stderr"
        },
        {
          "output_type": "stream",
          "text": [
            "Closed? 20382\n",
            "Closed? 6845\n",
            "Closed? 21148\n",
            "Closed? 29833\n",
            "Closed? 19497\n",
            "Closed? 1745\n"
          ],
          "name": "stdout"
        },
        {
          "output_type": "stream",
          "text": [
            " 43%|████▎     | 1496/3510 [00:18<00:24, 83.70it/s]"
          ],
          "name": "stderr"
        },
        {
          "output_type": "stream",
          "text": [
            "Closed? 27803\n",
            "Closed? 26709\n",
            "Closed? 20689\n"
          ],
          "name": "stdout"
        },
        {
          "output_type": "stream",
          "text": [
            " 43%|████▎     | 1514/3510 [00:18<00:23, 85.85it/s]"
          ],
          "name": "stderr"
        },
        {
          "output_type": "stream",
          "text": [
            "Closed? 33738\n",
            "Closed? 27683\n",
            "Closed? 5874\n",
            "Closed? 17365\n",
            "Closed? 63291\n"
          ],
          "name": "stdout"
        },
        {
          "output_type": "stream",
          "text": [
            " 44%|████▎     | 1533/3510 [00:18<00:23, 84.36it/s]"
          ],
          "name": "stderr"
        },
        {
          "output_type": "stream",
          "text": [
            "Closed? 9414\n",
            "Closed? 19970\n",
            "Closed? 32141\n",
            "Closed? 31807\n"
          ],
          "name": "stdout"
        },
        {
          "output_type": "stream",
          "text": [
            " 45%|████▍     | 1570/3510 [00:18<00:23, 81.80it/s]"
          ],
          "name": "stderr"
        },
        {
          "output_type": "stream",
          "text": [
            "Closed? 20143\n",
            "Closed? 61622\n",
            "Closed? 22372\n"
          ],
          "name": "stdout"
        },
        {
          "output_type": "stream",
          "text": [
            " 45%|████▌     | 1588/3510 [00:19<00:24, 77.67it/s]"
          ],
          "name": "stderr"
        },
        {
          "output_type": "stream",
          "text": [
            "Closed? 11901\n",
            "Closed? 3076\n"
          ],
          "name": "stdout"
        },
        {
          "output_type": "stream",
          "text": [
            " 46%|████▌     | 1607/3510 [00:19<00:22, 84.65it/s]"
          ],
          "name": "stderr"
        },
        {
          "output_type": "stream",
          "text": [
            "Closed? 35320\n",
            "Closed? 189\n",
            "Closed? 17949\n",
            "Closed? 55580\n"
          ],
          "name": "stdout"
        },
        {
          "output_type": "stream",
          "text": [
            " 47%|████▋     | 1634/3510 [00:19<00:22, 82.10it/s]"
          ],
          "name": "stderr"
        },
        {
          "output_type": "stream",
          "text": [
            "Closed? 20638\n",
            "Closed? 6495\n",
            "Closed? 34613\n",
            "Closed? 23547\n",
            "Closed? 34710\n",
            "Closed? 26730\n"
          ],
          "name": "stdout"
        },
        {
          "output_type": "stream",
          "text": [
            " 47%|████▋     | 1655/3510 [00:19<00:20, 91.49it/s]"
          ],
          "name": "stderr"
        },
        {
          "output_type": "stream",
          "text": [
            "Closed? 18900\n",
            "Closed? 54170\n",
            "Closed? 54295\n",
            "Closed? 55815\n"
          ],
          "name": "stdout"
        },
        {
          "output_type": "stream",
          "text": [
            " 48%|████▊     | 1687/3510 [00:20<00:20, 90.63it/s]"
          ],
          "name": "stderr"
        },
        {
          "output_type": "stream",
          "text": [
            "Closed? 1689\n",
            "Closed? 28618\n",
            "Closed? 5524\n",
            "Closed? 9824\n",
            "Closed? 34555\n",
            "Closed? 19840\n",
            "Closed? 15330\n"
          ],
          "name": "stdout"
        },
        {
          "output_type": "stream",
          "text": [
            " 49%|████▊     | 1709/3510 [00:20<00:20, 89.89it/s]"
          ],
          "name": "stderr"
        },
        {
          "output_type": "stream",
          "text": [
            "Closed? 58069\n",
            "Closed? 25955\n",
            "Closed? 61774\n",
            "Closed? 57468\n"
          ],
          "name": "stdout"
        },
        {
          "output_type": "stream",
          "text": [
            " 49%|████▉     | 1728/3510 [00:20<00:21, 81.33it/s]"
          ],
          "name": "stderr"
        },
        {
          "output_type": "stream",
          "text": [
            "Closed? 29635\n"
          ],
          "name": "stdout"
        },
        {
          "output_type": "stream",
          "text": [
            " 50%|████▉     | 1746/3510 [00:21<00:21, 80.34it/s]"
          ],
          "name": "stderr"
        },
        {
          "output_type": "stream",
          "text": [
            "Closed? 56241\n",
            "Closed? 19346\n",
            "Closed? 53753\n"
          ],
          "name": "stdout"
        },
        {
          "output_type": "stream",
          "text": [
            " 50%|█████     | 1764/3510 [00:21<00:22, 78.03it/s]"
          ],
          "name": "stderr"
        },
        {
          "output_type": "stream",
          "text": [
            "Closed? 22672\n",
            "Closed? 56861\n",
            "Closed? 20637\n"
          ],
          "name": "stdout"
        },
        {
          "output_type": "stream",
          "text": [
            " 51%|█████     | 1796/3510 [00:21<00:19, 86.15it/s]"
          ],
          "name": "stderr"
        },
        {
          "output_type": "stream",
          "text": [
            "Closed? 7524\n",
            "Closed? 30735\n",
            "Closed? 5824\n",
            "Closed? 29586\n",
            "Closed? 9273\n",
            "Closed? 22911\n"
          ],
          "name": "stdout"
        },
        {
          "output_type": "stream",
          "text": [
            " 52%|█████▏    | 1815/3510 [00:21<00:19, 88.66it/s]"
          ],
          "name": "stderr"
        },
        {
          "output_type": "stream",
          "text": [
            "Closed? 1463\n",
            "Closed? 15396\n",
            "Closed? 15651\n",
            "Closed? 10039\n",
            "Closed? 16232\n",
            "Closed? 20631\n"
          ],
          "name": "stdout"
        },
        {
          "output_type": "stream",
          "text": [
            " 52%|█████▏    | 1836/3510 [00:22<00:18, 89.69it/s]"
          ],
          "name": "stderr"
        },
        {
          "output_type": "stream",
          "text": [
            "Closed? 29467\n",
            "Closed? 14842\n",
            "Closed? 54069\n"
          ],
          "name": "stdout"
        },
        {
          "output_type": "stream",
          "text": [
            " 53%|█████▎    | 1855/3510 [00:22<00:20, 81.36it/s]"
          ],
          "name": "stderr"
        },
        {
          "output_type": "stream",
          "text": [
            "Closed? 14643\n",
            "Closed? 8028\n"
          ],
          "name": "stdout"
        },
        {
          "output_type": "stream",
          "text": [
            " 53%|█████▎    | 1875/3510 [00:22<00:18, 86.82it/s]"
          ],
          "name": "stderr"
        },
        {
          "output_type": "stream",
          "text": [
            "Closed? 31866\n",
            "Closed? 12165\n",
            "Closed? 16906\n",
            "Closed? 60689\n",
            "Closed? 10068\n",
            "Closed? 19761\n"
          ],
          "name": "stdout"
        },
        {
          "output_type": "stream",
          "text": [
            " 54%|█████▍    | 1897/3510 [00:22<00:16, 96.40it/s]"
          ],
          "name": "stderr"
        },
        {
          "output_type": "stream",
          "text": [
            "Closed? 3285\n",
            "Closed? 16447\n",
            "Closed? 35103\n",
            "Closed? 2645\n",
            "Closed? 25085\n",
            "Closed? 35075\n",
            "Closed? 9679\n",
            "Closed? 9086\n",
            "Closed? 1264\n"
          ],
          "name": "stdout"
        },
        {
          "output_type": "stream",
          "text": [
            " 55%|█████▌    | 1936/3510 [00:23<00:18, 86.36it/s]"
          ],
          "name": "stderr"
        },
        {
          "output_type": "stream",
          "text": [
            "Closed? 61280\n",
            "Closed? 59326\n",
            "Closed? 28015\n",
            "Closed? 25907\n",
            "Closed? 10063\n"
          ],
          "name": "stdout"
        },
        {
          "output_type": "stream",
          "text": [
            " 56%|█████▌    | 1954/3510 [00:23<00:18, 81.97it/s]"
          ],
          "name": "stderr"
        },
        {
          "output_type": "stream",
          "text": [
            "Closed? 36965\n",
            "Closed? 8598\n"
          ],
          "name": "stdout"
        },
        {
          "output_type": "stream",
          "text": [
            " 56%|█████▋    | 1982/3510 [00:23<00:19, 77.10it/s]"
          ],
          "name": "stderr"
        },
        {
          "output_type": "stream",
          "text": [
            "Closed? 11076\n",
            "Closed? 20614\n"
          ],
          "name": "stdout"
        },
        {
          "output_type": "stream",
          "text": [
            " 57%|█████▋    | 2007/3510 [00:24<00:19, 75.94it/s]"
          ],
          "name": "stderr"
        },
        {
          "output_type": "stream",
          "text": [
            "Closed? 6139\n",
            "Closed? 26390\n",
            "Closed? 7863\n"
          ],
          "name": "stdout"
        },
        {
          "output_type": "stream",
          "text": [
            " 58%|█████▊    | 2023/3510 [00:24<00:20, 73.53it/s]"
          ],
          "name": "stderr"
        },
        {
          "output_type": "stream",
          "text": [
            "Closed? 30494\n"
          ],
          "name": "stdout"
        },
        {
          "output_type": "stream",
          "text": [
            " 58%|█████▊    | 2051/3510 [00:24<00:18, 77.81it/s]"
          ],
          "name": "stderr"
        },
        {
          "output_type": "stream",
          "text": [
            "Closed? 16550\n",
            "Closed? 6023\n",
            "Closed? 57753\n",
            "Closed? 54260\n",
            "Closed? 22532\n",
            "Closed? 34258\n"
          ],
          "name": "stdout"
        },
        {
          "output_type": "stream",
          "text": [
            " 59%|█████▉    | 2080/3510 [00:25<00:17, 82.92it/s]"
          ],
          "name": "stderr"
        },
        {
          "output_type": "stream",
          "text": [
            "Closed? 32725\n",
            "Closed? 26412\n",
            "Closed? 3564\n",
            "Closed? 26176\n",
            "Closed? 55518\n",
            "Closed? 12598\n",
            "Closed? 60297\n"
          ],
          "name": "stdout"
        },
        {
          "output_type": "stream",
          "text": [
            " 60%|█████▉    | 2098/3510 [00:25<00:17, 82.09it/s]"
          ],
          "name": "stderr"
        },
        {
          "output_type": "stream",
          "text": [
            "Closed? 25905\n",
            "Closed? 19583\n",
            "Closed? 59224\n"
          ],
          "name": "stdout"
        },
        {
          "output_type": "stream",
          "text": [
            " 60%|██████    | 2123/3510 [00:25<00:17, 77.92it/s]"
          ],
          "name": "stderr"
        },
        {
          "output_type": "stream",
          "text": [
            "Closed? 10418\n",
            "Closed? 15299\n"
          ],
          "name": "stdout"
        },
        {
          "output_type": "stream",
          "text": [
            " 61%|██████    | 2149/3510 [00:25<00:17, 77.64it/s]"
          ],
          "name": "stderr"
        },
        {
          "output_type": "stream",
          "text": [
            "Closed? 16866\n",
            "Closed? 34172\n",
            "Closed? 60630\n"
          ],
          "name": "stdout"
        },
        {
          "output_type": "stream",
          "text": [
            " 62%|██████▏   | 2168/3510 [00:26<00:16, 80.52it/s]"
          ],
          "name": "stderr"
        },
        {
          "output_type": "stream",
          "text": [
            "Closed? 4325\n",
            "Closed? 6803\n",
            "Closed? 28191\n",
            "Closed? 17216\n",
            "Closed? 10\n"
          ],
          "name": "stdout"
        },
        {
          "output_type": "stream",
          "text": [
            " 63%|██████▎   | 2211/3510 [00:26<00:17, 72.98it/s]"
          ],
          "name": "stderr"
        },
        {
          "output_type": "stream",
          "text": [
            "Closed? 21768\n",
            "Closed? 58223\n"
          ],
          "name": "stdout"
        },
        {
          "output_type": "stream",
          "text": [
            " 64%|██████▎   | 2229/3510 [00:27<00:17, 73.69it/s]"
          ],
          "name": "stderr"
        },
        {
          "output_type": "stream",
          "text": [
            "Closed? 22131\n"
          ],
          "name": "stdout"
        },
        {
          "output_type": "stream",
          "text": [
            " 64%|██████▍   | 2246/3510 [00:27<00:17, 73.82it/s]"
          ],
          "name": "stderr"
        },
        {
          "output_type": "stream",
          "text": [
            "Closed? 57232\n"
          ],
          "name": "stdout"
        },
        {
          "output_type": "stream",
          "text": [
            " 65%|██████▍   | 2274/3510 [00:27<00:15, 81.55it/s]"
          ],
          "name": "stderr"
        },
        {
          "output_type": "stream",
          "text": [
            "Closed? 31201\n",
            "Closed? 11811\n",
            "Closed? 21056\n",
            "Closed? 17401\n",
            "Closed? 15663\n",
            "Closed? 56536\n"
          ],
          "name": "stdout"
        },
        {
          "output_type": "stream",
          "text": [
            " 65%|██████▌   | 2293/3510 [00:27<00:14, 82.93it/s]"
          ],
          "name": "stderr"
        },
        {
          "output_type": "stream",
          "text": [
            "Closed? 63829\n",
            "Closed? 15447\n",
            "Closed? 54123\n"
          ],
          "name": "stdout"
        },
        {
          "output_type": "stream",
          "text": [
            " 66%|██████▌   | 2324/3510 [00:28<00:13, 91.19it/s]"
          ],
          "name": "stderr"
        },
        {
          "output_type": "stream",
          "text": [
            "Closed? 19972\n",
            "Closed? 59254\n",
            "Closed? 60419\n",
            "Closed? 5861\n",
            "Closed? 35374\n",
            "Closed? 63734\n",
            "Closed? 30031\n",
            "Closed? 25948\n"
          ],
          "name": "stdout"
        },
        {
          "output_type": "stream",
          "text": [
            " 67%|██████▋   | 2345/3510 [00:28<00:12, 92.79it/s]"
          ],
          "name": "stderr"
        },
        {
          "output_type": "stream",
          "text": [
            "Closed? 33741\n",
            "Closed? 12238\n",
            "Closed? 2600\n",
            "Closed? 14368\n",
            "Closed? 22496\n"
          ],
          "name": "stdout"
        },
        {
          "output_type": "stream",
          "text": [
            " 67%|██████▋   | 2365/3510 [00:28<00:13, 87.13it/s]"
          ],
          "name": "stderr"
        },
        {
          "output_type": "stream",
          "text": [
            "Closed? 22073\n",
            "Closed? 27867\n",
            "Closed? 30506\n"
          ],
          "name": "stdout"
        },
        {
          "output_type": "stream",
          "text": [
            " 68%|██████▊   | 2386/3510 [00:28<00:12, 89.53it/s]"
          ],
          "name": "stderr"
        },
        {
          "output_type": "stream",
          "text": [
            "Closed? 15000\n",
            "Closed? 11718\n",
            "Closed? 63774\n",
            "Closed? 21535\n",
            "Closed? 1718\n"
          ],
          "name": "stdout"
        },
        {
          "output_type": "stream",
          "text": [
            " 69%|██████▊   | 2406/3510 [00:29<00:12, 89.33it/s]"
          ],
          "name": "stderr"
        },
        {
          "output_type": "stream",
          "text": [
            "Closed? 7735\n",
            "Closed? 10171\n",
            "Closed? 56495\n",
            "Closed? 63374\n",
            "Closed? 53326\n",
            "Closed? 61882\n",
            "Closed? 5186\n"
          ],
          "name": "stdout"
        },
        {
          "output_type": "stream",
          "text": [
            " 69%|██████▉   | 2428/3510 [00:29<00:12, 89.01it/s]"
          ],
          "name": "stderr"
        },
        {
          "output_type": "stream",
          "text": [
            "Closed? 58553\n",
            "Closed? 54310\n",
            "Closed? 14598\n",
            "Closed? 17721\n",
            "Closed? 33846\n"
          ],
          "name": "stdout"
        },
        {
          "output_type": "stream",
          "text": [
            " 70%|███████   | 2458/3510 [00:29<00:11, 88.13it/s]"
          ],
          "name": "stderr"
        },
        {
          "output_type": "stream",
          "text": [
            "Closed? 6043\n",
            "Closed? 35203\n",
            "Closed? 22999\n",
            "Closed? 11544\n",
            "Closed? 32728\n",
            "Closed? 18096\n"
          ],
          "name": "stdout"
        },
        {
          "output_type": "stream",
          "text": [
            " 71%|███████   | 2480/3510 [00:29<00:10, 93.75it/s]"
          ],
          "name": "stderr"
        },
        {
          "output_type": "stream",
          "text": [
            "Closed? 61416\n",
            "Closed? 17650\n",
            "Closed? 23049\n",
            "Closed? 15721\n",
            "Closed? 32120\n",
            "Closed? 14054\n",
            "Closed? 33701\n"
          ],
          "name": "stdout"
        },
        {
          "output_type": "stream",
          "text": [
            " 71%|███████▏  | 2501/3510 [00:30<00:10, 98.01it/s]"
          ],
          "name": "stderr"
        },
        {
          "output_type": "stream",
          "text": [
            "Closed? 10020\n",
            "Closed? 9667\n",
            "Closed? 61107\n",
            "Closed? 8393\n",
            "Closed? 5106\n",
            "Closed? 20885\n",
            "Closed? 63696\n"
          ],
          "name": "stdout"
        },
        {
          "output_type": "stream",
          "text": [
            " 72%|███████▏  | 2521/3510 [00:30<00:10, 93.72it/s]"
          ],
          "name": "stderr"
        },
        {
          "output_type": "stream",
          "text": [
            "Closed? 21989\n",
            "Closed? 13685\n",
            "Closed? 21559\n",
            "Closed? 36996\n",
            "Closed? 60449\n"
          ],
          "name": "stdout"
        },
        {
          "output_type": "stream",
          "text": [
            " 72%|███████▏  | 2542/3510 [00:30<00:10, 93.17it/s]"
          ],
          "name": "stderr"
        },
        {
          "output_type": "stream",
          "text": [
            "Closed? 57425\n"
          ],
          "name": "stdout"
        },
        {
          "output_type": "stream",
          "text": [
            " 73%|███████▎  | 2572/3510 [00:30<00:10, 91.33it/s]"
          ],
          "name": "stderr"
        },
        {
          "output_type": "stream",
          "text": [
            "Closed? 23271\n",
            "Closed? 24254\n",
            "Closed? 24135\n",
            "Closed? 56862\n"
          ],
          "name": "stdout"
        },
        {
          "output_type": "stream",
          "text": [
            " 74%|███████▍  | 2595/3510 [00:31<00:09, 100.37it/s]"
          ],
          "name": "stderr"
        },
        {
          "output_type": "stream",
          "text": [
            "Closed? 1159\n",
            "Closed? 3808\n",
            "Closed? 62760\n",
            "Closed? 56151\n",
            "Closed? 8924\n",
            "Closed? 61874\n",
            "Closed? 61662\n",
            "Closed? 26096\n"
          ],
          "name": "stdout"
        },
        {
          "output_type": "stream",
          "text": [
            " 75%|███████▍  | 2616/3510 [00:31<00:09, 92.70it/s]"
          ],
          "name": "stderr"
        },
        {
          "output_type": "stream",
          "text": [
            "Closed? 10755\n"
          ],
          "name": "stdout"
        },
        {
          "output_type": "stream",
          "text": [
            " 75%|███████▌  | 2648/3510 [00:31<00:09, 94.96it/s]"
          ],
          "name": "stderr"
        },
        {
          "output_type": "stream",
          "text": [
            "Closed? 57993\n",
            "Closed? 34096\n",
            "Closed? 25726\n",
            "Closed? 20067\n",
            "Closed? 27836\n",
            "Closed? 36104\n"
          ],
          "name": "stdout"
        },
        {
          "output_type": "stream",
          "text": [
            " 76%|███████▌  | 2668/3510 [00:31<00:09, 88.76it/s]"
          ],
          "name": "stderr"
        },
        {
          "output_type": "stream",
          "text": [
            "Closed? 25705\n",
            "Closed? 56425\n"
          ],
          "name": "stdout"
        },
        {
          "output_type": "stream",
          "text": [
            " 77%|███████▋  | 2689/3510 [00:32<00:08, 93.23it/s]"
          ],
          "name": "stderr"
        },
        {
          "output_type": "stream",
          "text": [
            "Closed? 24038\n",
            "Closed? 19211\n",
            "Closed? 22275\n",
            "Closed? 4764\n",
            "Closed? 33493\n"
          ],
          "name": "stdout"
        },
        {
          "output_type": "stream",
          "text": [
            " 78%|███████▊  | 2721/3510 [00:32<00:08, 96.05it/s]"
          ],
          "name": "stderr"
        },
        {
          "output_type": "stream",
          "text": [
            "Closed? 63214\n",
            "Closed? 35328\n",
            "Closed? 63756\n",
            "Closed? 55006\n",
            "Closed? 2723\n",
            "Closed? 27190\n",
            "Closed? 1917\n"
          ],
          "name": "stdout"
        },
        {
          "output_type": "stream",
          "text": [
            " 78%|███████▊  | 2743/3510 [00:32<00:07, 97.26it/s]"
          ],
          "name": "stderr"
        },
        {
          "output_type": "stream",
          "text": [
            "Closed? 23480\n",
            "Closed? 28703\n",
            "Closed? 7350\n",
            "Closed? 54615\n",
            "Closed? 13932\n"
          ],
          "name": "stdout"
        },
        {
          "output_type": "stream",
          "text": [
            " 79%|███████▉  | 2766/3510 [00:32<00:07, 95.47it/s]"
          ],
          "name": "stderr"
        },
        {
          "output_type": "stream",
          "text": [
            "Closed? 26724\n",
            "Closed? 29916\n",
            "Closed? 12145\n",
            "Closed? 12866\n",
            "Closed? 26342\n",
            "Closed? 22696\n"
          ],
          "name": "stdout"
        },
        {
          "output_type": "stream",
          "text": [
            " 80%|███████▉  | 2801/3510 [00:33<00:07, 100.40it/s]"
          ],
          "name": "stderr"
        },
        {
          "output_type": "stream",
          "text": [
            "Closed? 28173\n",
            "Closed? 57748\n",
            "Closed? 60216\n",
            "Closed? 22246\n",
            "Closed? 62447\n",
            "Closed? 21088\n",
            "Closed? 10204\n",
            "Closed? 13937\n",
            "Closed? 60338\n",
            "Closed? 10409\n"
          ],
          "name": "stdout"
        },
        {
          "output_type": "stream",
          "text": [
            " 80%|████████  | 2823/3510 [00:33<00:07, 92.80it/s] "
          ],
          "name": "stderr"
        },
        {
          "output_type": "stream",
          "text": [
            "Closed? 32995\n",
            "Closed? 7597\n"
          ],
          "name": "stdout"
        },
        {
          "output_type": "stream",
          "text": [
            " 81%|████████  | 2843/3510 [00:33<00:07, 90.45it/s]"
          ],
          "name": "stderr"
        },
        {
          "output_type": "stream",
          "text": [
            "Closed? 60385\n",
            "Closed? 20782\n",
            "Closed? 2721\n",
            "Closed? 5233\n",
            "Closed? 54110\n"
          ],
          "name": "stdout"
        },
        {
          "output_type": "stream",
          "text": [
            " 82%|████████▏ | 2881/3510 [00:34<00:07, 82.84it/s]"
          ],
          "name": "stderr"
        },
        {
          "output_type": "stream",
          "text": [
            "Closed? 3739\n",
            "Closed? 15792\n"
          ],
          "name": "stdout"
        },
        {
          "output_type": "stream",
          "text": [
            " 83%|████████▎ | 2899/3510 [00:34<00:07, 81.42it/s]"
          ],
          "name": "stderr"
        },
        {
          "output_type": "stream",
          "text": [
            "Closed? 31716\n"
          ],
          "name": "stdout"
        },
        {
          "output_type": "stream",
          "text": [
            " 83%|████████▎ | 2926/3510 [00:34<00:07, 82.25it/s]"
          ],
          "name": "stderr"
        },
        {
          "output_type": "stream",
          "text": [
            "Closed? 30744\n",
            "Closed? 34106\n",
            "Closed? 33510\n"
          ],
          "name": "stdout"
        },
        {
          "output_type": "stream",
          "text": [
            " 84%|████████▍ | 2946/3510 [00:34<00:06, 88.58it/s]"
          ],
          "name": "stderr"
        },
        {
          "output_type": "stream",
          "text": [
            "Closed? 22904\n",
            "Closed? 29720\n",
            "Closed? 28164\n",
            "Closed? 34901\n"
          ],
          "name": "stdout"
        },
        {
          "output_type": "stream",
          "text": [
            " 85%|████████▍ | 2982/3510 [00:35<00:06, 84.59it/s]"
          ],
          "name": "stderr"
        },
        {
          "output_type": "stream",
          "text": [
            "Closed? 27452\n",
            "Closed? 58444\n"
          ],
          "name": "stdout"
        },
        {
          "output_type": "stream",
          "text": [
            " 85%|████████▌ | 3000/3510 [00:35<00:06, 81.25it/s]"
          ],
          "name": "stderr"
        },
        {
          "output_type": "stream",
          "text": [
            "Closed? 23598\n"
          ],
          "name": "stdout"
        },
        {
          "output_type": "stream",
          "text": [
            " 86%|████████▌ | 3027/3510 [00:35<00:05, 84.00it/s]"
          ],
          "name": "stderr"
        },
        {
          "output_type": "stream",
          "text": [
            "Closed? 33885\n",
            "Closed? 21158\n",
            "Closed? 16036\n"
          ],
          "name": "stdout"
        },
        {
          "output_type": "stream",
          "text": [
            " 87%|████████▋ | 3045/3510 [00:36<00:05, 82.39it/s]"
          ],
          "name": "stderr"
        },
        {
          "output_type": "stream",
          "text": [
            "Closed? 34390\n",
            "Closed? 34056\n"
          ],
          "name": "stdout"
        },
        {
          "output_type": "stream",
          "text": [
            " 87%|████████▋ | 3066/3510 [00:36<00:04, 91.74it/s]"
          ],
          "name": "stderr"
        },
        {
          "output_type": "stream",
          "text": [
            "Closed? 487\n",
            "Closed? 33593\n",
            "Closed? 15286\n",
            "Closed? 29177\n",
            "Closed? 4926\n",
            "Closed? 56477\n",
            "Closed? 4247\n",
            "Closed? 12231\n"
          ],
          "name": "stdout"
        },
        {
          "output_type": "stream",
          "text": [
            " 89%|████████▊ | 3115/3510 [00:36<00:04, 84.67it/s]"
          ],
          "name": "stderr"
        },
        {
          "output_type": "stream",
          "text": [
            "Closed? 2942\n",
            "Closed? 14622\n",
            "Closed? 53886\n",
            "Closed? 30527\n"
          ],
          "name": "stdout"
        },
        {
          "output_type": "stream",
          "text": [
            " 90%|████████▉ | 3148/3510 [00:37<00:03, 94.56it/s]"
          ],
          "name": "stderr"
        },
        {
          "output_type": "stream",
          "text": [
            "Closed? 59699\n",
            "Closed? 59849\n",
            "Closed? 15634\n",
            "Closed? 8473\n",
            "Closed? 25854\n",
            "Closed? 60327\n",
            "Closed? 62380\n",
            "Closed? 33479\n"
          ],
          "name": "stdout"
        },
        {
          "output_type": "stream",
          "text": [
            " 90%|█████████ | 3171/3510 [00:37<00:03, 98.74it/s] "
          ],
          "name": "stderr"
        },
        {
          "output_type": "stream",
          "text": [
            "Closed? 61150\n",
            "Closed? 6770\n",
            "Closed? 84\n",
            "Closed? 1841\n",
            "Closed? 59471\n"
          ],
          "name": "stdout"
        },
        {
          "output_type": "stream",
          "text": [
            " 91%|█████████ | 3202/3510 [00:37<00:03, 88.99it/s]"
          ],
          "name": "stderr"
        },
        {
          "output_type": "stream",
          "text": [
            "Closed? 36032\n",
            "Closed? 7592\n"
          ],
          "name": "stdout"
        },
        {
          "output_type": "stream",
          "text": [
            " 92%|█████████▏| 3221/3510 [00:38<00:03, 85.24it/s]"
          ],
          "name": "stderr"
        },
        {
          "output_type": "stream",
          "text": [
            "Closed? 14623\n"
          ],
          "name": "stdout"
        },
        {
          "output_type": "stream",
          "text": [
            " 93%|█████████▎| 3253/3510 [00:38<00:02, 94.75it/s]"
          ],
          "name": "stderr"
        },
        {
          "output_type": "stream",
          "text": [
            "Closed? 35674\n",
            "Closed? 58075\n",
            "Closed? 34489\n",
            "Closed? 12637\n",
            "Closed? 26735\n",
            "Closed? 18764\n",
            "Closed? 30254\n",
            "Closed? 7791\n"
          ],
          "name": "stdout"
        },
        {
          "output_type": "stream",
          "text": [
            " 94%|█████████▎| 3283/3510 [00:38<00:02, 92.02it/s]"
          ],
          "name": "stderr"
        },
        {
          "output_type": "stream",
          "text": [
            "Closed? 53841\n",
            "Closed? 8854\n",
            "Closed? 36319\n",
            "Closed? 25021\n"
          ],
          "name": "stdout"
        },
        {
          "output_type": "stream",
          "text": [
            " 94%|█████████▍| 3314/3510 [00:39<00:02, 93.72it/s]"
          ],
          "name": "stderr"
        },
        {
          "output_type": "stream",
          "text": [
            "Closed? 35013\n",
            "Closed? 7918\n",
            "Closed? 22543\n",
            "Closed? 24743\n"
          ],
          "name": "stdout"
        },
        {
          "output_type": "stream",
          "text": [
            " 95%|█████████▍| 3334/3510 [00:39<00:01, 91.98it/s]"
          ],
          "name": "stderr"
        },
        {
          "output_type": "stream",
          "text": [
            "Closed? 4319\n",
            "Closed? 24417\n",
            "Closed? 21229\n"
          ],
          "name": "stdout"
        },
        {
          "output_type": "stream",
          "text": [
            " 96%|█████████▌| 3354/3510 [00:39<00:01, 91.69it/s]"
          ],
          "name": "stderr"
        },
        {
          "output_type": "stream",
          "text": [
            "Closed? 52617\n",
            "Closed? 6835\n",
            "Closed? 34803\n"
          ],
          "name": "stdout"
        },
        {
          "output_type": "stream",
          "text": [
            " 96%|█████████▋| 3382/3510 [00:39<00:01, 84.77it/s]"
          ],
          "name": "stderr"
        },
        {
          "output_type": "stream",
          "text": [
            "Closed? 7462\n"
          ],
          "name": "stdout"
        },
        {
          "output_type": "stream",
          "text": [
            " 97%|█████████▋| 3412/3510 [00:40<00:01, 91.67it/s]"
          ],
          "name": "stderr"
        },
        {
          "output_type": "stream",
          "text": [
            "Closed? 16600\n",
            "Closed? 21296\n",
            "Closed? 21656\n",
            "Closed? 851\n",
            "Closed? 21201\n",
            "Closed? 22556\n",
            "Closed? 28306\n"
          ],
          "name": "stdout"
        },
        {
          "output_type": "stream",
          "text": [
            " 98%|█████████▊| 3443/3510 [00:40<00:00, 97.76it/s]"
          ],
          "name": "stderr"
        },
        {
          "output_type": "stream",
          "text": [
            "Closed? 56469\n",
            "Closed? 36127\n",
            "Closed? 25667\n",
            "Closed? 34072\n",
            "Closed? 28605\n"
          ],
          "name": "stdout"
        },
        {
          "output_type": "stream",
          "text": [
            " 99%|█████████▊| 3466/3510 [00:40<00:00, 101.68it/s]"
          ],
          "name": "stderr"
        },
        {
          "output_type": "stream",
          "text": [
            "Closed? 7632\n",
            "Closed? 26094\n",
            "Closed? 32777\n",
            "Closed? 5893\n",
            "Closed? 59256\n",
            "Closed? 18640\n",
            "Closed? 56801\n",
            "Closed? 3896\n",
            "Closed? 6760\n"
          ],
          "name": "stdout"
        },
        {
          "output_type": "stream",
          "text": [
            " 99%|█████████▉| 3491/3510 [00:40<00:00, 106.41it/s]"
          ],
          "name": "stderr"
        },
        {
          "output_type": "stream",
          "text": [
            "Closed? 20914\n",
            "Closed? 8732\n",
            "Closed? 55409\n",
            "Closed? 30733\n",
            "Closed? 28855\n",
            "Closed? 61601\n"
          ],
          "name": "stdout"
        },
        {
          "output_type": "stream",
          "text": [
            "100%|██████████| 3510/3510 [00:41<00:00, 85.37it/s]"
          ],
          "name": "stderr"
        },
        {
          "output_type": "stream",
          "text": [
            "Closed? 56551\n",
            "Closed? 24047\n"
          ],
          "name": "stdout"
        },
        {
          "output_type": "stream",
          "text": [
            "\n"
          ],
          "name": "stderr"
        }
      ]
    },
    {
      "cell_type": "markdown",
      "metadata": {
        "id": "jT5g4RBQtTbw"
      },
      "source": [
        "**Training Validation Test Splits**"
      ]
    },
    {
      "cell_type": "code",
      "metadata": {
        "id": "zsO2yG24tSqA"
      },
      "source": [
        "x_train = []\n",
        "y_train = []\n",
        "x_val   = []\n",
        "y_val   = []\n",
        "x_test  = []\n",
        "y_test  = []\n",
        "\n",
        "\n",
        "for feature, label in train:\n",
        "  x_train.append(feature)\n",
        "  y_train.append(label)\n",
        "\n",
        "# for feature, label in train2:\n",
        "#   x_train.append(feature)\n",
        "#   y_train.append(label)\n",
        "\n",
        "for feature, label in valid:\n",
        "  x_val.append(feature)\n",
        "  y_val.append(label)\n",
        "\n",
        "for feature, label in test:\n",
        "  x_test.append(feature)\n",
        "  y_test.append(label)\n",
        "\n",
        "# Normalize the data\n",
        "x_train   = np.array(x_train)\n",
        "\n",
        "x_val     = np.array(x_val)\n",
        "\n",
        "x_test     = np.array(x_test)\n",
        "\n",
        "\n",
        "y_train = np.array(y_train)\n",
        "\n",
        "y_val = np.array(y_val)\n",
        "\n",
        "y_test = np.array(y_test)"
      ],
      "execution_count": 23,
      "outputs": []
    },
    {
      "cell_type": "code",
      "metadata": {
        "colab": {
          "base_uri": "https://localhost:8080/"
        },
        "id": "nwswpPI-cpM6",
        "outputId": "6eaca499-97ee-4637-9330-1f96d6d94285"
      },
      "source": [
        "x_train= x_train.reshape(-1, 224, 224, 1)\n",
        "x_val= x_val.reshape(-1, 224, 224,1 )\n",
        "x_test= x_test.reshape(-1, 224, 224,1 )\n",
        "print(len(x_val))\n",
        "print(len(x_train))\n",
        "print(len(x_test))"
      ],
      "execution_count": 24,
      "outputs": [
        {
          "output_type": "stream",
          "text": [
            "2917\n",
            "8682\n",
            "2903\n"
          ],
          "name": "stdout"
        }
      ]
    },
    {
      "cell_type": "code",
      "metadata": {
        "colab": {
          "base_uri": "https://localhost:8080/"
        },
        "id": "cQ_TzJhpA26s",
        "outputId": "381b1444-1095-4eaa-8fc1-1b05f53d223c"
      },
      "source": [
        "x_test.shape"
      ],
      "execution_count": 25,
      "outputs": [
        {
          "output_type": "execute_result",
          "data": {
            "text/plain": [
              "(2903, 224, 224, 1)"
            ]
          },
          "metadata": {
            "tags": []
          },
          "execution_count": 25
        }
      ]
    },
    {
      "cell_type": "markdown",
      "metadata": {
        "id": "qYa97Ng-tk2k"
      },
      "source": [
        "**Data Augmentation**"
      ]
    },
    {
      "cell_type": "code",
      "metadata": {
        "id": "7tFJWzOVdvvC"
      },
      "source": [
        "datagen = ImageDataGenerator(\n",
        "        featurewise_center=False,                                # set input mean to 0 over the dataset\n",
        "        samplewise_center=False,                                 # set each sample mean to 0\n",
        "        featurewise_std_normalization=False,                     # divide inputs by standard deviation of the dataset\n",
        "        samplewise_std_normalization=False,                      # divide each input by its standard deviation\n",
        "        zca_whitening=False,                                     # apply zero-phase component whitening\n",
        "        rotation_range = 0,                                     # randomly rotate images in the range (degrees, 0 to 180)\n",
        "        zoom_range = 0,                                        # Randomly zoom image \n",
        "        width_shift_range=0,                                   # randomly shift images horizontally (fraction of total width)\n",
        "        height_shift_range=0,                                  # randomly shift images vertically (fraction of total height)\n",
        "        horizontal_flip = False,                                  # randomly flip images\n",
        "        vertical_flip=False)                                     # randomly flip images\n",
        "\n",
        "\n",
        "datagen.fit(x_train)"
      ],
      "execution_count": 27,
      "outputs": []
    },
    {
      "cell_type": "code",
      "metadata": {
        "id": "dK_eIqSDtkFv"
      },
      "source": [
        "datagen = ImageDataGenerator(\n",
        "        featurewise_center=False,                                # set input mean to 0 over the dataset\n",
        "        samplewise_center=False,                                 # set each sample mean to 0\n",
        "        featurewise_std_normalization=False,                     # divide inputs by standard deviation of the dataset\n",
        "        samplewise_std_normalization=False,                      # divide each input by its standard deviation\n",
        "        zca_whitening=False,                                     # apply zero-phase component whitening\n",
        "        rotation_range = 30,                                     # randomly rotate images in the range (degrees, 0 to 180)\n",
        "        zoom_range = 0.2,                                        # Randomly zoom image \n",
        "        width_shift_range=0.1,                                   # randomly shift images horizontally (fraction of total width)\n",
        "        height_shift_range=0.1,                                  # randomly shift images vertically (fraction of total height)\n",
        "        horizontal_flip = True,                                  # randomly flip images\n",
        "        vertical_flip=False)                                     # randomly flip images\n",
        "\n",
        "\n",
        "datagen.fit(x_train)"
      ],
      "execution_count": 28,
      "outputs": []
    },
    {
      "cell_type": "markdown",
      "metadata": {
        "id": "Xyb4yLK7vFqV"
      },
      "source": [
        "**Custom Model with 80 epochs**"
      ]
    },
    {
      "cell_type": "code",
      "metadata": {
        "id": "PZJ9cxaDvCLt",
        "colab": {
          "base_uri": "https://localhost:8080/"
        },
        "outputId": "6a52ac4e-a4ff-4f7b-859f-fb36e14fb3f4"
      },
      "source": [
        "#Change input shape\n",
        "\n",
        "model = Sequential()\n",
        "model.add(Conv2D(32, (3, 3), activation='relu', kernel_initializer='he_uniform', padding='same', kernel_regularizer=l2(0.001), input_shape=(224, 224,1)))\n",
        "model.add(Conv2D(32, (3, 3), activation='relu', kernel_initializer='he_uniform', padding='same', kernel_regularizer=l2(0.001)))\n",
        "model.add(MaxPooling2D((2, 2)))\n",
        "model.add(Conv2D(64, (3, 3), activation='relu', kernel_initializer='he_uniform', padding='same', kernel_regularizer=l2(0.001)))\n",
        "model.add(Conv2D(64, (3, 3), activation='relu', kernel_initializer='he_uniform', padding='same', kernel_regularizer=l2(0.001)))\n",
        "model.add(MaxPooling2D((2, 2)))\n",
        "model.add(Conv2D(128, (3, 3), activation='relu', kernel_initializer='he_uniform', padding='same', kernel_regularizer=l2(0.001)))\n",
        "model.add(Conv2D(128, (3, 3), activation='relu', kernel_initializer='he_uniform', padding='same', kernel_regularizer=l2(0.001)))\n",
        "model.add(MaxPooling2D((2, 2)))\n",
        "model.add(Flatten())\n",
        "model.add(Dense(128, activation='relu', kernel_initializer='he_uniform', kernel_regularizer=l2(0.001)))\n",
        "model.add(Dense(2, activation=\"softmax\"))\n",
        "\n",
        "model.summary()"
      ],
      "execution_count": 29,
      "outputs": [
        {
          "output_type": "stream",
          "text": [
            "Model: \"sequential\"\n",
            "_________________________________________________________________\n",
            "Layer (type)                 Output Shape              Param #   \n",
            "=================================================================\n",
            "conv2d (Conv2D)              (None, 224, 224, 32)      320       \n",
            "_________________________________________________________________\n",
            "conv2d_1 (Conv2D)            (None, 224, 224, 32)      9248      \n",
            "_________________________________________________________________\n",
            "max_pooling2d (MaxPooling2D) (None, 112, 112, 32)      0         \n",
            "_________________________________________________________________\n",
            "conv2d_2 (Conv2D)            (None, 112, 112, 64)      18496     \n",
            "_________________________________________________________________\n",
            "conv2d_3 (Conv2D)            (None, 112, 112, 64)      36928     \n",
            "_________________________________________________________________\n",
            "max_pooling2d_1 (MaxPooling2 (None, 56, 56, 64)        0         \n",
            "_________________________________________________________________\n",
            "conv2d_4 (Conv2D)            (None, 56, 56, 128)       73856     \n",
            "_________________________________________________________________\n",
            "conv2d_5 (Conv2D)            (None, 56, 56, 128)       147584    \n",
            "_________________________________________________________________\n",
            "max_pooling2d_2 (MaxPooling2 (None, 28, 28, 128)       0         \n",
            "_________________________________________________________________\n",
            "flatten (Flatten)            (None, 100352)            0         \n",
            "_________________________________________________________________\n",
            "dense (Dense)                (None, 128)               12845184  \n",
            "_________________________________________________________________\n",
            "dense_1 (Dense)              (None, 2)                 258       \n",
            "=================================================================\n",
            "Total params: 13,131,874\n",
            "Trainable params: 13,131,874\n",
            "Non-trainable params: 0\n",
            "_________________________________________________________________\n"
          ],
          "name": "stdout"
        }
      ]
    },
    {
      "cell_type": "code",
      "metadata": {
        "id": "udIwlKCsveaR"
      },
      "source": [
        "opt = Adam(lr=0.000001)\n",
        "model.compile(optimizer = opt , loss = SparseCategoricalCrossentropy(from_logits=True) , metrics = ['accuracy'])"
      ],
      "execution_count": 30,
      "outputs": []
    },
    {
      "cell_type": "code",
      "metadata": {
        "id": "4mGB-x-HjEbn"
      },
      "source": [
        "checkpoint_path = \"drive/MyDrive/cp.ckpt\"\n",
        "checkpoint_dir = os.path.dirname(checkpoint_path)\n",
        "\n",
        "# Create a callback that saves the model's weights\n",
        "cp_callback = tf.keras.callbacks.ModelCheckpoint(filepath=checkpoint_path,\n",
        "                                                 save_weights_only=True,\n",
        "                                                 verbose=1)\n"
      ],
      "execution_count": 31,
      "outputs": []
    },
    {
      "cell_type": "code",
      "metadata": {
        "id": "-qjEZ9qAviLW",
        "colab": {
          "base_uri": "https://localhost:8080/"
        },
        "outputId": "5f28c3dd-3dff-4b0a-e06e-fa9af20d91fa"
      },
      "source": [
        "history = model.fit(x_train,y_train,epochs = 80 , validation_data = (x_val, y_val), callbacks=[cp_callback])"
      ],
      "execution_count": 32,
      "outputs": [
        {
          "output_type": "stream",
          "text": [
            "Epoch 1/80\n",
            "272/272 [==============================] - 409s 2s/step - loss: 329.4725 - accuracy: 0.5694 - val_loss: 141.7262 - val_accuracy: 0.5835\n",
            "\n",
            "Epoch 00001: saving model to drive/MyDrive/cp.ckpt\n",
            "Epoch 2/80\n",
            "272/272 [==============================] - 394s 1s/step - loss: 108.1717 - accuracy: 0.6733 - val_loss: 87.0809 - val_accuracy: 0.6939\n",
            "\n",
            "Epoch 00002: saving model to drive/MyDrive/cp.ckpt\n",
            "Epoch 3/80\n",
            "272/272 [==============================] - 409s 2s/step - loss: 76.8298 - accuracy: 0.7191 - val_loss: 62.5129 - val_accuracy: 0.7185\n",
            "\n",
            "Epoch 00003: saving model to drive/MyDrive/cp.ckpt\n",
            "Epoch 4/80\n",
            "272/272 [==============================] - 397s 1s/step - loss: 51.7560 - accuracy: 0.7605 - val_loss: 49.4933 - val_accuracy: 0.7635\n",
            "\n",
            "Epoch 00004: saving model to drive/MyDrive/cp.ckpt\n",
            "Epoch 5/80\n",
            "272/272 [==============================] - 402s 1s/step - loss: 36.4404 - accuracy: 0.8029 - val_loss: 44.0327 - val_accuracy: 0.7655\n",
            "\n",
            "Epoch 00005: saving model to drive/MyDrive/cp.ckpt\n",
            "Epoch 6/80\n",
            "272/272 [==============================] - 404s 1s/step - loss: 33.8026 - accuracy: 0.8134 - val_loss: 37.9332 - val_accuracy: 0.7864\n",
            "\n",
            "Epoch 00006: saving model to drive/MyDrive/cp.ckpt\n",
            "Epoch 7/80\n",
            "272/272 [==============================] - 365s 1s/step - loss: 23.6427 - accuracy: 0.8469 - val_loss: 36.5816 - val_accuracy: 0.8149\n",
            "\n",
            "Epoch 00007: saving model to drive/MyDrive/cp.ckpt\n",
            "Epoch 8/80\n",
            "272/272 [==============================] - 362s 1s/step - loss: 20.0175 - accuracy: 0.8641 - val_loss: 30.8780 - val_accuracy: 0.8330\n",
            "\n",
            "Epoch 00008: saving model to drive/MyDrive/cp.ckpt\n",
            "Epoch 9/80\n",
            "272/272 [==============================] - 360s 1s/step - loss: 18.4635 - accuracy: 0.8718 - val_loss: 26.6096 - val_accuracy: 0.8354\n",
            "\n",
            "Epoch 00009: saving model to drive/MyDrive/cp.ckpt\n",
            "Epoch 10/80\n",
            "272/272 [==============================] - 361s 1s/step - loss: 17.0327 - accuracy: 0.8840 - val_loss: 24.8976 - val_accuracy: 0.8529\n",
            "\n",
            "Epoch 00010: saving model to drive/MyDrive/cp.ckpt\n",
            "Epoch 11/80\n",
            "272/272 [==============================] - 360s 1s/step - loss: 13.2015 - accuracy: 0.9033 - val_loss: 22.5710 - val_accuracy: 0.8529\n",
            "\n",
            "Epoch 00011: saving model to drive/MyDrive/cp.ckpt\n",
            "Epoch 12/80\n",
            "272/272 [==============================] - 359s 1s/step - loss: 10.8371 - accuracy: 0.9113 - val_loss: 35.0693 - val_accuracy: 0.8354\n",
            "\n",
            "Epoch 00012: saving model to drive/MyDrive/cp.ckpt\n",
            "Epoch 13/80\n",
            "272/272 [==============================] - 362s 1s/step - loss: 13.5094 - accuracy: 0.8957 - val_loss: 21.9942 - val_accuracy: 0.8557\n",
            "\n",
            "Epoch 00013: saving model to drive/MyDrive/cp.ckpt\n",
            "Epoch 14/80\n",
            "272/272 [==============================] - 363s 1s/step - loss: 8.2909 - accuracy: 0.9281 - val_loss: 18.8078 - val_accuracy: 0.8704\n",
            "\n",
            "Epoch 00014: saving model to drive/MyDrive/cp.ckpt\n",
            "Epoch 15/80\n",
            "272/272 [==============================] - 364s 1s/step - loss: 8.4188 - accuracy: 0.9310 - val_loss: 30.4263 - val_accuracy: 0.8060\n",
            "\n",
            "Epoch 00015: saving model to drive/MyDrive/cp.ckpt\n",
            "Epoch 16/80\n",
            "272/272 [==============================] - 370s 1s/step - loss: 7.6189 - accuracy: 0.9378 - val_loss: 31.0322 - val_accuracy: 0.8077\n",
            "\n",
            "Epoch 00016: saving model to drive/MyDrive/cp.ckpt\n",
            "Epoch 17/80\n",
            "272/272 [==============================] - 361s 1s/step - loss: 6.1309 - accuracy: 0.9404 - val_loss: 15.9978 - val_accuracy: 0.8937\n",
            "\n",
            "Epoch 00017: saving model to drive/MyDrive/cp.ckpt\n",
            "Epoch 18/80\n",
            "272/272 [==============================] - 361s 1s/step - loss: 6.7778 - accuracy: 0.9380 - val_loss: 22.8985 - val_accuracy: 0.8732\n",
            "\n",
            "Epoch 00018: saving model to drive/MyDrive/cp.ckpt\n",
            "Epoch 19/80\n",
            "272/272 [==============================] - 363s 1s/step - loss: 4.5431 - accuracy: 0.9575 - val_loss: 13.8636 - val_accuracy: 0.9026\n",
            "\n",
            "Epoch 00019: saving model to drive/MyDrive/cp.ckpt\n",
            "Epoch 20/80\n",
            "272/272 [==============================] - 367s 1s/step - loss: 4.3313 - accuracy: 0.9627 - val_loss: 21.2029 - val_accuracy: 0.8560\n",
            "\n",
            "Epoch 00020: saving model to drive/MyDrive/cp.ckpt\n",
            "Epoch 21/80\n",
            "272/272 [==============================] - 364s 1s/step - loss: 4.5041 - accuracy: 0.9592 - val_loss: 14.5286 - val_accuracy: 0.9071\n",
            "\n",
            "Epoch 00021: saving model to drive/MyDrive/cp.ckpt\n",
            "Epoch 22/80\n",
            "272/272 [==============================] - 366s 1s/step - loss: 3.2436 - accuracy: 0.9673 - val_loss: 12.7895 - val_accuracy: 0.9198\n",
            "\n",
            "Epoch 00022: saving model to drive/MyDrive/cp.ckpt\n",
            "Epoch 23/80\n",
            "272/272 [==============================] - 367s 1s/step - loss: 3.6543 - accuracy: 0.9625 - val_loss: 22.6755 - val_accuracy: 0.8454\n",
            "\n",
            "Epoch 00023: saving model to drive/MyDrive/cp.ckpt\n",
            "Epoch 24/80\n",
            "272/272 [==============================] - 371s 1s/step - loss: 3.4203 - accuracy: 0.9670 - val_loss: 18.4559 - val_accuracy: 0.9033\n",
            "\n",
            "Epoch 00024: saving model to drive/MyDrive/cp.ckpt\n",
            "Epoch 25/80\n",
            "272/272 [==============================] - 363s 1s/step - loss: 2.6096 - accuracy: 0.9758 - val_loss: 18.6418 - val_accuracy: 0.8673\n",
            "\n",
            "Epoch 00025: saving model to drive/MyDrive/cp.ckpt\n",
            "Epoch 26/80\n",
            "272/272 [==============================] - 365s 1s/step - loss: 3.6118 - accuracy: 0.9643 - val_loss: 12.4938 - val_accuracy: 0.9047\n",
            "\n",
            "Epoch 00026: saving model to drive/MyDrive/cp.ckpt\n",
            "Epoch 27/80\n",
            "272/272 [==============================] - 364s 1s/step - loss: 2.8368 - accuracy: 0.9733 - val_loss: 11.5715 - val_accuracy: 0.9222\n",
            "\n",
            "Epoch 00027: saving model to drive/MyDrive/cp.ckpt\n",
            "Epoch 28/80\n",
            "272/272 [==============================] - 366s 1s/step - loss: 2.4310 - accuracy: 0.9767 - val_loss: 13.1663 - val_accuracy: 0.9167\n",
            "\n",
            "Epoch 00028: saving model to drive/MyDrive/cp.ckpt\n",
            "Epoch 29/80\n",
            "272/272 [==============================] - 366s 1s/step - loss: 4.0064 - accuracy: 0.9619 - val_loss: 11.7055 - val_accuracy: 0.9164\n",
            "\n",
            "Epoch 00029: saving model to drive/MyDrive/cp.ckpt\n",
            "Epoch 30/80\n",
            "272/272 [==============================] - 368s 1s/step - loss: 4.1600 - accuracy: 0.9609 - val_loss: 15.9748 - val_accuracy: 0.9136\n",
            "\n",
            "Epoch 00030: saving model to drive/MyDrive/cp.ckpt\n",
            "Epoch 31/80\n",
            "272/272 [==============================] - 367s 1s/step - loss: 2.3872 - accuracy: 0.9817 - val_loss: 11.4156 - val_accuracy: 0.9212\n",
            "\n",
            "Epoch 00031: saving model to drive/MyDrive/cp.ckpt\n",
            "Epoch 32/80\n",
            "272/272 [==============================] - 362s 1s/step - loss: 2.0186 - accuracy: 0.9855 - val_loss: 11.2530 - val_accuracy: 0.9194\n",
            "\n",
            "Epoch 00032: saving model to drive/MyDrive/cp.ckpt\n",
            "Epoch 33/80\n",
            "272/272 [==============================] - 362s 1s/step - loss: 3.1429 - accuracy: 0.9734 - val_loss: 11.7076 - val_accuracy: 0.9294\n",
            "\n",
            "Epoch 00033: saving model to drive/MyDrive/cp.ckpt\n",
            "Epoch 34/80\n",
            "272/272 [==============================] - 364s 1s/step - loss: 1.8328 - accuracy: 0.9863 - val_loss: 11.2097 - val_accuracy: 0.9345\n",
            "\n",
            "Epoch 00034: saving model to drive/MyDrive/cp.ckpt\n",
            "Epoch 35/80\n",
            "272/272 [==============================] - 368s 1s/step - loss: 1.7614 - accuracy: 0.9873 - val_loss: 25.0606 - val_accuracy: 0.8447\n",
            "\n",
            "Epoch 00035: saving model to drive/MyDrive/cp.ckpt\n",
            "Epoch 36/80\n",
            "272/272 [==============================] - 367s 1s/step - loss: 2.4193 - accuracy: 0.9846 - val_loss: 10.8077 - val_accuracy: 0.9356\n",
            "\n",
            "Epoch 00036: saving model to drive/MyDrive/cp.ckpt\n",
            "Epoch 37/80\n",
            "272/272 [==============================] - 369s 1s/step - loss: 2.0258 - accuracy: 0.9834 - val_loss: 15.3004 - val_accuracy: 0.9208\n",
            "\n",
            "Epoch 00037: saving model to drive/MyDrive/cp.ckpt\n",
            "Epoch 38/80\n",
            "272/272 [==============================] - 371s 1s/step - loss: 2.3758 - accuracy: 0.9803 - val_loss: 8.9583 - val_accuracy: 0.9379\n",
            "\n",
            "Epoch 00038: saving model to drive/MyDrive/cp.ckpt\n",
            "Epoch 39/80\n",
            "272/272 [==============================] - 369s 1s/step - loss: 2.3550 - accuracy: 0.9843 - val_loss: 9.6211 - val_accuracy: 0.9407\n",
            "\n",
            "Epoch 00039: saving model to drive/MyDrive/cp.ckpt\n",
            "Epoch 40/80\n",
            "272/272 [==============================] - 367s 1s/step - loss: 3.9419 - accuracy: 0.9704 - val_loss: 11.5825 - val_accuracy: 0.9177\n",
            "\n",
            "Epoch 00040: saving model to drive/MyDrive/cp.ckpt\n",
            "Epoch 41/80\n",
            "272/272 [==============================] - 367s 1s/step - loss: 1.2116 - accuracy: 0.9972 - val_loss: 12.5413 - val_accuracy: 0.9359\n",
            "\n",
            "Epoch 00041: saving model to drive/MyDrive/cp.ckpt\n",
            "Epoch 42/80\n",
            "272/272 [==============================] - 368s 1s/step - loss: 1.4140 - accuracy: 0.9948 - val_loss: 25.8255 - val_accuracy: 0.8896\n",
            "\n",
            "Epoch 00042: saving model to drive/MyDrive/cp.ckpt\n",
            "Epoch 43/80\n",
            "272/272 [==============================] - 370s 1s/step - loss: 1.9307 - accuracy: 0.9842 - val_loss: 15.8215 - val_accuracy: 0.9188\n",
            "\n",
            "Epoch 00043: saving model to drive/MyDrive/cp.ckpt\n",
            "Epoch 44/80\n",
            "272/272 [==============================] - 367s 1s/step - loss: 2.6144 - accuracy: 0.9796 - val_loss: 9.7224 - val_accuracy: 0.9314\n",
            "\n",
            "Epoch 00044: saving model to drive/MyDrive/cp.ckpt\n",
            "Epoch 45/80\n",
            "272/272 [==============================] - 367s 1s/step - loss: 5.9742 - accuracy: 0.9575 - val_loss: 9.1427 - val_accuracy: 0.9482\n",
            "\n",
            "Epoch 00045: saving model to drive/MyDrive/cp.ckpt\n",
            "Epoch 46/80\n",
            "272/272 [==============================] - 365s 1s/step - loss: 1.3006 - accuracy: 0.9953 - val_loss: 8.2767 - val_accuracy: 0.9513\n",
            "\n",
            "Epoch 00046: saving model to drive/MyDrive/cp.ckpt\n",
            "Epoch 47/80\n",
            "272/272 [==============================] - 365s 1s/step - loss: 1.3903 - accuracy: 0.9942 - val_loss: 10.6593 - val_accuracy: 0.9421\n",
            "\n",
            "Epoch 00047: saving model to drive/MyDrive/cp.ckpt\n",
            "Epoch 48/80\n",
            "272/272 [==============================] - 366s 1s/step - loss: 2.3708 - accuracy: 0.9825 - val_loss: 17.2693 - val_accuracy: 0.9184\n",
            "\n",
            "Epoch 00048: saving model to drive/MyDrive/cp.ckpt\n",
            "Epoch 49/80\n",
            "272/272 [==============================] - 365s 1s/step - loss: 1.6130 - accuracy: 0.9919 - val_loss: 13.3324 - val_accuracy: 0.9352\n",
            "\n",
            "Epoch 00049: saving model to drive/MyDrive/cp.ckpt\n",
            "Epoch 50/80\n",
            "272/272 [==============================] - 366s 1s/step - loss: 1.5091 - accuracy: 0.9930 - val_loss: 10.6330 - val_accuracy: 0.9475\n",
            "\n",
            "Epoch 00050: saving model to drive/MyDrive/cp.ckpt\n",
            "Epoch 51/80\n",
            "272/272 [==============================] - 366s 1s/step - loss: 1.5637 - accuracy: 0.9921 - val_loss: 10.7523 - val_accuracy: 0.9424\n",
            "\n",
            "Epoch 00051: saving model to drive/MyDrive/cp.ckpt\n",
            "Epoch 52/80\n",
            "272/272 [==============================] - 365s 1s/step - loss: 1.5645 - accuracy: 0.9927 - val_loss: 8.2499 - val_accuracy: 0.9506\n",
            "\n",
            "Epoch 00052: saving model to drive/MyDrive/cp.ckpt\n",
            "Epoch 53/80\n",
            "272/272 [==============================] - 365s 1s/step - loss: 1.5387 - accuracy: 0.9932 - val_loss: 8.8988 - val_accuracy: 0.9414\n",
            "\n",
            "Epoch 00053: saving model to drive/MyDrive/cp.ckpt\n",
            "Epoch 54/80\n",
            "272/272 [==============================] - 365s 1s/step - loss: 1.6768 - accuracy: 0.9912 - val_loss: 12.4932 - val_accuracy: 0.9349\n",
            "\n",
            "Epoch 00054: saving model to drive/MyDrive/cp.ckpt\n",
            "Epoch 55/80\n",
            "272/272 [==============================] - 367s 1s/step - loss: 2.0328 - accuracy: 0.9858 - val_loss: 9.2489 - val_accuracy: 0.9356\n",
            "\n",
            "Epoch 00055: saving model to drive/MyDrive/cp.ckpt\n",
            "Epoch 56/80\n",
            "272/272 [==============================] - 366s 1s/step - loss: 1.6757 - accuracy: 0.9878 - val_loss: 9.3050 - val_accuracy: 0.9332\n",
            "\n",
            "Epoch 00056: saving model to drive/MyDrive/cp.ckpt\n",
            "Epoch 57/80\n",
            "272/272 [==============================] - 367s 1s/step - loss: 3.5285 - accuracy: 0.9734 - val_loss: 17.7371 - val_accuracy: 0.9174\n",
            "\n",
            "Epoch 00057: saving model to drive/MyDrive/cp.ckpt\n",
            "Epoch 58/80\n",
            "272/272 [==============================] - 368s 1s/step - loss: 1.5965 - accuracy: 0.9927 - val_loss: 9.3802 - val_accuracy: 0.9482\n",
            "\n",
            "Epoch 00058: saving model to drive/MyDrive/cp.ckpt\n",
            "Epoch 59/80\n",
            "272/272 [==============================] - 395s 1s/step - loss: 1.2678 - accuracy: 0.9968 - val_loss: 10.3223 - val_accuracy: 0.9379\n",
            "\n",
            "Epoch 00059: saving model to drive/MyDrive/cp.ckpt\n",
            "Epoch 60/80\n",
            "272/272 [==============================] - 368s 1s/step - loss: 2.2603 - accuracy: 0.9839 - val_loss: 10.6912 - val_accuracy: 0.9352\n",
            "\n",
            "Epoch 00060: saving model to drive/MyDrive/cp.ckpt\n",
            "Epoch 61/80\n",
            "272/272 [==============================] - 366s 1s/step - loss: 2.8039 - accuracy: 0.9805 - val_loss: 7.3366 - val_accuracy: 0.9571\n",
            "\n",
            "Epoch 00061: saving model to drive/MyDrive/cp.ckpt\n",
            "Epoch 62/80\n",
            "272/272 [==============================] - 366s 1s/step - loss: 1.1480 - accuracy: 0.9987 - val_loss: 11.6505 - val_accuracy: 0.9383\n",
            "\n",
            "Epoch 00062: saving model to drive/MyDrive/cp.ckpt\n",
            "Epoch 63/80\n",
            "272/272 [==============================] - 368s 1s/step - loss: 1.6805 - accuracy: 0.9897 - val_loss: 7.6230 - val_accuracy: 0.9541\n",
            "\n",
            "Epoch 00063: saving model to drive/MyDrive/cp.ckpt\n",
            "Epoch 64/80\n",
            "272/272 [==============================] - 366s 1s/step - loss: 1.4983 - accuracy: 0.9921 - val_loss: 7.2267 - val_accuracy: 0.9565\n",
            "\n",
            "Epoch 00064: saving model to drive/MyDrive/cp.ckpt\n",
            "Epoch 65/80\n",
            "272/272 [==============================] - 365s 1s/step - loss: 1.1644 - accuracy: 0.9990 - val_loss: 7.5905 - val_accuracy: 0.9503\n",
            "\n",
            "Epoch 00065: saving model to drive/MyDrive/cp.ckpt\n",
            "Epoch 66/80\n",
            "272/272 [==============================] - 366s 1s/step - loss: 1.4063 - accuracy: 0.9948 - val_loss: 11.1114 - val_accuracy: 0.9318\n",
            "\n",
            "Epoch 00066: saving model to drive/MyDrive/cp.ckpt\n",
            "Epoch 67/80\n",
            "272/272 [==============================] - 364s 1s/step - loss: 1.6490 - accuracy: 0.9937 - val_loss: 8.8724 - val_accuracy: 0.9534\n",
            "\n",
            "Epoch 00067: saving model to drive/MyDrive/cp.ckpt\n",
            "Epoch 68/80\n",
            "272/272 [==============================] - 364s 1s/step - loss: 1.4217 - accuracy: 0.9950 - val_loss: 10.9058 - val_accuracy: 0.9451\n",
            "\n",
            "Epoch 00068: saving model to drive/MyDrive/cp.ckpt\n",
            "Epoch 69/80\n",
            "272/272 [==============================] - 364s 1s/step - loss: 3.2555 - accuracy: 0.9812 - val_loss: 11.3585 - val_accuracy: 0.9417\n",
            "\n",
            "Epoch 00069: saving model to drive/MyDrive/cp.ckpt\n",
            "Epoch 70/80\n",
            "272/272 [==============================] - 365s 1s/step - loss: 1.3714 - accuracy: 0.9940 - val_loss: 8.8350 - val_accuracy: 0.9496\n",
            "\n",
            "Epoch 00070: saving model to drive/MyDrive/cp.ckpt\n",
            "Epoch 71/80\n",
            "272/272 [==============================] - 365s 1s/step - loss: 1.8332 - accuracy: 0.9880 - val_loss: 13.0601 - val_accuracy: 0.9400\n",
            "\n",
            "Epoch 00071: saving model to drive/MyDrive/cp.ckpt\n",
            "Epoch 72/80\n",
            "272/272 [==============================] - 365s 1s/step - loss: 1.3272 - accuracy: 0.9962 - val_loss: 7.2979 - val_accuracy: 0.9551\n",
            "\n",
            "Epoch 00072: saving model to drive/MyDrive/cp.ckpt\n",
            "Epoch 73/80\n",
            "272/272 [==============================] - 365s 1s/step - loss: 1.1742 - accuracy: 0.9977 - val_loss: 8.1171 - val_accuracy: 0.9558\n",
            "\n",
            "Epoch 00073: saving model to drive/MyDrive/cp.ckpt\n",
            "Epoch 74/80\n",
            "272/272 [==============================] - 364s 1s/step - loss: 2.1219 - accuracy: 0.9893 - val_loss: 8.7544 - val_accuracy: 0.9530\n",
            "\n",
            "Epoch 00074: saving model to drive/MyDrive/cp.ckpt\n",
            "Epoch 75/80\n",
            "272/272 [==============================] - 365s 1s/step - loss: 1.2838 - accuracy: 0.9970 - val_loss: 10.4365 - val_accuracy: 0.9328\n",
            "\n",
            "Epoch 00075: saving model to drive/MyDrive/cp.ckpt\n",
            "Epoch 76/80\n",
            "272/272 [==============================] - 365s 1s/step - loss: 1.2116 - accuracy: 0.9967 - val_loss: 7.3613 - val_accuracy: 0.9613\n",
            "\n",
            "Epoch 00076: saving model to drive/MyDrive/cp.ckpt\n",
            "Epoch 77/80\n",
            "272/272 [==============================] - 363s 1s/step - loss: 1.3191 - accuracy: 0.9973 - val_loss: 8.2687 - val_accuracy: 0.9554\n",
            "\n",
            "Epoch 00077: saving model to drive/MyDrive/cp.ckpt\n",
            "Epoch 78/80\n",
            "272/272 [==============================] - 366s 1s/step - loss: 2.2892 - accuracy: 0.9880 - val_loss: 6.9295 - val_accuracy: 0.9595\n",
            "\n",
            "Epoch 00078: saving model to drive/MyDrive/cp.ckpt\n",
            "Epoch 79/80\n",
            "272/272 [==============================] - 365s 1s/step - loss: 1.1782 - accuracy: 0.9976 - val_loss: 20.3875 - val_accuracy: 0.8721\n",
            "\n",
            "Epoch 00079: saving model to drive/MyDrive/cp.ckpt\n",
            "Epoch 80/80\n",
            "272/272 [==============================] - 365s 1s/step - loss: 2.0720 - accuracy: 0.9857 - val_loss: 18.2141 - val_accuracy: 0.9184\n",
            "\n",
            "Epoch 00080: saving model to drive/MyDrive/cp.ckpt\n"
          ],
          "name": "stdout"
        }
      ]
    },
    {
      "cell_type": "code",
      "metadata": {
        "id": "dFZxjye4im12",
        "colab": {
          "base_uri": "https://localhost:8080/"
        },
        "outputId": "1e15ff37-0edd-4e6f-f7b6-6b88edb2f221"
      },
      "source": [
        "model.save('drive/MyDrive/resizedmodel')"
      ],
      "execution_count": 33,
      "outputs": [
        {
          "output_type": "stream",
          "text": [
            "INFO:tensorflow:Assets written to: drive/MyDrive/resizedmodel/assets\n"
          ],
          "name": "stdout"
        }
      ]
    },
    {
      "cell_type": "markdown",
      "metadata": {
        "id": "GL2-i7GSvm4i"
      },
      "source": [
        "**Loss analysis and Classification Report**"
      ]
    },
    {
      "cell_type": "code",
      "metadata": {
        "id": "Lc9H0_QCvkEt",
        "colab": {
          "base_uri": "https://localhost:8080/",
          "height": 435
        },
        "outputId": "b7aa97f4-76de-419a-e849-cfea62d4bf70"
      },
      "source": [
        "acc = history.history['accuracy']\n",
        "val_acc = history.history['val_accuracy']\n",
        "loss = history.history['loss']\n",
        "val_loss = history.history['val_loss']\n",
        "\n",
        "epochs_range = range(80)\n",
        "\n",
        "plt.figure(figsize=(15, 15))\n",
        "plt.subplot(2, 2, 1)\n",
        "plt.plot(epochs_range, acc, label='Training Accuracy')\n",
        "plt.plot(epochs_range, val_acc, label='Validation Accuracy')\n",
        "plt.legend(loc='lower right')\n",
        "plt.title('Training and Validation Accuracy')\n",
        "\n",
        "plt.subplot(2, 2, 2)\n",
        "plt.plot(epochs_range, loss, label='Training Loss')\n",
        "plt.plot(epochs_range, val_loss, label='Validation Loss')\n",
        "plt.legend(loc='upper right')\n",
        "plt.title('Training and Validation Loss')\n",
        "plt.show()"
      ],
      "execution_count": 34,
      "outputs": [
        {
          "output_type": "display_data",
          "data": {
            "image/png": "[encoded data removed]",
            "text/plain": [
              "<Figure size 1080x1080 with 2 Axes>"
            ]
          },
          "metadata": {
            "tags": [],
            "needs_background": "light"
          }
        }
      ]
    },
    {
      "cell_type": "code",
      "metadata": {
        "colab": {
          "base_uri": "https://localhost:8080/"
        },
        "id": "P_VRhYyTvuAI",
        "outputId": "7eb14b77-c4f2-4010-8ab5-a053c4b65298"
      },
      "source": [
        "predictions = model.predict_classes(x_test)\n",
        "predictions = predictions.reshape(1,-1)[0]\n",
        "print(classification_report(y_test, predictions,target_names = ['NORMAL','COVID']))"
      ],
      "execution_count": 35,
      "outputs": [
        {
          "output_type": "stream",
          "text": [
            "/usr/local/lib/python3.7/dist-packages/tensorflow/python/keras/engine/sequential.py:450: UserWarning: `model.predict_classes()` is deprecated and will be removed after 2021-01-01. Please use instead:* `np.argmax(model.predict(x), axis=-1)`,   if your model does multi-class classification   (e.g. if it uses a `softmax` last-layer activation).* `(model.predict(x) > 0.5).astype(\"int32\")`,   if your model does binary classification   (e.g. if it uses a `sigmoid` last-layer activation).\n",
            "  warnings.warn('`model.predict_classes()` is deprecated and '\n"
          ],
          "name": "stderr"
        },
        {
          "output_type": "stream",
          "text": [
            "              precision    recall  f1-score   support\n",
            "\n",
            "      NORMAL       1.00      0.79      0.88      1161\n",
            "       COVID       0.88      1.00      0.93      1742\n",
            "\n",
            "    accuracy                           0.91      2903\n",
            "   macro avg       0.94      0.89      0.91      2903\n",
            "weighted avg       0.92      0.91      0.91      2903\n",
            "\n"
          ],
          "name": "stdout"
        }
      ]
    }
  ]
}
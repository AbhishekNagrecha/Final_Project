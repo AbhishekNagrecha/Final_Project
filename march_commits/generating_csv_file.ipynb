{
 "cells": [
  {
   "cell_type": "markdown",
   "metadata": {
    "id": "LV44fUFAcpN-"
   },
   "source": [
    "# Generating CSV file"
   ]
  },
  {
   "cell_type": "code",
   "execution_count": null,
   "metadata": {
    "id": "Mtp3TgYfcrEa"
   },
   "outputs": [],
   "source": [
    "from google.colab import drive\n",
    "drive.mount('/content/drive')\n",
    "!ls '/content/drive/MyDrive'"
   ]
  },
  {
   "cell_type": "code",
   "execution_count": null,
   "metadata": {
    "id": "-gN1vCj-Wq4k"
   },
   "outputs": [],
   "source": [
    "import shutil \n",
    "# shutil.move('/content/drive/MyDrive/AllTiff/normal10','/content/drive/MyDrive/AllTiff/COVID-CTset/normal10')"
   ]
  },
  {
   "cell_type": "code",
   "execution_count": null,
   "metadata": {
    "id": "9CmrL0gqVeEj"
   },
   "outputs": [],
   "source": [
    "!ls '/content/drive/MyDrive/AllTiff/COVID-CTset' #COVID-CTset'"
   ]
  },
  {
   "cell_type": "code",
   "execution_count": null,
   "metadata": {
    "id": "F0sE6NbAk5Ga"
   },
   "outputs": [],
   "source": [
    "#function to iterate in unzipped covidset folder\n",
    "import os\n",
    "from PIL import Image\n",
    "from tqdm import tqdm\n",
    "listofalltif = []                                                  # will collect image location of all tif images \n",
    "folder = \"./\"                                                      # if your current directory has the images\n",
    "folder = \"/content/drive/MyDrive/AllTiff/COVID-CTset\"              # or your unzipped folder 'Covidset' location\n",
    "for result in tqdm(os.listdir(folder)):                            # result = Normal or Covid 1,2,3\n",
    "    # if 'covid' in result:                                        # filtering only positive results... hash this to consider all result \n",
    "        result = folder+'/'+result                                  \n",
    "        for patient in os.listdir(result):                         # looping inside each result patient folder then inside each SR folder to get images\n",
    "                patient = result+'/'+patient\n",
    "                for hospital in os.listdir(patient):               # hospital can be inferred as individuals with unique 'scan thickness' patient only \n",
    "                    hospital = patient+'/'+hospital\n",
    "                    for ctscan in os.listdir(hospital):            # ctscan is the lung image handling individual thickness of scan\n",
    "                        if ctscan[-3:] == \"tif\" :\n",
    "                            imgloc = hospital+'/'+ctscan           # unique location of the image\n",
    "                            listofalltif.append(str(imgloc))       # collecting the unique location of all tif in a single list \n",
    "                                \n",
    "                        else:\n",
    "                            print(result,patient,hospital,ctscan)\n",
    "        # break\n",
    "        "
   ]
  },
  {
   "cell_type": "code",
   "execution_count": null,
   "metadata": {
    "id": "JRIXRc39dDuf"
   },
   "outputs": [],
   "source": [
    "import pandas as pd\n",
    "df = pd.DataFrame(listofalltif)\n",
    "df.info()"
   ]
  },
  {
   "cell_type": "code",
   "execution_count": null,
   "metadata": {
    "id": "9TnXq2X4ZXGV"
   },
   "outputs": [],
   "source": [
    "df.info()"
   ]
  },
  {
   "cell_type": "code",
   "execution_count": null,
   "metadata": {
    "id": "K_TRUeDed1eZ"
   },
   "outputs": [],
   "source": [
    "import numpy as np\n",
    "from tqdm import tqdm\n",
    "listcroppedshape = []\n",
    "listimg = []\n",
    "listcolsavg = []\n",
    "listrowsavg = []\n",
    "listmaximat2b = []\n",
    "listmaximal2r = []\n",
    "# t=0\n",
    "\n",
    "for i in tqdm(df[0]):\n",
    "    if i[-3:] =='tif':\n",
    "        img                    = Image.open(i) \n",
    "        img                    = np.asarray(img)\n",
    "        h,w                    = img.shape                                                                   # shape\n",
    "        flattened              = img.flatten()\n",
    "        listimg.append(flattened)\n",
    "\n",
    "        cols                   = img.mean(axis=0)                                                            # average from left to right\n",
    "        rows                   = img.mean(axis=1)                                                            # average from top to bottom\n",
    "        c,r                    = list(cols), list(rows)                                                      # All values of the histogram are collected in separate list\n",
    "        listcolsavg.append(cols)\n",
    "        listrowsavg.append(rows)\n",
    "\n",
    "        h1,h2,h3               = max(c[:h//3]),max(c[h//3:2*h//3]),max(c[2*h//3:])                           # Maxima is spotted in a range of initial and final 33% percent length(Vertically) of the image \n",
    "        w1,w2,w3               = max(r[:w//3]),max(r[w//3:2*w//3]),max(r[2*w//3:])                           # Maxima is spotted in a range of initial and final 33% percent length(Horizontally) of the image\n",
    "        maximat2b,maximal2r    = (c.index(h1),c.index(h2),c.index(h3)),(r.index(w1),r.index(w2),r.index(w3)) # Location is traced( in terms of pixel) for each maxima which is crucial to start and end the cropping\n",
    "        listmaximat2b.append(maximat2b)\n",
    "        listmaximal2r.append(maximal2r)\n",
    "\n",
    "        imgcropped             = img[maximal2r[0]:maximal2r[2],maximat2b[0]:maximat2b[2]]                    # First l2r then t2b\n",
    "        listcroppedshape.append(imgcropped.shape)\n",
    "        # t+=1\n",
    "        # if t>5:\n",
    "            # break"
   ]
  },
  {
   "cell_type": "code",
   "execution_count": null,
   "metadata": {
    "id": "i7Swk7Q6lJ8V"
   },
   "outputs": [],
   "source": [
    "Abla = pd.DataFrame()\n",
    "Abla['loc'] = listofalltif[:5]\n",
    "Bbla2 = pd.DataFrame()\n",
    "Bbla2['img'] = listimg\n",
    "a = Abla.join(Bbla2)\n",
    "\n",
    "Cbla = pd.DataFrame()\n",
    "Cbla['rtyy'] = listmaximat2b\n",
    "Dbla2 = pd.DataFrame()\n",
    "Dbla2['io'] = listmaximal2r\n",
    "b = Cbla.join(Dbla2)\n",
    "\n",
    "Ebla = pd.DataFrame()\n",
    "Ebla['wew'] = listcolsavg\n",
    "Fbla2 = pd.DataFrame()\n",
    "Fbla2['imertg'] = listrowsavg\n",
    "c = Ebla.join(Fbla2)\n",
    "\n",
    "Gbla = pd.DataFrame()\n",
    "Gbla['weew'] = listcroppedshape\n",
    "\n",
    "x = a.join(b)\n",
    "y = c.join(Gbla)\n",
    "z = x.join(y)\n",
    "\n",
    "z.to_csv('check.csv')\n",
    "import shutil \n",
    "shutil.copy('check.csv','/content/drive/MyDrive/AllTiff/check.csv')\n",
    "from google.colab import files\n",
    "files.download('check.csv')"
   ]
  },
  {
   "cell_type": "code",
   "execution_count": null,
   "metadata": {
    "id": "RJkj_qzt3Ap1"
   },
   "outputs": [],
   "source": [
    "a = Abla.join(Bbla2)"
   ]
  },
  {
   "cell_type": "code",
   "execution_count": null,
   "metadata": {
    "id": "yPoJ1MkHhugr"
   },
   "outputs": [],
   "source": [
    "Cbla = pd.DataFrame()\n",
    "Cbla['rtyy'] = listmaximat2b\n",
    "Dbla2 = pd.DataFrame()\n",
    "Dbla2['io'] = listmaximal2r\n"
   ]
  },
  {
   "cell_type": "code",
   "execution_count": null,
   "metadata": {
    "id": "iFoSznn43Oo6"
   },
   "outputs": [],
   "source": [
    "b = Cbla.join(Dbla2)"
   ]
  },
  {
   "cell_type": "code",
   "execution_count": null,
   "metadata": {
    "id": "8krJrfyzzEC0"
   },
   "outputs": [],
   "source": [
    "Ebla = pd.DataFrame()\n",
    "Ebla['wew'] = listcolsavg\n",
    "Fbla2 = pd.DataFrame()\n",
    "Fbla2['imertg'] = listrowsavg"
   ]
  },
  {
   "cell_type": "code",
   "execution_count": null,
   "metadata": {
    "id": "pxd_vMxP0Q0P"
   },
   "outputs": [],
   "source": [
    "c = Ebla.join(Fbla2)"
   ]
  },
  {
   "cell_type": "code",
   "execution_count": null,
   "metadata": {
    "id": "OosAiUsLvlJc"
   },
   "outputs": [],
   "source": [
    "Gbla = pd.DataFrame()\n",
    "Gbla['weew'] = listcroppedshape"
   ]
  },
  {
   "cell_type": "code",
   "execution_count": null,
   "metadata": {
    "id": "xJTe_f9Z3909"
   },
   "outputs": [],
   "source": [
    "x = a.join(b)\n",
    "y = c.join(Gbla)\n",
    "z = x.join(y)"
   ]
  },
  {
   "cell_type": "code",
   "execution_count": null,
   "metadata": {
    "id": "S6jyVQk211Bh"
   },
   "outputs": [],
   "source": [
    "z.to_csv('check.csv')\n",
    "from google.colab import files\n",
    "files.download('check.csv')"
   ]
  }
 ],
 "metadata": {
  "colab": {
   "name": "Untitled0.ipynb",
   "private_outputs": true,
   "provenance": []
  },
  "kernelspec": {
   "display_name": "Python 3",
   "language": "python",
   "name": "python3"
  },
  "language_info": {
   "codemirror_mode": {
    "name": "ipython",
    "version": 3
   },
   "file_extension": ".py",
   "mimetype": "text/x-python",
   "name": "python",
   "nbconvert_exporter": "python",
   "pygments_lexer": "ipython3",
   "version": "3.8.5"
  }
 },
 "nbformat": 4,
 "nbformat_minor": 1
}
